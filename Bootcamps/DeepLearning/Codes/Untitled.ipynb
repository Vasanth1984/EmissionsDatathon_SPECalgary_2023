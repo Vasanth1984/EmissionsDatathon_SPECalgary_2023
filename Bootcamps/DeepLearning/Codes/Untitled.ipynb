{
 "cells": [
  {
   "cell_type": "code",
   "execution_count": 4,
   "id": "8a846d51-983f-410c-acfa-b7b88824a8e6",
   "metadata": {},
   "outputs": [],
   "source": [
    "import cv2      # OpenCV library for computer vision"
   ]
  },
  {
   "cell_type": "code",
   "execution_count": null,
   "id": "58f68587-d963-40b3-9b6b-db8dbc946564",
   "metadata": {},
   "outputs": [],
   "source": []
  },
  {
   "cell_type": "code",
   "execution_count": null,
   "id": "e5a18d26-c408-47da-a001-3e1614ee48e1",
   "metadata": {},
   "outputs": [],
   "source": []
  },
  {
   "cell_type": "code",
   "execution_count": null,
   "id": "59a4b8ab-e50a-4bf8-bfcb-66efd2af5ae3",
   "metadata": {},
   "outputs": [],
   "source": []
  },
  {
   "cell_type": "code",
   "execution_count": 1,
   "id": "39180dfe-c72c-42c2-98e6-3fb6f870d461",
   "metadata": {},
   "outputs": [],
   "source": [
    "# Read the image\n",
    "def read_image(image_filename):\n",
    "    image = cv2.imread(image_filename)\n",
    "    return cv2.cvtColor(image, cv2.COLOR_BGR2RGB)"
   ]
  },
  {
   "cell_type": "code",
   "execution_count": 2,
   "id": "9c56bff6-5929-4156-8793-d484cb992417",
   "metadata": {},
   "outputs": [],
   "source": [
    "# Print images with marker\n",
    "def scale_image_with_features(image, features, scale_factor=None):\n",
    "    \"\"\"\n",
    "    Scales image with corresponding features.\n",
    "    If the scale_factor parameter is not provided, it is selected automatically.\n",
    "    The typical values of scale_factor should be between 0 (exclusive) and 1 (inclusive).\n",
    "    Returns resized image, adjustes features list and scale factor.\n",
    "    \"\"\"\n",
    "    if not scale_factor:\n",
    "        s0 = 1000/image.shape[0]\n",
    "        s1 = 2000/image.shape[1]\n",
    "        scale_factor = max(s0, s1)\n",
    "    \n",
    "    # Resize image\n",
    "    res_img = cv2.resize(image, dsize=(0,0), fx=scale_factor, fy=scale_factor)\n",
    "    \n",
    "    # Scale features coordinates to match the resized image\n",
    "    if len(features) > 0 and scale_factor != 1:\n",
    "        res_features = np.array(copy.deepcopy(features))\n",
    "        res_features = (res_features * scale_factor).astype(np.int32)\n",
    "    else:\n",
    "        res_features = features\n",
    "        \n",
    "    return res_img, res_features, scale_factor"
   ]
  },
  {
   "cell_type": "code",
   "execution_count": 7,
   "id": "1cccc0d2-8fbc-455d-bb64-b7e4212176a2",
   "metadata": {},
   "outputs": [],
   "source": [
    "fil = \"C:/Users/vasan/OneDrive/EmissionsDatathon/Dataset/Data/Train/ang20190922t192642_ang20190922t192642-2_r4578_c217-plume.png\"\n",
    "\n",
    "img = read_image(fil)"
   ]
  },
  {
   "cell_type": "code",
   "execution_count": 10,
   "id": "5a5a6918-7b4e-4f6f-b71b-0c1f57199de4",
   "metadata": {},
   "outputs": [
    {
     "ename": "NameError",
     "evalue": "name 'feat' is not defined",
     "output_type": "error",
     "traceback": [
      "\u001b[1;31m---------------------------------------------------------------------------\u001b[0m",
      "\u001b[1;31mNameError\u001b[0m                                 Traceback (most recent call last)",
      "\u001b[1;32m~\\AppData\\Local\\Temp/ipykernel_32408/2182974335.py\u001b[0m in \u001b[0;36m<module>\u001b[1;34m\u001b[0m\n\u001b[0;32m      1\u001b[0m \u001b[1;31m#feat = read_image_features(fil)\u001b[0m\u001b[1;33m\u001b[0m\u001b[1;33m\u001b[0m\u001b[0m\n\u001b[0;32m      2\u001b[0m \u001b[1;33m\u001b[0m\u001b[0m\n\u001b[1;32m----> 3\u001b[1;33m \u001b[0mimg_s\u001b[0m\u001b[1;33m,\u001b[0m \u001b[0mfeat_s\u001b[0m\u001b[1;33m,\u001b[0m \u001b[0msf\u001b[0m \u001b[1;33m=\u001b[0m \u001b[0mscale_image_with_features\u001b[0m\u001b[1;33m(\u001b[0m\u001b[0mimg\u001b[0m\u001b[1;33m,\u001b[0m \u001b[0mfeat\u001b[0m\u001b[1;33m)\u001b[0m\u001b[1;33m\u001b[0m\u001b[1;33m\u001b[0m\u001b[0m\n\u001b[0m\u001b[0;32m      4\u001b[0m \u001b[0mprint\u001b[0m\u001b[1;33m(\u001b[0m\u001b[0mfeat\u001b[0m\u001b[1;33m)\u001b[0m\u001b[1;33m\u001b[0m\u001b[1;33m\u001b[0m\u001b[0m\n\u001b[0;32m      5\u001b[0m \u001b[0mprint\u001b[0m\u001b[1;33m(\u001b[0m\u001b[0mimg_s\u001b[0m\u001b[1;33m.\u001b[0m\u001b[0mshape\u001b[0m\u001b[1;33m)\u001b[0m\u001b[1;33m\u001b[0m\u001b[1;33m\u001b[0m\u001b[0m\n",
      "\u001b[1;31mNameError\u001b[0m: name 'feat' is not defined"
     ]
    }
   ],
   "source": [
    "#feat = read_image_features(fil)\n",
    "\n",
    "img_s, feat_s, sf = scale_image_with_features(img, feat)\n",
    "print(feat)\n",
    "print(img_s.shape)\n",
    "plt.figure(figsize = (13,10))\n",
    "plt.imshow(img_s, cmap = \"gray\");"
   ]
  },
  {
   "cell_type": "code",
   "execution_count": null,
   "id": "bdfde045-1ee8-4b00-b7e6-acc9863a493a",
   "metadata": {},
   "outputs": [],
   "source": []
  }
 ],
 "metadata": {
  "kernelspec": {
   "display_name": "Python 3 (ipykernel)",
   "language": "python",
   "name": "python3"
  },
  "language_info": {
   "codemirror_mode": {
    "name": "ipython",
    "version": 3
   },
   "file_extension": ".py",
   "mimetype": "text/x-python",
   "name": "python",
   "nbconvert_exporter": "python",
   "pygments_lexer": "ipython3",
   "version": "3.9.7"
  }
 },
 "nbformat": 4,
 "nbformat_minor": 5
}
