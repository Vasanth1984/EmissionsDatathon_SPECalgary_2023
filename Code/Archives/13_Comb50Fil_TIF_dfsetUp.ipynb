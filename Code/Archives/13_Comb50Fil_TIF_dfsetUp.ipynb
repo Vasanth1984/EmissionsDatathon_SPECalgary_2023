{
 "cells": [
  {
   "cell_type": "code",
   "execution_count": null,
   "id": "c27177c2-5411-4608-af07-a39b2cd5c38c",
   "metadata": {},
   "outputs": [],
   "source": [
    "#! pip install Geopandas\n",
    "#!pip install --use-deprecated=legacy-resolver pycaret[full]\n",
    "#!pip install pycaret[full]"
   ]
  },
  {
   "cell_type": "code",
   "execution_count": 1,
   "id": "2325268a-8b83-48e4-b7e0-3f45de438042",
   "metadata": {},
   "outputs": [],
   "source": [
    "import numpy as np\n",
    "import pandas as pd\n",
    "import geopandas as gpd\n",
    "from pathlib import Path\n",
    "import os.path\n",
    "\n",
    "\n",
    "import seaborn as sns\n",
    "from scipy import stats\n",
    "\n",
    "\n",
    "# Data visualization\n",
    "import matplotlib as mpl\n",
    "import matplotlib.pyplot as plt\n",
    "\n",
    "from matplotlib.pyplot import *\n",
    "import imageio\n",
    "from skimage.io import imread\n",
    "\n",
    "from tqdm import tqdm\n",
    "\n",
    "import cv2   #For image processing\n",
    "\n",
    "import tensorflow as tf\n",
    "#All tensorflow utilities for creating, training and working with a CNN\n",
    "from tensorflow.keras.utils import to_categorical\n",
    "from tensorflow.keras.models import Sequential\n",
    "from tensorflow.keras.layers import Conv2D, MaxPool2D, BatchNormalization\n",
    "from tensorflow.keras.layers import Activation, Dropout, Flatten, Dense\n",
    "from tensorflow.keras.losses import categorical_crossentropy\n",
    "from tensorflow.keras.optimizers import Adam\n",
    "from tensorflow.keras.callbacks import ModelCheckpoint\n",
    "from tensorflow.keras.models import load_model\n",
    "\n",
    "\n",
    "import sklearn\n",
    "from sklearn.preprocessing import LabelEncoder    #For encoding categorical variables\n",
    "from sklearn.model_selection import train_test_split #For splitting of data\n",
    "from sklearn.metrics import r2_score\n",
    "from sklearn.metrics import mean_squared_error\n",
    "\n",
    "from sklearn.compose import ColumnTransformer\n",
    "from sklearn.preprocessing import OneHotEncoder\n",
    "from sklearn.linear_model import LinearRegression\n",
    "from sklearn.pipeline import Pipeline\n",
    "\n",
    "from skimage.io import imread, imshow\n",
    "from skimage.color import rgb2gray, rgb2hsv, rgba2rgb\n",
    "from skimage.morphology import area_opening\n",
    "from skimage.exposure import histogram\n",
    "from skimage.filters import threshold_otsu\n",
    "from skimage import io, color\n",
    "\n",
    "from pycaret.datasets import get_data\n",
    "from pycaret.regression import *"
   ]
  },
  {
   "cell_type": "code",
   "execution_count": 2,
   "id": "e3a1317e-bb38-4b37-975e-ded800d90dbd",
   "metadata": {},
   "outputs": [],
   "source": [
    "#set director for images\n",
    "#All\n",
    "image_train = Path('C:/Users/vasan/OneDrive/EmissionsDatathon/Dataset/Data/Train2a')\n",
    "\n",
    "#Permian\n",
    "image_train1= Path('C:/Users/vasan/OneDrive/EmissionsDatathon/Dataset/Data/Traina')"
   ]
  },
  {
   "cell_type": "code",
   "execution_count": 3,
   "id": "52510ab3-dcaf-431c-b0f9-72e40d1baa64",
   "metadata": {},
   "outputs": [],
   "source": [
    "#set directory for csv files\n",
    "dir_name = r'C:\\Users\\vasan\\OneDrive\\EmissionsDatathon\\Zeroing Methane Emissions - Dataset'\n",
    "filename_suffix = 'csv'"
   ]
  },
  {
   "cell_type": "code",
   "execution_count": 4,
   "id": "8fd165a8-d60f-4023-b3cc-44140b8bfb47",
   "metadata": {},
   "outputs": [
    {
     "data": {
      "text/html": [
       "<div>\n",
       "<style scoped>\n",
       "    .dataframe tbody tr th:only-of-type {\n",
       "        vertical-align: middle;\n",
       "    }\n",
       "\n",
       "    .dataframe tbody tr th {\n",
       "        vertical-align: top;\n",
       "    }\n",
       "\n",
       "    .dataframe thead th {\n",
       "        text-align: right;\n",
       "    }\n",
       "</style>\n",
       "<table border=\"1\" class=\"dataframe\">\n",
       "  <thead>\n",
       "    <tr style=\"text-align: right;\">\n",
       "      <th></th>\n",
       "      <th>Unnamed: 0</th>\n",
       "      <th>source_id</th>\n",
       "      <th>candidate_id</th>\n",
       "      <th>plume_lat</th>\n",
       "      <th>plume_lon</th>\n",
       "      <th>date</th>\n",
       "      <th>source_type</th>\n",
       "      <th>ipcc</th>\n",
       "      <th>qplume</th>\n",
       "      <th>sigma_qplume</th>\n",
       "      <th>time_of_detection</th>\n",
       "      <th>plume_tif</th>\n",
       "      <th>rgb_tif</th>\n",
       "    </tr>\n",
       "  </thead>\n",
       "  <tbody>\n",
       "    <tr>\n",
       "      <th>0</th>\n",
       "      <td>0</td>\n",
       "      <td>A0001</td>\n",
       "      <td>GAO20210712t153850p0000-A</td>\n",
       "      <td>40.586588</td>\n",
       "      <td>-104.82330</td>\n",
       "      <td>2021-07-12 00:00:00</td>\n",
       "      <td>landfill</td>\n",
       "      <td>6A Solid Waste Disposal On Land</td>\n",
       "      <td>198.690714</td>\n",
       "      <td>56.089373</td>\n",
       "      <td>NaN</td>\n",
       "      <td>NaN</td>\n",
       "      <td>NaN</td>\n",
       "    </tr>\n",
       "    <tr>\n",
       "      <th>1</th>\n",
       "      <td>1</td>\n",
       "      <td>A0002</td>\n",
       "      <td>GAO20210720t152559p0000-A</td>\n",
       "      <td>40.574605</td>\n",
       "      <td>-104.68813</td>\n",
       "      <td>2021-07-20 00:00:00</td>\n",
       "      <td>livestock</td>\n",
       "      <td>3A2 Manure Management</td>\n",
       "      <td>659.384534</td>\n",
       "      <td>215.976289</td>\n",
       "      <td>NaN</td>\n",
       "      <td>NaN</td>\n",
       "      <td>NaN</td>\n",
       "    </tr>\n",
       "    <tr>\n",
       "      <th>2</th>\n",
       "      <td>2</td>\n",
       "      <td>A0002</td>\n",
       "      <td>GAO20210712t153850p0000-B</td>\n",
       "      <td>40.574387</td>\n",
       "      <td>-104.68855</td>\n",
       "      <td>2021-07-12 00:00:00</td>\n",
       "      <td>livestock</td>\n",
       "      <td>3A2 Manure Management</td>\n",
       "      <td>458.494606</td>\n",
       "      <td>167.196121</td>\n",
       "      <td>NaN</td>\n",
       "      <td>NaN</td>\n",
       "      <td>NaN</td>\n",
       "    </tr>\n",
       "    <tr>\n",
       "      <th>3</th>\n",
       "      <td>3</td>\n",
       "      <td>A0002</td>\n",
       "      <td>GAO20210718t152410p0000-B</td>\n",
       "      <td>40.573827</td>\n",
       "      <td>-104.68812</td>\n",
       "      <td>2021-07-18 00:00:00</td>\n",
       "      <td>livestock</td>\n",
       "      <td>3A2 Manure Management</td>\n",
       "      <td>242.145473</td>\n",
       "      <td>140.004235</td>\n",
       "      <td>NaN</td>\n",
       "      <td>NaN</td>\n",
       "      <td>NaN</td>\n",
       "    </tr>\n",
       "    <tr>\n",
       "      <th>4</th>\n",
       "      <td>4</td>\n",
       "      <td>A0003</td>\n",
       "      <td>GAO20210712t153850p0000-C</td>\n",
       "      <td>40.572121</td>\n",
       "      <td>-104.68871</td>\n",
       "      <td>2021-07-12 00:00:00</td>\n",
       "      <td>livestock</td>\n",
       "      <td>3A2 Manure Management</td>\n",
       "      <td>425.330806</td>\n",
       "      <td>171.220361</td>\n",
       "      <td>NaN</td>\n",
       "      <td>NaN</td>\n",
       "      <td>NaN</td>\n",
       "    </tr>\n",
       "  </tbody>\n",
       "</table>\n",
       "</div>"
      ],
      "text/plain": [
       "   Unnamed: 0 source_id               candidate_id  plume_lat  plume_lon  \\\n",
       "0           0     A0001  GAO20210712t153850p0000-A  40.586588 -104.82330   \n",
       "1           1     A0002  GAO20210720t152559p0000-A  40.574605 -104.68813   \n",
       "2           2     A0002  GAO20210712t153850p0000-B  40.574387 -104.68855   \n",
       "3           3     A0002  GAO20210718t152410p0000-B  40.573827 -104.68812   \n",
       "4           4     A0003  GAO20210712t153850p0000-C  40.572121 -104.68871   \n",
       "\n",
       "                  date source_type                             ipcc  \\\n",
       "0  2021-07-12 00:00:00    landfill  6A Solid Waste Disposal On Land   \n",
       "1  2021-07-20 00:00:00   livestock            3A2 Manure Management   \n",
       "2  2021-07-12 00:00:00   livestock            3A2 Manure Management   \n",
       "3  2021-07-18 00:00:00   livestock            3A2 Manure Management   \n",
       "4  2021-07-12 00:00:00   livestock            3A2 Manure Management   \n",
       "\n",
       "       qplume  sigma_qplume time_of_detection plume_tif rgb_tif  \n",
       "0  198.690714     56.089373               NaN       NaN     NaN  \n",
       "1  659.384534    215.976289               NaN       NaN     NaN  \n",
       "2  458.494606    167.196121               NaN       NaN     NaN  \n",
       "3  242.145473    140.004235               NaN       NaN     NaN  \n",
       "4  425.330806    171.220361               NaN       NaN     NaN  "
      ]
     },
     "execution_count": 4,
     "metadata": {},
     "output_type": "execute_result"
    }
   ],
   "source": [
    "skiprows = 0\n",
    "#Means read in the ',' as thousand seperator. Also drops all columns which are unnamed.\n",
    "dfplume = pd.read_csv(\"plume_attribution_2019-2022 Jeremy Zhao.csv\", thousands=',', skiprows = skiprows)\n",
    "dfplume.head()"
   ]
  },
  {
   "cell_type": "code",
   "execution_count": 5,
   "id": "f1df9641-d2cf-4cdb-adde-3947db53df03",
   "metadata": {},
   "outputs": [
    {
     "data": {
      "text/plain": [
       "(8752, 13)"
      ]
     },
     "execution_count": 5,
     "metadata": {},
     "output_type": "execute_result"
    }
   ],
   "source": [
    "dfplume.shape"
   ]
  },
  {
   "cell_type": "code",
   "execution_count": 6,
   "id": "c5524f86-f1d6-4b35-a61c-c653c84199c0",
   "metadata": {},
   "outputs": [],
   "source": [
    "# Filter plume data for data after June 2020\n",
    "dfplumef = dfplume[dfplume['date'] >= '2020-06-01']"
   ]
  },
  {
   "cell_type": "code",
   "execution_count": 7,
   "id": "0c1c5118-6291-48d9-839f-71f7098bcb19",
   "metadata": {},
   "outputs": [
    {
     "data": {
      "text/plain": [
       "(5685, 13)"
      ]
     },
     "execution_count": 7,
     "metadata": {},
     "output_type": "execute_result"
    }
   ],
   "source": [
    "dfplumef.shape"
   ]
  },
  {
   "cell_type": "code",
   "execution_count": 8,
   "id": "6e62ed1d-64fd-4184-b59e-4644ffdc5e80",
   "metadata": {},
   "outputs": [
    {
     "data": {
      "text/html": [
       "<div>\n",
       "<style scoped>\n",
       "    .dataframe tbody tr th:only-of-type {\n",
       "        vertical-align: middle;\n",
       "    }\n",
       "\n",
       "    .dataframe tbody tr th {\n",
       "        vertical-align: top;\n",
       "    }\n",
       "\n",
       "    .dataframe thead th {\n",
       "        text-align: right;\n",
       "    }\n",
       "</style>\n",
       "<table border=\"1\" class=\"dataframe\">\n",
       "  <thead>\n",
       "    <tr style=\"text-align: right;\">\n",
       "      <th></th>\n",
       "      <th>Unnamed: 0</th>\n",
       "      <th>source_id</th>\n",
       "      <th>source_lat</th>\n",
       "      <th>source_lon</th>\n",
       "      <th>number_overflights</th>\n",
       "      <th>source_persistence</th>\n",
       "      <th>qsource</th>\n",
       "      <th>sigma_qsource</th>\n",
       "      <th>source_type</th>\n",
       "      <th>confidence_in_persistence</th>\n",
       "    </tr>\n",
       "  </thead>\n",
       "  <tbody>\n",
       "    <tr>\n",
       "      <th>0</th>\n",
       "      <td>0</td>\n",
       "      <td>G0001</td>\n",
       "      <td>35.249160</td>\n",
       "      <td>-119.57875</td>\n",
       "      <td>7</td>\n",
       "      <td>0.142857</td>\n",
       "      <td>96.853478</td>\n",
       "      <td>33.082042</td>\n",
       "      <td>tank</td>\n",
       "      <td>high</td>\n",
       "    </tr>\n",
       "    <tr>\n",
       "      <th>1</th>\n",
       "      <td>1</td>\n",
       "      <td>G0002</td>\n",
       "      <td>35.082251</td>\n",
       "      <td>-119.30443</td>\n",
       "      <td>7</td>\n",
       "      <td>0.142857</td>\n",
       "      <td>5.364176</td>\n",
       "      <td>1.441589</td>\n",
       "      <td>compressor</td>\n",
       "      <td>low</td>\n",
       "    </tr>\n",
       "    <tr>\n",
       "      <th>2</th>\n",
       "      <td>2</td>\n",
       "      <td>G0003</td>\n",
       "      <td>35.367999</td>\n",
       "      <td>-119.68495</td>\n",
       "      <td>7</td>\n",
       "      <td>0.857143</td>\n",
       "      <td>187.200884</td>\n",
       "      <td>79.748988</td>\n",
       "      <td>pipeline</td>\n",
       "      <td>high</td>\n",
       "    </tr>\n",
       "    <tr>\n",
       "      <th>3</th>\n",
       "      <td>3</td>\n",
       "      <td>G0004</td>\n",
       "      <td>35.343365</td>\n",
       "      <td>-119.64244</td>\n",
       "      <td>7</td>\n",
       "      <td>0.285714</td>\n",
       "      <td>44.889285</td>\n",
       "      <td>24.739863</td>\n",
       "      <td>pipeline</td>\n",
       "      <td>high</td>\n",
       "    </tr>\n",
       "    <tr>\n",
       "      <th>4</th>\n",
       "      <td>4</td>\n",
       "      <td>G0005</td>\n",
       "      <td>35.359342</td>\n",
       "      <td>-119.66100</td>\n",
       "      <td>7</td>\n",
       "      <td>1.000000</td>\n",
       "      <td>880.375832</td>\n",
       "      <td>244.909184</td>\n",
       "      <td>pipeline</td>\n",
       "      <td>high</td>\n",
       "    </tr>\n",
       "  </tbody>\n",
       "</table>\n",
       "</div>"
      ],
      "text/plain": [
       "   Unnamed: 0 source_id  source_lat  source_lon  number_overflights  \\\n",
       "0           0     G0001   35.249160  -119.57875                   7   \n",
       "1           1     G0002   35.082251  -119.30443                   7   \n",
       "2           2     G0003   35.367999  -119.68495                   7   \n",
       "3           3     G0004   35.343365  -119.64244                   7   \n",
       "4           4     G0005   35.359342  -119.66100                   7   \n",
       "\n",
       "   source_persistence     qsource  sigma_qsource source_type  \\\n",
       "0            0.142857   96.853478      33.082042        tank   \n",
       "1            0.142857    5.364176       1.441589  compressor   \n",
       "2            0.857143  187.200884      79.748988    pipeline   \n",
       "3            0.285714   44.889285      24.739863    pipeline   \n",
       "4            1.000000  880.375832     244.909184    pipeline   \n",
       "\n",
       "  confidence_in_persistence  \n",
       "0                      high  \n",
       "1                       low  \n",
       "2                      high  \n",
       "3                      high  \n",
       "4                      high  "
      ]
     },
     "execution_count": 8,
     "metadata": {},
     "output_type": "execute_result"
    }
   ],
   "source": [
    "dfsource = pd.read_csv(\"source_list_2019-2022 Jeremy Zhao.csv\", thousands=',', skiprows = skiprows)\n",
    "dfsource.head()"
   ]
  },
  {
   "cell_type": "code",
   "execution_count": 9,
   "id": "8211beb9-1348-40fd-8bd9-4bdc2a693182",
   "metadata": {},
   "outputs": [
    {
     "data": {
      "text/plain": [
       "(4199, 10)"
      ]
     },
     "execution_count": 9,
     "metadata": {},
     "output_type": "execute_result"
    }
   ],
   "source": [
    "dfsource.shape"
   ]
  },
  {
   "cell_type": "code",
   "execution_count": 10,
   "id": "6cbe4b9e-5b47-41a0-845a-504f807bf55d",
   "metadata": {},
   "outputs": [],
   "source": [
    "filepaths = pd.Series(list(image_train.glob(r'**/*.tif')), name='Filepath').astype(str)"
   ]
  },
  {
   "cell_type": "code",
   "execution_count": 11,
   "id": "fac410f5-63b4-4c90-966b-0e24cee4077f",
   "metadata": {},
   "outputs": [],
   "source": [
    "df_filepaths = filepaths.to_frame()"
   ]
  },
  {
   "cell_type": "code",
   "execution_count": 12,
   "id": "735c85b8-3417-407f-89cf-bab5b04adef0",
   "metadata": {},
   "outputs": [],
   "source": [
    "df_filepaths.to_excel(\"df_filepaths.xlsx\")  "
   ]
  },
  {
   "cell_type": "code",
   "execution_count": 13,
   "id": "4054ef1e-83e6-4422-bf3b-f83f564733c0",
   "metadata": {},
   "outputs": [],
   "source": [
    "res = os.listdir(image_train)\n",
    "df_filepaths['Name'] = pd.DataFrame (res, columns = ['FileName'])"
   ]
  },
  {
   "cell_type": "code",
   "execution_count": 14,
   "id": "ff53bd9b-f6e3-4df0-8c96-5a8e7178d6ec",
   "metadata": {},
   "outputs": [],
   "source": [
    "df_filepaths['candidate_id'] = [x.split('_')[-0] for x in df_filepaths['Name']]"
   ]
  },
  {
   "cell_type": "code",
   "execution_count": 15,
   "id": "6a162184-a6e4-4db0-beaf-3ee6007846da",
   "metadata": {},
   "outputs": [],
   "source": [
    "df_filepaths = df_filepaths.drop(df_filepaths[df_filepaths['Name'].str.contains('rgb')].index)"
   ]
  },
  {
   "cell_type": "code",
   "execution_count": 16,
   "id": "ab1c7648-e0a6-4269-9026-a353ca0c39a5",
   "metadata": {},
   "outputs": [
    {
     "data": {
      "text/plain": [
       "(2526, 3)"
      ]
     },
     "execution_count": 16,
     "metadata": {},
     "output_type": "execute_result"
    }
   ],
   "source": [
    "df_filepaths.shape"
   ]
  },
  {
   "cell_type": "code",
   "execution_count": 17,
   "id": "28d5b398-07b6-4d7f-b27a-cb08272574ef",
   "metadata": {},
   "outputs": [
    {
     "data": {
      "text/plain": [
       "Filepath        2526\n",
       "Name            2526\n",
       "candidate_id    2526\n",
       "dtype: int64"
      ]
     },
     "execution_count": 17,
     "metadata": {},
     "output_type": "execute_result"
    }
   ],
   "source": [
    "df_filepaths.nunique()"
   ]
  },
  {
   "cell_type": "code",
   "execution_count": 18,
   "id": "9ef7b654-3472-4cbc-a94d-b17c2aaf168b",
   "metadata": {},
   "outputs": [],
   "source": [
    "dup = dfplumef[dfplumef['candidate_id'].duplicated() == True]"
   ]
  },
  {
   "cell_type": "code",
   "execution_count": 19,
   "id": "e68c14ff-ddac-4ba2-bd29-d8f89aa3ccef",
   "metadata": {},
   "outputs": [
    {
     "data": {
      "text/plain": [
       "(1460, 13)"
      ]
     },
     "execution_count": 19,
     "metadata": {},
     "output_type": "execute_result"
    }
   ],
   "source": [
    "dup.shape"
   ]
  },
  {
   "cell_type": "code",
   "execution_count": 20,
   "id": "37a6d562-500d-4112-9815-4b7ed1dcafde",
   "metadata": {},
   "outputs": [],
   "source": [
    "#drop duplicates\n",
    "dfplumef = dfplumef.drop_duplicates(subset='candidate_id', keep=\"first\")"
   ]
  },
  {
   "cell_type": "code",
   "execution_count": 21,
   "id": "b1447681-2335-4497-8db9-4822b1cef739",
   "metadata": {},
   "outputs": [
    {
     "data": {
      "text/plain": [
       "Unnamed: 0           4225\n",
       "source_id            2463\n",
       "candidate_id         4225\n",
       "plume_lat            4177\n",
       "plume_lon            4037\n",
       "date                  184\n",
       "source_type            16\n",
       "ipcc                    9\n",
       "qplume               4221\n",
       "sigma_qplume         4221\n",
       "time_of_detection     221\n",
       "plume_tif              61\n",
       "rgb_tif                61\n",
       "dtype: int64"
      ]
     },
     "execution_count": 21,
     "metadata": {},
     "output_type": "execute_result"
    }
   ],
   "source": [
    "dfplumef.nunique()"
   ]
  },
  {
   "cell_type": "code",
   "execution_count": 22,
   "id": "548c2cdb-3595-4c38-803b-d19cd59ad952",
   "metadata": {},
   "outputs": [],
   "source": [
    "dfdata = pd.merge(df_filepaths,dfplumef, on='candidate_id')"
   ]
  },
  {
   "cell_type": "code",
   "execution_count": 23,
   "id": "beb98d27-53ce-4a34-8b33-6c1d4cf0e47c",
   "metadata": {},
   "outputs": [
    {
     "data": {
      "text/plain": [
       "(2525, 15)"
      ]
     },
     "execution_count": 23,
     "metadata": {},
     "output_type": "execute_result"
    }
   ],
   "source": [
    "dfdata.shape"
   ]
  },
  {
   "cell_type": "code",
   "execution_count": 24,
   "id": "0b9c31ed-e121-462d-90b7-db4e981595a4",
   "metadata": {},
   "outputs": [
    {
     "data": {
      "text/html": [
       "<div>\n",
       "<style scoped>\n",
       "    .dataframe tbody tr th:only-of-type {\n",
       "        vertical-align: middle;\n",
       "    }\n",
       "\n",
       "    .dataframe tbody tr th {\n",
       "        vertical-align: top;\n",
       "    }\n",
       "\n",
       "    .dataframe thead th {\n",
       "        text-align: right;\n",
       "    }\n",
       "</style>\n",
       "<table border=\"1\" class=\"dataframe\">\n",
       "  <thead>\n",
       "    <tr style=\"text-align: right;\">\n",
       "      <th></th>\n",
       "      <th>Filepath</th>\n",
       "      <th>Name</th>\n",
       "      <th>candidate_id</th>\n",
       "      <th>Unnamed: 0</th>\n",
       "      <th>source_id</th>\n",
       "      <th>plume_lat</th>\n",
       "      <th>plume_lon</th>\n",
       "      <th>date</th>\n",
       "      <th>source_type</th>\n",
       "      <th>ipcc</th>\n",
       "      <th>qplume</th>\n",
       "      <th>sigma_qplume</th>\n",
       "      <th>time_of_detection</th>\n",
       "      <th>plume_tif</th>\n",
       "      <th>rgb_tif</th>\n",
       "    </tr>\n",
       "  </thead>\n",
       "  <tbody>\n",
       "    <tr>\n",
       "      <th>0</th>\n",
       "      <td>C:\\Users\\vasan\\OneDrive\\EmissionsDatathon\\Data...</td>\n",
       "      <td>ang20200708t192518-3_r1823_c108_ctr.tif</td>\n",
       "      <td>ang20200708t192518-3</td>\n",
       "      <td>2686</td>\n",
       "      <td>H0195</td>\n",
       "      <td>34.319899</td>\n",
       "      <td>-118.51149</td>\n",
       "      <td>2020-07-08 00:00:00</td>\n",
       "      <td>landfill</td>\n",
       "      <td>6A Solid Waste Disposal On Land</td>\n",
       "      <td>339.311781</td>\n",
       "      <td>204.404889</td>\n",
       "      <td>NaN</td>\n",
       "      <td>NaN</td>\n",
       "      <td>NaN</td>\n",
       "    </tr>\n",
       "    <tr>\n",
       "      <th>1</th>\n",
       "      <td>C:\\Users\\vasan\\OneDrive\\EmissionsDatathon\\Data...</td>\n",
       "      <td>ang20200708t200101-1_r4784_c237_ctr.tif</td>\n",
       "      <td>ang20200708t200101-1</td>\n",
       "      <td>2433</td>\n",
       "      <td>H0094</td>\n",
       "      <td>35.059811</td>\n",
       "      <td>-119.38014</td>\n",
       "      <td>2020-07-08 00:00:00</td>\n",
       "      <td>pipeline</td>\n",
       "      <td>1B2 Oil &amp; Natural Gas</td>\n",
       "      <td>143.699417</td>\n",
       "      <td>45.193937</td>\n",
       "      <td>NaN</td>\n",
       "      <td>NaN</td>\n",
       "      <td>NaN</td>\n",
       "    </tr>\n",
       "    <tr>\n",
       "      <th>2</th>\n",
       "      <td>C:\\Users\\vasan\\OneDrive\\EmissionsDatathon\\Data...</td>\n",
       "      <td>ang20200708t200101-A_r502_c-24_ctr.tif</td>\n",
       "      <td>ang20200708t200101-A</td>\n",
       "      <td>2453</td>\n",
       "      <td>H0102</td>\n",
       "      <td>35.133777</td>\n",
       "      <td>-119.49487</td>\n",
       "      <td>2020-07-08 00:00:00</td>\n",
       "      <td>well</td>\n",
       "      <td>1B2 Oil &amp; Natural Gas</td>\n",
       "      <td>114.342534</td>\n",
       "      <td>59.144830</td>\n",
       "      <td>NaN</td>\n",
       "      <td>NaN</td>\n",
       "      <td>NaN</td>\n",
       "    </tr>\n",
       "    <tr>\n",
       "      <th>3</th>\n",
       "      <td>C:\\Users\\vasan\\OneDrive\\EmissionsDatathon\\Data...</td>\n",
       "      <td>ang20200708t200101-B_r3756_c132_ctr.tif</td>\n",
       "      <td>ang20200708t200101-B</td>\n",
       "      <td>2432</td>\n",
       "      <td>H0093</td>\n",
       "      <td>35.076695</td>\n",
       "      <td>-119.40862</td>\n",
       "      <td>2020-07-08 00:00:00</td>\n",
       "      <td>pipeline</td>\n",
       "      <td>1B2 Oil &amp; Natural Gas</td>\n",
       "      <td>89.897169</td>\n",
       "      <td>11.419762</td>\n",
       "      <td>NaN</td>\n",
       "      <td>NaN</td>\n",
       "      <td>NaN</td>\n",
       "    </tr>\n",
       "    <tr>\n",
       "      <th>4</th>\n",
       "      <td>C:\\Users\\vasan\\OneDrive\\EmissionsDatathon\\Data...</td>\n",
       "      <td>ang20200708t200905-1_r1236_c363_ctr.tif</td>\n",
       "      <td>ang20200708t200905-1</td>\n",
       "      <td>2231</td>\n",
       "      <td>H0017</td>\n",
       "      <td>35.200380</td>\n",
       "      <td>-119.49091</td>\n",
       "      <td>2020-07-08 00:00:00</td>\n",
       "      <td>pipeline</td>\n",
       "      <td>1B2 Oil &amp; Natural Gas</td>\n",
       "      <td>657.233605</td>\n",
       "      <td>167.638633</td>\n",
       "      <td>NaN</td>\n",
       "      <td>NaN</td>\n",
       "      <td>NaN</td>\n",
       "    </tr>\n",
       "  </tbody>\n",
       "</table>\n",
       "</div>"
      ],
      "text/plain": [
       "                                            Filepath  \\\n",
       "0  C:\\Users\\vasan\\OneDrive\\EmissionsDatathon\\Data...   \n",
       "1  C:\\Users\\vasan\\OneDrive\\EmissionsDatathon\\Data...   \n",
       "2  C:\\Users\\vasan\\OneDrive\\EmissionsDatathon\\Data...   \n",
       "3  C:\\Users\\vasan\\OneDrive\\EmissionsDatathon\\Data...   \n",
       "4  C:\\Users\\vasan\\OneDrive\\EmissionsDatathon\\Data...   \n",
       "\n",
       "                                      Name          candidate_id  Unnamed: 0  \\\n",
       "0  ang20200708t192518-3_r1823_c108_ctr.tif  ang20200708t192518-3        2686   \n",
       "1  ang20200708t200101-1_r4784_c237_ctr.tif  ang20200708t200101-1        2433   \n",
       "2   ang20200708t200101-A_r502_c-24_ctr.tif  ang20200708t200101-A        2453   \n",
       "3  ang20200708t200101-B_r3756_c132_ctr.tif  ang20200708t200101-B        2432   \n",
       "4  ang20200708t200905-1_r1236_c363_ctr.tif  ang20200708t200905-1        2231   \n",
       "\n",
       "  source_id  plume_lat  plume_lon                 date source_type  \\\n",
       "0     H0195  34.319899 -118.51149  2020-07-08 00:00:00    landfill   \n",
       "1     H0094  35.059811 -119.38014  2020-07-08 00:00:00    pipeline   \n",
       "2     H0102  35.133777 -119.49487  2020-07-08 00:00:00        well   \n",
       "3     H0093  35.076695 -119.40862  2020-07-08 00:00:00    pipeline   \n",
       "4     H0017  35.200380 -119.49091  2020-07-08 00:00:00    pipeline   \n",
       "\n",
       "                              ipcc      qplume  sigma_qplume  \\\n",
       "0  6A Solid Waste Disposal On Land  339.311781    204.404889   \n",
       "1            1B2 Oil & Natural Gas  143.699417     45.193937   \n",
       "2            1B2 Oil & Natural Gas  114.342534     59.144830   \n",
       "3            1B2 Oil & Natural Gas   89.897169     11.419762   \n",
       "4            1B2 Oil & Natural Gas  657.233605    167.638633   \n",
       "\n",
       "  time_of_detection plume_tif rgb_tif  \n",
       "0               NaN       NaN     NaN  \n",
       "1               NaN       NaN     NaN  \n",
       "2               NaN       NaN     NaN  \n",
       "3               NaN       NaN     NaN  \n",
       "4               NaN       NaN     NaN  "
      ]
     },
     "execution_count": 24,
     "metadata": {},
     "output_type": "execute_result"
    }
   ],
   "source": [
    "dfdata.head()"
   ]
  },
  {
   "cell_type": "code",
   "execution_count": 25,
   "id": "e53ff736-eb61-479c-b888-6655055c435e",
   "metadata": {},
   "outputs": [],
   "source": [
    "dfdata=dfdata.dropna(subset=[\"qplume\"])"
   ]
  },
  {
   "cell_type": "code",
   "execution_count": 26,
   "id": "b0704dad-dccd-419f-ae94-4372a0054b94",
   "metadata": {},
   "outputs": [
    {
     "data": {
      "text/plain": [
       "Unnamed: 0                   4199\n",
       "source_id                    4199\n",
       "source_lat                   4196\n",
       "source_lon                   4167\n",
       "number_overflights             14\n",
       "source_persistence             53\n",
       "qsource                      4198\n",
       "sigma_qsource                4198\n",
       "source_type                    17\n",
       "confidence_in_persistence      10\n",
       "dtype: int64"
      ]
     },
     "execution_count": 26,
     "metadata": {},
     "output_type": "execute_result"
    }
   ],
   "source": [
    "dfsource.nunique()"
   ]
  },
  {
   "cell_type": "code",
   "execution_count": 27,
   "id": "f11c40c2-6171-441a-a224-3fcafad2e6a5",
   "metadata": {},
   "outputs": [],
   "source": [
    "dfdata2 = pd.merge(dfsource,dfdata, on='source_id')"
   ]
  },
  {
   "cell_type": "code",
   "execution_count": 28,
   "id": "c4c84786-ba53-4372-9c22-1a0cd38cc770",
   "metadata": {},
   "outputs": [],
   "source": [
    "dfdata2.to_excel(\"dfdata2.xlsx\")  "
   ]
  },
  {
   "cell_type": "code",
   "execution_count": 29,
   "id": "fadda44d-fc19-440e-a1a9-26d01b685520",
   "metadata": {},
   "outputs": [
    {
     "data": {
      "text/plain": [
       "Unnamed: 0_x                 1472\n",
       "source_id                    1472\n",
       "source_lat                   1471\n",
       "source_lon                   1467\n",
       "number_overflights             12\n",
       "source_persistence             30\n",
       "qsource                      1472\n",
       "sigma_qsource                1472\n",
       "source_type_x                  15\n",
       "confidence_in_persistence       3\n",
       "Filepath                     2525\n",
       "Name                         2525\n",
       "candidate_id                 2525\n",
       "Unnamed: 0_y                 2525\n",
       "plume_lat                    2500\n",
       "plume_lon                    2421\n",
       "date                           83\n",
       "source_type_y                  15\n",
       "ipcc                            7\n",
       "qplume                       2524\n",
       "sigma_qplume                 2524\n",
       "time_of_detection               0\n",
       "plume_tif                       0\n",
       "rgb_tif                         0\n",
       "dtype: int64"
      ]
     },
     "execution_count": 29,
     "metadata": {},
     "output_type": "execute_result"
    }
   ],
   "source": [
    "dfdata2.nunique()"
   ]
  },
  {
   "cell_type": "code",
   "execution_count": 30,
   "id": "239706df-e547-43b7-9d1a-2f35b7b8bd8b",
   "metadata": {},
   "outputs": [],
   "source": [
    "dfdata2 = dfdata2.drop(columns=['plume_tif', 'rgb_tif'])"
   ]
  },
  {
   "cell_type": "code",
   "execution_count": 31,
   "id": "89d7d895-c0e3-4754-8ee2-d91a291ead3e",
   "metadata": {},
   "outputs": [
    {
     "data": {
      "text/html": [
       "<div>\n",
       "<style scoped>\n",
       "    .dataframe tbody tr th:only-of-type {\n",
       "        vertical-align: middle;\n",
       "    }\n",
       "\n",
       "    .dataframe tbody tr th {\n",
       "        vertical-align: top;\n",
       "    }\n",
       "\n",
       "    .dataframe thead th {\n",
       "        text-align: right;\n",
       "    }\n",
       "</style>\n",
       "<table border=\"1\" class=\"dataframe\">\n",
       "  <thead>\n",
       "    <tr style=\"text-align: right;\">\n",
       "      <th></th>\n",
       "      <th>Unnamed: 0</th>\n",
       "      <th>source_id</th>\n",
       "      <th>plume_lat</th>\n",
       "      <th>plume_lon</th>\n",
       "      <th>candidate_id</th>\n",
       "      <th>date</th>\n",
       "      <th>time</th>\n",
       "      <th>qplume</th>\n",
       "      <th>sigma_qplume</th>\n",
       "      <th>active_flair_detected</th>\n",
       "      <th>inactive_flair_detected</th>\n",
       "    </tr>\n",
       "  </thead>\n",
       "  <tbody>\n",
       "    <tr>\n",
       "      <th>0</th>\n",
       "      <td>0</td>\n",
       "      <td>P00001</td>\n",
       "      <td>32.212063</td>\n",
       "      <td>-103.697076</td>\n",
       "      <td>ang20190922t192642-2</td>\n",
       "      <td>2019-09-22</td>\n",
       "      <td>19:26:42</td>\n",
       "      <td>2579.528100</td>\n",
       "      <td>902.732655</td>\n",
       "      <td>False</td>\n",
       "      <td>False</td>\n",
       "    </tr>\n",
       "    <tr>\n",
       "      <th>1</th>\n",
       "      <td>1</td>\n",
       "      <td>P00002</td>\n",
       "      <td>32.200072</td>\n",
       "      <td>-103.673301</td>\n",
       "      <td>ang20190922t192642-4</td>\n",
       "      <td>2019-09-22</td>\n",
       "      <td>19:26:42</td>\n",
       "      <td>420.725207</td>\n",
       "      <td>147.155782</td>\n",
       "      <td>False</td>\n",
       "      <td>False</td>\n",
       "    </tr>\n",
       "    <tr>\n",
       "      <th>2</th>\n",
       "      <td>2</td>\n",
       "      <td>P00003</td>\n",
       "      <td>32.116008</td>\n",
       "      <td>-103.626345</td>\n",
       "      <td>ang20190922t192642-5</td>\n",
       "      <td>2019-09-22</td>\n",
       "      <td>19:26:42</td>\n",
       "      <td>1051.909600</td>\n",
       "      <td>339.267587</td>\n",
       "      <td>False</td>\n",
       "      <td>False</td>\n",
       "    </tr>\n",
       "    <tr>\n",
       "      <th>3</th>\n",
       "      <td>3</td>\n",
       "      <td>P00004</td>\n",
       "      <td>32.322594</td>\n",
       "      <td>-103.816072</td>\n",
       "      <td>ang20190922t194340-1</td>\n",
       "      <td>2019-09-22</td>\n",
       "      <td>19:43:40</td>\n",
       "      <td>1736.644250</td>\n",
       "      <td>1035.427670</td>\n",
       "      <td>False</td>\n",
       "      <td>False</td>\n",
       "    </tr>\n",
       "    <tr>\n",
       "      <th>4</th>\n",
       "      <td>4</td>\n",
       "      <td>P00005</td>\n",
       "      <td>32.284083</td>\n",
       "      <td>-103.793989</td>\n",
       "      <td>ang20190922t194340-2</td>\n",
       "      <td>2019-09-22</td>\n",
       "      <td>19:43:40</td>\n",
       "      <td>870.605019</td>\n",
       "      <td>435.968147</td>\n",
       "      <td>False</td>\n",
       "      <td>False</td>\n",
       "    </tr>\n",
       "  </tbody>\n",
       "</table>\n",
       "</div>"
      ],
      "text/plain": [
       "   Unnamed: 0 source_id  plume_lat   plume_lon          candidate_id  \\\n",
       "0           0    P00001  32.212063 -103.697076  ang20190922t192642-2   \n",
       "1           1    P00002  32.200072 -103.673301  ang20190922t192642-4   \n",
       "2           2    P00003  32.116008 -103.626345  ang20190922t192642-5   \n",
       "3           3    P00004  32.322594 -103.816072  ang20190922t194340-1   \n",
       "4           4    P00005  32.284083 -103.793989  ang20190922t194340-2   \n",
       "\n",
       "         date      time       qplume  sigma_qplume  active_flair_detected  \\\n",
       "0  2019-09-22  19:26:42  2579.528100    902.732655                  False   \n",
       "1  2019-09-22  19:26:42   420.725207    147.155782                  False   \n",
       "2  2019-09-22  19:26:42  1051.909600    339.267587                  False   \n",
       "3  2019-09-22  19:43:40  1736.644250   1035.427670                  False   \n",
       "4  2019-09-22  19:43:40   870.605019    435.968147                  False   \n",
       "\n",
       "   inactive_flair_detected  \n",
       "0                    False  \n",
       "1                    False  \n",
       "2                    False  \n",
       "3                    False  \n",
       "4                    False  "
      ]
     },
     "execution_count": 31,
     "metadata": {},
     "output_type": "execute_result"
    }
   ],
   "source": [
    "skiprows = 0\n",
    "#Means read in the ',' as thousand seperator. Also drops all columns which are unnamed.\n",
    "dfplumeper = pd.read_csv(\"permian_plume_list_2019 Jeremy Zhao.csv\", thousands=',', skiprows = skiprows)\n",
    "dfplumeper.head()"
   ]
  },
  {
   "cell_type": "code",
   "execution_count": 32,
   "id": "26c639cb-ee72-4eec-ba3a-37a929b61382",
   "metadata": {},
   "outputs": [
    {
     "data": {
      "text/plain": [
       "(3067, 11)"
      ]
     },
     "execution_count": 32,
     "metadata": {},
     "output_type": "execute_result"
    }
   ],
   "source": [
    "dfplumeper.shape"
   ]
  },
  {
   "cell_type": "code",
   "execution_count": 33,
   "id": "6c48f6dc-2319-4def-95fa-35b4cfb0719e",
   "metadata": {},
   "outputs": [
    {
     "data": {
      "text/html": [
       "<div>\n",
       "<style scoped>\n",
       "    .dataframe tbody tr th:only-of-type {\n",
       "        vertical-align: middle;\n",
       "    }\n",
       "\n",
       "    .dataframe tbody tr th {\n",
       "        vertical-align: top;\n",
       "    }\n",
       "\n",
       "    .dataframe thead th {\n",
       "        text-align: right;\n",
       "    }\n",
       "</style>\n",
       "<table border=\"1\" class=\"dataframe\">\n",
       "  <thead>\n",
       "    <tr style=\"text-align: right;\">\n",
       "      <th></th>\n",
       "      <th>Unnamed: 0</th>\n",
       "      <th>source_id</th>\n",
       "      <th>source_lat</th>\n",
       "      <th>source_lon</th>\n",
       "      <th>type</th>\n",
       "      <th>ipcc_sector</th>\n",
       "      <th>number_overflights</th>\n",
       "      <th>source_persistence</th>\n",
       "      <th>confidence_in_persistence</th>\n",
       "      <th>qsource</th>\n",
       "      <th>sigma_qsource</th>\n",
       "    </tr>\n",
       "  </thead>\n",
       "  <tbody>\n",
       "    <tr>\n",
       "      <th>0</th>\n",
       "      <td>0</td>\n",
       "      <td>P00001</td>\n",
       "      <td>32.212086</td>\n",
       "      <td>-103.697212</td>\n",
       "      <td>tank</td>\n",
       "      <td>1B2 Oil &amp; Natural Gas</td>\n",
       "      <td>12</td>\n",
       "      <td>0.833333</td>\n",
       "      <td>0.968324</td>\n",
       "      <td>865.484230</td>\n",
       "      <td>307.380288</td>\n",
       "    </tr>\n",
       "    <tr>\n",
       "      <th>1</th>\n",
       "      <td>1</td>\n",
       "      <td>P00002</td>\n",
       "      <td>32.199937</td>\n",
       "      <td>-103.673324</td>\n",
       "      <td>tank</td>\n",
       "      <td>1B2 Oil &amp; Natural Gas</td>\n",
       "      <td>12</td>\n",
       "      <td>0.333333</td>\n",
       "      <td>0.968324</td>\n",
       "      <td>207.089504</td>\n",
       "      <td>47.441634</td>\n",
       "    </tr>\n",
       "    <tr>\n",
       "      <th>2</th>\n",
       "      <td>2</td>\n",
       "      <td>P00003</td>\n",
       "      <td>32.116135</td>\n",
       "      <td>-103.626582</td>\n",
       "      <td>tank</td>\n",
       "      <td>1B2 Oil &amp; Natural Gas</td>\n",
       "      <td>12</td>\n",
       "      <td>0.583333</td>\n",
       "      <td>0.968324</td>\n",
       "      <td>305.700650</td>\n",
       "      <td>97.254972</td>\n",
       "    </tr>\n",
       "    <tr>\n",
       "      <th>3</th>\n",
       "      <td>3</td>\n",
       "      <td>P00004</td>\n",
       "      <td>32.322594</td>\n",
       "      <td>-103.816072</td>\n",
       "      <td>pipeline</td>\n",
       "      <td>1B2 Oil &amp; Natural Gas</td>\n",
       "      <td>11</td>\n",
       "      <td>0.090909</td>\n",
       "      <td>0.957765</td>\n",
       "      <td>157.876750</td>\n",
       "      <td>94.129788</td>\n",
       "    </tr>\n",
       "    <tr>\n",
       "      <th>4</th>\n",
       "      <td>4</td>\n",
       "      <td>P00005</td>\n",
       "      <td>32.284279</td>\n",
       "      <td>-103.793918</td>\n",
       "      <td>tank</td>\n",
       "      <td>1B2 Oil &amp; Natural Gas</td>\n",
       "      <td>10</td>\n",
       "      <td>0.200000</td>\n",
       "      <td>0.943686</td>\n",
       "      <td>161.404695</td>\n",
       "      <td>51.069466</td>\n",
       "    </tr>\n",
       "  </tbody>\n",
       "</table>\n",
       "</div>"
      ],
      "text/plain": [
       "   Unnamed: 0 source_id  source_lat  source_lon      type  \\\n",
       "0           0    P00001   32.212086 -103.697212      tank   \n",
       "1           1    P00002   32.199937 -103.673324      tank   \n",
       "2           2    P00003   32.116135 -103.626582      tank   \n",
       "3           3    P00004   32.322594 -103.816072  pipeline   \n",
       "4           4    P00005   32.284279 -103.793918      tank   \n",
       "\n",
       "             ipcc_sector  number_overflights  source_persistence  \\\n",
       "0  1B2 Oil & Natural Gas                  12            0.833333   \n",
       "1  1B2 Oil & Natural Gas                  12            0.333333   \n",
       "2  1B2 Oil & Natural Gas                  12            0.583333   \n",
       "3  1B2 Oil & Natural Gas                  11            0.090909   \n",
       "4  1B2 Oil & Natural Gas                  10            0.200000   \n",
       "\n",
       "   confidence_in_persistence     qsource  sigma_qsource  \n",
       "0                   0.968324  865.484230     307.380288  \n",
       "1                   0.968324  207.089504      47.441634  \n",
       "2                   0.968324  305.700650      97.254972  \n",
       "3                   0.957765  157.876750      94.129788  \n",
       "4                   0.943686  161.404695      51.069466  "
      ]
     },
     "execution_count": 33,
     "metadata": {},
     "output_type": "execute_result"
    }
   ],
   "source": [
    "dfsourceper = pd.read_csv(\"permian_source_list_2019 Jeremy Zhao.csv\", thousands=',', skiprows = skiprows)\n",
    "dfsourceper.head()"
   ]
  },
  {
   "cell_type": "code",
   "execution_count": 34,
   "id": "5b7c142d-d9bf-4c18-90ff-95f320e72b25",
   "metadata": {},
   "outputs": [
    {
     "data": {
      "text/plain": [
       "(1756, 11)"
      ]
     },
     "execution_count": 34,
     "metadata": {},
     "output_type": "execute_result"
    }
   ],
   "source": [
    "dfsourceper.shape"
   ]
  },
  {
   "cell_type": "code",
   "execution_count": 35,
   "id": "bbfc3a0c-5ff2-46f9-b898-70aac627c393",
   "metadata": {},
   "outputs": [],
   "source": [
    "filepaths1 = pd.Series(list(image_train1.glob(r'**/*.tif')), name='Filepath').astype(str)"
   ]
  },
  {
   "cell_type": "code",
   "execution_count": 36,
   "id": "4b9b82e6-8f80-4e42-a8c7-39c8bdaa6cc1",
   "metadata": {},
   "outputs": [],
   "source": [
    "df_filepaths1 = filepaths1.to_frame()"
   ]
  },
  {
   "cell_type": "code",
   "execution_count": 37,
   "id": "7ace8510-9b95-4cc1-9dbf-d69a240a3af2",
   "metadata": {},
   "outputs": [],
   "source": [
    "res = os.listdir(image_train1)\n",
    "df_filepaths1['Name'] = pd.DataFrame (res, columns = ['FileName'])"
   ]
  },
  {
   "cell_type": "code",
   "execution_count": 38,
   "id": "924c33e8-18dc-4eb3-a1c7-c8e61b7d10f6",
   "metadata": {},
   "outputs": [],
   "source": [
    "df_filepaths1['candidate_id'] = [x.split('_')[-0] for x in df_filepaths1['Name']]"
   ]
  },
  {
   "cell_type": "code",
   "execution_count": 39,
   "id": "ee30bdd1-e522-45eb-bdbc-9f19792f7456",
   "metadata": {},
   "outputs": [
    {
     "data": {
      "text/html": [
       "<div>\n",
       "<style scoped>\n",
       "    .dataframe tbody tr th:only-of-type {\n",
       "        vertical-align: middle;\n",
       "    }\n",
       "\n",
       "    .dataframe tbody tr th {\n",
       "        vertical-align: top;\n",
       "    }\n",
       "\n",
       "    .dataframe thead th {\n",
       "        text-align: right;\n",
       "    }\n",
       "</style>\n",
       "<table border=\"1\" class=\"dataframe\">\n",
       "  <thead>\n",
       "    <tr style=\"text-align: right;\">\n",
       "      <th></th>\n",
       "      <th>Filepath</th>\n",
       "      <th>Name</th>\n",
       "      <th>candidate_id</th>\n",
       "    </tr>\n",
       "  </thead>\n",
       "  <tbody>\n",
       "    <tr>\n",
       "      <th>0</th>\n",
       "      <td>C:\\Users\\vasan\\OneDrive\\EmissionsDatathon\\Data...</td>\n",
       "      <td>ang20190922t192642-2_r4578_c217_ctr.tif</td>\n",
       "      <td>ang20190922t192642-2</td>\n",
       "    </tr>\n",
       "    <tr>\n",
       "      <th>1</th>\n",
       "      <td>C:\\Users\\vasan\\OneDrive\\EmissionsDatathon\\Data...</td>\n",
       "      <td>ang20190922t192642-2_r4578_c217_rgb.tif</td>\n",
       "      <td>ang20190922t192642-2</td>\n",
       "    </tr>\n",
       "    <tr>\n",
       "      <th>2</th>\n",
       "      <td>C:\\Users\\vasan\\OneDrive\\EmissionsDatathon\\Data...</td>\n",
       "      <td>ang20190922t192642-4_r4928_c373_ctr.tif</td>\n",
       "      <td>ang20190922t192642-4</td>\n",
       "    </tr>\n",
       "    <tr>\n",
       "      <th>3</th>\n",
       "      <td>C:\\Users\\vasan\\OneDrive\\EmissionsDatathon\\Data...</td>\n",
       "      <td>ang20190922t192642-4_r4928_c373_rgb.tif</td>\n",
       "      <td>ang20190922t192642-4</td>\n",
       "    </tr>\n",
       "    <tr>\n",
       "      <th>4</th>\n",
       "      <td>C:\\Users\\vasan\\OneDrive\\EmissionsDatathon\\Data...</td>\n",
       "      <td>ang20190922t192642-5_r6423_c113_ctr.tif</td>\n",
       "      <td>ang20190922t192642-5</td>\n",
       "    </tr>\n",
       "  </tbody>\n",
       "</table>\n",
       "</div>"
      ],
      "text/plain": [
       "                                            Filepath  \\\n",
       "0  C:\\Users\\vasan\\OneDrive\\EmissionsDatathon\\Data...   \n",
       "1  C:\\Users\\vasan\\OneDrive\\EmissionsDatathon\\Data...   \n",
       "2  C:\\Users\\vasan\\OneDrive\\EmissionsDatathon\\Data...   \n",
       "3  C:\\Users\\vasan\\OneDrive\\EmissionsDatathon\\Data...   \n",
       "4  C:\\Users\\vasan\\OneDrive\\EmissionsDatathon\\Data...   \n",
       "\n",
       "                                      Name          candidate_id  \n",
       "0  ang20190922t192642-2_r4578_c217_ctr.tif  ang20190922t192642-2  \n",
       "1  ang20190922t192642-2_r4578_c217_rgb.tif  ang20190922t192642-2  \n",
       "2  ang20190922t192642-4_r4928_c373_ctr.tif  ang20190922t192642-4  \n",
       "3  ang20190922t192642-4_r4928_c373_rgb.tif  ang20190922t192642-4  \n",
       "4  ang20190922t192642-5_r6423_c113_ctr.tif  ang20190922t192642-5  "
      ]
     },
     "execution_count": 39,
     "metadata": {},
     "output_type": "execute_result"
    }
   ],
   "source": [
    "df_filepaths1.head()"
   ]
  },
  {
   "cell_type": "code",
   "execution_count": 40,
   "id": "aa174460-afe2-4611-aab8-dd77a4685f54",
   "metadata": {},
   "outputs": [],
   "source": [
    "df_filepaths1.to_excel(\"df_filepaths1.xlsx\")  "
   ]
  },
  {
   "cell_type": "code",
   "execution_count": 41,
   "id": "72bfab9a-2976-4b31-af3b-172f65ceb220",
   "metadata": {},
   "outputs": [],
   "source": [
    "df_filepaths1 = df_filepaths1.drop(df_filepaths1[df_filepaths1['Name'].str.contains('rgb')].index)"
   ]
  },
  {
   "cell_type": "code",
   "execution_count": 42,
   "id": "71ac3ef1-78aa-4851-a1e9-362700c8fc2c",
   "metadata": {},
   "outputs": [
    {
     "data": {
      "text/plain": [
       "(3763, 3)"
      ]
     },
     "execution_count": 42,
     "metadata": {},
     "output_type": "execute_result"
    }
   ],
   "source": [
    "df_filepaths1.shape"
   ]
  },
  {
   "cell_type": "code",
   "execution_count": 43,
   "id": "b9095858-5f03-4f47-8bc5-20613754a58c",
   "metadata": {},
   "outputs": [],
   "source": [
    "dup1 = dfplumeper[dfplumeper['candidate_id'].duplicated() == True]"
   ]
  },
  {
   "cell_type": "code",
   "execution_count": 44,
   "id": "f8e092c6-fb65-4243-8d6e-c256bb866808",
   "metadata": {},
   "outputs": [
    {
     "data": {
      "text/plain": [
       "(0, 11)"
      ]
     },
     "execution_count": 44,
     "metadata": {},
     "output_type": "execute_result"
    }
   ],
   "source": [
    "dup1.shape"
   ]
  },
  {
   "cell_type": "code",
   "execution_count": 45,
   "id": "ee50235a-c90b-43e6-b80e-c66049c0ff82",
   "metadata": {},
   "outputs": [],
   "source": [
    "dfdataper = pd.merge(df_filepaths1,dfplumeper, on='candidate_id')"
   ]
  },
  {
   "cell_type": "code",
   "execution_count": 46,
   "id": "aa4d4768-5138-4c34-836e-40f15a95675d",
   "metadata": {},
   "outputs": [
    {
     "data": {
      "text/html": [
       "<div>\n",
       "<style scoped>\n",
       "    .dataframe tbody tr th:only-of-type {\n",
       "        vertical-align: middle;\n",
       "    }\n",
       "\n",
       "    .dataframe tbody tr th {\n",
       "        vertical-align: top;\n",
       "    }\n",
       "\n",
       "    .dataframe thead th {\n",
       "        text-align: right;\n",
       "    }\n",
       "</style>\n",
       "<table border=\"1\" class=\"dataframe\">\n",
       "  <thead>\n",
       "    <tr style=\"text-align: right;\">\n",
       "      <th></th>\n",
       "      <th>Filepath</th>\n",
       "      <th>Name</th>\n",
       "      <th>candidate_id</th>\n",
       "      <th>Unnamed: 0</th>\n",
       "      <th>source_id</th>\n",
       "      <th>plume_lat</th>\n",
       "      <th>plume_lon</th>\n",
       "      <th>date</th>\n",
       "      <th>time</th>\n",
       "      <th>qplume</th>\n",
       "      <th>sigma_qplume</th>\n",
       "      <th>active_flair_detected</th>\n",
       "      <th>inactive_flair_detected</th>\n",
       "    </tr>\n",
       "  </thead>\n",
       "  <tbody>\n",
       "    <tr>\n",
       "      <th>0</th>\n",
       "      <td>C:\\Users\\vasan\\OneDrive\\EmissionsDatathon\\Data...</td>\n",
       "      <td>ang20190922t192642-2_r4578_c217_ctr.tif</td>\n",
       "      <td>ang20190922t192642-2</td>\n",
       "      <td>0</td>\n",
       "      <td>P00001</td>\n",
       "      <td>32.212063</td>\n",
       "      <td>-103.697076</td>\n",
       "      <td>2019-09-22</td>\n",
       "      <td>19:26:42</td>\n",
       "      <td>2579.528100</td>\n",
       "      <td>902.732655</td>\n",
       "      <td>False</td>\n",
       "      <td>False</td>\n",
       "    </tr>\n",
       "    <tr>\n",
       "      <th>1</th>\n",
       "      <td>C:\\Users\\vasan\\OneDrive\\EmissionsDatathon\\Data...</td>\n",
       "      <td>ang20190922t192642-4_r4928_c373_ctr.tif</td>\n",
       "      <td>ang20190922t192642-4</td>\n",
       "      <td>1</td>\n",
       "      <td>P00002</td>\n",
       "      <td>32.200072</td>\n",
       "      <td>-103.673301</td>\n",
       "      <td>2019-09-22</td>\n",
       "      <td>19:26:42</td>\n",
       "      <td>420.725207</td>\n",
       "      <td>147.155782</td>\n",
       "      <td>False</td>\n",
       "      <td>False</td>\n",
       "    </tr>\n",
       "    <tr>\n",
       "      <th>2</th>\n",
       "      <td>C:\\Users\\vasan\\OneDrive\\EmissionsDatathon\\Data...</td>\n",
       "      <td>ang20190922t192642-5_r6423_c113_ctr.tif</td>\n",
       "      <td>ang20190922t192642-5</td>\n",
       "      <td>2</td>\n",
       "      <td>P00003</td>\n",
       "      <td>32.116008</td>\n",
       "      <td>-103.626345</td>\n",
       "      <td>2019-09-22</td>\n",
       "      <td>19:26:42</td>\n",
       "      <td>1051.909600</td>\n",
       "      <td>339.267587</td>\n",
       "      <td>False</td>\n",
       "      <td>False</td>\n",
       "    </tr>\n",
       "    <tr>\n",
       "      <th>3</th>\n",
       "      <td>C:\\Users\\vasan\\OneDrive\\EmissionsDatathon\\Data...</td>\n",
       "      <td>ang20190922t192642-A_r3270_c384_ctr.tif</td>\n",
       "      <td>ang20190922t192642-A</td>\n",
       "      <td>759</td>\n",
       "      <td>P00156</td>\n",
       "      <td>32.283447</td>\n",
       "      <td>-103.741815</td>\n",
       "      <td>2019-09-22</td>\n",
       "      <td>19:26:42</td>\n",
       "      <td>296.676732</td>\n",
       "      <td>98.755811</td>\n",
       "      <td>False</td>\n",
       "      <td>False</td>\n",
       "    </tr>\n",
       "    <tr>\n",
       "      <th>4</th>\n",
       "      <td>C:\\Users\\vasan\\OneDrive\\EmissionsDatathon\\Data...</td>\n",
       "      <td>ang20190922t192642-B_r4034_c360_ctr.tif</td>\n",
       "      <td>ang20190922t192642-B</td>\n",
       "      <td>760</td>\n",
       "      <td>P00119</td>\n",
       "      <td>32.244361</td>\n",
       "      <td>-103.711379</td>\n",
       "      <td>2019-09-22</td>\n",
       "      <td>19:26:42</td>\n",
       "      <td>640.968143</td>\n",
       "      <td>190.138173</td>\n",
       "      <td>False</td>\n",
       "      <td>False</td>\n",
       "    </tr>\n",
       "  </tbody>\n",
       "</table>\n",
       "</div>"
      ],
      "text/plain": [
       "                                            Filepath  \\\n",
       "0  C:\\Users\\vasan\\OneDrive\\EmissionsDatathon\\Data...   \n",
       "1  C:\\Users\\vasan\\OneDrive\\EmissionsDatathon\\Data...   \n",
       "2  C:\\Users\\vasan\\OneDrive\\EmissionsDatathon\\Data...   \n",
       "3  C:\\Users\\vasan\\OneDrive\\EmissionsDatathon\\Data...   \n",
       "4  C:\\Users\\vasan\\OneDrive\\EmissionsDatathon\\Data...   \n",
       "\n",
       "                                      Name          candidate_id  Unnamed: 0  \\\n",
       "0  ang20190922t192642-2_r4578_c217_ctr.tif  ang20190922t192642-2           0   \n",
       "1  ang20190922t192642-4_r4928_c373_ctr.tif  ang20190922t192642-4           1   \n",
       "2  ang20190922t192642-5_r6423_c113_ctr.tif  ang20190922t192642-5           2   \n",
       "3  ang20190922t192642-A_r3270_c384_ctr.tif  ang20190922t192642-A         759   \n",
       "4  ang20190922t192642-B_r4034_c360_ctr.tif  ang20190922t192642-B         760   \n",
       "\n",
       "  source_id  plume_lat   plume_lon        date      time       qplume  \\\n",
       "0    P00001  32.212063 -103.697076  2019-09-22  19:26:42  2579.528100   \n",
       "1    P00002  32.200072 -103.673301  2019-09-22  19:26:42   420.725207   \n",
       "2    P00003  32.116008 -103.626345  2019-09-22  19:26:42  1051.909600   \n",
       "3    P00156  32.283447 -103.741815  2019-09-22  19:26:42   296.676732   \n",
       "4    P00119  32.244361 -103.711379  2019-09-22  19:26:42   640.968143   \n",
       "\n",
       "   sigma_qplume  active_flair_detected  inactive_flair_detected  \n",
       "0    902.732655                  False                    False  \n",
       "1    147.155782                  False                    False  \n",
       "2    339.267587                  False                    False  \n",
       "3     98.755811                  False                    False  \n",
       "4    190.138173                  False                    False  "
      ]
     },
     "execution_count": 46,
     "metadata": {},
     "output_type": "execute_result"
    }
   ],
   "source": [
    "dfdataper.head()"
   ]
  },
  {
   "cell_type": "code",
   "execution_count": 47,
   "id": "182ce468-65b8-48ab-a90f-ce87be78c066",
   "metadata": {},
   "outputs": [
    {
     "data": {
      "text/plain": [
       "Filepath                   3067\n",
       "Name                       3067\n",
       "candidate_id               3067\n",
       "Unnamed: 0                 3067\n",
       "source_id                  1756\n",
       "plume_lat                  3061\n",
       "plume_lon                  3058\n",
       "date                         31\n",
       "time                        552\n",
       "qplume                     3066\n",
       "sigma_qplume               3066\n",
       "active_flair_detected         2\n",
       "inactive_flair_detected       2\n",
       "dtype: int64"
      ]
     },
     "execution_count": 47,
     "metadata": {},
     "output_type": "execute_result"
    }
   ],
   "source": [
    "dfdataper.nunique()"
   ]
  },
  {
   "cell_type": "code",
   "execution_count": 48,
   "id": "a19c9e28-4922-4267-acd9-2c3684036eab",
   "metadata": {},
   "outputs": [],
   "source": [
    "dfdataper2 = pd.merge(dfsourceper,dfdataper, on='source_id')"
   ]
  },
  {
   "cell_type": "code",
   "execution_count": 49,
   "id": "7fc9b665-8826-407d-b122-8bad5ad2232d",
   "metadata": {},
   "outputs": [
    {
     "data": {
      "text/plain": [
       "(3067, 23)"
      ]
     },
     "execution_count": 49,
     "metadata": {},
     "output_type": "execute_result"
    }
   ],
   "source": [
    "dfdataper2.shape"
   ]
  },
  {
   "cell_type": "code",
   "execution_count": 50,
   "id": "35bfbc82-505c-4e35-b401-523ada6adc93",
   "metadata": {},
   "outputs": [
    {
     "data": {
      "text/plain": [
       "Unnamed: 0_x                 1756\n",
       "source_id                    1756\n",
       "source_lat                   1756\n",
       "source_lon                   1756\n",
       "type                            5\n",
       "ipcc_sector                     1\n",
       "number_overflights             14\n",
       "source_persistence             46\n",
       "confidence_in_persistence      14\n",
       "qsource                      1756\n",
       "sigma_qsource                1756\n",
       "Filepath                     3067\n",
       "Name                         3067\n",
       "candidate_id                 3067\n",
       "Unnamed: 0_y                 3067\n",
       "plume_lat                    3061\n",
       "plume_lon                    3058\n",
       "date                           31\n",
       "time                          552\n",
       "qplume                       3066\n",
       "sigma_qplume                 3066\n",
       "active_flair_detected           2\n",
       "inactive_flair_detected         2\n",
       "dtype: int64"
      ]
     },
     "execution_count": 50,
     "metadata": {},
     "output_type": "execute_result"
    }
   ],
   "source": [
    "dfdataper2.nunique()"
   ]
  },
  {
   "cell_type": "code",
   "execution_count": 51,
   "id": "0199c280-33da-42e6-b50f-4329c9c244e7",
   "metadata": {},
   "outputs": [],
   "source": [
    "dfdata2 = dfdata2.drop(columns=['Unnamed: 0_x', 'Unnamed: 0_y','time_of_detection'])"
   ]
  },
  {
   "cell_type": "code",
   "execution_count": 52,
   "id": "f33122e1-ee71-42be-b348-429078b501f5",
   "metadata": {},
   "outputs": [],
   "source": [
    "dfdata2 = dfdata2.drop(columns=['source_type_x'])"
   ]
  },
  {
   "cell_type": "code",
   "execution_count": 53,
   "id": "ddbdf6f6-0768-4d16-bf21-44d22fc38506",
   "metadata": {},
   "outputs": [
    {
     "data": {
      "text/plain": [
       "Unnamed: 0_x                 1756\n",
       "source_id                    1756\n",
       "source_lat                   1756\n",
       "source_lon                   1756\n",
       "type                            5\n",
       "ipcc_sector                     1\n",
       "number_overflights             14\n",
       "source_persistence             46\n",
       "confidence_in_persistence      14\n",
       "qsource                      1756\n",
       "sigma_qsource                1756\n",
       "Filepath                     3067\n",
       "Name                         3067\n",
       "candidate_id                 3067\n",
       "Unnamed: 0_y                 3067\n",
       "plume_lat                    3061\n",
       "plume_lon                    3058\n",
       "date                           31\n",
       "time                          552\n",
       "qplume                       3066\n",
       "sigma_qplume                 3066\n",
       "active_flair_detected           2\n",
       "inactive_flair_detected         2\n",
       "dtype: int64"
      ]
     },
     "execution_count": 53,
     "metadata": {},
     "output_type": "execute_result"
    }
   ],
   "source": [
    "dfdataper2.nunique()"
   ]
  },
  {
   "cell_type": "code",
   "execution_count": 54,
   "id": "8c2c8bb4-2bc4-4fe7-b51d-374b5feeac6e",
   "metadata": {},
   "outputs": [],
   "source": [
    "dfdataper2 = dfdataper2.drop(columns=['Unnamed: 0_x', 'Unnamed: 0_y','active_flair_detected','time'])"
   ]
  },
  {
   "cell_type": "code",
   "execution_count": 55,
   "id": "e733ad60-974d-415c-8787-9fe6ce85508d",
   "metadata": {},
   "outputs": [],
   "source": [
    "dfdataper2 = dfdataper2.drop(columns=['inactive_flair_detected'])"
   ]
  },
  {
   "cell_type": "code",
   "execution_count": 56,
   "id": "b553dfbc-8292-4b17-81a9-372a824b8878",
   "metadata": {},
   "outputs": [],
   "source": [
    "dfdataper2 = dfdataper2.rename(columns={'type': 'source_type_y', 'ipcc_sector': 'ipcc'})"
   ]
  },
  {
   "cell_type": "code",
   "execution_count": 57,
   "id": "3d486db6-d0d0-4cb8-9e3e-e0ae302f0fbd",
   "metadata": {},
   "outputs": [],
   "source": [
    "dfdataper2.to_excel(\"dfdataper2.xlsx\")  "
   ]
  },
  {
   "cell_type": "code",
   "execution_count": 58,
   "id": "765cd533-cce1-40cd-be8f-a25540621f7c",
   "metadata": {},
   "outputs": [],
   "source": [
    "data = pd.concat([dfdataper2, dfdata2])"
   ]
  },
  {
   "cell_type": "code",
   "execution_count": 59,
   "id": "f5c46724-ff31-40c4-91b5-d08be8ce17e3",
   "metadata": {},
   "outputs": [
    {
     "data": {
      "text/plain": [
       "(5592, 18)"
      ]
     },
     "execution_count": 59,
     "metadata": {},
     "output_type": "execute_result"
    }
   ],
   "source": [
    "data.shape"
   ]
  },
  {
   "cell_type": "code",
   "execution_count": 60,
   "id": "0b91ae6d-6c22-48ec-b790-a82fba5259b1",
   "metadata": {},
   "outputs": [
    {
     "data": {
      "text/plain": [
       "source_id                    3228\n",
       "source_lat                   3226\n",
       "source_lon                   3219\n",
       "source_type_y                  15\n",
       "ipcc                            7\n",
       "number_overflights             14\n",
       "source_persistence             64\n",
       "confidence_in_persistence      17\n",
       "qsource                      3228\n",
       "sigma_qsource                3228\n",
       "Filepath                     5592\n",
       "Name                         5592\n",
       "candidate_id                 5592\n",
       "plume_lat                    5559\n",
       "plume_lon                    5464\n",
       "date                          114\n",
       "qplume                       5590\n",
       "sigma_qplume                 5590\n",
       "dtype: int64"
      ]
     },
     "execution_count": 60,
     "metadata": {},
     "output_type": "execute_result"
    }
   ],
   "source": [
    "data.nunique()"
   ]
  },
  {
   "cell_type": "code",
   "execution_count": 61,
   "id": "46f9792b-1e13-4128-b5c4-46ac7eedc7af",
   "metadata": {},
   "outputs": [],
   "source": [
    "data['Uncern'] = (data.sigma_qsource/data.qsource)*100"
   ]
  },
  {
   "cell_type": "code",
   "execution_count": 62,
   "id": "d8f201f3-a5ab-4330-a104-9fa16543f9b5",
   "metadata": {},
   "outputs": [
    {
     "name": "stdout",
     "output_type": "stream",
     "text": [
      "count    5592.000000\n",
      "mean       35.181001\n",
      "std        12.840589\n",
      "min         1.936254\n",
      "25%        26.258181\n",
      "50%        33.693018\n",
      "75%        41.999900\n",
      "max       111.529334\n",
      "Name: Uncern, dtype: float64\n"
     ]
    },
    {
     "data": {
      "image/png": "[encoded data removed]",
      "text/plain": [
       "<Figure size 864x288 with 2 Axes>"
      ]
     },
     "metadata": {
      "needs_background": "light"
     },
     "output_type": "display_data"
    }
   ],
   "source": [
    "print(data.Uncern.describe())\n",
    "\n",
    "plt.figure(figsize=(12,4))\n",
    "plt.subplot(1,2,1)\n",
    "sns.distplot(data.Uncern.dropna() , fit=stats.norm);\n",
    "plt.subplot(1,2,2)\n",
    "_=stats.probplot(data.Uncern.dropna(), plot=plt)"
   ]
  },
  {
   "cell_type": "code",
   "execution_count": 63,
   "id": "afa8f3ed-ff7f-4cc6-a89f-e8536ecee70a",
   "metadata": {},
   "outputs": [
    {
     "data": {
      "text/plain": [
       "4"
      ]
     },
     "execution_count": 63,
     "metadata": {},
     "output_type": "execute_result"
    }
   ],
   "source": [
    "(data['Uncern'] > 100).sum()"
   ]
  },
  {
   "cell_type": "code",
   "execution_count": 64,
   "id": "4b08f891-b2d9-4b87-bc40-1ae70801d6ec",
   "metadata": {},
   "outputs": [
    {
     "data": {
      "text/plain": [
       "3514"
      ]
     },
     "execution_count": 64,
     "metadata": {},
     "output_type": "execute_result"
    }
   ],
   "source": [
    "(data['Uncern'] > 30).sum()"
   ]
  },
  {
   "cell_type": "code",
   "execution_count": 92,
   "id": "f29fc96f-0e3f-4a3f-a98c-0cbb8b3d2f1c",
   "metadata": {},
   "outputs": [],
   "source": [
    "datamodel = data.loc[data['Uncern'] < 30]"
   ]
  },
  {
   "cell_type": "code",
   "execution_count": 95,
   "id": "f28ed38b-7515-48c4-9e7d-1e98ac9b12d2",
   "metadata": {},
   "outputs": [
    {
     "data": {
      "text/plain": [
       "(2078, 19)"
      ]
     },
     "execution_count": 95,
     "metadata": {},
     "output_type": "execute_result"
    }
   ],
   "source": [
    "datamodel.shape"
   ]
  },
  {
   "cell_type": "code",
   "execution_count": 96,
   "id": "8cf157cd-61b7-4052-8d39-7eef2dd6d0d3",
   "metadata": {},
   "outputs": [],
   "source": [
    "def image_processing(fil):\n",
    "    # Open image and import it as a numpy array\n",
    "    im2 = imread(fil)\n",
    "    \n",
    "    red = im2[:,:,0]\n",
    "    green = im2[:,:,1]\n",
    "    blue = im2[:,:,2]\n",
    "    \n",
    "    flat_red = red.flatten()\n",
    "    flat_green = green.flatten()\n",
    "    flat_blue = blue.flatten()\n",
    "    \n",
    "    nonzero_red = flat_red[flat_red != 0]\n",
    "    nonzero_green = flat_green[flat_green != 0]\n",
    "    nonzero_blue = flat_blue[flat_blue != 0]\n",
    "    \n",
    "    meanr = np.mean(nonzero_red)\n",
    "    meang = np.mean(nonzero_green)\n",
    "    meanb = np.mean(nonzero_blue)\n",
    "    \n",
    "    filename = fil.split(\"/\")[-1]\n",
    "    \n",
    "    return (meanr, meang, meanb)"
   ]
  },
  {
   "cell_type": "code",
   "execution_count": 97,
   "id": "3ef0af95-cf5a-4946-9291-fb857483a189",
   "metadata": {},
   "outputs": [],
   "source": [
    "meanr_list = []\n",
    "meang_list = []\n",
    "meanb_list = []\n",
    "name_list = []\n",
    "qplume = []"
   ]
  },
  {
   "cell_type": "code",
   "execution_count": 98,
   "id": "a8e8cb07-c860-49d3-80bf-c0fbabf749a0",
   "metadata": {},
   "outputs": [
    {
     "data": {
      "text/html": [
       "<div>\n",
       "<style scoped>\n",
       "    .dataframe tbody tr th:only-of-type {\n",
       "        vertical-align: middle;\n",
       "    }\n",
       "\n",
       "    .dataframe tbody tr th {\n",
       "        vertical-align: top;\n",
       "    }\n",
       "\n",
       "    .dataframe thead th {\n",
       "        text-align: right;\n",
       "    }\n",
       "</style>\n",
       "<table border=\"1\" class=\"dataframe\">\n",
       "  <thead>\n",
       "    <tr style=\"text-align: right;\">\n",
       "      <th></th>\n",
       "      <th>source_id</th>\n",
       "      <th>source_lat</th>\n",
       "      <th>source_lon</th>\n",
       "      <th>source_type_y</th>\n",
       "      <th>ipcc</th>\n",
       "      <th>number_overflights</th>\n",
       "      <th>source_persistence</th>\n",
       "      <th>confidence_in_persistence</th>\n",
       "      <th>qsource</th>\n",
       "      <th>sigma_qsource</th>\n",
       "      <th>Filepath</th>\n",
       "      <th>Name</th>\n",
       "      <th>candidate_id</th>\n",
       "      <th>plume_lat</th>\n",
       "      <th>plume_lon</th>\n",
       "      <th>date</th>\n",
       "      <th>qplume</th>\n",
       "      <th>sigma_qplume</th>\n",
       "      <th>Uncern</th>\n",
       "    </tr>\n",
       "  </thead>\n",
       "  <tbody>\n",
       "    <tr>\n",
       "      <th>16</th>\n",
       "      <td>P00002</td>\n",
       "      <td>32.199937</td>\n",
       "      <td>-103.673324</td>\n",
       "      <td>tank</td>\n",
       "      <td>1B2 Oil &amp; Natural Gas</td>\n",
       "      <td>12</td>\n",
       "      <td>0.333333</td>\n",
       "      <td>0.968324</td>\n",
       "      <td>207.089504</td>\n",
       "      <td>47.441634</td>\n",
       "      <td>C:\\Users\\vasan\\OneDrive\\EmissionsDatathon\\Data...</td>\n",
       "      <td>ang20190922t192642-4_r4928_c373_ctr.tif</td>\n",
       "      <td>ang20190922t192642-4</td>\n",
       "      <td>32.200072</td>\n",
       "      <td>-103.673301</td>\n",
       "      <td>2019-09-22</td>\n",
       "      <td>420.725207</td>\n",
       "      <td>147.155782</td>\n",
       "      <td>22.908758</td>\n",
       "    </tr>\n",
       "    <tr>\n",
       "      <th>17</th>\n",
       "      <td>P00002</td>\n",
       "      <td>32.199937</td>\n",
       "      <td>-103.673324</td>\n",
       "      <td>tank</td>\n",
       "      <td>1B2 Oil &amp; Natural Gas</td>\n",
       "      <td>12</td>\n",
       "      <td>0.333333</td>\n",
       "      <td>0.968324</td>\n",
       "      <td>207.089504</td>\n",
       "      <td>47.441634</td>\n",
       "      <td>C:\\Users\\vasan\\OneDrive\\EmissionsDatathon\\Data...</td>\n",
       "      <td>ang20190926t223557-2_r4461_c372_ctr.tif</td>\n",
       "      <td>ang20190926t223557-2</td>\n",
       "      <td>32.199967</td>\n",
       "      <td>-103.673044</td>\n",
       "      <td>2019-09-26</td>\n",
       "      <td>1611.163610</td>\n",
       "      <td>308.588581</td>\n",
       "      <td>22.908758</td>\n",
       "    </tr>\n",
       "    <tr>\n",
       "      <th>18</th>\n",
       "      <td>P00002</td>\n",
       "      <td>32.199937</td>\n",
       "      <td>-103.673324</td>\n",
       "      <td>tank</td>\n",
       "      <td>1B2 Oil &amp; Natural Gas</td>\n",
       "      <td>12</td>\n",
       "      <td>0.333333</td>\n",
       "      <td>0.968324</td>\n",
       "      <td>207.089504</td>\n",
       "      <td>47.441634</td>\n",
       "      <td>C:\\Users\\vasan\\OneDrive\\EmissionsDatathon\\Data...</td>\n",
       "      <td>ang20191007t182352-C_r4376_c293_ctr.tif</td>\n",
       "      <td>ang20191007t182352-C</td>\n",
       "      <td>32.200142</td>\n",
       "      <td>-103.673795</td>\n",
       "      <td>2019-10-07</td>\n",
       "      <td>251.526016</td>\n",
       "      <td>63.032261</td>\n",
       "      <td>22.908758</td>\n",
       "    </tr>\n",
       "    <tr>\n",
       "      <th>19</th>\n",
       "      <td>P00002</td>\n",
       "      <td>32.199937</td>\n",
       "      <td>-103.673324</td>\n",
       "      <td>tank</td>\n",
       "      <td>1B2 Oil &amp; Natural Gas</td>\n",
       "      <td>12</td>\n",
       "      <td>0.333333</td>\n",
       "      <td>0.968324</td>\n",
       "      <td>207.089504</td>\n",
       "      <td>47.441634</td>\n",
       "      <td>C:\\Users\\vasan\\OneDrive\\EmissionsDatathon\\Data...</td>\n",
       "      <td>ang20191022t153425-A_r1203_c565_ctr.tif</td>\n",
       "      <td>ang20191022t153425-A</td>\n",
       "      <td>32.199675</td>\n",
       "      <td>-103.673313</td>\n",
       "      <td>2019-10-22</td>\n",
       "      <td>250.279042</td>\n",
       "      <td>101.519646</td>\n",
       "      <td>22.908758</td>\n",
       "    </tr>\n",
       "    <tr>\n",
       "      <th>20</th>\n",
       "      <td>P00002</td>\n",
       "      <td>32.199937</td>\n",
       "      <td>-103.673324</td>\n",
       "      <td>tank</td>\n",
       "      <td>1B2 Oil &amp; Natural Gas</td>\n",
       "      <td>12</td>\n",
       "      <td>0.333333</td>\n",
       "      <td>0.968324</td>\n",
       "      <td>207.089504</td>\n",
       "      <td>47.441634</td>\n",
       "      <td>C:\\Users\\vasan\\OneDrive\\EmissionsDatathon\\Data...</td>\n",
       "      <td>ang20191022t171226-A_r910_c403_ctr.tif</td>\n",
       "      <td>ang20191022t171226-A</td>\n",
       "      <td>32.199967</td>\n",
       "      <td>-103.673222</td>\n",
       "      <td>2019-10-22</td>\n",
       "      <td>94.619390</td>\n",
       "      <td>16.142244</td>\n",
       "      <td>22.908758</td>\n",
       "    </tr>\n",
       "  </tbody>\n",
       "</table>\n",
       "</div>"
      ],
      "text/plain": [
       "   source_id  source_lat  source_lon source_type_y                   ipcc  \\\n",
       "16    P00002   32.199937 -103.673324          tank  1B2 Oil & Natural Gas   \n",
       "17    P00002   32.199937 -103.673324          tank  1B2 Oil & Natural Gas   \n",
       "18    P00002   32.199937 -103.673324          tank  1B2 Oil & Natural Gas   \n",
       "19    P00002   32.199937 -103.673324          tank  1B2 Oil & Natural Gas   \n",
       "20    P00002   32.199937 -103.673324          tank  1B2 Oil & Natural Gas   \n",
       "\n",
       "    number_overflights  source_persistence confidence_in_persistence  \\\n",
       "16                  12            0.333333                  0.968324   \n",
       "17                  12            0.333333                  0.968324   \n",
       "18                  12            0.333333                  0.968324   \n",
       "19                  12            0.333333                  0.968324   \n",
       "20                  12            0.333333                  0.968324   \n",
       "\n",
       "       qsource  sigma_qsource  \\\n",
       "16  207.089504      47.441634   \n",
       "17  207.089504      47.441634   \n",
       "18  207.089504      47.441634   \n",
       "19  207.089504      47.441634   \n",
       "20  207.089504      47.441634   \n",
       "\n",
       "                                             Filepath  \\\n",
       "16  C:\\Users\\vasan\\OneDrive\\EmissionsDatathon\\Data...   \n",
       "17  C:\\Users\\vasan\\OneDrive\\EmissionsDatathon\\Data...   \n",
       "18  C:\\Users\\vasan\\OneDrive\\EmissionsDatathon\\Data...   \n",
       "19  C:\\Users\\vasan\\OneDrive\\EmissionsDatathon\\Data...   \n",
       "20  C:\\Users\\vasan\\OneDrive\\EmissionsDatathon\\Data...   \n",
       "\n",
       "                                       Name          candidate_id  plume_lat  \\\n",
       "16  ang20190922t192642-4_r4928_c373_ctr.tif  ang20190922t192642-4  32.200072   \n",
       "17  ang20190926t223557-2_r4461_c372_ctr.tif  ang20190926t223557-2  32.199967   \n",
       "18  ang20191007t182352-C_r4376_c293_ctr.tif  ang20191007t182352-C  32.200142   \n",
       "19  ang20191022t153425-A_r1203_c565_ctr.tif  ang20191022t153425-A  32.199675   \n",
       "20   ang20191022t171226-A_r910_c403_ctr.tif  ang20191022t171226-A  32.199967   \n",
       "\n",
       "     plume_lon        date       qplume  sigma_qplume     Uncern  \n",
       "16 -103.673301  2019-09-22   420.725207    147.155782  22.908758  \n",
       "17 -103.673044  2019-09-26  1611.163610    308.588581  22.908758  \n",
       "18 -103.673795  2019-10-07   251.526016     63.032261  22.908758  \n",
       "19 -103.673313  2019-10-22   250.279042    101.519646  22.908758  \n",
       "20 -103.673222  2019-10-22    94.619390     16.142244  22.908758  "
      ]
     },
     "execution_count": 98,
     "metadata": {},
     "output_type": "execute_result"
    }
   ],
   "source": [
    "datamodel.head()"
   ]
  },
  {
   "cell_type": "code",
   "execution_count": 99,
   "id": "aa0d816b-65c2-47e6-930e-4578d70fe304",
   "metadata": {},
   "outputs": [
    {
     "name": "stderr",
     "output_type": "stream",
     "text": [
      "100%|██████████| 2078/2078 [00:04<00:00, 472.93it/s]\n"
     ]
    }
   ],
   "source": [
    "for file in tqdm(datamodel['Filepath'].tolist()[:]):\n",
    "    meanr, meang, meanb = image_processing(file)\n",
    "    meanr_list.append(meanr)\n",
    "    meang_list.append(meang)\n",
    "    meanb_list.append(meanb)\n",
    "    name_list.append(os.path.basename(file))  # add filename to list"
   ]
  },
  {
   "cell_type": "code",
   "execution_count": 100,
   "id": "8aadbb87-fee0-45a9-b70e-d332aa738fc8",
   "metadata": {},
   "outputs": [],
   "source": [
    "dftif = pd.DataFrame({'Red': meanr_list, 'Green': meang_list, 'Blue': meanb_list, 'Name': name_list})"
   ]
  },
  {
   "cell_type": "code",
   "execution_count": 101,
   "id": "23b3b08f-672c-4d64-8d35-f5b8b995f126",
   "metadata": {},
   "outputs": [
    {
     "data": {
      "text/plain": [
       "(2078, 4)"
      ]
     },
     "execution_count": 101,
     "metadata": {},
     "output_type": "execute_result"
    }
   ],
   "source": [
    "dftif.shape"
   ]
  },
  {
   "cell_type": "code",
   "execution_count": 102,
   "id": "fd136d30-054d-4d05-a374-932a62613bed",
   "metadata": {},
   "outputs": [],
   "source": [
    "data.to_excel(\"datamodel.xlsx\")  "
   ]
  },
  {
   "cell_type": "code",
   "execution_count": 103,
   "id": "a812857c-aa17-4313-9d67-b7c7067b74fe",
   "metadata": {},
   "outputs": [
    {
     "data": {
      "text/plain": [
       "Red      2050\n",
       "Green    2053\n",
       "Blue     2054\n",
       "Name     2078\n",
       "dtype: int64"
      ]
     },
     "execution_count": 103,
     "metadata": {},
     "output_type": "execute_result"
    }
   ],
   "source": [
    "dftif.nunique()"
   ]
  },
  {
   "cell_type": "code",
   "execution_count": 104,
   "id": "6a46b3ba-c805-4a4f-a232-e339ff8472d6",
   "metadata": {},
   "outputs": [],
   "source": [
    "dftif2 = pd.merge(dftif, datamodel[['qplume', 'Name']], on='Name')"
   ]
  },
  {
   "cell_type": "code",
   "execution_count": 105,
   "id": "8d6f5682-5aa1-49e3-b8c2-10e3bf76da76",
   "metadata": {},
   "outputs": [
    {
     "data": {
      "text/plain": [
       "(2078, 5)"
      ]
     },
     "execution_count": 105,
     "metadata": {},
     "output_type": "execute_result"
    }
   ],
   "source": [
    "dftif2.shape"
   ]
  },
  {
   "cell_type": "code",
   "execution_count": 106,
   "id": "a3407b8b-1803-42c9-b2b6-3ae30b3d29b8",
   "metadata": {},
   "outputs": [
    {
     "data": {
      "text/html": [
       "<div>\n",
       "<style scoped>\n",
       "    .dataframe tbody tr th:only-of-type {\n",
       "        vertical-align: middle;\n",
       "    }\n",
       "\n",
       "    .dataframe tbody tr th {\n",
       "        vertical-align: top;\n",
       "    }\n",
       "\n",
       "    .dataframe thead th {\n",
       "        text-align: right;\n",
       "    }\n",
       "</style>\n",
       "<table border=\"1\" class=\"dataframe\">\n",
       "  <thead>\n",
       "    <tr style=\"text-align: right;\">\n",
       "      <th></th>\n",
       "      <th>Red</th>\n",
       "      <th>Green</th>\n",
       "      <th>Blue</th>\n",
       "      <th>Name</th>\n",
       "      <th>qplume</th>\n",
       "    </tr>\n",
       "  </thead>\n",
       "  <tbody>\n",
       "    <tr>\n",
       "      <th>0</th>\n",
       "      <td>68.561321</td>\n",
       "      <td>96.660377</td>\n",
       "      <td>123.433862</td>\n",
       "      <td>ang20190922t192642-4_r4928_c373_ctr.tif</td>\n",
       "      <td>420.725207</td>\n",
       "    </tr>\n",
       "    <tr>\n",
       "      <th>1</th>\n",
       "      <td>92.454492</td>\n",
       "      <td>93.303928</td>\n",
       "      <td>119.140534</td>\n",
       "      <td>ang20190926t223557-2_r4461_c372_ctr.tif</td>\n",
       "      <td>1611.163610</td>\n",
       "    </tr>\n",
       "    <tr>\n",
       "      <th>2</th>\n",
       "      <td>58.291667</td>\n",
       "      <td>58.291667</td>\n",
       "      <td>124.682171</td>\n",
       "      <td>ang20191007t182352-C_r4376_c293_ctr.tif</td>\n",
       "      <td>251.526016</td>\n",
       "    </tr>\n",
       "    <tr>\n",
       "      <th>3</th>\n",
       "      <td>59.959391</td>\n",
       "      <td>81.641892</td>\n",
       "      <td>110.657423</td>\n",
       "      <td>ang20191022t153425-A_r1203_c565_ctr.tif</td>\n",
       "      <td>250.279042</td>\n",
       "    </tr>\n",
       "    <tr>\n",
       "      <th>4</th>\n",
       "      <td>57.117647</td>\n",
       "      <td>57.117647</td>\n",
       "      <td>108.316667</td>\n",
       "      <td>ang20191022t171226-A_r910_c403_ctr.tif</td>\n",
       "      <td>94.619390</td>\n",
       "    </tr>\n",
       "  </tbody>\n",
       "</table>\n",
       "</div>"
      ],
      "text/plain": [
       "         Red      Green        Blue                                     Name  \\\n",
       "0  68.561321  96.660377  123.433862  ang20190922t192642-4_r4928_c373_ctr.tif   \n",
       "1  92.454492  93.303928  119.140534  ang20190926t223557-2_r4461_c372_ctr.tif   \n",
       "2  58.291667  58.291667  124.682171  ang20191007t182352-C_r4376_c293_ctr.tif   \n",
       "3  59.959391  81.641892  110.657423  ang20191022t153425-A_r1203_c565_ctr.tif   \n",
       "4  57.117647  57.117647  108.316667   ang20191022t171226-A_r910_c403_ctr.tif   \n",
       "\n",
       "        qplume  \n",
       "0   420.725207  \n",
       "1  1611.163610  \n",
       "2   251.526016  \n",
       "3   250.279042  \n",
       "4    94.619390  "
      ]
     },
     "execution_count": 106,
     "metadata": {},
     "output_type": "execute_result"
    }
   ],
   "source": [
    "dftif2.head()"
   ]
  },
  {
   "cell_type": "code",
   "execution_count": 107,
   "id": "ca5e6166-eee9-48bf-9c8d-e24648dd338b",
   "metadata": {},
   "outputs": [
    {
     "data": {
      "text/plain": [
       "Red       0\n",
       "Green     0\n",
       "Blue      0\n",
       "Name      0\n",
       "qplume    0\n",
       "dtype: int64"
      ]
     },
     "execution_count": 107,
     "metadata": {},
     "output_type": "execute_result"
    }
   ],
   "source": [
    "dftif2.isna().sum()"
   ]
  },
  {
   "cell_type": "code",
   "execution_count": 108,
   "id": "33bf7987-8c8d-4e86-af85-d1c9dd05e396",
   "metadata": {},
   "outputs": [
    {
     "data": {
      "image/png": "[encoded data removed]",
      "text/plain": [
       "<Figure size 1080x1080 with 2 Axes>"
      ]
     },
     "metadata": {
      "needs_background": "light"
     },
     "output_type": "display_data"
    }
   ],
   "source": [
    "plt.figure(figsize=(15, 15))\n",
    "ax = sns.heatmap(dftif.corr(), annot=True, fmt=\".2f\")"
   ]
  },
  {
   "cell_type": "code",
   "execution_count": 109,
   "id": "2eb321ed-0212-495f-8d15-1f6368cb04ab",
   "metadata": {},
   "outputs": [
    {
     "data": {
      "text/plain": [
       "(2078, 5)"
      ]
     },
     "execution_count": 109,
     "metadata": {},
     "output_type": "execute_result"
    }
   ],
   "source": [
    "dftif2.shape"
   ]
  },
  {
   "cell_type": "code",
   "execution_count": 110,
   "id": "0c5142bc-73bb-4736-90bf-7768c9520234",
   "metadata": {},
   "outputs": [],
   "source": [
    "dftif2.to_excel(\"dftif2.xlsx\")  "
   ]
  },
  {
   "cell_type": "code",
   "execution_count": 130,
   "id": "3d3e7d66-3e38-43b6-bfde-5ceeba8737a4",
   "metadata": {},
   "outputs": [],
   "source": [
    "image_sub = []"
   ]
  },
  {
   "cell_type": "code",
   "execution_count": 131,
   "id": "661d5526-76bd-45f4-8276-756c1508aba5",
   "metadata": {},
   "outputs": [],
   "source": [
    "image_test = Path('C:/Users/vasan/OneDrive/EmissionsDatathon/Dataset/Data/Test')"
   ]
  },
  {
   "cell_type": "code",
   "execution_count": 132,
   "id": "7ba861fa-0db5-41f4-bf1d-5679c95f835b",
   "metadata": {},
   "outputs": [],
   "source": [
    "testpaths = pd.Series(list(image_test.glob(r'**/*.png')), name='Testpath').astype(str)"
   ]
  },
  {
   "cell_type": "code",
   "execution_count": 133,
   "id": "228b78a3-893c-448e-bea1-bfc690c79f29",
   "metadata": {},
   "outputs": [],
   "source": [
    "df_testpaths = testpaths.to_frame()"
   ]
  },
  {
   "cell_type": "code",
   "execution_count": 134,
   "id": "c6232678-a1bd-4571-a914-14dbb9299525",
   "metadata": {},
   "outputs": [],
   "source": [
    "meanr_list1 = []\n",
    "meang_list1 = []\n",
    "meanb_list1 = []\n",
    "name_list1 = []"
   ]
  },
  {
   "cell_type": "code",
   "execution_count": 135,
   "id": "21e14c61-00d2-47fb-b7bb-b78153e6a589",
   "metadata": {},
   "outputs": [
    {
     "name": "stderr",
     "output_type": "stream",
     "text": [
      "100%|██████████| 20/20 [00:00<00:00, 100.70it/s]\n"
     ]
    }
   ],
   "source": [
    "for file in tqdm(df_testpaths['Testpath'].tolist()[:]):\n",
    "    meanr, meang, meanb = image_processing(file)\n",
    "    meanr_list1.append(meanr)\n",
    "    meang_list1.append(meang)\n",
    "    meanb_list1.append(meanb)\n",
    "    name_list1.append(os.path.basename(file))  # add filename to list"
   ]
  },
  {
   "cell_type": "code",
   "execution_count": 136,
   "id": "ab726686-b9d9-434f-affc-4972a2249ff0",
   "metadata": {},
   "outputs": [],
   "source": [
    "dsub = pd.DataFrame({'Red': meanr_list1, 'Green': meang_list1, 'Blue': meanb_list1, 'Name': name_list1})"
   ]
  },
  {
   "cell_type": "code",
   "execution_count": 137,
   "id": "8707c82c-753e-488d-9301-be063e086109",
   "metadata": {},
   "outputs": [
    {
     "data": {
      "text/html": [
       "<div>\n",
       "<style scoped>\n",
       "    .dataframe tbody tr th:only-of-type {\n",
       "        vertical-align: middle;\n",
       "    }\n",
       "\n",
       "    .dataframe tbody tr th {\n",
       "        vertical-align: top;\n",
       "    }\n",
       "\n",
       "    .dataframe thead th {\n",
       "        text-align: right;\n",
       "    }\n",
       "</style>\n",
       "<table border=\"1\" class=\"dataframe\">\n",
       "  <thead>\n",
       "    <tr style=\"text-align: right;\">\n",
       "      <th></th>\n",
       "      <th>Red</th>\n",
       "      <th>Green</th>\n",
       "      <th>Blue</th>\n",
       "      <th>Name</th>\n",
       "    </tr>\n",
       "  </thead>\n",
       "  <tbody>\n",
       "    <tr>\n",
       "      <th>0</th>\n",
       "      <td>82.213236</td>\n",
       "      <td>86.101068</td>\n",
       "      <td>93.274235</td>\n",
       "      <td>01A.png</td>\n",
       "    </tr>\n",
       "    <tr>\n",
       "      <th>1</th>\n",
       "      <td>185.965074</td>\n",
       "      <td>179.501219</td>\n",
       "      <td>151.516240</td>\n",
       "      <td>02A.png</td>\n",
       "    </tr>\n",
       "    <tr>\n",
       "      <th>2</th>\n",
       "      <td>183.407890</td>\n",
       "      <td>166.772655</td>\n",
       "      <td>131.994160</td>\n",
       "      <td>03A.png</td>\n",
       "    </tr>\n",
       "    <tr>\n",
       "      <th>3</th>\n",
       "      <td>139.278398</td>\n",
       "      <td>132.372221</td>\n",
       "      <td>116.203694</td>\n",
       "      <td>04A.png</td>\n",
       "    </tr>\n",
       "    <tr>\n",
       "      <th>4</th>\n",
       "      <td>110.705144</td>\n",
       "      <td>106.453771</td>\n",
       "      <td>118.587240</td>\n",
       "      <td>05A.png</td>\n",
       "    </tr>\n",
       "    <tr>\n",
       "      <th>5</th>\n",
       "      <td>165.232893</td>\n",
       "      <td>159.233708</td>\n",
       "      <td>157.334691</td>\n",
       "      <td>06A.png</td>\n",
       "    </tr>\n",
       "    <tr>\n",
       "      <th>6</th>\n",
       "      <td>134.041293</td>\n",
       "      <td>127.915200</td>\n",
       "      <td>118.706369</td>\n",
       "      <td>07A.png</td>\n",
       "    </tr>\n",
       "    <tr>\n",
       "      <th>7</th>\n",
       "      <td>182.872681</td>\n",
       "      <td>174.996053</td>\n",
       "      <td>150.858609</td>\n",
       "      <td>08A.png</td>\n",
       "    </tr>\n",
       "    <tr>\n",
       "      <th>8</th>\n",
       "      <td>137.480941</td>\n",
       "      <td>139.508284</td>\n",
       "      <td>140.814020</td>\n",
       "      <td>09A.png</td>\n",
       "    </tr>\n",
       "    <tr>\n",
       "      <th>9</th>\n",
       "      <td>154.124204</td>\n",
       "      <td>136.485442</td>\n",
       "      <td>111.335051</td>\n",
       "      <td>10A.png</td>\n",
       "    </tr>\n",
       "    <tr>\n",
       "      <th>10</th>\n",
       "      <td>128.563671</td>\n",
       "      <td>133.381277</td>\n",
       "      <td>126.193745</td>\n",
       "      <td>11A.png</td>\n",
       "    </tr>\n",
       "    <tr>\n",
       "      <th>11</th>\n",
       "      <td>127.125493</td>\n",
       "      <td>138.812688</td>\n",
       "      <td>142.637151</td>\n",
       "      <td>12A.png</td>\n",
       "    </tr>\n",
       "    <tr>\n",
       "      <th>12</th>\n",
       "      <td>129.704077</td>\n",
       "      <td>134.196057</td>\n",
       "      <td>118.018719</td>\n",
       "      <td>13A.png</td>\n",
       "    </tr>\n",
       "    <tr>\n",
       "      <th>13</th>\n",
       "      <td>131.832400</td>\n",
       "      <td>136.377412</td>\n",
       "      <td>131.999397</td>\n",
       "      <td>14A.png</td>\n",
       "    </tr>\n",
       "    <tr>\n",
       "      <th>14</th>\n",
       "      <td>67.532021</td>\n",
       "      <td>79.921147</td>\n",
       "      <td>98.601595</td>\n",
       "      <td>15A.png</td>\n",
       "    </tr>\n",
       "    <tr>\n",
       "      <th>15</th>\n",
       "      <td>87.941385</td>\n",
       "      <td>98.326505</td>\n",
       "      <td>84.624755</td>\n",
       "      <td>16A.png</td>\n",
       "    </tr>\n",
       "    <tr>\n",
       "      <th>16</th>\n",
       "      <td>109.770425</td>\n",
       "      <td>122.889839</td>\n",
       "      <td>97.689814</td>\n",
       "      <td>17A.png</td>\n",
       "    </tr>\n",
       "    <tr>\n",
       "      <th>17</th>\n",
       "      <td>86.521588</td>\n",
       "      <td>105.792463</td>\n",
       "      <td>86.617137</td>\n",
       "      <td>18A.png</td>\n",
       "    </tr>\n",
       "    <tr>\n",
       "      <th>18</th>\n",
       "      <td>75.928490</td>\n",
       "      <td>93.110551</td>\n",
       "      <td>78.833122</td>\n",
       "      <td>19A.png</td>\n",
       "    </tr>\n",
       "    <tr>\n",
       "      <th>19</th>\n",
       "      <td>71.047987</td>\n",
       "      <td>90.567111</td>\n",
       "      <td>75.149311</td>\n",
       "      <td>20A.png</td>\n",
       "    </tr>\n",
       "  </tbody>\n",
       "</table>\n",
       "</div>"
      ],
      "text/plain": [
       "           Red       Green        Blue     Name\n",
       "0    82.213236   86.101068   93.274235  01A.png\n",
       "1   185.965074  179.501219  151.516240  02A.png\n",
       "2   183.407890  166.772655  131.994160  03A.png\n",
       "3   139.278398  132.372221  116.203694  04A.png\n",
       "4   110.705144  106.453771  118.587240  05A.png\n",
       "5   165.232893  159.233708  157.334691  06A.png\n",
       "6   134.041293  127.915200  118.706369  07A.png\n",
       "7   182.872681  174.996053  150.858609  08A.png\n",
       "8   137.480941  139.508284  140.814020  09A.png\n",
       "9   154.124204  136.485442  111.335051  10A.png\n",
       "10  128.563671  133.381277  126.193745  11A.png\n",
       "11  127.125493  138.812688  142.637151  12A.png\n",
       "12  129.704077  134.196057  118.018719  13A.png\n",
       "13  131.832400  136.377412  131.999397  14A.png\n",
       "14   67.532021   79.921147   98.601595  15A.png\n",
       "15   87.941385   98.326505   84.624755  16A.png\n",
       "16  109.770425  122.889839   97.689814  17A.png\n",
       "17   86.521588  105.792463   86.617137  18A.png\n",
       "18   75.928490   93.110551   78.833122  19A.png\n",
       "19   71.047987   90.567111   75.149311  20A.png"
      ]
     },
     "execution_count": 137,
     "metadata": {},
     "output_type": "execute_result"
    }
   ],
   "source": [
    "dsub"
   ]
  },
  {
   "cell_type": "code",
   "execution_count": 138,
   "id": "dedc438b-eb8f-45ae-bb5f-db5e13a23115",
   "metadata": {},
   "outputs": [],
   "source": [
    "dsub = dsub.drop('Name', axis=1)"
   ]
  },
  {
   "cell_type": "code",
   "execution_count": 139,
   "id": "e6f84ba3-e8c1-4b82-ac69-f0ceb9819e64",
   "metadata": {},
   "outputs": [],
   "source": [
    "dsub.to_excel(\"dsub.xlsx\")  "
   ]
  },
  {
   "cell_type": "code",
   "execution_count": 140,
   "id": "53b86170-1999-4bd8-b1a3-7326549ba02d",
   "metadata": {},
   "outputs": [
    {
     "data": {
      "text/plain": [
       "(20, 3)"
      ]
     },
     "execution_count": 140,
     "metadata": {},
     "output_type": "execute_result"
    }
   ],
   "source": [
    "dsub.shape"
   ]
  },
  {
   "cell_type": "code",
   "execution_count": null,
   "id": "f620a48c-681e-4143-9dc4-468647daddb3",
   "metadata": {},
   "outputs": [],
   "source": []
  }
 ],
 "metadata": {
  "kernelspec": {
   "display_name": "Python 3 (ipykernel)",
   "language": "python",
   "name": "python3"
  },
  "language_info": {
   "codemirror_mode": {
    "name": "ipython",
    "version": 3
   },
   "file_extension": ".py",
   "mimetype": "text/x-python",
   "name": "python",
   "nbconvert_exporter": "python",
   "pygments_lexer": "ipython3",
   "version": "3.9.7"
  }
 },
 "nbformat": 4,
 "nbformat_minor": 5
}
