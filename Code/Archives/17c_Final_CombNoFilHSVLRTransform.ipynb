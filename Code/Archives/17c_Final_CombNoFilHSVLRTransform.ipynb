{
 "cells": [
  {
   "cell_type": "code",
   "execution_count": 1,
   "id": "c27177c2-5411-4608-af07-a39b2cd5c38c",
   "metadata": {},
   "outputs": [],
   "source": [
    "#! pip install Geopandas\n",
    "#!pip install --use-deprecated=legacy-resolver pycaret[full]\n",
    "#!pip install pycaret[full]"
   ]
  },
  {
   "cell_type": "code",
   "execution_count": 2,
   "id": "2325268a-8b83-48e4-b7e0-3f45de438042",
   "metadata": {},
   "outputs": [],
   "source": [
    "import numpy as np\n",
    "import pandas as pd\n",
    "import geopandas as gpd\n",
    "from pathlib import Path\n",
    "import os.path\n",
    "\n",
    "\n",
    "import seaborn as sns\n",
    "from scipy import stats\n",
    "\n",
    "\n",
    "# Data visualization\n",
    "import matplotlib as mpl\n",
    "import matplotlib.pyplot as plt\n",
    "\n",
    "from matplotlib.pyplot import *\n",
    "import imageio\n",
    "from skimage.io import imread\n",
    "\n",
    "from tqdm import tqdm\n",
    "\n",
    "import cv2   #For image processing\n",
    "\n",
    "import tensorflow as tf\n",
    "#All tensorflow utilities for creating, training and working with a CNN\n",
    "from tensorflow.keras.utils import to_categorical\n",
    "from tensorflow.keras.models import Sequential\n",
    "from tensorflow.keras.layers import Conv2D, MaxPool2D, BatchNormalization\n",
    "from tensorflow.keras.layers import Activation, Dropout, Flatten, Dense\n",
    "from tensorflow.keras.losses import categorical_crossentropy\n",
    "from tensorflow.keras.optimizers import Adam\n",
    "from tensorflow.keras.callbacks import ModelCheckpoint\n",
    "from tensorflow.keras.models import load_model\n",
    "\n",
    "\n",
    "import sklearn\n",
    "from sklearn.preprocessing import LabelEncoder    #For encoding categorical variables\n",
    "from sklearn.model_selection import train_test_split #For splitting of data\n",
    "from sklearn.metrics import r2_score\n",
    "from sklearn.metrics import mean_squared_error\n",
    "\n",
    "from sklearn.compose import ColumnTransformer\n",
    "from sklearn.preprocessing import OneHotEncoder\n",
    "from sklearn.linear_model import LinearRegression\n",
    "from sklearn.pipeline import Pipeline\n",
    "\n",
    "from skimage.io import imread, imshow\n",
    "from skimage.color import rgb2gray, rgb2hsv, rgba2rgb\n",
    "from skimage.morphology import area_opening\n",
    "from skimage.exposure import histogram\n",
    "from skimage.filters import threshold_otsu\n",
    "from skimage import io, color\n",
    "\n",
    "from pycaret.datasets import get_data\n",
    "from pycaret.regression import *"
   ]
  },
  {
   "cell_type": "code",
   "execution_count": 3,
   "id": "e3a1317e-bb38-4b37-975e-ded800d90dbd",
   "metadata": {},
   "outputs": [],
   "source": [
    "#set directory for csv files\n",
    "dir_name = r'C:\\Users\\vasan\\OneDrive\\EmissionsDatathon\\Zeroing Methane Emissions - Dataset'\n",
    "filename_suffix = 'xls'"
   ]
  },
  {
   "cell_type": "code",
   "execution_count": 4,
   "id": "52510ab3-dcaf-431c-b0f9-72e40d1baa64",
   "metadata": {},
   "outputs": [
    {
     "data": {
      "text/html": [
       "<div>\n",
       "<style scoped>\n",
       "    .dataframe tbody tr th:only-of-type {\n",
       "        vertical-align: middle;\n",
       "    }\n",
       "\n",
       "    .dataframe tbody tr th {\n",
       "        vertical-align: top;\n",
       "    }\n",
       "\n",
       "    .dataframe thead th {\n",
       "        text-align: right;\n",
       "    }\n",
       "</style>\n",
       "<table border=\"1\" class=\"dataframe\">\n",
       "  <thead>\n",
       "    <tr style=\"text-align: right;\">\n",
       "      <th></th>\n",
       "      <th>source_id</th>\n",
       "      <th>source_lat</th>\n",
       "      <th>source_lon</th>\n",
       "      <th>source_type_y</th>\n",
       "      <th>ipcc</th>\n",
       "      <th>number_overflights</th>\n",
       "      <th>source_persistence</th>\n",
       "      <th>confidence_in_persistence</th>\n",
       "      <th>qsource</th>\n",
       "      <th>sigma_qsource</th>\n",
       "      <th>Filepath</th>\n",
       "      <th>Name</th>\n",
       "      <th>candidate_id</th>\n",
       "      <th>plume_lat</th>\n",
       "      <th>plume_lon</th>\n",
       "      <th>date</th>\n",
       "      <th>qplume</th>\n",
       "      <th>sigma_qplume</th>\n",
       "      <th>Uncern</th>\n",
       "    </tr>\n",
       "  </thead>\n",
       "  <tbody>\n",
       "    <tr>\n",
       "      <th>0</th>\n",
       "      <td>P00001</td>\n",
       "      <td>32.212086</td>\n",
       "      <td>-103.697212</td>\n",
       "      <td>tank</td>\n",
       "      <td>1B2 Oil &amp; Natural Gas</td>\n",
       "      <td>12</td>\n",
       "      <td>0.833333</td>\n",
       "      <td>0.968324</td>\n",
       "      <td>865.48423</td>\n",
       "      <td>307.380288</td>\n",
       "      <td>C:\\Users\\vasan\\OneDrive\\EmissionsDatathon\\Data...</td>\n",
       "      <td>ang20190922t192642-2_r4578_c217-plume.png</td>\n",
       "      <td>ang20190922t192642-2</td>\n",
       "      <td>32.212063</td>\n",
       "      <td>-103.697076</td>\n",
       "      <td>2019-09-22</td>\n",
       "      <td>2579.528100</td>\n",
       "      <td>902.732655</td>\n",
       "      <td>133.151448</td>\n",
       "    </tr>\n",
       "    <tr>\n",
       "      <th>1</th>\n",
       "      <td>P00001</td>\n",
       "      <td>32.212086</td>\n",
       "      <td>-103.697212</td>\n",
       "      <td>tank</td>\n",
       "      <td>1B2 Oil &amp; Natural Gas</td>\n",
       "      <td>12</td>\n",
       "      <td>0.833333</td>\n",
       "      <td>0.968324</td>\n",
       "      <td>865.48423</td>\n",
       "      <td>307.380288</td>\n",
       "      <td>C:\\Users\\vasan\\OneDrive\\EmissionsDatathon\\Data...</td>\n",
       "      <td>ang20190923t163307-G_r4113_c198-plume.png</td>\n",
       "      <td>ang20190923t163307-G</td>\n",
       "      <td>32.212117</td>\n",
       "      <td>-103.697086</td>\n",
       "      <td>2019-09-23</td>\n",
       "      <td>934.430300</td>\n",
       "      <td>276.716131</td>\n",
       "      <td>736.942230</td>\n",
       "    </tr>\n",
       "    <tr>\n",
       "      <th>2</th>\n",
       "      <td>P00001</td>\n",
       "      <td>32.212086</td>\n",
       "      <td>-103.697212</td>\n",
       "      <td>tank</td>\n",
       "      <td>1B2 Oil &amp; Natural Gas</td>\n",
       "      <td>12</td>\n",
       "      <td>0.833333</td>\n",
       "      <td>0.968324</td>\n",
       "      <td>865.48423</td>\n",
       "      <td>307.380288</td>\n",
       "      <td>C:\\Users\\vasan\\OneDrive\\EmissionsDatathon\\Data...</td>\n",
       "      <td>ang20190926t223557-D_r4139_c225-plume.png</td>\n",
       "      <td>ang20190926t223557-D</td>\n",
       "      <td>32.212162</td>\n",
       "      <td>-103.696830</td>\n",
       "      <td>2019-09-26</td>\n",
       "      <td>443.098484</td>\n",
       "      <td>152.257940</td>\n",
       "      <td>110.191596</td>\n",
       "    </tr>\n",
       "    <tr>\n",
       "      <th>3</th>\n",
       "      <td>P00001</td>\n",
       "      <td>32.212086</td>\n",
       "      <td>-103.697212</td>\n",
       "      <td>tank</td>\n",
       "      <td>1B2 Oil &amp; Natural Gas</td>\n",
       "      <td>12</td>\n",
       "      <td>0.833333</td>\n",
       "      <td>0.968324</td>\n",
       "      <td>865.48423</td>\n",
       "      <td>307.380288</td>\n",
       "      <td>C:\\Users\\vasan\\OneDrive\\EmissionsDatathon\\Data...</td>\n",
       "      <td>ang20191006t150453-6_r4168_c237-plume.png</td>\n",
       "      <td>ang20191006t150453-6</td>\n",
       "      <td>32.212327</td>\n",
       "      <td>-103.697526</td>\n",
       "      <td>2019-10-06</td>\n",
       "      <td>1032.395030</td>\n",
       "      <td>606.623335</td>\n",
       "      <td>244.327697</td>\n",
       "    </tr>\n",
       "    <tr>\n",
       "      <th>4</th>\n",
       "      <td>P00001</td>\n",
       "      <td>32.212086</td>\n",
       "      <td>-103.697212</td>\n",
       "      <td>tank</td>\n",
       "      <td>1B2 Oil &amp; Natural Gas</td>\n",
       "      <td>12</td>\n",
       "      <td>0.833333</td>\n",
       "      <td>0.968324</td>\n",
       "      <td>865.48423</td>\n",
       "      <td>307.380288</td>\n",
       "      <td>C:\\Users\\vasan\\OneDrive\\EmissionsDatathon\\Data...</td>\n",
       "      <td>ang20191007t182352-2_r4062_c150-plume.png</td>\n",
       "      <td>ang20191007t182352-2</td>\n",
       "      <td>32.212253</td>\n",
       "      <td>-103.697253</td>\n",
       "      <td>2019-10-07</td>\n",
       "      <td>826.823256</td>\n",
       "      <td>226.851094</td>\n",
       "      <td>135.781536</td>\n",
       "    </tr>\n",
       "  </tbody>\n",
       "</table>\n",
       "</div>"
      ],
      "text/plain": [
       "  source_id  source_lat  source_lon source_type_y                   ipcc  \\\n",
       "0    P00001   32.212086 -103.697212          tank  1B2 Oil & Natural Gas   \n",
       "1    P00001   32.212086 -103.697212          tank  1B2 Oil & Natural Gas   \n",
       "2    P00001   32.212086 -103.697212          tank  1B2 Oil & Natural Gas   \n",
       "3    P00001   32.212086 -103.697212          tank  1B2 Oil & Natural Gas   \n",
       "4    P00001   32.212086 -103.697212          tank  1B2 Oil & Natural Gas   \n",
       "\n",
       "   number_overflights  source_persistence confidence_in_persistence  \\\n",
       "0                  12            0.833333                  0.968324   \n",
       "1                  12            0.833333                  0.968324   \n",
       "2                  12            0.833333                  0.968324   \n",
       "3                  12            0.833333                  0.968324   \n",
       "4                  12            0.833333                  0.968324   \n",
       "\n",
       "     qsource  sigma_qsource  \\\n",
       "0  865.48423     307.380288   \n",
       "1  865.48423     307.380288   \n",
       "2  865.48423     307.380288   \n",
       "3  865.48423     307.380288   \n",
       "4  865.48423     307.380288   \n",
       "\n",
       "                                            Filepath  \\\n",
       "0  C:\\Users\\vasan\\OneDrive\\EmissionsDatathon\\Data...   \n",
       "1  C:\\Users\\vasan\\OneDrive\\EmissionsDatathon\\Data...   \n",
       "2  C:\\Users\\vasan\\OneDrive\\EmissionsDatathon\\Data...   \n",
       "3  C:\\Users\\vasan\\OneDrive\\EmissionsDatathon\\Data...   \n",
       "4  C:\\Users\\vasan\\OneDrive\\EmissionsDatathon\\Data...   \n",
       "\n",
       "                                        Name          candidate_id  plume_lat  \\\n",
       "0  ang20190922t192642-2_r4578_c217-plume.png  ang20190922t192642-2  32.212063   \n",
       "1  ang20190923t163307-G_r4113_c198-plume.png  ang20190923t163307-G  32.212117   \n",
       "2  ang20190926t223557-D_r4139_c225-plume.png  ang20190926t223557-D  32.212162   \n",
       "3  ang20191006t150453-6_r4168_c237-plume.png  ang20191006t150453-6  32.212327   \n",
       "4  ang20191007t182352-2_r4062_c150-plume.png  ang20191007t182352-2  32.212253   \n",
       "\n",
       "    plume_lon        date       qplume  sigma_qplume      Uncern  \n",
       "0 -103.697076  2019-09-22  2579.528100    902.732655  133.151448  \n",
       "1 -103.697086  2019-09-23   934.430300    276.716131  736.942230  \n",
       "2 -103.696830  2019-09-26   443.098484    152.257940  110.191596  \n",
       "3 -103.697526  2019-10-06  1032.395030    606.623335  244.327697  \n",
       "4 -103.697253  2019-10-07   826.823256    226.851094  135.781536  "
      ]
     },
     "execution_count": 4,
     "metadata": {},
     "output_type": "execute_result"
    }
   ],
   "source": [
    "skiprows = 0\n",
    "#Means read in the ',' as thousand seperator. Also drops all columns which are unnamed.\n",
    "df = pd.read_excel(\"datamodel.xlsx\", thousands=',', skiprows = skiprows)\n",
    "df = df.loc[:, ~df.columns.str.contains('^Unnamed')] \n",
    "df.head()"
   ]
  },
  {
   "cell_type": "code",
   "execution_count": 5,
   "id": "5542815b-67b6-454f-8f89-e42d1d3260f4",
   "metadata": {},
   "outputs": [
    {
     "data": {
      "text/html": [
       "<div>\n",
       "<style scoped>\n",
       "    .dataframe tbody tr th:only-of-type {\n",
       "        vertical-align: middle;\n",
       "    }\n",
       "\n",
       "    .dataframe tbody tr th {\n",
       "        vertical-align: top;\n",
       "    }\n",
       "\n",
       "    .dataframe thead th {\n",
       "        text-align: right;\n",
       "    }\n",
       "</style>\n",
       "<table border=\"1\" class=\"dataframe\">\n",
       "  <thead>\n",
       "    <tr style=\"text-align: right;\">\n",
       "      <th></th>\n",
       "      <th>source_lat</th>\n",
       "      <th>source_lon</th>\n",
       "      <th>number_overflights</th>\n",
       "      <th>source_persistence</th>\n",
       "      <th>qsource</th>\n",
       "      <th>sigma_qsource</th>\n",
       "      <th>plume_lat</th>\n",
       "      <th>plume_lon</th>\n",
       "      <th>qplume</th>\n",
       "      <th>sigma_qplume</th>\n",
       "      <th>Uncern</th>\n",
       "    </tr>\n",
       "  </thead>\n",
       "  <tbody>\n",
       "    <tr>\n",
       "      <th>count</th>\n",
       "      <td>6062.000000</td>\n",
       "      <td>6062.000000</td>\n",
       "      <td>6062.000000</td>\n",
       "      <td>6062.000000</td>\n",
       "      <td>6062.000000</td>\n",
       "      <td>6062.000000</td>\n",
       "      <td>6062.000000</td>\n",
       "      <td>6062.000000</td>\n",
       "      <td>6062.000000</td>\n",
       "      <td>6062.000000</td>\n",
       "      <td>5990.000000</td>\n",
       "    </tr>\n",
       "    <tr>\n",
       "      <th>mean</th>\n",
       "      <td>33.062778</td>\n",
       "      <td>-104.179228</td>\n",
       "      <td>5.185087</td>\n",
       "      <td>0.551059</td>\n",
       "      <td>305.836566</td>\n",
       "      <td>100.361834</td>\n",
       "      <td>33.062778</td>\n",
       "      <td>-104.179227</td>\n",
       "      <td>559.042147</td>\n",
       "      <td>183.240800</td>\n",
       "      <td>71.067197</td>\n",
       "    </tr>\n",
       "    <tr>\n",
       "      <th>std</th>\n",
       "      <td>2.430492</td>\n",
       "      <td>7.096847</td>\n",
       "      <td>3.336843</td>\n",
       "      <td>0.315326</td>\n",
       "      <td>467.552992</td>\n",
       "      <td>155.206428</td>\n",
       "      <td>2.430492</td>\n",
       "      <td>7.096847</td>\n",
       "      <td>797.892685</td>\n",
       "      <td>269.671393</td>\n",
       "      <td>166.995204</td>\n",
       "    </tr>\n",
       "    <tr>\n",
       "      <th>min</th>\n",
       "      <td>25.857711</td>\n",
       "      <td>-122.412006</td>\n",
       "      <td>1.000000</td>\n",
       "      <td>0.071429</td>\n",
       "      <td>2.697304</td>\n",
       "      <td>0.625286</td>\n",
       "      <td>25.857300</td>\n",
       "      <td>-122.412006</td>\n",
       "      <td>8.091911</td>\n",
       "      <td>4.246207</td>\n",
       "      <td>0.450500</td>\n",
       "    </tr>\n",
       "    <tr>\n",
       "      <th>25%</th>\n",
       "      <td>31.822890</td>\n",
       "      <td>-104.097143</td>\n",
       "      <td>3.000000</td>\n",
       "      <td>0.285714</td>\n",
       "      <td>74.051119</td>\n",
       "      <td>24.749421</td>\n",
       "      <td>31.822863</td>\n",
       "      <td>-104.097101</td>\n",
       "      <td>166.331086</td>\n",
       "      <td>54.947155</td>\n",
       "      <td>22.537497</td>\n",
       "    </tr>\n",
       "    <tr>\n",
       "      <th>50%</th>\n",
       "      <td>32.066110</td>\n",
       "      <td>-103.737620</td>\n",
       "      <td>4.000000</td>\n",
       "      <td>0.500000</td>\n",
       "      <td>159.948436</td>\n",
       "      <td>54.200015</td>\n",
       "      <td>32.066123</td>\n",
       "      <td>-103.737790</td>\n",
       "      <td>307.209799</td>\n",
       "      <td>103.020765</td>\n",
       "      <td>36.563889</td>\n",
       "    </tr>\n",
       "    <tr>\n",
       "      <th>75%</th>\n",
       "      <td>32.558432</td>\n",
       "      <td>-103.032393</td>\n",
       "      <td>9.000000</td>\n",
       "      <td>0.857143</td>\n",
       "      <td>325.974110</td>\n",
       "      <td>110.156066</td>\n",
       "      <td>32.558554</td>\n",
       "      <td>-103.032501</td>\n",
       "      <td>615.901103</td>\n",
       "      <td>202.875586</td>\n",
       "      <td>59.994311</td>\n",
       "    </tr>\n",
       "    <tr>\n",
       "      <th>max</th>\n",
       "      <td>42.281528</td>\n",
       "      <td>-75.581762</td>\n",
       "      <td>14.000000</td>\n",
       "      <td>1.000000</td>\n",
       "      <td>5316.639288</td>\n",
       "      <td>2168.145498</td>\n",
       "      <td>42.281596</td>\n",
       "      <td>-75.581762</td>\n",
       "      <td>16811.280200</td>\n",
       "      <td>8519.241420</td>\n",
       "      <td>5363.490487</td>\n",
       "    </tr>\n",
       "  </tbody>\n",
       "</table>\n",
       "</div>"
      ],
      "text/plain": [
       "        source_lat   source_lon  number_overflights  source_persistence  \\\n",
       "count  6062.000000  6062.000000         6062.000000         6062.000000   \n",
       "mean     33.062778  -104.179228            5.185087            0.551059   \n",
       "std       2.430492     7.096847            3.336843            0.315326   \n",
       "min      25.857711  -122.412006            1.000000            0.071429   \n",
       "25%      31.822890  -104.097143            3.000000            0.285714   \n",
       "50%      32.066110  -103.737620            4.000000            0.500000   \n",
       "75%      32.558432  -103.032393            9.000000            0.857143   \n",
       "max      42.281528   -75.581762           14.000000            1.000000   \n",
       "\n",
       "           qsource  sigma_qsource    plume_lat    plume_lon        qplume  \\\n",
       "count  6062.000000    6062.000000  6062.000000  6062.000000   6062.000000   \n",
       "mean    305.836566     100.361834    33.062778  -104.179227    559.042147   \n",
       "std     467.552992     155.206428     2.430492     7.096847    797.892685   \n",
       "min       2.697304       0.625286    25.857300  -122.412006      8.091911   \n",
       "25%      74.051119      24.749421    31.822863  -104.097101    166.331086   \n",
       "50%     159.948436      54.200015    32.066123  -103.737790    307.209799   \n",
       "75%     325.974110     110.156066    32.558554  -103.032501    615.901103   \n",
       "max    5316.639288    2168.145498    42.281596   -75.581762  16811.280200   \n",
       "\n",
       "       sigma_qplume       Uncern  \n",
       "count   6062.000000  5990.000000  \n",
       "mean     183.240800    71.067197  \n",
       "std      269.671393   166.995204  \n",
       "min        4.246207     0.450500  \n",
       "25%       54.947155    22.537497  \n",
       "50%      103.020765    36.563889  \n",
       "75%      202.875586    59.994311  \n",
       "max     8519.241420  5363.490487  "
      ]
     },
     "execution_count": 5,
     "metadata": {},
     "output_type": "execute_result"
    }
   ],
   "source": [
    "df.describe()"
   ]
  },
  {
   "cell_type": "code",
   "execution_count": 6,
   "id": "8cf157cd-61b7-4052-8d39-7eef2dd6d0d3",
   "metadata": {},
   "outputs": [],
   "source": [
    "def image_processing(fil):\n",
    "    # Open image and import it as a numpy array\n",
    "    im2 = imread(fil)\n",
    "    im2_rgb = color.rgba2rgb(im2)\n",
    "    im2_hsv = rgb2hsv(im2_rgb)\n",
    "    \n",
    "    mask = im2_hsv[:,:,1] > 0.4\n",
    "    \n",
    "    red = im2[:,:,0]*mask\n",
    "    green = im2[:,:,1]*mask\n",
    "    blue = im2[:,:,2]*mask\n",
    "    \n",
    "    flat_red = red.flatten()\n",
    "    flat_green = green.flatten()\n",
    "    flat_blue = blue.flatten()\n",
    "    \n",
    "    nonzero_red = flat_red[flat_red != 0]\n",
    "    nonzero_green = flat_green[flat_green != 0]\n",
    "    nonzero_blue = flat_blue[flat_blue != 0]\n",
    "    \n",
    "    meanr = np.mean(nonzero_red)\n",
    "    meang = np.mean(nonzero_green)\n",
    "    meanb = np.mean(nonzero_blue)\n",
    "    \n",
    "    filename = fil.split(\"/\")[-1]\n",
    "    \n",
    "    return (meanr, meang, meanb)"
   ]
  },
  {
   "cell_type": "code",
   "execution_count": 7,
   "id": "3ef0af95-cf5a-4946-9291-fb857483a189",
   "metadata": {},
   "outputs": [],
   "source": [
    "meanr_list = []\n",
    "meang_list = []\n",
    "meanb_list = []\n",
    "name_list = []\n",
    "qplume = []"
   ]
  },
  {
   "cell_type": "code",
   "execution_count": 8,
   "id": "aa0d816b-65c2-47e6-930e-4578d70fe304",
   "metadata": {},
   "outputs": [
    {
     "name": "stderr",
     "output_type": "stream",
     "text": [
      "100%|██████████| 6062/6062 [01:52<00:00, 54.00it/s]\n"
     ]
    }
   ],
   "source": [
    "for file in tqdm(df['Filepath'].tolist()[:]):\n",
    "    meanr, meang, meanb = image_processing(file)\n",
    "    meanr_list.append(meanr)\n",
    "    meang_list.append(meang)\n",
    "    meanb_list.append(meanb)\n",
    "    name_list.append(os.path.basename(file))  # add filename to list"
   ]
  },
  {
   "cell_type": "code",
   "execution_count": 9,
   "id": "8aadbb87-fee0-45a9-b70e-d332aa738fc8",
   "metadata": {},
   "outputs": [],
   "source": [
    "dfeat = pd.DataFrame({'Red': meanr_list, 'Green': meang_list, 'Blue': meanb_list, 'Name': name_list})"
   ]
  },
  {
   "cell_type": "code",
   "execution_count": 10,
   "id": "23b3b08f-672c-4d64-8d35-f5b8b995f126",
   "metadata": {},
   "outputs": [
    {
     "data": {
      "text/html": [
       "<div>\n",
       "<style scoped>\n",
       "    .dataframe tbody tr th:only-of-type {\n",
       "        vertical-align: middle;\n",
       "    }\n",
       "\n",
       "    .dataframe tbody tr th {\n",
       "        vertical-align: top;\n",
       "    }\n",
       "\n",
       "    .dataframe thead th {\n",
       "        text-align: right;\n",
       "    }\n",
       "</style>\n",
       "<table border=\"1\" class=\"dataframe\">\n",
       "  <thead>\n",
       "    <tr style=\"text-align: right;\">\n",
       "      <th></th>\n",
       "      <th>Red</th>\n",
       "      <th>Green</th>\n",
       "      <th>Blue</th>\n",
       "      <th>Name</th>\n",
       "    </tr>\n",
       "  </thead>\n",
       "  <tbody>\n",
       "    <tr>\n",
       "      <th>0</th>\n",
       "      <td>181.358816</td>\n",
       "      <td>47.365528</td>\n",
       "      <td>58.732138</td>\n",
       "      <td>ang20190922t192642-2_r4578_c217-plume.png</td>\n",
       "    </tr>\n",
       "    <tr>\n",
       "      <th>1</th>\n",
       "      <td>163.016873</td>\n",
       "      <td>116.526079</td>\n",
       "      <td>86.684041</td>\n",
       "      <td>ang20190923t163307-G_r4113_c198-plume.png</td>\n",
       "    </tr>\n",
       "    <tr>\n",
       "      <th>2</th>\n",
       "      <td>148.860910</td>\n",
       "      <td>65.633528</td>\n",
       "      <td>55.371571</td>\n",
       "      <td>ang20190926t223557-D_r4139_c225-plume.png</td>\n",
       "    </tr>\n",
       "    <tr>\n",
       "      <th>3</th>\n",
       "      <td>195.260858</td>\n",
       "      <td>106.511460</td>\n",
       "      <td>97.770766</td>\n",
       "      <td>ang20191006t150453-6_r4168_c237-plume.png</td>\n",
       "    </tr>\n",
       "    <tr>\n",
       "      <th>4</th>\n",
       "      <td>175.007143</td>\n",
       "      <td>133.739831</td>\n",
       "      <td>96.091491</td>\n",
       "      <td>ang20191007t182352-2_r4062_c150-plume.png</td>\n",
       "    </tr>\n",
       "  </tbody>\n",
       "</table>\n",
       "</div>"
      ],
      "text/plain": [
       "          Red       Green       Blue  \\\n",
       "0  181.358816   47.365528  58.732138   \n",
       "1  163.016873  116.526079  86.684041   \n",
       "2  148.860910   65.633528  55.371571   \n",
       "3  195.260858  106.511460  97.770766   \n",
       "4  175.007143  133.739831  96.091491   \n",
       "\n",
       "                                        Name  \n",
       "0  ang20190922t192642-2_r4578_c217-plume.png  \n",
       "1  ang20190923t163307-G_r4113_c198-plume.png  \n",
       "2  ang20190926t223557-D_r4139_c225-plume.png  \n",
       "3  ang20191006t150453-6_r4168_c237-plume.png  \n",
       "4  ang20191007t182352-2_r4062_c150-plume.png  "
      ]
     },
     "execution_count": 10,
     "metadata": {},
     "output_type": "execute_result"
    }
   ],
   "source": [
    "dfeat.head()"
   ]
  },
  {
   "cell_type": "code",
   "execution_count": 11,
   "id": "6a46b3ba-c805-4a4f-a232-e339ff8472d6",
   "metadata": {},
   "outputs": [],
   "source": [
    "dfeat3 = pd.merge(dfeat, df[['qplume', 'Name']], on='Name')"
   ]
  },
  {
   "cell_type": "code",
   "execution_count": 12,
   "id": "a3407b8b-1803-42c9-b2b6-3ae30b3d29b8",
   "metadata": {},
   "outputs": [
    {
     "data": {
      "text/html": [
       "<div>\n",
       "<style scoped>\n",
       "    .dataframe tbody tr th:only-of-type {\n",
       "        vertical-align: middle;\n",
       "    }\n",
       "\n",
       "    .dataframe tbody tr th {\n",
       "        vertical-align: top;\n",
       "    }\n",
       "\n",
       "    .dataframe thead th {\n",
       "        text-align: right;\n",
       "    }\n",
       "</style>\n",
       "<table border=\"1\" class=\"dataframe\">\n",
       "  <thead>\n",
       "    <tr style=\"text-align: right;\">\n",
       "      <th></th>\n",
       "      <th>Red</th>\n",
       "      <th>Green</th>\n",
       "      <th>Blue</th>\n",
       "      <th>Name</th>\n",
       "      <th>qplume</th>\n",
       "    </tr>\n",
       "  </thead>\n",
       "  <tbody>\n",
       "    <tr>\n",
       "      <th>0</th>\n",
       "      <td>181.358816</td>\n",
       "      <td>47.365528</td>\n",
       "      <td>58.732138</td>\n",
       "      <td>ang20190922t192642-2_r4578_c217-plume.png</td>\n",
       "      <td>2579.528100</td>\n",
       "    </tr>\n",
       "    <tr>\n",
       "      <th>1</th>\n",
       "      <td>163.016873</td>\n",
       "      <td>116.526079</td>\n",
       "      <td>86.684041</td>\n",
       "      <td>ang20190923t163307-G_r4113_c198-plume.png</td>\n",
       "      <td>934.430300</td>\n",
       "    </tr>\n",
       "    <tr>\n",
       "      <th>2</th>\n",
       "      <td>148.860910</td>\n",
       "      <td>65.633528</td>\n",
       "      <td>55.371571</td>\n",
       "      <td>ang20190926t223557-D_r4139_c225-plume.png</td>\n",
       "      <td>443.098484</td>\n",
       "    </tr>\n",
       "    <tr>\n",
       "      <th>3</th>\n",
       "      <td>195.260858</td>\n",
       "      <td>106.511460</td>\n",
       "      <td>97.770766</td>\n",
       "      <td>ang20191006t150453-6_r4168_c237-plume.png</td>\n",
       "      <td>1032.395030</td>\n",
       "    </tr>\n",
       "    <tr>\n",
       "      <th>4</th>\n",
       "      <td>175.007143</td>\n",
       "      <td>133.739831</td>\n",
       "      <td>96.091491</td>\n",
       "      <td>ang20191007t182352-2_r4062_c150-plume.png</td>\n",
       "      <td>826.823256</td>\n",
       "    </tr>\n",
       "  </tbody>\n",
       "</table>\n",
       "</div>"
      ],
      "text/plain": [
       "          Red       Green       Blue  \\\n",
       "0  181.358816   47.365528  58.732138   \n",
       "1  163.016873  116.526079  86.684041   \n",
       "2  148.860910   65.633528  55.371571   \n",
       "3  195.260858  106.511460  97.770766   \n",
       "4  175.007143  133.739831  96.091491   \n",
       "\n",
       "                                        Name       qplume  \n",
       "0  ang20190922t192642-2_r4578_c217-plume.png  2579.528100  \n",
       "1  ang20190923t163307-G_r4113_c198-plume.png   934.430300  \n",
       "2  ang20190926t223557-D_r4139_c225-plume.png   443.098484  \n",
       "3  ang20191006t150453-6_r4168_c237-plume.png  1032.395030  \n",
       "4  ang20191007t182352-2_r4062_c150-plume.png   826.823256  "
      ]
     },
     "execution_count": 12,
     "metadata": {},
     "output_type": "execute_result"
    }
   ],
   "source": [
    "dfeat3.head()"
   ]
  },
  {
   "cell_type": "code",
   "execution_count": 13,
   "id": "ca5e6166-eee9-48bf-9c8d-e24648dd338b",
   "metadata": {},
   "outputs": [
    {
     "data": {
      "text/plain": [
       "Red         2\n",
       "Green      10\n",
       "Blue      365\n",
       "Name        0\n",
       "qplume      0\n",
       "dtype: int64"
      ]
     },
     "execution_count": 13,
     "metadata": {},
     "output_type": "execute_result"
    }
   ],
   "source": [
    "dfeat3.isna().sum()"
   ]
  },
  {
   "cell_type": "code",
   "execution_count": 14,
   "id": "20dce1a6-cc6e-4d67-b2ae-a96d881ba3ea",
   "metadata": {},
   "outputs": [],
   "source": [
    "dfeat3 = dfeat3.dropna()"
   ]
  },
  {
   "cell_type": "code",
   "execution_count": 15,
   "id": "092914b3-9907-468f-8495-075b796dc746",
   "metadata": {},
   "outputs": [
    {
     "data": {
      "text/plain": [
       "(5697, 5)"
      ]
     },
     "execution_count": 15,
     "metadata": {},
     "output_type": "execute_result"
    }
   ],
   "source": [
    "dfeat3.shape"
   ]
  },
  {
   "cell_type": "code",
   "execution_count": 16,
   "id": "33bf7987-8c8d-4e86-af85-d1c9dd05e396",
   "metadata": {},
   "outputs": [
    {
     "data": {
      "image/png": "[encoded data removed]",
      "text/plain": [
       "<Figure size 1080x1080 with 2 Axes>"
      ]
     },
     "metadata": {
      "needs_background": "light"
     },
     "output_type": "display_data"
    }
   ],
   "source": [
    "plt.figure(figsize=(15, 15))\n",
    "ax = sns.heatmap(dfeat3.corr(), annot=True, fmt=\".2f\")"
   ]
  },
  {
   "cell_type": "code",
   "execution_count": 17,
   "id": "2eb321ed-0212-495f-8d15-1f6368cb04ab",
   "metadata": {},
   "outputs": [
    {
     "data": {
      "text/plain": [
       "(5697, 5)"
      ]
     },
     "execution_count": 17,
     "metadata": {},
     "output_type": "execute_result"
    }
   ],
   "source": [
    "dfeat3.shape"
   ]
  },
  {
   "cell_type": "code",
   "execution_count": 18,
   "id": "9078d842-d889-4e5b-8b99-6e4f87ebcd41",
   "metadata": {},
   "outputs": [],
   "source": [
    "dfeat3 = dfeat3.drop('Name', axis=1)"
   ]
  },
  {
   "cell_type": "code",
   "execution_count": 19,
   "id": "ddb2d281-9839-48ed-beb9-6cd247ebc0c4",
   "metadata": {},
   "outputs": [
    {
     "data": {
      "text/html": [
       "<div>\n",
       "<style scoped>\n",
       "    .dataframe tbody tr th:only-of-type {\n",
       "        vertical-align: middle;\n",
       "    }\n",
       "\n",
       "    .dataframe tbody tr th {\n",
       "        vertical-align: top;\n",
       "    }\n",
       "\n",
       "    .dataframe thead th {\n",
       "        text-align: right;\n",
       "    }\n",
       "</style>\n",
       "<table border=\"1\" class=\"dataframe\">\n",
       "  <thead>\n",
       "    <tr style=\"text-align: right;\">\n",
       "      <th></th>\n",
       "      <th>Red</th>\n",
       "      <th>Green</th>\n",
       "      <th>Blue</th>\n",
       "      <th>qplume</th>\n",
       "    </tr>\n",
       "  </thead>\n",
       "  <tbody>\n",
       "    <tr>\n",
       "      <th>0</th>\n",
       "      <td>181.358816</td>\n",
       "      <td>47.365528</td>\n",
       "      <td>58.732138</td>\n",
       "      <td>2579.528100</td>\n",
       "    </tr>\n",
       "    <tr>\n",
       "      <th>1</th>\n",
       "      <td>163.016873</td>\n",
       "      <td>116.526079</td>\n",
       "      <td>86.684041</td>\n",
       "      <td>934.430300</td>\n",
       "    </tr>\n",
       "    <tr>\n",
       "      <th>2</th>\n",
       "      <td>148.860910</td>\n",
       "      <td>65.633528</td>\n",
       "      <td>55.371571</td>\n",
       "      <td>443.098484</td>\n",
       "    </tr>\n",
       "    <tr>\n",
       "      <th>3</th>\n",
       "      <td>195.260858</td>\n",
       "      <td>106.511460</td>\n",
       "      <td>97.770766</td>\n",
       "      <td>1032.395030</td>\n",
       "    </tr>\n",
       "    <tr>\n",
       "      <th>4</th>\n",
       "      <td>175.007143</td>\n",
       "      <td>133.739831</td>\n",
       "      <td>96.091491</td>\n",
       "      <td>826.823256</td>\n",
       "    </tr>\n",
       "  </tbody>\n",
       "</table>\n",
       "</div>"
      ],
      "text/plain": [
       "          Red       Green       Blue       qplume\n",
       "0  181.358816   47.365528  58.732138  2579.528100\n",
       "1  163.016873  116.526079  86.684041   934.430300\n",
       "2  148.860910   65.633528  55.371571   443.098484\n",
       "3  195.260858  106.511460  97.770766  1032.395030\n",
       "4  175.007143  133.739831  96.091491   826.823256"
      ]
     },
     "execution_count": 19,
     "metadata": {},
     "output_type": "execute_result"
    }
   ],
   "source": [
    "dfeat3.head()"
   ]
  },
  {
   "cell_type": "code",
   "execution_count": 21,
   "id": "1d10f95f-277f-40ad-b417-63e3e210efb8",
   "metadata": {},
   "outputs": [
    {
     "name": "stdout",
     "output_type": "stream",
     "text": [
      "count     5697.000000\n",
      "mean       580.827147\n",
      "std        816.435878\n",
      "min          8.091911\n",
      "25%        174.692302\n",
      "50%        320.523905\n",
      "75%        642.015701\n",
      "max      16811.280200\n",
      "Name: qplume, dtype: float64\n"
     ]
    },
    {
     "data": {
      "image/png": "[encoded data removed]",
      "text/plain": [
       "<Figure size 864x288 with 2 Axes>"
      ]
     },
     "metadata": {
      "needs_background": "light"
     },
     "output_type": "display_data"
    }
   ],
   "source": [
    "print(dfeat3.qplume.describe())\n",
    "\n",
    "plt.figure(figsize=(12,4))\n",
    "plt.subplot(1,2,1)\n",
    "sns.distplot(dfeat3.qplume.dropna() , fit=stats.norm);\n",
    "plt.subplot(1,2,2)\n",
    "_=stats.probplot(dfeat3.qplume.dropna(), plot=plt)"
   ]
  },
  {
   "cell_type": "code",
   "execution_count": 25,
   "id": "aa18a4d5-9554-4c26-88ad-b4064dcd2dab",
   "metadata": {},
   "outputs": [
    {
     "name": "stdout",
     "output_type": "stream",
     "text": [
      "count    5697.000000\n",
      "mean      169.035126\n",
      "std        38.210885\n",
      "min         1.450000\n",
      "25%       155.384897\n",
      "50%       180.074633\n",
      "75%       194.595638\n",
      "max       248.707987\n",
      "Name: Red, dtype: float64\n"
     ]
    },
    {
     "data": {
      "image/png": "[encoded data removed]",
      "text/plain": [
       "<Figure size 864x288 with 2 Axes>"
      ]
     },
     "metadata": {
      "needs_background": "light"
     },
     "output_type": "display_data"
    }
   ],
   "source": [
    "print(dfeat3.Red.describe())\n",
    "\n",
    "plt.figure(figsize=(12,4))\n",
    "plt.subplot(1,2,1)\n",
    "sns.distplot(dfeat3.Red.dropna() , fit=stats.norm);\n",
    "plt.subplot(1,2,2)\n",
    "_=stats.probplot(dfeat3.Red.dropna(), plot=plt)"
   ]
  },
  {
   "cell_type": "code",
   "execution_count": 26,
   "id": "abc62424-0616-4fb8-a2bb-6aef718100b9",
   "metadata": {},
   "outputs": [
    {
     "name": "stdout",
     "output_type": "stream",
     "text": [
      "count    5697.000000\n",
      "mean       74.662838\n",
      "std        47.373625\n",
      "min         1.409091\n",
      "25%        36.255287\n",
      "50%        66.261205\n",
      "75%       110.606061\n",
      "max       255.000000\n",
      "Name: Green, dtype: float64\n"
     ]
    },
    {
     "data": {
      "image/png": "[encoded data removed]",
      "text/plain": [
       "<Figure size 864x288 with 2 Axes>"
      ]
     },
     "metadata": {
      "needs_background": "light"
     },
     "output_type": "display_data"
    }
   ],
   "source": [
    "print(dfeat3.Green.describe())\n",
    "\n",
    "plt.figure(figsize=(12,4))\n",
    "plt.subplot(1,2,1)\n",
    "sns.distplot(dfeat3.Green.dropna() , fit=stats.norm);\n",
    "plt.subplot(1,2,2)\n",
    "_=stats.probplot(dfeat3.Green.dropna(), plot=plt)"
   ]
  },
  {
   "cell_type": "code",
   "execution_count": 27,
   "id": "0a1a7896-b814-4b18-a906-8a7fe22bdc4b",
   "metadata": {},
   "outputs": [
    {
     "name": "stdout",
     "output_type": "stream",
     "text": [
      "count    5697.000000\n",
      "mean       66.803252\n",
      "std        30.043093\n",
      "min         1.000000\n",
      "25%        48.115942\n",
      "50%        66.380952\n",
      "75%        86.196429\n",
      "max       213.000000\n",
      "Name: Blue, dtype: float64\n"
     ]
    },
    {
     "data": {
      "image/png": "[encoded data removed]",
      "text/plain": [
       "<Figure size 864x288 with 2 Axes>"
      ]
     },
     "metadata": {
      "needs_background": "light"
     },
     "output_type": "display_data"
    }
   ],
   "source": [
    "print(dfeat3.Blue.describe())\n",
    "\n",
    "plt.figure(figsize=(12,4))\n",
    "plt.subplot(1,2,1)\n",
    "sns.distplot(dfeat3.Blue.dropna() , fit=stats.norm);\n",
    "plt.subplot(1,2,2)\n",
    "_=stats.probplot(dfeat3.Blue.dropna(), plot=plt)"
   ]
  },
  {
   "cell_type": "code",
   "execution_count": 28,
   "id": "a968260b-9179-42c7-91b8-c3547f2e9ab0",
   "metadata": {},
   "outputs": [],
   "source": [
    "dfeat3['log_qplume'] = np.log(dfeat3['qplume'])"
   ]
  },
  {
   "cell_type": "code",
   "execution_count": 29,
   "id": "73705b95-4af1-470b-a839-505e15139db8",
   "metadata": {},
   "outputs": [
    {
     "name": "stdout",
     "output_type": "stream",
     "text": [
      "count    5697.000000\n",
      "mean        5.836666\n",
      "std         0.994061\n",
      "min         2.090865\n",
      "25%         5.163026\n",
      "50%         5.769957\n",
      "75%         6.464613\n",
      "max         9.729805\n",
      "Name: log_qplume, dtype: float64\n"
     ]
    },
    {
     "data": {
      "image/png": "[encoded data removed]",
      "text/plain": [
       "<Figure size 864x288 with 2 Axes>"
      ]
     },
     "metadata": {
      "needs_background": "light"
     },
     "output_type": "display_data"
    }
   ],
   "source": [
    "print(dfeat3.log_qplume.describe())\n",
    "\n",
    "plt.figure(figsize=(12,4))\n",
    "plt.subplot(1,2,1)\n",
    "sns.distplot(dfeat3.log_qplume.dropna() , fit=stats.norm);\n",
    "plt.subplot(1,2,2)\n",
    "_=stats.probplot(dfeat3.log_qplume.dropna(), plot=plt)"
   ]
  },
  {
   "cell_type": "code",
   "execution_count": 31,
   "id": "0c5142bc-73bb-4736-90bf-7768c9520234",
   "metadata": {},
   "outputs": [],
   "source": [
    "#dfeat3.to_excel(\"dfeat3all.xlsx\")  "
   ]
  },
  {
   "cell_type": "code",
   "execution_count": 46,
   "id": "2d8fcd79-ce24-492c-8310-c201f15e2b19",
   "metadata": {},
   "outputs": [],
   "source": [
    "dfeat3 = dfeat3.drop('qplume', axis=1)"
   ]
  },
  {
   "cell_type": "code",
   "execution_count": 47,
   "id": "3223ac8a-1c23-438d-aa69-9a608d08e325",
   "metadata": {},
   "outputs": [
    {
     "name": "stdout",
     "output_type": "stream",
     "text": [
      "(4565, 4)\n",
      "(1132, 4)\n"
     ]
    }
   ],
   "source": [
    "# Creates a mask where values that are true go into the training/test set\n",
    "# Note that I done it so that the random number is predictable\n",
    "\n",
    "msk = np.random.seed(0)\n",
    "msk = np.random.rand(len(dfeat3))<0.8\n",
    "\n",
    "dftrain = dfeat3[msk]\n",
    "dftest = dfeat3[~msk]\n",
    "\n",
    "print(dftrain.shape)\n",
    "print(dftest.shape)"
   ]
  },
  {
   "cell_type": "code",
   "execution_count": 48,
   "id": "3960a0a3-c319-42ed-8069-b22c45cc60d1",
   "metadata": {},
   "outputs": [
    {
     "data": {
      "text/html": [
       "<div>\n",
       "<style scoped>\n",
       "    .dataframe tbody tr th:only-of-type {\n",
       "        vertical-align: middle;\n",
       "    }\n",
       "\n",
       "    .dataframe tbody tr th {\n",
       "        vertical-align: top;\n",
       "    }\n",
       "\n",
       "    .dataframe thead th {\n",
       "        text-align: right;\n",
       "    }\n",
       "</style>\n",
       "<table border=\"1\" class=\"dataframe\">\n",
       "  <thead>\n",
       "    <tr style=\"text-align: right;\">\n",
       "      <th></th>\n",
       "      <th>Red</th>\n",
       "      <th>Green</th>\n",
       "      <th>Blue</th>\n",
       "      <th>log_qplume</th>\n",
       "    </tr>\n",
       "  </thead>\n",
       "  <tbody>\n",
       "    <tr>\n",
       "      <th>0</th>\n",
       "      <td>181.358816</td>\n",
       "      <td>47.365528</td>\n",
       "      <td>58.732138</td>\n",
       "      <td>7.855362</td>\n",
       "    </tr>\n",
       "    <tr>\n",
       "      <th>1</th>\n",
       "      <td>163.016873</td>\n",
       "      <td>116.526079</td>\n",
       "      <td>86.684041</td>\n",
       "      <td>6.839937</td>\n",
       "    </tr>\n",
       "    <tr>\n",
       "      <th>2</th>\n",
       "      <td>148.860910</td>\n",
       "      <td>65.633528</td>\n",
       "      <td>55.371571</td>\n",
       "      <td>6.093792</td>\n",
       "    </tr>\n",
       "    <tr>\n",
       "      <th>3</th>\n",
       "      <td>195.260858</td>\n",
       "      <td>106.511460</td>\n",
       "      <td>97.770766</td>\n",
       "      <td>6.939637</td>\n",
       "    </tr>\n",
       "    <tr>\n",
       "      <th>4</th>\n",
       "      <td>175.007143</td>\n",
       "      <td>133.739831</td>\n",
       "      <td>96.091491</td>\n",
       "      <td>6.717591</td>\n",
       "    </tr>\n",
       "    <tr>\n",
       "      <th>...</th>\n",
       "      <td>...</td>\n",
       "      <td>...</td>\n",
       "      <td>...</td>\n",
       "      <td>...</td>\n",
       "    </tr>\n",
       "    <tr>\n",
       "      <th>6056</th>\n",
       "      <td>189.310385</td>\n",
       "      <td>14.383008</td>\n",
       "      <td>64.230769</td>\n",
       "      <td>5.875203</td>\n",
       "    </tr>\n",
       "    <tr>\n",
       "      <th>6057</th>\n",
       "      <td>181.612364</td>\n",
       "      <td>58.960765</td>\n",
       "      <td>98.103226</td>\n",
       "      <td>7.348044</td>\n",
       "    </tr>\n",
       "    <tr>\n",
       "      <th>6058</th>\n",
       "      <td>185.030525</td>\n",
       "      <td>76.448276</td>\n",
       "      <td>95.907407</td>\n",
       "      <td>6.461527</td>\n",
       "    </tr>\n",
       "    <tr>\n",
       "      <th>6059</th>\n",
       "      <td>84.151522</td>\n",
       "      <td>45.405511</td>\n",
       "      <td>48.114750</td>\n",
       "      <td>6.083160</td>\n",
       "    </tr>\n",
       "    <tr>\n",
       "      <th>6061</th>\n",
       "      <td>131.452551</td>\n",
       "      <td>49.090533</td>\n",
       "      <td>47.350316</td>\n",
       "      <td>6.164102</td>\n",
       "    </tr>\n",
       "  </tbody>\n",
       "</table>\n",
       "<p>4565 rows × 4 columns</p>\n",
       "</div>"
      ],
      "text/plain": [
       "             Red       Green       Blue  log_qplume\n",
       "0     181.358816   47.365528  58.732138    7.855362\n",
       "1     163.016873  116.526079  86.684041    6.839937\n",
       "2     148.860910   65.633528  55.371571    6.093792\n",
       "3     195.260858  106.511460  97.770766    6.939637\n",
       "4     175.007143  133.739831  96.091491    6.717591\n",
       "...          ...         ...        ...         ...\n",
       "6056  189.310385   14.383008  64.230769    5.875203\n",
       "6057  181.612364   58.960765  98.103226    7.348044\n",
       "6058  185.030525   76.448276  95.907407    6.461527\n",
       "6059   84.151522   45.405511  48.114750    6.083160\n",
       "6061  131.452551   49.090533  47.350316    6.164102\n",
       "\n",
       "[4565 rows x 4 columns]"
      ]
     },
     "execution_count": 48,
     "metadata": {},
     "output_type": "execute_result"
    }
   ],
   "source": [
    "dftrain"
   ]
  },
  {
   "cell_type": "code",
   "execution_count": null,
   "id": "bfc3fe13-1c8f-4aee-ae5f-3fb2eb6318f3",
   "metadata": {},
   "outputs": [],
   "source": []
  },
  {
   "cell_type": "code",
   "execution_count": 49,
   "id": "2b30eed5-36d9-4eaa-8156-d4538b70f99d",
   "metadata": {},
   "outputs": [],
   "source": [
    "target_columns = [\n",
    "    \"log_qplume\"\n",
    "]\n",
    "\n",
    "y_train = dftrain[target_columns]\n",
    "X_train = dftrain.drop(columns=target_columns)"
   ]
  },
  {
   "cell_type": "code",
   "execution_count": 50,
   "id": "f8aae9d1-ce57-471b-b18b-86d134c4c064",
   "metadata": {},
   "outputs": [
    {
     "data": {
      "text/html": [
       "<style>#sk-container-id-2 {color: black;background-color: white;}#sk-container-id-2 pre{padding: 0;}#sk-container-id-2 div.sk-toggleable {background-color: white;}#sk-container-id-2 label.sk-toggleable__label {cursor: pointer;display: block;width: 100%;margin-bottom: 0;padding: 0.3em;box-sizing: border-box;text-align: center;}#sk-container-id-2 label.sk-toggleable__label-arrow:before {content: \"▸\";float: left;margin-right: 0.25em;color: #696969;}#sk-container-id-2 label.sk-toggleable__label-arrow:hover:before {color: black;}#sk-container-id-2 div.sk-estimator:hover label.sk-toggleable__label-arrow:before {color: black;}#sk-container-id-2 div.sk-toggleable__content {max-height: 0;max-width: 0;overflow: hidden;text-align: left;background-color: #f0f8ff;}#sk-container-id-2 div.sk-toggleable__content pre {margin: 0.2em;color: black;border-radius: 0.25em;background-color: #f0f8ff;}#sk-container-id-2 input.sk-toggleable__control:checked~div.sk-toggleable__content {max-height: 200px;max-width: 100%;overflow: auto;}#sk-container-id-2 input.sk-toggleable__control:checked~label.sk-toggleable__label-arrow:before {content: \"▾\";}#sk-container-id-2 div.sk-estimator input.sk-toggleable__control:checked~label.sk-toggleable__label {background-color: #d4ebff;}#sk-container-id-2 div.sk-label input.sk-toggleable__control:checked~label.sk-toggleable__label {background-color: #d4ebff;}#sk-container-id-2 input.sk-hidden--visually {border: 0;clip: rect(1px 1px 1px 1px);clip: rect(1px, 1px, 1px, 1px);height: 1px;margin: -1px;overflow: hidden;padding: 0;position: absolute;width: 1px;}#sk-container-id-2 div.sk-estimator {font-family: monospace;background-color: #f0f8ff;border: 1px dotted black;border-radius: 0.25em;box-sizing: border-box;margin-bottom: 0.5em;}#sk-container-id-2 div.sk-estimator:hover {background-color: #d4ebff;}#sk-container-id-2 div.sk-parallel-item::after {content: \"\";width: 100%;border-bottom: 1px solid gray;flex-grow: 1;}#sk-container-id-2 div.sk-label:hover label.sk-toggleable__label {background-color: #d4ebff;}#sk-container-id-2 div.sk-serial::before {content: \"\";position: absolute;border-left: 1px solid gray;box-sizing: border-box;top: 0;bottom: 0;left: 50%;z-index: 0;}#sk-container-id-2 div.sk-serial {display: flex;flex-direction: column;align-items: center;background-color: white;padding-right: 0.2em;padding-left: 0.2em;position: relative;}#sk-container-id-2 div.sk-item {position: relative;z-index: 1;}#sk-container-id-2 div.sk-parallel {display: flex;align-items: stretch;justify-content: center;background-color: white;position: relative;}#sk-container-id-2 div.sk-item::before, #sk-container-id-2 div.sk-parallel-item::before {content: \"\";position: absolute;border-left: 1px solid gray;box-sizing: border-box;top: 0;bottom: 0;left: 50%;z-index: -1;}#sk-container-id-2 div.sk-parallel-item {display: flex;flex-direction: column;z-index: 1;position: relative;background-color: white;}#sk-container-id-2 div.sk-parallel-item:first-child::after {align-self: flex-end;width: 50%;}#sk-container-id-2 div.sk-parallel-item:last-child::after {align-self: flex-start;width: 50%;}#sk-container-id-2 div.sk-parallel-item:only-child::after {width: 0;}#sk-container-id-2 div.sk-dashed-wrapped {border: 1px dashed gray;margin: 0 0.4em 0.5em 0.4em;box-sizing: border-box;padding-bottom: 0.4em;background-color: white;}#sk-container-id-2 div.sk-label label {font-family: monospace;font-weight: bold;display: inline-block;line-height: 1.2em;}#sk-container-id-2 div.sk-label-container {text-align: center;}#sk-container-id-2 div.sk-container {/* jupyter's `normalize.less` sets `[hidden] { display: none; }` but bootstrap.min.css set `[hidden] { display: none !important; }` so we also need the `!important` here to be able to override the default hidden behavior on the sphinx rendered scikit-learn.org. See: https://github.com/scikit-learn/scikit-learn/issues/21755 */display: inline-block !important;position: relative;}#sk-container-id-2 div.sk-text-repr-fallback {display: none;}</style><div id=\"sk-container-id-2\" class=\"sk-top-container\"><div class=\"sk-text-repr-fallback\"><pre>LinearRegression()</pre><b>In a Jupyter environment, please rerun this cell to show the HTML representation or trust the notebook. <br />On GitHub, the HTML representation is unable to render, please try loading this page with nbviewer.org.</b></div><div class=\"sk-container\" hidden><div class=\"sk-item\"><div class=\"sk-estimator sk-toggleable\"><input class=\"sk-toggleable__control sk-hidden--visually\" id=\"sk-estimator-id-2\" type=\"checkbox\" checked><label for=\"sk-estimator-id-2\" class=\"sk-toggleable__label sk-toggleable__label-arrow\">LinearRegression</label><div class=\"sk-toggleable__content\"><pre>LinearRegression()</pre></div></div></div></div></div>"
      ],
      "text/plain": [
       "LinearRegression()"
      ]
     },
     "execution_count": 50,
     "metadata": {},
     "output_type": "execute_result"
    }
   ],
   "source": [
    "model_lr = LinearRegression()\n",
    "model_lr.fit(X_train, y_train)"
   ]
  },
  {
   "cell_type": "code",
   "execution_count": 51,
   "id": "d2f95898-276c-41e2-8ebf-b8041bb29b98",
   "metadata": {},
   "outputs": [],
   "source": [
    "y_predtrain = model_lr.predict(X_train)"
   ]
  },
  {
   "cell_type": "code",
   "execution_count": 52,
   "id": "f62352d2-74d6-499b-8cc4-b828b9312f9a",
   "metadata": {},
   "outputs": [
    {
     "name": "stdout",
     "output_type": "stream",
     "text": [
      "Coefficients: [[ 0.00078269  0.00203094 -0.00355786]]\n",
      "Intercept: [5.79747597]\n"
     ]
    }
   ],
   "source": [
    "print('Coefficients:', model_lr.coef_)\n",
    "print('Intercept:', model_lr.intercept_)"
   ]
  },
  {
   "cell_type": "code",
   "execution_count": 53,
   "id": "4f41fa67-e8c8-43d0-8837-efd677879de2",
   "metadata": {},
   "outputs": [
    {
     "name": "stdout",
     "output_type": "stream",
     "text": [
      "Root Mean Squared Error: 0.9784901176815591\n",
      "Test R^2 Score: 0.01012\n"
     ]
    }
   ],
   "source": [
    "# Calculate the mean squared error\n",
    "mse = mean_squared_error(y_train, y_predtrain)\n",
    "\n",
    "# Calculate the root mean squared error\n",
    "rmse = np.sqrt(mse)\n",
    "\n",
    "print(\"Root Mean Squared Error:\", rmse)\n",
    "\n",
    "r2 = r2_score(y_train, y_predtrain)\n",
    "print(\"Test R^2 Score: {:.5f}\".format(r2))"
   ]
  },
  {
   "cell_type": "code",
   "execution_count": 54,
   "id": "8a2d8d53-1d4c-44f4-b6de-1a0353a63b01",
   "metadata": {},
   "outputs": [],
   "source": [
    "y_test = dftest[target_columns]\n",
    "X_test= dftest.drop(columns=target_columns)"
   ]
  },
  {
   "cell_type": "code",
   "execution_count": 55,
   "id": "5ae5898a-1323-44a6-b017-8eda22bdd9b5",
   "metadata": {},
   "outputs": [],
   "source": [
    "y_predtest = model_lr.predict(X_test)"
   ]
  },
  {
   "cell_type": "code",
   "execution_count": 56,
   "id": "aaf3b50c-b8df-4ab9-ad1d-4a426c7aec65",
   "metadata": {},
   "outputs": [
    {
     "name": "stdout",
     "output_type": "stream",
     "text": [
      "Root Mean Squared Error: 0.9784901176815591\n",
      "Test R^2 Score: 0.01012\n"
     ]
    }
   ],
   "source": [
    "# Calculate the mean squared error\n",
    "mse = mean_squared_error(y_test, y_predtest)\n",
    "\n",
    "# Calculate the root mean squared error\n",
    "rmset = np.sqrt(mse)\n",
    "\n",
    "print(\"Root Mean Squared Error:\", rmse)\n",
    "\n",
    "r2t = r2_score(y_test, y_predtest)\n",
    "print(\"Test R^2 Score: {:.5f}\".format(r2))"
   ]
  },
  {
   "cell_type": "code",
   "execution_count": null,
   "id": "ff61fa80-9e93-42a2-9771-39c19b2fcc46",
   "metadata": {},
   "outputs": [],
   "source": []
  },
  {
   "cell_type": "code",
   "execution_count": null,
   "id": "d9a5f851-7254-4b05-99cb-357593f1ce3f",
   "metadata": {},
   "outputs": [],
   "source": []
  },
  {
   "cell_type": "code",
   "execution_count": 57,
   "id": "3d3e7d66-3e38-43b6-bfde-5ceeba8737a4",
   "metadata": {},
   "outputs": [
    {
     "data": {
      "text/html": [
       "<div>\n",
       "<style scoped>\n",
       "    .dataframe tbody tr th:only-of-type {\n",
       "        vertical-align: middle;\n",
       "    }\n",
       "\n",
       "    .dataframe tbody tr th {\n",
       "        vertical-align: top;\n",
       "    }\n",
       "\n",
       "    .dataframe thead th {\n",
       "        text-align: right;\n",
       "    }\n",
       "</style>\n",
       "<table border=\"1\" class=\"dataframe\">\n",
       "  <thead>\n",
       "    <tr style=\"text-align: right;\">\n",
       "      <th></th>\n",
       "      <th>Red</th>\n",
       "      <th>Green</th>\n",
       "      <th>Blue</th>\n",
       "    </tr>\n",
       "  </thead>\n",
       "  <tbody>\n",
       "    <tr>\n",
       "      <th>0</th>\n",
       "      <td>94.390956</td>\n",
       "      <td>109.400125</td>\n",
       "      <td>179.221933</td>\n",
       "    </tr>\n",
       "    <tr>\n",
       "      <th>1</th>\n",
       "      <td>92.910174</td>\n",
       "      <td>111.842154</td>\n",
       "      <td>199.957061</td>\n",
       "    </tr>\n",
       "    <tr>\n",
       "      <th>2</th>\n",
       "      <td>110.781377</td>\n",
       "      <td>118.080972</td>\n",
       "      <td>188.804082</td>\n",
       "    </tr>\n",
       "    <tr>\n",
       "      <th>3</th>\n",
       "      <td>97.612245</td>\n",
       "      <td>97.132653</td>\n",
       "      <td>213.602041</td>\n",
       "    </tr>\n",
       "    <tr>\n",
       "      <th>4</th>\n",
       "      <td>94.207557</td>\n",
       "      <td>99.177906</td>\n",
       "      <td>211.434359</td>\n",
       "    </tr>\n",
       "  </tbody>\n",
       "</table>\n",
       "</div>"
      ],
      "text/plain": [
       "          Red       Green        Blue\n",
       "0   94.390956  109.400125  179.221933\n",
       "1   92.910174  111.842154  199.957061\n",
       "2  110.781377  118.080972  188.804082\n",
       "3   97.612245   97.132653  213.602041\n",
       "4   94.207557   99.177906  211.434359"
      ]
     },
     "execution_count": 57,
     "metadata": {},
     "output_type": "execute_result"
    }
   ],
   "source": [
    "skiprows = 0\n",
    "#Means read in the ',' as thousand seperator. Also drops all columns which are unnamed.\n",
    "dfsub = pd.read_excel(\"dfsub.xlsx\", thousands=',', skiprows = skiprows)\n",
    "dfsub = dfsub.loc[:, ~dfsub.columns.str.contains('^Unnamed')] \n",
    "dfsub.head()"
   ]
  },
  {
   "cell_type": "code",
   "execution_count": 58,
   "id": "f620a48c-681e-4143-9dc4-468647daddb3",
   "metadata": {},
   "outputs": [
    {
     "data": {
      "text/plain": [
       "(20, 3)"
      ]
     },
     "execution_count": 58,
     "metadata": {},
     "output_type": "execute_result"
    }
   ],
   "source": [
    "dfsub.shape"
   ]
  },
  {
   "cell_type": "code",
   "execution_count": 59,
   "id": "900cb6a7-1bc9-4bcb-82cf-e2514e71c71e",
   "metadata": {},
   "outputs": [],
   "source": [
    "y_predsub = model_lr.predict(dfsub)"
   ]
  },
  {
   "cell_type": "code",
   "execution_count": 60,
   "id": "9ed7eefa-f17b-4d14-b9ae-20b4791b8782",
   "metadata": {},
   "outputs": [
    {
     "data": {
      "text/plain": [
       "array([[5.45589257],\n",
       "       [5.38592046],\n",
       "       [5.45225945],\n",
       "       [5.31117968],\n",
       "       [5.32038096],\n",
       "       [5.30330345],\n",
       "       [5.38603757],\n",
       "       [5.30660329],\n",
       "       [5.45124766],\n",
       "       [5.90690689],\n",
       "       [5.55982068],\n",
       "       [5.55740024],\n",
       "       [5.71416553],\n",
       "       [5.30499006],\n",
       "       [5.4061228 ],\n",
       "       [5.6980962 ],\n",
       "       [5.58980992],\n",
       "       [5.73293893],\n",
       "       [5.83239035],\n",
       "       [5.7805033 ]])"
      ]
     },
     "execution_count": 60,
     "metadata": {},
     "output_type": "execute_result"
    }
   ],
   "source": [
    "y_predsub"
   ]
  },
  {
   "cell_type": "code",
   "execution_count": 61,
   "id": "4688bd4c-f0d8-4090-b166-1d86166ff68d",
   "metadata": {},
   "outputs": [],
   "source": [
    "y_predsubunlog = np.exp(y_predsub)"
   ]
  },
  {
   "cell_type": "code",
   "execution_count": 62,
   "id": "262ae9c8-8b0d-4de7-9d8b-dc19960930b5",
   "metadata": {},
   "outputs": [
    {
     "data": {
      "text/plain": [
       "array([[234.13375837],\n",
       "       [218.3109587 ],\n",
       "       [233.28466639],\n",
       "       [202.58907715],\n",
       "       [204.46175943],\n",
       "       [200.99970748],\n",
       "       [218.33652706],\n",
       "       [201.66406976],\n",
       "       [233.04875072],\n",
       "       [367.56746719],\n",
       "       [259.77624868],\n",
       "       [259.14823625],\n",
       "       [303.13114283],\n",
       "       [201.33900054],\n",
       "       [222.76620156],\n",
       "       [298.29895704],\n",
       "       [267.68473412],\n",
       "       [308.87569837],\n",
       "       [341.17322706],\n",
       "       [323.92217875]])"
      ]
     },
     "execution_count": 62,
     "metadata": {},
     "output_type": "execute_result"
    }
   ],
   "source": [
    "y_predsubunlog"
   ]
  },
  {
   "cell_type": "code",
   "execution_count": 64,
   "id": "468d1ca5-7bbd-4c8c-a02c-d95daaaff2f2",
   "metadata": {},
   "outputs": [],
   "source": [
    "np.savetxt('17c.csv', y_predsubunlog, delimiter=',')"
   ]
  },
  {
   "cell_type": "code",
   "execution_count": null,
   "id": "285db8d2-3d57-403b-bde2-28f3cd2ae08f",
   "metadata": {},
   "outputs": [],
   "source": []
  }
 ],
 "metadata": {
  "kernelspec": {
   "display_name": "Python 3 (ipykernel)",
   "language": "python",
   "name": "python3"
  },
  "language_info": {
   "codemirror_mode": {
    "name": "ipython",
    "version": 3
   },
   "file_extension": ".py",
   "mimetype": "text/x-python",
   "name": "python",
   "nbconvert_exporter": "python",
   "pygments_lexer": "ipython3",
   "version": "3.9.7"
  }
 },
 "nbformat": 4,
 "nbformat_minor": 5
}
