{
 "cells": [
  {
   "cell_type": "code",
   "execution_count": 1,
   "id": "17719739-878c-4f59-bbda-e8bb831f19ee",
   "metadata": {},
   "outputs": [],
   "source": [
    "import numpy as np\n",
    "import pandas as pd\n",
    "import geopandas as gpd\n",
    "from pathlib import Path\n",
    "import os.path\n",
    "\n",
    "\n",
    "import seaborn as sns\n",
    "from scipy import stats\n",
    "\n",
    "\n",
    "# Data visualization\n",
    "import matplotlib as mpl\n",
    "import matplotlib.pyplot as plt\n",
    "\n",
    "from matplotlib.pyplot import *\n",
    "import imageio\n",
    "from skimage.io import imread\n",
    "\n",
    "from tqdm import tqdm\n",
    "\n",
    "import itertools\n",
    "import pandas as pd\n",
    "import numpy as np\n",
    "import matplotlib.pyplot as plt\n",
    "import matplotlib.ticker as ticker\n",
    "from matplotlib.ticker import NullFormatter\n",
    "import time\n",
    "import re\n",
    "import requests\n",
    "import pickle\n",
    "import seaborn as sns\n",
    "import os\n",
    "import glob\n",
    "import sys\n",
    "#from natsort import natsorted\n",
    "sns.set()\n",
    "\n",
    "import plotly.graph_objects as go\n",
    "import plotly.express as px\n",
    "import warnings\n",
    "warnings.filterwarnings('ignore')\n",
    "\n",
    "# Sklearn Liraries\n",
    "import sklearn\n",
    "from sklearn import preprocessing\n",
    "\n",
    "import datetime\n",
    "from datetime import timedelta, date \n",
    "start = time.time()\n",
    "%matplotlib inline\n",
    "\n",
    "\n",
    "import sklearn\n",
    "from sklearn.preprocessing import LabelEncoder    #For encoding categorical variables\n",
    "from sklearn.model_selection import train_test_split #For splitting of data\n",
    "from sklearn.metrics import r2_score\n",
    "from sklearn.metrics import mean_squared_error\n",
    "from sklearn.linear_model import LinearRegression"
   ]
  },
  {
   "cell_type": "code",
   "execution_count": 2,
   "id": "ef6731f3-ded6-4f43-807b-07075193335f",
   "metadata": {},
   "outputs": [
    {
     "name": "stdout",
     "output_type": "stream",
     "text": [
      "1.2.1\n"
     ]
    }
   ],
   "source": [
    "print(sklearn.__version__)"
   ]
  },
  {
   "cell_type": "code",
   "execution_count": 3,
   "id": "7845fe70-5e7b-48cc-bf54-103154c9bf87",
   "metadata": {},
   "outputs": [],
   "source": [
    "#!conda install -c conda-forge scikit-learn=0.23.2\n",
    "#!pip install --pre pycaret"
   ]
  },
  {
   "cell_type": "code",
   "execution_count": 4,
   "id": "af3084f0-b952-428b-9080-a021ddd87e14",
   "metadata": {},
   "outputs": [],
   "source": [
    "#set directory for csv files\n",
    "dir_name = r'C:\\Users\\vasan\\OneDrive\\EmissionsDatathon\\Zeroing Methane Emissions - Dataset'\n",
    "filename_suffix = 'xls'"
   ]
  },
  {
   "cell_type": "code",
   "execution_count": 5,
   "id": "49544821-1bbb-4b8e-bda6-ba0b6a43ec7e",
   "metadata": {},
   "outputs": [
    {
     "data": {
      "text/html": [
       "<div>\n",
       "<style scoped>\n",
       "    .dataframe tbody tr th:only-of-type {\n",
       "        vertical-align: middle;\n",
       "    }\n",
       "\n",
       "    .dataframe tbody tr th {\n",
       "        vertical-align: top;\n",
       "    }\n",
       "\n",
       "    .dataframe thead th {\n",
       "        text-align: right;\n",
       "    }\n",
       "</style>\n",
       "<table border=\"1\" class=\"dataframe\">\n",
       "  <thead>\n",
       "    <tr style=\"text-align: right;\">\n",
       "      <th></th>\n",
       "      <th>Unnamed: 0</th>\n",
       "      <th>Red</th>\n",
       "      <th>Green</th>\n",
       "      <th>Blue</th>\n",
       "      <th>Name</th>\n",
       "      <th>qplume</th>\n",
       "    </tr>\n",
       "  </thead>\n",
       "  <tbody>\n",
       "    <tr>\n",
       "      <th>0</th>\n",
       "      <td>0</td>\n",
       "      <td>181.358816</td>\n",
       "      <td>47.365528</td>\n",
       "      <td>58.732138</td>\n",
       "      <td>ang20190922t192642-2_r4578_c217-plume.png</td>\n",
       "      <td>2579.528100</td>\n",
       "    </tr>\n",
       "    <tr>\n",
       "      <th>1</th>\n",
       "      <td>1</td>\n",
       "      <td>163.016873</td>\n",
       "      <td>116.526079</td>\n",
       "      <td>86.684041</td>\n",
       "      <td>ang20190923t163307-G_r4113_c198-plume.png</td>\n",
       "      <td>934.430300</td>\n",
       "    </tr>\n",
       "    <tr>\n",
       "      <th>2</th>\n",
       "      <td>2</td>\n",
       "      <td>148.860910</td>\n",
       "      <td>65.633528</td>\n",
       "      <td>55.371571</td>\n",
       "      <td>ang20190926t223557-D_r4139_c225-plume.png</td>\n",
       "      <td>443.098484</td>\n",
       "    </tr>\n",
       "    <tr>\n",
       "      <th>3</th>\n",
       "      <td>3</td>\n",
       "      <td>195.260858</td>\n",
       "      <td>106.511460</td>\n",
       "      <td>97.770766</td>\n",
       "      <td>ang20191006t150453-6_r4168_c237-plume.png</td>\n",
       "      <td>1032.395030</td>\n",
       "    </tr>\n",
       "    <tr>\n",
       "      <th>4</th>\n",
       "      <td>4</td>\n",
       "      <td>175.007143</td>\n",
       "      <td>133.739831</td>\n",
       "      <td>96.091491</td>\n",
       "      <td>ang20191007t182352-2_r4062_c150-plume.png</td>\n",
       "      <td>826.823256</td>\n",
       "    </tr>\n",
       "  </tbody>\n",
       "</table>\n",
       "</div>"
      ],
      "text/plain": [
       "   Unnamed: 0         Red       Green       Blue  \\\n",
       "0           0  181.358816   47.365528  58.732138   \n",
       "1           1  163.016873  116.526079  86.684041   \n",
       "2           2  148.860910   65.633528  55.371571   \n",
       "3           3  195.260858  106.511460  97.770766   \n",
       "4           4  175.007143  133.739831  96.091491   \n",
       "\n",
       "                                        Name       qplume  \n",
       "0  ang20190922t192642-2_r4578_c217-plume.png  2579.528100  \n",
       "1  ang20190923t163307-G_r4113_c198-plume.png   934.430300  \n",
       "2  ang20190926t223557-D_r4139_c225-plume.png   443.098484  \n",
       "3  ang20191006t150453-6_r4168_c237-plume.png  1032.395030  \n",
       "4  ang20191007t182352-2_r4062_c150-plume.png   826.823256  "
      ]
     },
     "execution_count": 5,
     "metadata": {},
     "output_type": "execute_result"
    }
   ],
   "source": [
    "skiprows = 0\n",
    "#Means read in the ',' as thousand seperator. Also drops all columns which are unnamed.\n",
    "df = pd.read_excel(\"dfeat3all.xlsx\", thousands=',', skiprows = skiprows)\n",
    "df.head()"
   ]
  },
  {
   "cell_type": "code",
   "execution_count": 6,
   "id": "db47591c-4f84-41d9-bf73-2294f197ffba",
   "metadata": {},
   "outputs": [
    {
     "data": {
      "text/plain": [
       "(6062, 6)"
      ]
     },
     "execution_count": 6,
     "metadata": {},
     "output_type": "execute_result"
    }
   ],
   "source": [
    "df.shape"
   ]
  },
  {
   "cell_type": "code",
   "execution_count": 7,
   "id": "159f5ba3-4f7b-4640-b85d-337ab6a7e369",
   "metadata": {},
   "outputs": [],
   "source": [
    "df = df.drop('Unnamed: 0', axis=1)"
   ]
  },
  {
   "cell_type": "code",
   "execution_count": 8,
   "id": "6bf86535-3089-4454-ab0e-21f6d730f5e5",
   "metadata": {},
   "outputs": [],
   "source": [
    "df = df.drop('Name', axis=1)"
   ]
  },
  {
   "cell_type": "code",
   "execution_count": 9,
   "id": "8210696e-9853-49fb-9679-92271466202c",
   "metadata": {},
   "outputs": [
    {
     "data": {
      "text/html": [
       "<div>\n",
       "<style scoped>\n",
       "    .dataframe tbody tr th:only-of-type {\n",
       "        vertical-align: middle;\n",
       "    }\n",
       "\n",
       "    .dataframe tbody tr th {\n",
       "        vertical-align: top;\n",
       "    }\n",
       "\n",
       "    .dataframe thead th {\n",
       "        text-align: right;\n",
       "    }\n",
       "</style>\n",
       "<table border=\"1\" class=\"dataframe\">\n",
       "  <thead>\n",
       "    <tr style=\"text-align: right;\">\n",
       "      <th></th>\n",
       "      <th>Red</th>\n",
       "      <th>Green</th>\n",
       "      <th>Blue</th>\n",
       "      <th>qplume</th>\n",
       "    </tr>\n",
       "  </thead>\n",
       "  <tbody>\n",
       "    <tr>\n",
       "      <th>0</th>\n",
       "      <td>181.358816</td>\n",
       "      <td>47.365528</td>\n",
       "      <td>58.732138</td>\n",
       "      <td>2579.528100</td>\n",
       "    </tr>\n",
       "    <tr>\n",
       "      <th>1</th>\n",
       "      <td>163.016873</td>\n",
       "      <td>116.526079</td>\n",
       "      <td>86.684041</td>\n",
       "      <td>934.430300</td>\n",
       "    </tr>\n",
       "    <tr>\n",
       "      <th>2</th>\n",
       "      <td>148.860910</td>\n",
       "      <td>65.633528</td>\n",
       "      <td>55.371571</td>\n",
       "      <td>443.098484</td>\n",
       "    </tr>\n",
       "    <tr>\n",
       "      <th>3</th>\n",
       "      <td>195.260858</td>\n",
       "      <td>106.511460</td>\n",
       "      <td>97.770766</td>\n",
       "      <td>1032.395030</td>\n",
       "    </tr>\n",
       "    <tr>\n",
       "      <th>4</th>\n",
       "      <td>175.007143</td>\n",
       "      <td>133.739831</td>\n",
       "      <td>96.091491</td>\n",
       "      <td>826.823256</td>\n",
       "    </tr>\n",
       "  </tbody>\n",
       "</table>\n",
       "</div>"
      ],
      "text/plain": [
       "          Red       Green       Blue       qplume\n",
       "0  181.358816   47.365528  58.732138  2579.528100\n",
       "1  163.016873  116.526079  86.684041   934.430300\n",
       "2  148.860910   65.633528  55.371571   443.098484\n",
       "3  195.260858  106.511460  97.770766  1032.395030\n",
       "4  175.007143  133.739831  96.091491   826.823256"
      ]
     },
     "execution_count": 9,
     "metadata": {},
     "output_type": "execute_result"
    }
   ],
   "source": [
    "df.head()"
   ]
  },
  {
   "cell_type": "code",
   "execution_count": 10,
   "id": "1eb3760e-f83b-4cc0-82c5-0eb513cd4d8e",
   "metadata": {},
   "outputs": [],
   "source": [
    "df = df.astype(float)"
   ]
  },
  {
   "cell_type": "code",
   "execution_count": 11,
   "id": "08053382-6e68-4519-9f10-5afde4b5ab18",
   "metadata": {},
   "outputs": [
    {
     "data": {
      "text/plain": [
       "Red        True\n",
       "Green      True\n",
       "Blue       True\n",
       "qplume    False\n",
       "dtype: bool"
      ]
     },
     "execution_count": 11,
     "metadata": {},
     "output_type": "execute_result"
    }
   ],
   "source": [
    "np.isnan(df).any()"
   ]
  },
  {
   "cell_type": "code",
   "execution_count": 12,
   "id": "6259b4b1-1827-4ec4-b26f-6d74d00868fe",
   "metadata": {},
   "outputs": [
    {
     "data": {
      "text/plain": [
       "Red         2\n",
       "Green      10\n",
       "Blue      365\n",
       "qplume      0\n",
       "dtype: int64"
      ]
     },
     "execution_count": 12,
     "metadata": {},
     "output_type": "execute_result"
    }
   ],
   "source": [
    "df.isna().sum()"
   ]
  },
  {
   "cell_type": "code",
   "execution_count": 13,
   "id": "c0990250-09a7-497a-b7a8-9cd5f3a8c285",
   "metadata": {},
   "outputs": [],
   "source": [
    "df = df.dropna()"
   ]
  },
  {
   "cell_type": "code",
   "execution_count": 14,
   "id": "383b92f7-4208-4a05-9526-9c9f5ac04571",
   "metadata": {},
   "outputs": [
    {
     "data": {
      "text/plain": [
       "(5697, 4)"
      ]
     },
     "execution_count": 14,
     "metadata": {},
     "output_type": "execute_result"
    }
   ],
   "source": [
    "df.shape"
   ]
  },
  {
   "cell_type": "code",
   "execution_count": 15,
   "id": "6715aad9-1bd3-4c22-b2cc-148a5b85a668",
   "metadata": {},
   "outputs": [],
   "source": [
    "z_scores = np.abs((df['qplume'] - df['qplume'].mean()) / df['qplume'].std())"
   ]
  },
  {
   "cell_type": "code",
   "execution_count": 16,
   "id": "5ef94b8d-9efa-4730-96f4-9c944041c13d",
   "metadata": {},
   "outputs": [],
   "source": [
    "df = df[z_scores < 3]"
   ]
  },
  {
   "cell_type": "code",
   "execution_count": 17,
   "id": "57728fc5-684e-4bec-9b20-a13cb52b2f34",
   "metadata": {},
   "outputs": [
    {
     "data": {
      "text/plain": [
       "(5584, 4)"
      ]
     },
     "execution_count": 17,
     "metadata": {},
     "output_type": "execute_result"
    }
   ],
   "source": [
    "df.shape"
   ]
  },
  {
   "cell_type": "code",
   "execution_count": 18,
   "id": "a89fece4-f151-48d6-b62f-ad699161bd40",
   "metadata": {},
   "outputs": [
    {
     "name": "stdout",
     "output_type": "stream",
     "text": [
      "(4480, 4)\n",
      "(1104, 4)\n"
     ]
    }
   ],
   "source": [
    "# Creates a mask where values that are true go into the training/test set\n",
    "# Note that I done it so that the random number is predictable\n",
    "\n",
    "msk = np.random.seed(0)\n",
    "msk = np.random.rand(len(df))<0.8\n",
    "\n",
    "raw_train_validate_set = df[msk]\n",
    "raw_test_set = df[~msk]\n",
    "\n",
    "print(raw_train_validate_set.shape)\n",
    "print(raw_test_set.shape)"
   ]
  },
  {
   "cell_type": "code",
   "execution_count": 19,
   "id": "4cc67dd5-5cf0-44d5-8561-bb03fb6a7bb5",
   "metadata": {},
   "outputs": [],
   "source": [
    "raw_train_validate_set.to_excel(r'dftrain.xlsx', index = False, header=True)\n",
    "raw_test_set.to_excel(r'dftest.xlsx', index = False, header=True)"
   ]
  },
  {
   "cell_type": "code",
   "execution_count": 20,
   "id": "1f1aa380-fbd1-4fa1-b82a-bc6b0a488e5b",
   "metadata": {},
   "outputs": [
    {
     "data": {
      "text/html": [
       "<div>\n",
       "<style scoped>\n",
       "    .dataframe tbody tr th:only-of-type {\n",
       "        vertical-align: middle;\n",
       "    }\n",
       "\n",
       "    .dataframe tbody tr th {\n",
       "        vertical-align: top;\n",
       "    }\n",
       "\n",
       "    .dataframe thead th {\n",
       "        text-align: right;\n",
       "    }\n",
       "</style>\n",
       "<table border=\"1\" class=\"dataframe\">\n",
       "  <thead>\n",
       "    <tr style=\"text-align: right;\">\n",
       "      <th></th>\n",
       "      <th>Red</th>\n",
       "      <th>Green</th>\n",
       "      <th>Blue</th>\n",
       "      <th>qplume</th>\n",
       "    </tr>\n",
       "  </thead>\n",
       "  <tbody>\n",
       "    <tr>\n",
       "      <th>0</th>\n",
       "      <td>181.358816</td>\n",
       "      <td>47.365528</td>\n",
       "      <td>58.732138</td>\n",
       "      <td>2579.528100</td>\n",
       "    </tr>\n",
       "    <tr>\n",
       "      <th>1</th>\n",
       "      <td>163.016873</td>\n",
       "      <td>116.526079</td>\n",
       "      <td>86.684041</td>\n",
       "      <td>934.430300</td>\n",
       "    </tr>\n",
       "    <tr>\n",
       "      <th>2</th>\n",
       "      <td>148.860910</td>\n",
       "      <td>65.633528</td>\n",
       "      <td>55.371571</td>\n",
       "      <td>443.098484</td>\n",
       "    </tr>\n",
       "    <tr>\n",
       "      <th>3</th>\n",
       "      <td>195.260858</td>\n",
       "      <td>106.511460</td>\n",
       "      <td>97.770766</td>\n",
       "      <td>1032.395030</td>\n",
       "    </tr>\n",
       "    <tr>\n",
       "      <th>4</th>\n",
       "      <td>175.007143</td>\n",
       "      <td>133.739831</td>\n",
       "      <td>96.091491</td>\n",
       "      <td>826.823256</td>\n",
       "    </tr>\n",
       "  </tbody>\n",
       "</table>\n",
       "</div>"
      ],
      "text/plain": [
       "          Red       Green       Blue       qplume\n",
       "0  181.358816   47.365528  58.732138  2579.528100\n",
       "1  163.016873  116.526079  86.684041   934.430300\n",
       "2  148.860910   65.633528  55.371571   443.098484\n",
       "3  195.260858  106.511460  97.770766  1032.395030\n",
       "4  175.007143  133.739831  96.091491   826.823256"
      ]
     },
     "execution_count": 20,
     "metadata": {},
     "output_type": "execute_result"
    }
   ],
   "source": [
    "skiprows = 0\n",
    "#Means read in the ',' as thousand seperator. Also drops all columns which are unnamed.\n",
    "dftrain = pd.read_excel(\"dftrain.xlsx\", thousands=',', skiprows = skiprows)\n",
    "dftrain = df.loc[:, ~df.columns.str.contains('^Unnamed')] \n",
    "dftrain.head()"
   ]
  },
  {
   "cell_type": "code",
   "execution_count": 21,
   "id": "9b5f0f5b-0d68-46ee-8284-f151fe9532a5",
   "metadata": {},
   "outputs": [],
   "source": [
    "target_columns = [\n",
    "    \"qplume\"\n",
    "]\n",
    "\n",
    "y_train = dftrain[target_columns]\n",
    "X_train = dftrain.drop(columns=target_columns)"
   ]
  },
  {
   "cell_type": "code",
   "execution_count": 22,
   "id": "dd69cdcd-042a-49c2-9908-099b0710156f",
   "metadata": {},
   "outputs": [
    {
     "data": {
      "text/html": [
       "<style>#sk-container-id-1 {color: black;background-color: white;}#sk-container-id-1 pre{padding: 0;}#sk-container-id-1 div.sk-toggleable {background-color: white;}#sk-container-id-1 label.sk-toggleable__label {cursor: pointer;display: block;width: 100%;margin-bottom: 0;padding: 0.3em;box-sizing: border-box;text-align: center;}#sk-container-id-1 label.sk-toggleable__label-arrow:before {content: \"▸\";float: left;margin-right: 0.25em;color: #696969;}#sk-container-id-1 label.sk-toggleable__label-arrow:hover:before {color: black;}#sk-container-id-1 div.sk-estimator:hover label.sk-toggleable__label-arrow:before {color: black;}#sk-container-id-1 div.sk-toggleable__content {max-height: 0;max-width: 0;overflow: hidden;text-align: left;background-color: #f0f8ff;}#sk-container-id-1 div.sk-toggleable__content pre {margin: 0.2em;color: black;border-radius: 0.25em;background-color: #f0f8ff;}#sk-container-id-1 input.sk-toggleable__control:checked~div.sk-toggleable__content {max-height: 200px;max-width: 100%;overflow: auto;}#sk-container-id-1 input.sk-toggleable__control:checked~label.sk-toggleable__label-arrow:before {content: \"▾\";}#sk-container-id-1 div.sk-estimator input.sk-toggleable__control:checked~label.sk-toggleable__label {background-color: #d4ebff;}#sk-container-id-1 div.sk-label input.sk-toggleable__control:checked~label.sk-toggleable__label {background-color: #d4ebff;}#sk-container-id-1 input.sk-hidden--visually {border: 0;clip: rect(1px 1px 1px 1px);clip: rect(1px, 1px, 1px, 1px);height: 1px;margin: -1px;overflow: hidden;padding: 0;position: absolute;width: 1px;}#sk-container-id-1 div.sk-estimator {font-family: monospace;background-color: #f0f8ff;border: 1px dotted black;border-radius: 0.25em;box-sizing: border-box;margin-bottom: 0.5em;}#sk-container-id-1 div.sk-estimator:hover {background-color: #d4ebff;}#sk-container-id-1 div.sk-parallel-item::after {content: \"\";width: 100%;border-bottom: 1px solid gray;flex-grow: 1;}#sk-container-id-1 div.sk-label:hover label.sk-toggleable__label {background-color: #d4ebff;}#sk-container-id-1 div.sk-serial::before {content: \"\";position: absolute;border-left: 1px solid gray;box-sizing: border-box;top: 0;bottom: 0;left: 50%;z-index: 0;}#sk-container-id-1 div.sk-serial {display: flex;flex-direction: column;align-items: center;background-color: white;padding-right: 0.2em;padding-left: 0.2em;position: relative;}#sk-container-id-1 div.sk-item {position: relative;z-index: 1;}#sk-container-id-1 div.sk-parallel {display: flex;align-items: stretch;justify-content: center;background-color: white;position: relative;}#sk-container-id-1 div.sk-item::before, #sk-container-id-1 div.sk-parallel-item::before {content: \"\";position: absolute;border-left: 1px solid gray;box-sizing: border-box;top: 0;bottom: 0;left: 50%;z-index: -1;}#sk-container-id-1 div.sk-parallel-item {display: flex;flex-direction: column;z-index: 1;position: relative;background-color: white;}#sk-container-id-1 div.sk-parallel-item:first-child::after {align-self: flex-end;width: 50%;}#sk-container-id-1 div.sk-parallel-item:last-child::after {align-self: flex-start;width: 50%;}#sk-container-id-1 div.sk-parallel-item:only-child::after {width: 0;}#sk-container-id-1 div.sk-dashed-wrapped {border: 1px dashed gray;margin: 0 0.4em 0.5em 0.4em;box-sizing: border-box;padding-bottom: 0.4em;background-color: white;}#sk-container-id-1 div.sk-label label {font-family: monospace;font-weight: bold;display: inline-block;line-height: 1.2em;}#sk-container-id-1 div.sk-label-container {text-align: center;}#sk-container-id-1 div.sk-container {/* jupyter's `normalize.less` sets `[hidden] { display: none; }` but bootstrap.min.css set `[hidden] { display: none !important; }` so we also need the `!important` here to be able to override the default hidden behavior on the sphinx rendered scikit-learn.org. See: https://github.com/scikit-learn/scikit-learn/issues/21755 */display: inline-block !important;position: relative;}#sk-container-id-1 div.sk-text-repr-fallback {display: none;}</style><div id=\"sk-container-id-1\" class=\"sk-top-container\"><div class=\"sk-text-repr-fallback\"><pre>LinearRegression()</pre><b>In a Jupyter environment, please rerun this cell to show the HTML representation or trust the notebook. <br />On GitHub, the HTML representation is unable to render, please try loading this page with nbviewer.org.</b></div><div class=\"sk-container\" hidden><div class=\"sk-item\"><div class=\"sk-estimator sk-toggleable\"><input class=\"sk-toggleable__control sk-hidden--visually\" id=\"sk-estimator-id-1\" type=\"checkbox\" checked><label for=\"sk-estimator-id-1\" class=\"sk-toggleable__label sk-toggleable__label-arrow\">LinearRegression</label><div class=\"sk-toggleable__content\"><pre>LinearRegression()</pre></div></div></div></div></div>"
      ],
      "text/plain": [
       "LinearRegression()"
      ]
     },
     "execution_count": 22,
     "metadata": {},
     "output_type": "execute_result"
    }
   ],
   "source": [
    "model_lr = LinearRegression()\n",
    "model_lr.fit(X_train, y_train)"
   ]
  },
  {
   "cell_type": "code",
   "execution_count": 23,
   "id": "49ffebda-a39a-4269-80c6-e5209c8de365",
   "metadata": {},
   "outputs": [],
   "source": [
    "y_predtrain = model_lr.predict(X_train)"
   ]
  },
  {
   "cell_type": "code",
   "execution_count": 24,
   "id": "a156bb01-7a23-4231-bab5-9db97ac68747",
   "metadata": {},
   "outputs": [
    {
     "name": "stdout",
     "output_type": "stream",
     "text": [
      "Coefficients: [[ 0.35329406  0.73865584 -1.28310683]]\n",
      "Intercept: [470.54809736]\n"
     ]
    }
   ],
   "source": [
    "print('Coefficients:', model_lr.coef_)\n",
    "print('Intercept:', model_lr.intercept_)"
   ]
  },
  {
   "cell_type": "code",
   "execution_count": 25,
   "id": "e9e52e2f-f8ef-43db-aeea-66ab58b93278",
   "metadata": {},
   "outputs": [
    {
     "name": "stdout",
     "output_type": "stream",
     "text": [
      "Root Mean Squared Error: 515.5592197017262\n",
      "Test R^2 Score: 0.00491\n"
     ]
    }
   ],
   "source": [
    "# Calculate the mean squared error\n",
    "mse = mean_squared_error(y_train, y_predtrain)\n",
    "\n",
    "# Calculate the root mean squared error\n",
    "rmse = np.sqrt(mse)\n",
    "\n",
    "print(\"Root Mean Squared Error:\", rmse)\n",
    "\n",
    "r2 = r2_score(y_train, y_predtrain)\n",
    "print(\"Test R^2 Score: {:.5f}\".format(r2))"
   ]
  },
  {
   "cell_type": "code",
   "execution_count": 26,
   "id": "4ba42cb9-d861-4ad7-bc98-3e3feb6770ec",
   "metadata": {},
   "outputs": [
    {
     "data": {
      "text/html": [
       "<div>\n",
       "<style scoped>\n",
       "    .dataframe tbody tr th:only-of-type {\n",
       "        vertical-align: middle;\n",
       "    }\n",
       "\n",
       "    .dataframe tbody tr th {\n",
       "        vertical-align: top;\n",
       "    }\n",
       "\n",
       "    .dataframe thead th {\n",
       "        text-align: right;\n",
       "    }\n",
       "</style>\n",
       "<table border=\"1\" class=\"dataframe\">\n",
       "  <thead>\n",
       "    <tr style=\"text-align: right;\">\n",
       "      <th></th>\n",
       "      <th>Red</th>\n",
       "      <th>Green</th>\n",
       "      <th>Blue</th>\n",
       "      <th>qplume</th>\n",
       "    </tr>\n",
       "  </thead>\n",
       "  <tbody>\n",
       "    <tr>\n",
       "      <th>0</th>\n",
       "      <td>181.358816</td>\n",
       "      <td>47.365528</td>\n",
       "      <td>58.732138</td>\n",
       "      <td>2579.528100</td>\n",
       "    </tr>\n",
       "    <tr>\n",
       "      <th>1</th>\n",
       "      <td>163.016873</td>\n",
       "      <td>116.526079</td>\n",
       "      <td>86.684041</td>\n",
       "      <td>934.430300</td>\n",
       "    </tr>\n",
       "    <tr>\n",
       "      <th>2</th>\n",
       "      <td>148.860910</td>\n",
       "      <td>65.633528</td>\n",
       "      <td>55.371571</td>\n",
       "      <td>443.098484</td>\n",
       "    </tr>\n",
       "    <tr>\n",
       "      <th>3</th>\n",
       "      <td>195.260858</td>\n",
       "      <td>106.511460</td>\n",
       "      <td>97.770766</td>\n",
       "      <td>1032.395030</td>\n",
       "    </tr>\n",
       "    <tr>\n",
       "      <th>4</th>\n",
       "      <td>175.007143</td>\n",
       "      <td>133.739831</td>\n",
       "      <td>96.091491</td>\n",
       "      <td>826.823256</td>\n",
       "    </tr>\n",
       "  </tbody>\n",
       "</table>\n",
       "</div>"
      ],
      "text/plain": [
       "          Red       Green       Blue       qplume\n",
       "0  181.358816   47.365528  58.732138  2579.528100\n",
       "1  163.016873  116.526079  86.684041   934.430300\n",
       "2  148.860910   65.633528  55.371571   443.098484\n",
       "3  195.260858  106.511460  97.770766  1032.395030\n",
       "4  175.007143  133.739831  96.091491   826.823256"
      ]
     },
     "execution_count": 26,
     "metadata": {},
     "output_type": "execute_result"
    }
   ],
   "source": [
    "skiprows = 0\n",
    "#Means read in the ',' as thousand seperator. Also drops all columns which are unnamed.\n",
    "dftest = pd.read_excel(\"dftest.xlsx\", thousands=',', skiprows = skiprows)\n",
    "dftest = df.loc[:, ~df.columns.str.contains('^Unnamed')] \n",
    "dftest.head()"
   ]
  },
  {
   "cell_type": "code",
   "execution_count": 27,
   "id": "e1c5577e-d722-4c7d-a756-fac998feb924",
   "metadata": {},
   "outputs": [],
   "source": [
    "y_test = dftest[target_columns]\n",
    "X_test = dftest.drop(columns=target_columns)"
   ]
  },
  {
   "cell_type": "code",
   "execution_count": 28,
   "id": "42251a19-73ed-430f-921b-50c5acd9e564",
   "metadata": {},
   "outputs": [],
   "source": [
    "y_predtest = model_lr.predict(X_test)"
   ]
  },
  {
   "cell_type": "code",
   "execution_count": 29,
   "id": "a53dd1b1-d7be-4d03-9860-3232aa365ea8",
   "metadata": {},
   "outputs": [
    {
     "name": "stdout",
     "output_type": "stream",
     "text": [
      "Root Mean Squared Error: 515.5592197017262\n",
      "Test R^2 Score: 0.00491\n"
     ]
    }
   ],
   "source": [
    "# Calculate the mean squared error\n",
    "mse = mean_squared_error(y_train, y_predtest)\n",
    "\n",
    "# Calculate the root mean squared error\n",
    "rmse = np.sqrt(mse)\n",
    "\n",
    "print(\"Root Mean Squared Error:\", rmse)\n",
    "\n",
    "r2 = r2_score(y_train, y_predtest)\n",
    "print(\"Test R^2 Score: {:.5f}\".format(r2))"
   ]
  },
  {
   "cell_type": "code",
   "execution_count": 30,
   "id": "3de68c6f-f2f6-4c2d-9b0e-600eef66a52a",
   "metadata": {},
   "outputs": [
    {
     "data": {
      "text/html": [
       "<div>\n",
       "<style scoped>\n",
       "    .dataframe tbody tr th:only-of-type {\n",
       "        vertical-align: middle;\n",
       "    }\n",
       "\n",
       "    .dataframe tbody tr th {\n",
       "        vertical-align: top;\n",
       "    }\n",
       "\n",
       "    .dataframe thead th {\n",
       "        text-align: right;\n",
       "    }\n",
       "</style>\n",
       "<table border=\"1\" class=\"dataframe\">\n",
       "  <thead>\n",
       "    <tr style=\"text-align: right;\">\n",
       "      <th></th>\n",
       "      <th>Red</th>\n",
       "      <th>Green</th>\n",
       "      <th>Blue</th>\n",
       "    </tr>\n",
       "  </thead>\n",
       "  <tbody>\n",
       "    <tr>\n",
       "      <th>0</th>\n",
       "      <td>82.213236</td>\n",
       "      <td>86.101068</td>\n",
       "      <td>93.274235</td>\n",
       "    </tr>\n",
       "    <tr>\n",
       "      <th>1</th>\n",
       "      <td>185.965074</td>\n",
       "      <td>179.501219</td>\n",
       "      <td>151.516240</td>\n",
       "    </tr>\n",
       "    <tr>\n",
       "      <th>2</th>\n",
       "      <td>183.407890</td>\n",
       "      <td>166.772655</td>\n",
       "      <td>131.994160</td>\n",
       "    </tr>\n",
       "    <tr>\n",
       "      <th>3</th>\n",
       "      <td>139.278398</td>\n",
       "      <td>132.372221</td>\n",
       "      <td>116.203694</td>\n",
       "    </tr>\n",
       "    <tr>\n",
       "      <th>4</th>\n",
       "      <td>110.705144</td>\n",
       "      <td>106.453771</td>\n",
       "      <td>118.587240</td>\n",
       "    </tr>\n",
       "  </tbody>\n",
       "</table>\n",
       "</div>"
      ],
      "text/plain": [
       "          Red       Green        Blue\n",
       "0   82.213236   86.101068   93.274235\n",
       "1  185.965074  179.501219  151.516240\n",
       "2  183.407890  166.772655  131.994160\n",
       "3  139.278398  132.372221  116.203694\n",
       "4  110.705144  106.453771  118.587240"
      ]
     },
     "execution_count": 30,
     "metadata": {},
     "output_type": "execute_result"
    }
   ],
   "source": [
    "skiprows = 0\n",
    "#Means read in the ',' as thousand seperator. Also drops all columns which are unnamed.\n",
    "dsub = pd.read_excel(\"dsub.xlsx\", thousands=',', skiprows = skiprows)\n",
    "dsub = dsub.loc[:, ~dsub.columns.str.contains('^Unnamed')] \n",
    "dsub.head()"
   ]
  },
  {
   "cell_type": "code",
   "execution_count": 31,
   "id": "0cf08868-b22f-475c-ae79-95ff7d29d562",
   "metadata": {},
   "outputs": [
    {
     "data": {
      "text/plain": [
       "(20, 3)"
      ]
     },
     "execution_count": 31,
     "metadata": {},
     "output_type": "execute_result"
    }
   ],
   "source": [
    "dsub.shape"
   ]
  },
  {
   "cell_type": "code",
   "execution_count": 32,
   "id": "818e6437-d75a-4e8c-a376-1f74c2149dba",
   "metadata": {},
   "outputs": [],
   "source": [
    "y_predsub = model_lr.predict(dsub)"
   ]
  },
  {
   "cell_type": "code",
   "execution_count": 33,
   "id": "e6dc8426-75bd-41c3-9a1c-0e654e3320c4",
   "metadata": {},
   "outputs": [
    {
     "data": {
      "text/plain": [
       "array([[443.5117942 ],\n",
       "       [474.42655544],\n",
       "       [489.17000208],\n",
       "       [468.4300883 ],\n",
       "       [436.13216927],\n",
       "       [444.6655884 ],\n",
       "       [460.0764472 ],\n",
       "       [470.85007359],\n",
       "       [441.48847548],\n",
       "       [482.96026758],\n",
       "       [452.57168207],\n",
       "       [434.97687922],\n",
       "       [464.06585353],\n",
       "       [448.49034524],\n",
       "       [426.92460084],\n",
       "       [465.66411153],\n",
       "       [474.75616608],\n",
       "       [468.12084103],\n",
       "       [464.99851756],\n",
       "       [466.12225983]])"
      ]
     },
     "execution_count": 33,
     "metadata": {},
     "output_type": "execute_result"
    }
   ],
   "source": [
    "y_predsub"
   ]
  },
  {
   "cell_type": "code",
   "execution_count": 31,
   "id": "f3aad4f1-5f21-405b-81ed-0aeb28a0a9c3",
   "metadata": {},
   "outputs": [],
   "source": [
    "np.savetxt('12.csv', y_predsub, delimiter=',')"
   ]
  },
  {
   "cell_type": "code",
   "execution_count": null,
   "id": "0e2ba972-4804-462f-85e7-c41b4f995ab3",
   "metadata": {},
   "outputs": [],
   "source": []
  }
 ],
 "metadata": {
  "kernelspec": {
   "display_name": "Python 3 (ipykernel)",
   "language": "python",
   "name": "python3"
  },
  "language_info": {
   "codemirror_mode": {
    "name": "ipython",
    "version": 3
   },
   "file_extension": ".py",
   "mimetype": "text/x-python",
   "name": "python",
   "nbconvert_exporter": "python",
   "pygments_lexer": "ipython3",
   "version": "3.9.7"
  }
 },
 "nbformat": 4,
 "nbformat_minor": 5
}
