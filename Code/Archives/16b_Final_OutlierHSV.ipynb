{
 "cells": [
  {
   "cell_type": "code",
   "execution_count": 1,
   "id": "c27177c2-5411-4608-af07-a39b2cd5c38c",
   "metadata": {},
   "outputs": [],
   "source": [
    "#! pip install Geopandas\n",
    "#!pip install --use-deprecated=legacy-resolver pycaret[full]\n",
    "#!pip install pycaret[full]"
   ]
  },
  {
   "cell_type": "code",
   "execution_count": 2,
   "id": "2325268a-8b83-48e4-b7e0-3f45de438042",
   "metadata": {},
   "outputs": [],
   "source": [
    "import numpy as np\n",
    "import pandas as pd\n",
    "import geopandas as gpd\n",
    "from pathlib import Path\n",
    "import os.path\n",
    "\n",
    "\n",
    "import seaborn as sns\n",
    "from scipy import stats\n",
    "\n",
    "\n",
    "# Data visualization\n",
    "import matplotlib as mpl\n",
    "import matplotlib.pyplot as plt\n",
    "\n",
    "from matplotlib.pyplot import *\n",
    "import imageio\n",
    "from skimage.io import imread\n",
    "\n",
    "from tqdm import tqdm\n",
    "\n",
    "import cv2   #For image processing\n",
    "\n",
    "import tensorflow as tf\n",
    "#All tensorflow utilities for creating, training and working with a CNN\n",
    "from tensorflow.keras.utils import to_categorical\n",
    "from tensorflow.keras.models import Sequential\n",
    "from tensorflow.keras.layers import Conv2D, MaxPool2D, BatchNormalization\n",
    "from tensorflow.keras.layers import Activation, Dropout, Flatten, Dense\n",
    "from tensorflow.keras.losses import categorical_crossentropy\n",
    "from tensorflow.keras.optimizers import Adam\n",
    "from tensorflow.keras.callbacks import ModelCheckpoint\n",
    "from tensorflow.keras.models import load_model\n",
    "\n",
    "\n",
    "import sklearn\n",
    "from sklearn.preprocessing import LabelEncoder    #For encoding categorical variables\n",
    "from sklearn.model_selection import train_test_split #For splitting of data\n",
    "from sklearn.metrics import r2_score\n",
    "from sklearn.metrics import mean_squared_error\n",
    "\n",
    "from sklearn.compose import ColumnTransformer\n",
    "from sklearn.preprocessing import OneHotEncoder\n",
    "from sklearn.linear_model import LinearRegression\n",
    "from sklearn.pipeline import Pipeline\n",
    "\n",
    "from skimage.io import imread, imshow\n",
    "from skimage.color import rgb2gray, rgb2hsv, rgba2rgb\n",
    "from skimage.morphology import area_opening\n",
    "from skimage.exposure import histogram\n",
    "from skimage.filters import threshold_otsu\n",
    "from skimage import io, color\n",
    "\n",
    "from pycaret.datasets import get_data\n",
    "from pycaret.regression import *"
   ]
  },
  {
   "cell_type": "code",
   "execution_count": 3,
   "id": "5a74a870-c6b4-462f-861c-c3889d2d0e6f",
   "metadata": {},
   "outputs": [],
   "source": [
    "#set directory for csv files\n",
    "dir_name = r'C:\\Users\\vasan\\OneDrive\\EmissionsDatathon\\Zeroing Methane Emissions - Dataset'\n",
    "filename_suffix = 'xls'"
   ]
  },
  {
   "cell_type": "code",
   "execution_count": 4,
   "id": "74adba67-b326-4c63-979a-cd09c3bfa7a5",
   "metadata": {},
   "outputs": [
    {
     "data": {
      "text/html": [
       "<div>\n",
       "<style scoped>\n",
       "    .dataframe tbody tr th:only-of-type {\n",
       "        vertical-align: middle;\n",
       "    }\n",
       "\n",
       "    .dataframe tbody tr th {\n",
       "        vertical-align: top;\n",
       "    }\n",
       "\n",
       "    .dataframe thead th {\n",
       "        text-align: right;\n",
       "    }\n",
       "</style>\n",
       "<table border=\"1\" class=\"dataframe\">\n",
       "  <thead>\n",
       "    <tr style=\"text-align: right;\">\n",
       "      <th></th>\n",
       "      <th>source_id</th>\n",
       "      <th>source_lat</th>\n",
       "      <th>source_lon</th>\n",
       "      <th>source_type_y</th>\n",
       "      <th>ipcc</th>\n",
       "      <th>number_overflights</th>\n",
       "      <th>source_persistence</th>\n",
       "      <th>confidence_in_persistence</th>\n",
       "      <th>qsource</th>\n",
       "      <th>sigma_qsource</th>\n",
       "      <th>Filepath</th>\n",
       "      <th>Name</th>\n",
       "      <th>candidate_id</th>\n",
       "      <th>plume_lat</th>\n",
       "      <th>plume_lon</th>\n",
       "      <th>date</th>\n",
       "      <th>qplume</th>\n",
       "      <th>sigma_qplume</th>\n",
       "      <th>Uncern</th>\n",
       "    </tr>\n",
       "  </thead>\n",
       "  <tbody>\n",
       "    <tr>\n",
       "      <th>0</th>\n",
       "      <td>P00001</td>\n",
       "      <td>32.212086</td>\n",
       "      <td>-103.697212</td>\n",
       "      <td>tank</td>\n",
       "      <td>1B2 Oil &amp; Natural Gas</td>\n",
       "      <td>12</td>\n",
       "      <td>0.833333</td>\n",
       "      <td>0.968324</td>\n",
       "      <td>865.48423</td>\n",
       "      <td>307.380288</td>\n",
       "      <td>C:\\Users\\vasan\\OneDrive\\EmissionsDatathon\\Data...</td>\n",
       "      <td>ang20190922t192642-2_r4578_c217-plume.png</td>\n",
       "      <td>ang20190922t192642-2</td>\n",
       "      <td>32.212063</td>\n",
       "      <td>-103.697076</td>\n",
       "      <td>2019-09-22</td>\n",
       "      <td>2579.528100</td>\n",
       "      <td>902.732655</td>\n",
       "      <td>34.996039</td>\n",
       "    </tr>\n",
       "    <tr>\n",
       "      <th>1</th>\n",
       "      <td>P00001</td>\n",
       "      <td>32.212086</td>\n",
       "      <td>-103.697212</td>\n",
       "      <td>tank</td>\n",
       "      <td>1B2 Oil &amp; Natural Gas</td>\n",
       "      <td>12</td>\n",
       "      <td>0.833333</td>\n",
       "      <td>0.968324</td>\n",
       "      <td>865.48423</td>\n",
       "      <td>307.380288</td>\n",
       "      <td>C:\\Users\\vasan\\OneDrive\\EmissionsDatathon\\Data...</td>\n",
       "      <td>ang20190923t163307-G_r4113_c198-plume.png</td>\n",
       "      <td>ang20190923t163307-G</td>\n",
       "      <td>32.212117</td>\n",
       "      <td>-103.697086</td>\n",
       "      <td>2019-09-23</td>\n",
       "      <td>934.430300</td>\n",
       "      <td>276.716131</td>\n",
       "      <td>29.613352</td>\n",
       "    </tr>\n",
       "    <tr>\n",
       "      <th>2</th>\n",
       "      <td>P00001</td>\n",
       "      <td>32.212086</td>\n",
       "      <td>-103.697212</td>\n",
       "      <td>tank</td>\n",
       "      <td>1B2 Oil &amp; Natural Gas</td>\n",
       "      <td>12</td>\n",
       "      <td>0.833333</td>\n",
       "      <td>0.968324</td>\n",
       "      <td>865.48423</td>\n",
       "      <td>307.380288</td>\n",
       "      <td>C:\\Users\\vasan\\OneDrive\\EmissionsDatathon\\Data...</td>\n",
       "      <td>ang20190926t223557-D_r4139_c225-plume.png</td>\n",
       "      <td>ang20190926t223557-D</td>\n",
       "      <td>32.212162</td>\n",
       "      <td>-103.696830</td>\n",
       "      <td>2019-09-26</td>\n",
       "      <td>443.098484</td>\n",
       "      <td>152.257940</td>\n",
       "      <td>34.362099</td>\n",
       "    </tr>\n",
       "    <tr>\n",
       "      <th>3</th>\n",
       "      <td>P00001</td>\n",
       "      <td>32.212086</td>\n",
       "      <td>-103.697212</td>\n",
       "      <td>tank</td>\n",
       "      <td>1B2 Oil &amp; Natural Gas</td>\n",
       "      <td>12</td>\n",
       "      <td>0.833333</td>\n",
       "      <td>0.968324</td>\n",
       "      <td>865.48423</td>\n",
       "      <td>307.380288</td>\n",
       "      <td>C:\\Users\\vasan\\OneDrive\\EmissionsDatathon\\Data...</td>\n",
       "      <td>ang20191006t150453-6_r4168_c237-plume.png</td>\n",
       "      <td>ang20191006t150453-6</td>\n",
       "      <td>32.212327</td>\n",
       "      <td>-103.697526</td>\n",
       "      <td>2019-10-06</td>\n",
       "      <td>1032.395030</td>\n",
       "      <td>606.623335</td>\n",
       "      <td>58.758839</td>\n",
       "    </tr>\n",
       "    <tr>\n",
       "      <th>4</th>\n",
       "      <td>P00001</td>\n",
       "      <td>32.212086</td>\n",
       "      <td>-103.697212</td>\n",
       "      <td>tank</td>\n",
       "      <td>1B2 Oil &amp; Natural Gas</td>\n",
       "      <td>12</td>\n",
       "      <td>0.833333</td>\n",
       "      <td>0.968324</td>\n",
       "      <td>865.48423</td>\n",
       "      <td>307.380288</td>\n",
       "      <td>C:\\Users\\vasan\\OneDrive\\EmissionsDatathon\\Data...</td>\n",
       "      <td>ang20191007t182352-2_r4062_c150-plume.png</td>\n",
       "      <td>ang20191007t182352-2</td>\n",
       "      <td>32.212253</td>\n",
       "      <td>-103.697253</td>\n",
       "      <td>2019-10-07</td>\n",
       "      <td>826.823256</td>\n",
       "      <td>226.851094</td>\n",
       "      <td>27.436468</td>\n",
       "    </tr>\n",
       "  </tbody>\n",
       "</table>\n",
       "</div>"
      ],
      "text/plain": [
       "  source_id  source_lat  source_lon source_type_y                   ipcc  \\\n",
       "0    P00001   32.212086 -103.697212          tank  1B2 Oil & Natural Gas   \n",
       "1    P00001   32.212086 -103.697212          tank  1B2 Oil & Natural Gas   \n",
       "2    P00001   32.212086 -103.697212          tank  1B2 Oil & Natural Gas   \n",
       "3    P00001   32.212086 -103.697212          tank  1B2 Oil & Natural Gas   \n",
       "4    P00001   32.212086 -103.697212          tank  1B2 Oil & Natural Gas   \n",
       "\n",
       "   number_overflights  source_persistence confidence_in_persistence  \\\n",
       "0                  12            0.833333                  0.968324   \n",
       "1                  12            0.833333                  0.968324   \n",
       "2                  12            0.833333                  0.968324   \n",
       "3                  12            0.833333                  0.968324   \n",
       "4                  12            0.833333                  0.968324   \n",
       "\n",
       "     qsource  sigma_qsource  \\\n",
       "0  865.48423     307.380288   \n",
       "1  865.48423     307.380288   \n",
       "2  865.48423     307.380288   \n",
       "3  865.48423     307.380288   \n",
       "4  865.48423     307.380288   \n",
       "\n",
       "                                            Filepath  \\\n",
       "0  C:\\Users\\vasan\\OneDrive\\EmissionsDatathon\\Data...   \n",
       "1  C:\\Users\\vasan\\OneDrive\\EmissionsDatathon\\Data...   \n",
       "2  C:\\Users\\vasan\\OneDrive\\EmissionsDatathon\\Data...   \n",
       "3  C:\\Users\\vasan\\OneDrive\\EmissionsDatathon\\Data...   \n",
       "4  C:\\Users\\vasan\\OneDrive\\EmissionsDatathon\\Data...   \n",
       "\n",
       "                                        Name          candidate_id  plume_lat  \\\n",
       "0  ang20190922t192642-2_r4578_c217-plume.png  ang20190922t192642-2  32.212063   \n",
       "1  ang20190923t163307-G_r4113_c198-plume.png  ang20190923t163307-G  32.212117   \n",
       "2  ang20190926t223557-D_r4139_c225-plume.png  ang20190926t223557-D  32.212162   \n",
       "3  ang20191006t150453-6_r4168_c237-plume.png  ang20191006t150453-6  32.212327   \n",
       "4  ang20191007t182352-2_r4062_c150-plume.png  ang20191007t182352-2  32.212253   \n",
       "\n",
       "    plume_lon        date       qplume  sigma_qplume     Uncern  \n",
       "0 -103.697076  2019-09-22  2579.528100    902.732655  34.996039  \n",
       "1 -103.697086  2019-09-23   934.430300    276.716131  29.613352  \n",
       "2 -103.696830  2019-09-26   443.098484    152.257940  34.362099  \n",
       "3 -103.697526  2019-10-06  1032.395030    606.623335  58.758839  \n",
       "4 -103.697253  2019-10-07   826.823256    226.851094  27.436468  "
      ]
     },
     "execution_count": 4,
     "metadata": {},
     "output_type": "execute_result"
    }
   ],
   "source": [
    "skiprows = 0\n",
    "#Means read in the ',' as thousand seperator. Also drops all columns which are unnamed.\n",
    "df = pd.read_excel(\"dcombined.xlsx\", thousands=',', skiprows = skiprows)\n",
    "df = df.loc[:, ~df.columns.str.contains('^Unnamed')] \n",
    "df.head()"
   ]
  },
  {
   "cell_type": "code",
   "execution_count": 5,
   "id": "f28ed38b-7515-48c4-9e7d-1e98ac9b12d2",
   "metadata": {},
   "outputs": [
    {
     "data": {
      "text/plain": [
       "(6062, 19)"
      ]
     },
     "execution_count": 5,
     "metadata": {},
     "output_type": "execute_result"
    }
   ],
   "source": [
    "df.shape"
   ]
  },
  {
   "cell_type": "code",
   "execution_count": 14,
   "id": "5c03c8c0-08e1-475c-b11e-c63e5db03a97",
   "metadata": {},
   "outputs": [
    {
     "name": "stdout",
     "output_type": "stream",
     "text": [
      "Upper limit 2952.720203508437\n",
      "Lower limit -1834.63590894246\n"
     ]
    }
   ],
   "source": [
    "print(\"Upper limit\",df['qplume'].mean() + 3*df['qplume'].std())\n",
    "print(\"Lower limit\",df['qplume'].mean() - 3*df['qplume'].std())"
   ]
  },
  {
   "cell_type": "code",
   "execution_count": 16,
   "id": "b5ae4f14-c4fe-4a4f-924a-b37909f9d741",
   "metadata": {},
   "outputs": [],
   "source": [
    "df = df.loc[df['qplume'] < 2953]"
   ]
  },
  {
   "cell_type": "code",
   "execution_count": 17,
   "id": "b996ee4b-e407-41c8-a598-32904111535a",
   "metadata": {},
   "outputs": [
    {
     "data": {
      "text/plain": [
       "(5943, 19)"
      ]
     },
     "execution_count": 17,
     "metadata": {},
     "output_type": "execute_result"
    }
   ],
   "source": [
    "df.shape"
   ]
  },
  {
   "cell_type": "code",
   "execution_count": 18,
   "id": "8cf157cd-61b7-4052-8d39-7eef2dd6d0d3",
   "metadata": {},
   "outputs": [],
   "source": [
    "def image_processing(fil):\n",
    "#Open image and import it as a numpy array\n",
    "    im2 = imread(fil)\n",
    "    im2_rgb = color.rgba2rgb(im2)\n",
    "    im2_hsv = rgb2hsv(im2_rgb)\n",
    "    \n",
    "    mask = im2_hsv[:,:,1] > 0.4\n",
    "    \n",
    "    red = im2[:,:,0]*mask\n",
    "    green = im2[:,:,1]*mask\n",
    "    blue = im2[:,:,2]*mask\n",
    "    mask2 = np.dstack((red,green,blue))\n",
    "    \n",
    "    feature_matrix = np.zeros((217,217))\n",
    "    \n",
    "    for i in range(0,mask2.shape[0]):\n",
    "        for j in range(0,mask2.shape[1]):\n",
    "            feature_matrix[i][j] = ((int(mask2[i,j,0]) + int(mask2[i,j,1]) + int(mask2[i,j,2]))/3)\n",
    "        \n",
    "    features = np.reshape(feature_matrix, (217*217))\n",
    "    \n",
    "    return features"
   ]
  },
  {
   "cell_type": "code",
   "execution_count": 19,
   "id": "3ef0af95-cf5a-4946-9291-fb857483a189",
   "metadata": {},
   "outputs": [],
   "source": [
    "#pic_list = []\n",
    "#name_list = []\n",
    "#qplume = []\n",
    "image_list = []"
   ]
  },
  {
   "cell_type": "code",
   "execution_count": 20,
   "id": "aa0d816b-65c2-47e6-930e-4578d70fe304",
   "metadata": {},
   "outputs": [
    {
     "name": "stderr",
     "output_type": "stream",
     "text": [
      "100%|██████████| 5943/5943 [05:41<00:00, 17.40it/s]\n"
     ]
    }
   ],
   "source": [
    "for file in tqdm(df['Filepath'].tolist()[:]):\n",
    "    image_list.append(image_processing(file))"
   ]
  },
  {
   "cell_type": "code",
   "execution_count": 21,
   "id": "8aadbb87-fee0-45a9-b70e-d332aa738fc8",
   "metadata": {},
   "outputs": [],
   "source": [
    "X = np.array(image_list)"
   ]
  },
  {
   "cell_type": "code",
   "execution_count": 22,
   "id": "23b3b08f-672c-4d64-8d35-f5b8b995f126",
   "metadata": {},
   "outputs": [
    {
     "data": {
      "text/plain": [
       "array([[ 0.        ,  0.        ,  0.        , ...,  0.        ,\n",
       "         0.        ,  0.        ],\n",
       "       [ 0.        ,  0.        ,  0.        , ...,  0.        ,\n",
       "         0.        ,  0.        ],\n",
       "       [ 0.        ,  0.        ,  0.        , ...,  0.        ,\n",
       "         0.        ,  0.        ],\n",
       "       ...,\n",
       "       [43.33333333,  0.        ,  0.        , ..., 34.66666667,\n",
       "        31.66666667, 29.66666667],\n",
       "       [ 0.        ,  0.        ,  0.        , ..., 45.66666667,\n",
       "         0.        ,  0.        ],\n",
       "       [42.        ,  0.        ,  0.        , ...,  0.        ,\n",
       "         0.        ,  0.        ]])"
      ]
     },
     "execution_count": 22,
     "metadata": {},
     "output_type": "execute_result"
    }
   ],
   "source": [
    "X"
   ]
  },
  {
   "cell_type": "code",
   "execution_count": 23,
   "id": "6a46b3ba-c805-4a4f-a232-e339ff8472d6",
   "metadata": {},
   "outputs": [],
   "source": [
    "np.save('processed_128x128_image.npy',X,allow_pickle=True)"
   ]
  },
  {
   "cell_type": "code",
   "execution_count": 24,
   "id": "e6fe199e-e1e2-4d05-b626-02ad7b3a4f83",
   "metadata": {},
   "outputs": [
    {
     "data": {
      "text/plain": [
       "6.426502642372791"
      ]
     },
     "execution_count": 24,
     "metadata": {},
     "output_type": "execute_result"
    }
   ],
   "source": [
    "X.mean()"
   ]
  },
  {
   "cell_type": "code",
   "execution_count": 25,
   "id": "475eb8d5-82c6-4037-9e06-39b316a2a64a",
   "metadata": {},
   "outputs": [
    {
     "data": {
      "text/plain": [
       "(5943, 47089)"
      ]
     },
     "execution_count": 25,
     "metadata": {},
     "output_type": "execute_result"
    }
   ],
   "source": [
    "X.shape"
   ]
  },
  {
   "cell_type": "code",
   "execution_count": 26,
   "id": "34164d16-4a5b-420f-8562-4b4e38636392",
   "metadata": {},
   "outputs": [],
   "source": [
    "Y = np.array(df.qplume.tolist())"
   ]
  },
  {
   "cell_type": "code",
   "execution_count": 27,
   "id": "a3407b8b-1803-42c9-b2b6-3ae30b3d29b8",
   "metadata": {},
   "outputs": [
    {
     "data": {
      "text/plain": [
       "array([2579.5281   ,  934.4303004,  443.0984843, ...,  438.4123065,\n",
       "        674.2734901,  475.3739425])"
      ]
     },
     "execution_count": 27,
     "metadata": {},
     "output_type": "execute_result"
    }
   ],
   "source": [
    "Y"
   ]
  },
  {
   "cell_type": "code",
   "execution_count": 28,
   "id": "2ee9a01b-f3e9-4c1a-a466-12c30b5d27c0",
   "metadata": {},
   "outputs": [
    {
     "name": "stdout",
     "output_type": "stream",
     "text": [
      "(5943, 47089)\n",
      "(5943,)\n"
     ]
    }
   ],
   "source": [
    "print(X.shape)\n",
    "print(Y.shape)"
   ]
  },
  {
   "cell_type": "code",
   "execution_count": 30,
   "id": "ca5e6166-eee9-48bf-9c8d-e24648dd338b",
   "metadata": {},
   "outputs": [],
   "source": [
    "# Split the data into train and test sets\n",
    "X_train, X_test, Y_train, Y_test = train_test_split(X, Y, test_size=0.2, random_state=42)\n",
    "\n",
    "# Split the train set into train and validation sets\n",
    "X_train, X_val, Y_train, Y_val = train_test_split(X_train, Y_train, test_size=0.25, random_state=42)"
   ]
  },
  {
   "cell_type": "code",
   "execution_count": 31,
   "id": "3d3cc621-1aa5-4b01-a88b-9a60f572b553",
   "metadata": {},
   "outputs": [
    {
     "data": {
      "text/plain": [
       "(1189, 217, 217, 1)"
      ]
     },
     "execution_count": 31,
     "metadata": {},
     "output_type": "execute_result"
    }
   ],
   "source": [
    "img_rows, img_cols = 217, 217\n",
    "input_shape = (img_rows, img_cols, 1)\n",
    "\n",
    "X_train = X_train.reshape(X_train.shape[0], img_rows, img_cols, 1)\n",
    "X_test = X_test.reshape(X_test.shape[0], img_rows, img_cols, 1)\n",
    "X_val = X_val.reshape(X_val.shape[0], img_rows, img_cols, 1)\n",
    "\n",
    "X_val.shape"
   ]
  },
  {
   "cell_type": "code",
   "execution_count": 32,
   "id": "93c2c32a-54ea-4369-ab94-93c9db914997",
   "metadata": {},
   "outputs": [],
   "source": [
    "X_train = X_train.reshape(X_train.shape[0], img_rows, img_cols, 1)\n",
    "X_test = X_test.reshape(X_test.shape[0], img_rows, img_cols, 1)\n",
    "X_val = X_val.reshape(X_val.shape[0], img_rows, img_cols, 1)"
   ]
  },
  {
   "cell_type": "code",
   "execution_count": 33,
   "id": "64bf7bf2-af1c-4d40-bcb1-119344993ae5",
   "metadata": {},
   "outputs": [
    {
     "name": "stdout",
     "output_type": "stream",
     "text": [
      "(3565, 217, 217, 1)\n",
      "(3565,)\n",
      "(1189, 217, 217, 1)\n",
      "(1189,)\n",
      "(1189, 217, 217, 1)\n",
      "(1189,)\n"
     ]
    }
   ],
   "source": [
    "print(X_train.shape)\n",
    "print(Y_train.shape)\n",
    "print(X_val.shape)\n",
    "print(Y_val.shape)\n",
    "print(X_test.shape)\n",
    "print(Y_test.shape)"
   ]
  },
  {
   "cell_type": "code",
   "execution_count": 34,
   "id": "092914b3-9907-468f-8495-075b796dc746",
   "metadata": {},
   "outputs": [
    {
     "name": "stdout",
     "output_type": "stream",
     "text": [
      "Model: \"sequential\"\n",
      "_________________________________________________________________\n",
      " Layer (type)                Output Shape              Param #   \n",
      "=================================================================\n",
      " conv2d (Conv2D)             (None, 215, 215, 16)      160       \n",
      "                                                                 \n",
      " batch_normalization (BatchN  (None, 215, 215, 16)     64        \n",
      " ormalization)                                                   \n",
      "                                                                 \n",
      " conv2d_1 (Conv2D)           (None, 213, 213, 16)      2320      \n",
      "                                                                 \n",
      " batch_normalization_1 (Batc  (None, 213, 213, 16)     64        \n",
      " hNormalization)                                                 \n",
      "                                                                 \n",
      " max_pooling2d (MaxPooling2D  (None, 106, 106, 16)     0         \n",
      " )                                                               \n",
      "                                                                 \n",
      " dropout (Dropout)           (None, 106, 106, 16)      0         \n",
      "                                                                 \n",
      " conv2d_2 (Conv2D)           (None, 104, 104, 32)      4640      \n",
      "                                                                 \n",
      " batch_normalization_2 (Batc  (None, 104, 104, 32)     128       \n",
      " hNormalization)                                                 \n",
      "                                                                 \n",
      " conv2d_3 (Conv2D)           (None, 102, 102, 32)      9248      \n",
      "                                                                 \n",
      " batch_normalization_3 (Batc  (None, 102, 102, 32)     128       \n",
      " hNormalization)                                                 \n",
      "                                                                 \n",
      " max_pooling2d_1 (MaxPooling  (None, 51, 51, 32)       0         \n",
      " 2D)                                                             \n",
      "                                                                 \n",
      " dropout_1 (Dropout)         (None, 51, 51, 32)        0         \n",
      "                                                                 \n",
      " flatten (Flatten)           (None, 83232)             0         \n",
      "                                                                 \n",
      " dense (Dense)               (None, 512)               42615296  \n",
      "                                                                 \n",
      " dropout_2 (Dropout)         (None, 512)               0         \n",
      "                                                                 \n",
      " dense_1 (Dense)             (None, 1024)              525312    \n",
      "                                                                 \n",
      " dropout_3 (Dropout)         (None, 1024)              0         \n",
      "                                                                 \n",
      " dense_2 (Dense)             (None, 1)                 1025      \n",
      "                                                                 \n",
      "=================================================================\n",
      "Total params: 43,158,385\n",
      "Trainable params: 43,158,193\n",
      "Non-trainable params: 192\n",
      "_________________________________________________________________\n"
     ]
    }
   ],
   "source": [
    "#Define a Convolutional Neural Network Model\n",
    "\n",
    "model = Sequential()\n",
    "\n",
    "model.add(Conv2D(filters = 16, kernel_size = (3, 3), activation='relu',\n",
    "                 input_shape = input_shape))\n",
    "model.add(BatchNormalization())\n",
    "model.add(Conv2D(filters = 16, kernel_size = (3, 3), activation='relu'))\n",
    "model.add(BatchNormalization())\n",
    "model.add(MaxPool2D(strides=(2,2)))\n",
    "model.add(Dropout(0.25))\n",
    "model.add(Conv2D(filters = 32, kernel_size = (3, 3), activation='relu'))\n",
    "model.add(BatchNormalization())\n",
    "model.add(Conv2D(filters = 32, kernel_size = (3, 3), activation='relu'))\n",
    "model.add(BatchNormalization())\n",
    "model.add(MaxPool2D(strides=(2,2)))\n",
    "model.add(Dropout(0.25))\n",
    "\n",
    "model.add(Flatten())\n",
    "model.add(Dense(512, activation='relu'))\n",
    "model.add(Dropout(0.25))\n",
    "\n",
    "model.add(Dense(1024, activation='relu'))\n",
    "model.add(Dropout(0.4))\n",
    "#model.add(Dense(n_classes, activation='softmax'))\n",
    "model.add(Dense(1, activation='relu'))\n",
    "learning_rate = 0.001\n",
    "\n",
    "model.compile(loss = 'mse',\n",
    "              optimizer = Adam(learning_rate))\n",
    "\n",
    "model.summary()"
   ]
  },
  {
   "cell_type": "code",
   "execution_count": 35,
   "id": "691f6eee-4c1d-4089-a7ed-ae346a5479f2",
   "metadata": {},
   "outputs": [],
   "source": [
    "save_at = \"model_regression2.hdf5\"\n",
    "save_best2 = ModelCheckpoint (save_at, monitor='val_accuracy', verbose=0, save_best_only=True, save_weights_only=False, mode='max')"
   ]
  },
  {
   "cell_type": "code",
   "execution_count": 36,
   "id": "33bf7987-8c8d-4e86-af85-d1c9dd05e396",
   "metadata": {},
   "outputs": [
    {
     "data": {
      "text/plain": [
       "False"
      ]
     },
     "execution_count": 36,
     "metadata": {},
     "output_type": "execute_result"
    }
   ],
   "source": [
    "np.isnan(X).any()"
   ]
  },
  {
   "cell_type": "code",
   "execution_count": 37,
   "id": "2eb321ed-0212-495f-8d15-1f6368cb04ab",
   "metadata": {},
   "outputs": [
    {
     "data": {
      "text/plain": [
       "False"
      ]
     },
     "execution_count": 37,
     "metadata": {},
     "output_type": "execute_result"
    }
   ],
   "source": [
    "np.isnan(Y).any()"
   ]
  },
  {
   "cell_type": "code",
   "execution_count": 38,
   "id": "dea1e49e-b324-4c0f-87c5-f5b22b68be36",
   "metadata": {},
   "outputs": [
    {
     "name": "stdout",
     "output_type": "stream",
     "text": [
      "Epoch 1/15\n",
      "36/36 [==============================] - ETA: 0s - loss: 196406.8438WARNING:tensorflow:Can save best model only with val_accuracy available, skipping.\n",
      "36/36 [==============================] - 205s 5s/step - loss: 196406.8438 - val_loss: 335132.4062\n",
      "Epoch 2/15\n",
      "36/36 [==============================] - ETA: 0s - loss: 142810.0312WARNING:tensorflow:Can save best model only with val_accuracy available, skipping.\n",
      "36/36 [==============================] - 190s 5s/step - loss: 142810.0312 - val_loss: 254708.6719\n",
      "Epoch 3/15\n",
      "36/36 [==============================] - ETA: 0s - loss: 104416.2266WARNING:tensorflow:Can save best model only with val_accuracy available, skipping.\n",
      "36/36 [==============================] - 197s 5s/step - loss: 104416.2266 - val_loss: 285069.2188\n",
      "Epoch 4/15\n",
      "36/36 [==============================] - ETA: 0s - loss: 81482.1172WARNING:tensorflow:Can save best model only with val_accuracy available, skipping.\n",
      "36/36 [==============================] - 192s 5s/step - loss: 81482.1172 - val_loss: 250015.6562\n",
      "Epoch 5/15\n",
      "36/36 [==============================] - ETA: 0s - loss: 61056.9375WARNING:tensorflow:Can save best model only with val_accuracy available, skipping.\n",
      "36/36 [==============================] - 190s 5s/step - loss: 61056.9375 - val_loss: 208595.2500\n",
      "Epoch 6/15\n",
      "36/36 [==============================] - ETA: 0s - loss: 53100.1172  WARNING:tensorflow:Can save best model only with val_accuracy available, skipping.\n",
      "36/36 [==============================] - 2415s 69s/step - loss: 53100.1172 - val_loss: 207572.5000\n",
      "Epoch 7/15\n",
      "36/36 [==============================] - ETA: 0s - loss: 43015.9453WARNING:tensorflow:Can save best model only with val_accuracy available, skipping.\n",
      "36/36 [==============================] - 220s 6s/step - loss: 43015.9453 - val_loss: 197009.8125\n",
      "Epoch 8/15\n",
      "36/36 [==============================] - ETA: 0s - loss: 45348.3867WARNING:tensorflow:Can save best model only with val_accuracy available, skipping.\n",
      "36/36 [==============================] - 188s 5s/step - loss: 45348.3867 - val_loss: 214249.8906\n",
      "Epoch 9/15\n",
      "36/36 [==============================] - ETA: 0s - loss: 38387.2188WARNING:tensorflow:Can save best model only with val_accuracy available, skipping.\n",
      "36/36 [==============================] - 202s 6s/step - loss: 38387.2188 - val_loss: 176394.7188\n",
      "Epoch 10/15\n",
      "36/36 [==============================] - ETA: 0s - loss: 31844.4004WARNING:tensorflow:Can save best model only with val_accuracy available, skipping.\n",
      "36/36 [==============================] - 187s 5s/step - loss: 31844.4004 - val_loss: 173347.3125\n",
      "Epoch 11/15\n",
      "36/36 [==============================] - ETA: 0s - loss: 34027.5195WARNING:tensorflow:Can save best model only with val_accuracy available, skipping.\n",
      "36/36 [==============================] - 190s 5s/step - loss: 34027.5195 - val_loss: 148008.1094\n",
      "Epoch 12/15\n",
      "36/36 [==============================] - ETA: 0s - loss: 30083.7578WARNING:tensorflow:Can save best model only with val_accuracy available, skipping.\n",
      "36/36 [==============================] - 194s 5s/step - loss: 30083.7578 - val_loss: 150389.0000\n",
      "Epoch 13/15\n",
      "36/36 [==============================] - ETA: 0s - loss: 28018.2773WARNING:tensorflow:Can save best model only with val_accuracy available, skipping.\n",
      "36/36 [==============================] - 195s 5s/step - loss: 28018.2773 - val_loss: 151022.5781\n",
      "Epoch 14/15\n",
      "36/36 [==============================] - ETA: 0s - loss: 26500.4629WARNING:tensorflow:Can save best model only with val_accuracy available, skipping.\n",
      "36/36 [==============================] - 197s 5s/step - loss: 26500.4629 - val_loss: 158765.3281\n",
      "Epoch 15/15\n",
      "36/36 [==============================] - ETA: 0s - loss: 24578.3379WARNING:tensorflow:Can save best model only with val_accuracy available, skipping.\n",
      "36/36 [==============================] - 193s 5s/step - loss: 24578.3379 - val_loss: 161338.1719\n"
     ]
    }
   ],
   "source": [
    "#Train the CNN\n",
    "history = model.fit( X_train, Y_train, \n",
    "                    epochs = 15, batch_size = 100, \n",
    "                    callbacks=[save_best2], verbose=1, \n",
    "                   validation_data = (X_val, Y_val))"
   ]
  },
  {
   "cell_type": "code",
   "execution_count": 39,
   "id": "29581fa0-6426-48ab-b0b2-157032856ed3",
   "metadata": {},
   "outputs": [
    {
     "data": {
      "image/png": "[encoded data removed]",
      "text/plain": [
       "<Figure size 432x360 with 1 Axes>"
      ]
     },
     "metadata": {
      "needs_background": "light"
     },
     "output_type": "display_data"
    }
   ],
   "source": [
    "plt.figure(figsize=(6, 5))\n",
    "plt.plot(history.history['loss'], color='r')\n",
    "plt.plot(history.history['val_loss'], color='g')\n",
    "plt.show()"
   ]
  },
  {
   "cell_type": "code",
   "execution_count": 40,
   "id": "7a5da000-c7fc-4056-af7f-48766369ff6c",
   "metadata": {},
   "outputs": [
    {
     "name": "stdout",
     "output_type": "stream",
     "text": [
      "38/38 [==============================] - 10s 244ms/step\n"
     ]
    }
   ],
   "source": [
    "Y_pred = np.round(model.predict(X_test))"
   ]
  },
  {
   "cell_type": "code",
   "execution_count": 41,
   "id": "4585affa-5242-4b31-bb32-54986afb85aa",
   "metadata": {},
   "outputs": [
    {
     "name": "stdout",
     "output_type": "stream",
     "text": [
      "Root Mean Squared Error: 434.6618463271156\n",
      "Test R^2 Score: 0.24056\n"
     ]
    }
   ],
   "source": [
    "# Calculate the mean squared error\n",
    "mse = mean_squared_error(Y_test, Y_pred)\n",
    "\n",
    "# Calculate the root mean squared error\n",
    "rmse = np.sqrt(mse)\n",
    "\n",
    "print(\"Root Mean Squared Error:\", rmse)\n",
    "\n",
    "r2 = r2_score(Y_test, Y_pred)\n",
    "print(\"Test R^2 Score: {:.5f}\".format(r2))"
   ]
  },
  {
   "cell_type": "code",
   "execution_count": 42,
   "id": "3d3e7d66-3e38-43b6-bfde-5ceeba8737a4",
   "metadata": {},
   "outputs": [],
   "source": [
    "image_sub = []"
   ]
  },
  {
   "cell_type": "code",
   "execution_count": 43,
   "id": "661d5526-76bd-45f4-8276-756c1508aba5",
   "metadata": {},
   "outputs": [],
   "source": [
    "image_test = Path('C:/Users/vasan/OneDrive/EmissionsDatathon/Dataset/Data/Test')"
   ]
  },
  {
   "cell_type": "code",
   "execution_count": 44,
   "id": "7ba861fa-0db5-41f4-bf1d-5679c95f835b",
   "metadata": {},
   "outputs": [],
   "source": [
    "testpaths = pd.Series(list(image_test.glob(r'**/*.png')), name='Testpath').astype(str)"
   ]
  },
  {
   "cell_type": "code",
   "execution_count": 45,
   "id": "228b78a3-893c-448e-bea1-bfc690c79f29",
   "metadata": {},
   "outputs": [],
   "source": [
    "df_testpaths = testpaths.to_frame()"
   ]
  },
  {
   "cell_type": "code",
   "execution_count": 46,
   "id": "c6232678-a1bd-4571-a914-14dbb9299525",
   "metadata": {},
   "outputs": [],
   "source": [
    "res = os.listdir(image_test)\n",
    "df_testpaths['Name'] = pd.DataFrame (res, columns = ['TestName'])"
   ]
  },
  {
   "cell_type": "code",
   "execution_count": 47,
   "id": "ac73cb3b-ebee-451e-8d24-5913a0bfe783",
   "metadata": {},
   "outputs": [],
   "source": [
    "def image_processingsub(fil):\n",
    "#Open image and import it as a numpy array\n",
    "    \n",
    "    \n",
    "    im2 = imread(fil)\n",
    "    im2 = cv2.resize(im2, (217, 217))\n",
    "    im2_rgb = color.rgba2rgb(im2)\n",
    "    im2_hsv = rgb2hsv(im2_rgb)\n",
    "    \n",
    "    mask = im2_hsv[:,:,1] > 0.4\n",
    "    \n",
    "    red = im2[:,:,0]*mask\n",
    "    green = im2[:,:,1]*mask\n",
    "    blue = im2[:,:,2]*mask\n",
    "    mask2 = np.dstack((red,green,blue))\n",
    "    \n",
    "    feature_matrix = np.zeros((217,217))\n",
    "    \n",
    "    for i in range(0,mask2.shape[0]):\n",
    "        for j in range(0,mask2.shape[1]):\n",
    "            feature_matrix[i][j] = ((int(mask2[i,j,0]) + int(mask2[i,j,1]) + int(mask2[i,j,2]))/3)\n",
    "        \n",
    "    features = np.reshape(feature_matrix, (217*217))\n",
    "    \n",
    "    return features"
   ]
  },
  {
   "cell_type": "code",
   "execution_count": 48,
   "id": "ab726686-b9d9-434f-affc-4972a2249ff0",
   "metadata": {},
   "outputs": [
    {
     "name": "stderr",
     "output_type": "stream",
     "text": [
      "100%|██████████| 20/20 [00:01<00:00, 17.28it/s]\n"
     ]
    }
   ],
   "source": [
    "for file in tqdm(df_testpaths['Testpath'].tolist()[:]):\n",
    "    image_sub.append(image_processingsub(file))"
   ]
  },
  {
   "cell_type": "code",
   "execution_count": 49,
   "id": "8707c82c-753e-488d-9301-be063e086109",
   "metadata": {},
   "outputs": [],
   "source": [
    "X_sub = np.array(image_sub)"
   ]
  },
  {
   "cell_type": "code",
   "execution_count": 50,
   "id": "30e6f373-01df-49bc-be30-2b20c8ff8c12",
   "metadata": {},
   "outputs": [
    {
     "data": {
      "text/plain": [
       "(20, 47089)"
      ]
     },
     "execution_count": 50,
     "metadata": {},
     "output_type": "execute_result"
    }
   ],
   "source": [
    "X_sub.shape"
   ]
  },
  {
   "cell_type": "code",
   "execution_count": 51,
   "id": "dedc438b-eb8f-45ae-bb5f-db5e13a23115",
   "metadata": {},
   "outputs": [],
   "source": [
    "np.save('sub_image.npy',X_sub,allow_pickle=True)"
   ]
  },
  {
   "cell_type": "code",
   "execution_count": 52,
   "id": "f349b54e-01ae-471b-a7b8-d486b1a943c4",
   "metadata": {},
   "outputs": [],
   "source": [
    "X_sub = X_sub.reshape(X_sub.shape[0], img_rows, img_cols, 1)\n",
    "X_sub = X_sub.reshape(X_sub.shape[0], img_rows, img_cols, 1)"
   ]
  },
  {
   "cell_type": "code",
   "execution_count": 53,
   "id": "e6f84ba3-e8c1-4b82-ac69-f0ceb9819e64",
   "metadata": {},
   "outputs": [
    {
     "name": "stdout",
     "output_type": "stream",
     "text": [
      "1/1 [==============================] - 0s 184ms/step\n"
     ]
    }
   ],
   "source": [
    "Y_sub = np.round(model.predict(X_sub))"
   ]
  },
  {
   "cell_type": "code",
   "execution_count": 54,
   "id": "53b86170-1999-4bd8-b1a3-7326549ba02d",
   "metadata": {},
   "outputs": [
    {
     "data": {
      "text/plain": [
       "array([[237.],\n",
       "       [527.],\n",
       "       [270.],\n",
       "       [177.],\n",
       "       [181.],\n",
       "       [428.],\n",
       "       [566.],\n",
       "       [293.],\n",
       "       [408.],\n",
       "       [332.],\n",
       "       [259.],\n",
       "       [311.],\n",
       "       [256.],\n",
       "       [164.],\n",
       "       [360.],\n",
       "       [ 79.],\n",
       "       [405.],\n",
       "       [271.],\n",
       "       [305.],\n",
       "       [155.]], dtype=float32)"
      ]
     },
     "execution_count": 54,
     "metadata": {},
     "output_type": "execute_result"
    }
   ],
   "source": [
    "Y_sub"
   ]
  },
  {
   "cell_type": "code",
   "execution_count": 55,
   "id": "f620a48c-681e-4143-9dc4-468647daddb3",
   "metadata": {},
   "outputs": [],
   "source": [
    "np.savetxt('16b.csv', Y_sub, delimiter=',')"
   ]
  },
  {
   "cell_type": "code",
   "execution_count": null,
   "id": "76dc7ca7-233f-47e9-875e-513fab52a4d2",
   "metadata": {},
   "outputs": [],
   "source": []
  }
 ],
 "metadata": {
  "kernelspec": {
   "display_name": "Python 3 (ipykernel)",
   "language": "python",
   "name": "python3"
  },
  "language_info": {
   "codemirror_mode": {
    "name": "ipython",
    "version": 3
   },
   "file_extension": ".py",
   "mimetype": "text/x-python",
   "name": "python",
   "nbconvert_exporter": "python",
   "pygments_lexer": "ipython3",
   "version": "3.9.7"
  }
 },
 "nbformat": 4,
 "nbformat_minor": 5
}
