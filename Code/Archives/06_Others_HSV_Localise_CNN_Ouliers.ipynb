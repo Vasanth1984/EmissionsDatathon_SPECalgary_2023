{
 "cells": [
  {
   "cell_type": "markdown",
   "id": "9139b738-8829-43a7-90bc-d6c3fd138023",
   "metadata": {},
   "source": [
    "# #1 Emissions Datathon - Permian, Mean Pixel values and CNN"
   ]
  },
  {
   "cell_type": "markdown",
   "id": "5fb61d2f-b73a-4b79-9630-c8a906fa7827",
   "metadata": {},
   "source": [
    "### Prepare Dataframe"
   ]
  },
  {
   "cell_type": "code",
   "execution_count": 1,
   "id": "f23682aa-213d-41bc-9bf2-c3dff7591141",
   "metadata": {},
   "outputs": [],
   "source": [
    "import numpy as np\n",
    "import pandas as pd\n",
    "from pathlib import Path\n",
    "import os.path\n",
    "\n",
    "# Data visualization\n",
    "import matplotlib as mpl\n",
    "import matplotlib.pyplot as plt\n",
    "mpl.rcParams.update({'figure.max_open_warning': 0})\n",
    "from matplotlib.pyplot import *\n",
    "import imageio\n",
    "from skimage.io import imread\n",
    "\n",
    "from tqdm import tqdm\n",
    "\n",
    "import cv2   #For image processing\n",
    "\n",
    "import tensorflow as tf\n",
    "#All tensorflow utilities for creating, training and working with a CNN\n",
    "from tensorflow.keras.utils import to_categorical\n",
    "from tensorflow.keras.models import Sequential\n",
    "from tensorflow.keras.layers import Conv2D, MaxPool2D, BatchNormalization\n",
    "from tensorflow.keras.layers import Activation, Dropout, Flatten, Dense\n",
    "from tensorflow.keras.losses import categorical_crossentropy\n",
    "from tensorflow.keras.optimizers import Adam\n",
    "from tensorflow.keras.callbacks import ModelCheckpoint\n",
    "from tensorflow.keras.models import load_model\n",
    "\n",
    "\n",
    "\n",
    "from sklearn.preprocessing import LabelEncoder    #For encoding categorical variables\n",
    "from sklearn.model_selection import train_test_split #For splitting of data\n",
    "from sklearn.metrics import r2_score\n",
    "from sklearn.metrics import mean_squared_error\n",
    "\n",
    "from skimage.io import imread, imshow\n",
    "from skimage.color import rgb2gray, rgb2hsv, rgba2rgb\n",
    "from skimage.morphology import area_opening\n",
    "from skimage.exposure import histogram\n",
    "from skimage.filters import threshold_otsu\n",
    "from skimage import io, color"
   ]
  },
  {
   "cell_type": "code",
   "execution_count": 2,
   "id": "f2281651-61bb-4629-91da-12e8129a472f",
   "metadata": {},
   "outputs": [],
   "source": [
    "image_train = Path('C:/Users/vasan/OneDrive/EmissionsDatathon/Dataset/Data/Train2')\n",
    "\n",
    "dir_name = r'C:\\Users\\vasan\\OneDrive\\EmissionsDatathon\\Zeroing Methane Emissions - Dataset'\n",
    "filename_suffix = 'csv'"
   ]
  },
  {
   "cell_type": "code",
   "execution_count": 3,
   "id": "915e4ce3-1c79-476a-a969-045f672fb8ac",
   "metadata": {},
   "outputs": [],
   "source": [
    "filepaths = pd.Series(list(image_train.glob(r'**/*.png')), name='Filepath').astype(str)"
   ]
  },
  {
   "cell_type": "code",
   "execution_count": 4,
   "id": "43bf3159-7da9-43a0-b910-6e92e0f91db0",
   "metadata": {},
   "outputs": [
    {
     "data": {
      "text/plain": [
       "0    C:\\Users\\vasan\\OneDrive\\EmissionsDatathon\\Data...\n",
       "1    C:\\Users\\vasan\\OneDrive\\EmissionsDatathon\\Data...\n",
       "2    C:\\Users\\vasan\\OneDrive\\EmissionsDatathon\\Data...\n",
       "3    C:\\Users\\vasan\\OneDrive\\EmissionsDatathon\\Data...\n",
       "4    C:\\Users\\vasan\\OneDrive\\EmissionsDatathon\\Data...\n",
       "Name: Filepath, dtype: object"
      ]
     },
     "execution_count": 4,
     "metadata": {},
     "output_type": "execute_result"
    }
   ],
   "source": [
    "filepaths.head()"
   ]
  },
  {
   "cell_type": "code",
   "execution_count": 5,
   "id": "03cf1cdd-4e39-4f87-90f9-69679fe6d6e9",
   "metadata": {},
   "outputs": [],
   "source": [
    "df_filepaths = filepaths.to_frame()"
   ]
  },
  {
   "cell_type": "code",
   "execution_count": 6,
   "id": "ac8e4d86-feaa-4ac6-b57c-8f5248459bec",
   "metadata": {},
   "outputs": [],
   "source": [
    "res = os.listdir(image_train)\n",
    "df_filepaths['Name'] = pd.DataFrame (res, columns = ['FileName'])"
   ]
  },
  {
   "cell_type": "code",
   "execution_count": 7,
   "id": "31eaa0e8-0cbe-4ea5-ab30-31a695a703ce",
   "metadata": {},
   "outputs": [],
   "source": [
    "df_filepaths['candidate_id'] = [x.split('_')[-0] for x in df_filepaths['Name']]"
   ]
  },
  {
   "cell_type": "code",
   "execution_count": 8,
   "id": "6419df20-bbdf-461f-b490-fc9bcc5d10db",
   "metadata": {},
   "outputs": [],
   "source": [
    "df_filepaths.to_excel(\"all.xlsx\")  "
   ]
  },
  {
   "cell_type": "code",
   "execution_count": 9,
   "id": "efd95ce2-9bf3-4e27-b4a3-bc8115a8ed30",
   "metadata": {},
   "outputs": [
    {
     "data": {
      "text/html": [
       "<div>\n",
       "<style scoped>\n",
       "    .dataframe tbody tr th:only-of-type {\n",
       "        vertical-align: middle;\n",
       "    }\n",
       "\n",
       "    .dataframe tbody tr th {\n",
       "        vertical-align: top;\n",
       "    }\n",
       "\n",
       "    .dataframe thead th {\n",
       "        text-align: right;\n",
       "    }\n",
       "</style>\n",
       "<table border=\"1\" class=\"dataframe\">\n",
       "  <thead>\n",
       "    <tr style=\"text-align: right;\">\n",
       "      <th></th>\n",
       "      <th>Unnamed: 0</th>\n",
       "      <th>source_id</th>\n",
       "      <th>candidate_id</th>\n",
       "      <th>plume_lat</th>\n",
       "      <th>plume_lon</th>\n",
       "      <th>date</th>\n",
       "      <th>source_type</th>\n",
       "      <th>ipcc</th>\n",
       "      <th>qplume</th>\n",
       "      <th>sigma_qplume</th>\n",
       "      <th>time_of_detection</th>\n",
       "      <th>plume_tif</th>\n",
       "      <th>rgb_tif</th>\n",
       "    </tr>\n",
       "  </thead>\n",
       "  <tbody>\n",
       "    <tr>\n",
       "      <th>0</th>\n",
       "      <td>0</td>\n",
       "      <td>A0001</td>\n",
       "      <td>GAO20210712t153850p0000-A</td>\n",
       "      <td>40.586588</td>\n",
       "      <td>-104.82330</td>\n",
       "      <td>2021-07-12 00:00:00</td>\n",
       "      <td>landfill</td>\n",
       "      <td>6A Solid Waste Disposal On Land</td>\n",
       "      <td>198.690714</td>\n",
       "      <td>56.089373</td>\n",
       "      <td>NaN</td>\n",
       "      <td>NaN</td>\n",
       "      <td>NaN</td>\n",
       "    </tr>\n",
       "    <tr>\n",
       "      <th>1</th>\n",
       "      <td>1</td>\n",
       "      <td>A0002</td>\n",
       "      <td>GAO20210720t152559p0000-A</td>\n",
       "      <td>40.574605</td>\n",
       "      <td>-104.68813</td>\n",
       "      <td>2021-07-20 00:00:00</td>\n",
       "      <td>livestock</td>\n",
       "      <td>3A2 Manure Management</td>\n",
       "      <td>659.384534</td>\n",
       "      <td>215.976289</td>\n",
       "      <td>NaN</td>\n",
       "      <td>NaN</td>\n",
       "      <td>NaN</td>\n",
       "    </tr>\n",
       "    <tr>\n",
       "      <th>2</th>\n",
       "      <td>2</td>\n",
       "      <td>A0002</td>\n",
       "      <td>GAO20210712t153850p0000-B</td>\n",
       "      <td>40.574387</td>\n",
       "      <td>-104.68855</td>\n",
       "      <td>2021-07-12 00:00:00</td>\n",
       "      <td>livestock</td>\n",
       "      <td>3A2 Manure Management</td>\n",
       "      <td>458.494606</td>\n",
       "      <td>167.196121</td>\n",
       "      <td>NaN</td>\n",
       "      <td>NaN</td>\n",
       "      <td>NaN</td>\n",
       "    </tr>\n",
       "    <tr>\n",
       "      <th>3</th>\n",
       "      <td>3</td>\n",
       "      <td>A0002</td>\n",
       "      <td>GAO20210718t152410p0000-B</td>\n",
       "      <td>40.573827</td>\n",
       "      <td>-104.68812</td>\n",
       "      <td>2021-07-18 00:00:00</td>\n",
       "      <td>livestock</td>\n",
       "      <td>3A2 Manure Management</td>\n",
       "      <td>242.145473</td>\n",
       "      <td>140.004235</td>\n",
       "      <td>NaN</td>\n",
       "      <td>NaN</td>\n",
       "      <td>NaN</td>\n",
       "    </tr>\n",
       "    <tr>\n",
       "      <th>4</th>\n",
       "      <td>4</td>\n",
       "      <td>A0003</td>\n",
       "      <td>GAO20210712t153850p0000-C</td>\n",
       "      <td>40.572121</td>\n",
       "      <td>-104.68871</td>\n",
       "      <td>2021-07-12 00:00:00</td>\n",
       "      <td>livestock</td>\n",
       "      <td>3A2 Manure Management</td>\n",
       "      <td>425.330806</td>\n",
       "      <td>171.220361</td>\n",
       "      <td>NaN</td>\n",
       "      <td>NaN</td>\n",
       "      <td>NaN</td>\n",
       "    </tr>\n",
       "  </tbody>\n",
       "</table>\n",
       "</div>"
      ],
      "text/plain": [
       "   Unnamed: 0 source_id               candidate_id  plume_lat  plume_lon  \\\n",
       "0           0     A0001  GAO20210712t153850p0000-A  40.586588 -104.82330   \n",
       "1           1     A0002  GAO20210720t152559p0000-A  40.574605 -104.68813   \n",
       "2           2     A0002  GAO20210712t153850p0000-B  40.574387 -104.68855   \n",
       "3           3     A0002  GAO20210718t152410p0000-B  40.573827 -104.68812   \n",
       "4           4     A0003  GAO20210712t153850p0000-C  40.572121 -104.68871   \n",
       "\n",
       "                  date source_type                             ipcc  \\\n",
       "0  2021-07-12 00:00:00    landfill  6A Solid Waste Disposal On Land   \n",
       "1  2021-07-20 00:00:00   livestock            3A2 Manure Management   \n",
       "2  2021-07-12 00:00:00   livestock            3A2 Manure Management   \n",
       "3  2021-07-18 00:00:00   livestock            3A2 Manure Management   \n",
       "4  2021-07-12 00:00:00   livestock            3A2 Manure Management   \n",
       "\n",
       "       qplume  sigma_qplume time_of_detection plume_tif rgb_tif  \n",
       "0  198.690714     56.089373               NaN       NaN     NaN  \n",
       "1  659.384534    215.976289               NaN       NaN     NaN  \n",
       "2  458.494606    167.196121               NaN       NaN     NaN  \n",
       "3  242.145473    140.004235               NaN       NaN     NaN  \n",
       "4  425.330806    171.220361               NaN       NaN     NaN  "
      ]
     },
     "execution_count": 9,
     "metadata": {},
     "output_type": "execute_result"
    }
   ],
   "source": [
    "skiprows = 0\n",
    "#Means read in the ',' as thousand seperator. Also drops all columns which are unnamed.\n",
    "df = pd.read_csv(\"plume_attribution_2019-2022 Jeremy Zhao.csv\", thousands=',', skiprows = skiprows)\n",
    "#df = df.loc[:, ~df.columns.str.contains('^Unnamed')] \n",
    "df.head()"
   ]
  },
  {
   "cell_type": "code",
   "execution_count": 10,
   "id": "1c4fbf33-3c81-47c0-aaa7-b2a2122609f1",
   "metadata": {},
   "outputs": [
    {
     "data": {
      "text/plain": [
       "7292"
      ]
     },
     "execution_count": 10,
     "metadata": {},
     "output_type": "execute_result"
    }
   ],
   "source": [
    "df['candidate_id'].nunique()"
   ]
  },
  {
   "cell_type": "code",
   "execution_count": 11,
   "id": "ef7864b7-0ffb-4f39-98f9-ca3ae87f3dc1",
   "metadata": {},
   "outputs": [
    {
     "data": {
      "text/plain": [
       "(8752, 13)"
      ]
     },
     "execution_count": 11,
     "metadata": {},
     "output_type": "execute_result"
    }
   ],
   "source": [
    "df.shape"
   ]
  },
  {
   "cell_type": "code",
   "execution_count": 12,
   "id": "4a86fb98-5fed-46e1-8af9-2633b97daa28",
   "metadata": {},
   "outputs": [],
   "source": [
    "dup = df[df['candidate_id'].duplicated() == True]"
   ]
  },
  {
   "cell_type": "code",
   "execution_count": 13,
   "id": "33842b9f-d65b-4ce7-b9cd-29affe5b8f81",
   "metadata": {},
   "outputs": [],
   "source": [
    "#dup.to_excel(\"dup.xlsx\")  "
   ]
  },
  {
   "cell_type": "code",
   "execution_count": 14,
   "id": "ede84f66-a3ee-44f2-adf8-1e0a207c55dd",
   "metadata": {},
   "outputs": [],
   "source": [
    "#df.to_excel(\"df.xlsx\")  "
   ]
  },
  {
   "cell_type": "code",
   "execution_count": 15,
   "id": "cb11099e-641f-40c8-b8f4-3f9402e8b6c1",
   "metadata": {},
   "outputs": [],
   "source": [
    "df = df.drop_duplicates(subset='candidate_id', keep=\"first\")"
   ]
  },
  {
   "cell_type": "code",
   "execution_count": 16,
   "id": "223c03a9-f156-44fe-86e7-47afc2064764",
   "metadata": {},
   "outputs": [
    {
     "name": "stdout",
     "output_type": "stream",
     "text": [
      "(7292, 13)\n",
      "(3059, 3)\n"
     ]
    }
   ],
   "source": [
    "print(df.shape)\n",
    "print(df_filepaths.shape)"
   ]
  },
  {
   "cell_type": "code",
   "execution_count": 17,
   "id": "09dca47b-5869-4f5e-a15c-bdb09d50101b",
   "metadata": {},
   "outputs": [],
   "source": [
    "df2 = pd.merge(df, df_filepaths, on='candidate_id')"
   ]
  },
  {
   "cell_type": "code",
   "execution_count": 18,
   "id": "6315b5cb-72ec-4f1a-8728-2f698c1fe5f9",
   "metadata": {},
   "outputs": [
    {
     "name": "stdout",
     "output_type": "stream",
     "text": [
      "(3058, 15)\n"
     ]
    }
   ],
   "source": [
    "print(df2.shape)"
   ]
  },
  {
   "cell_type": "code",
   "execution_count": 19,
   "id": "7e8193ed-1738-4d02-80ee-5fe5c7a74a8c",
   "metadata": {},
   "outputs": [
    {
     "data": {
      "text/html": [
       "<div>\n",
       "<style scoped>\n",
       "    .dataframe tbody tr th:only-of-type {\n",
       "        vertical-align: middle;\n",
       "    }\n",
       "\n",
       "    .dataframe tbody tr th {\n",
       "        vertical-align: top;\n",
       "    }\n",
       "\n",
       "    .dataframe thead th {\n",
       "        text-align: right;\n",
       "    }\n",
       "</style>\n",
       "<table border=\"1\" class=\"dataframe\">\n",
       "  <thead>\n",
       "    <tr style=\"text-align: right;\">\n",
       "      <th></th>\n",
       "      <th>Unnamed: 0</th>\n",
       "      <th>source_id</th>\n",
       "      <th>candidate_id</th>\n",
       "      <th>plume_lat</th>\n",
       "      <th>plume_lon</th>\n",
       "      <th>date</th>\n",
       "      <th>source_type</th>\n",
       "      <th>ipcc</th>\n",
       "      <th>qplume</th>\n",
       "      <th>sigma_qplume</th>\n",
       "      <th>time_of_detection</th>\n",
       "      <th>plume_tif</th>\n",
       "      <th>rgb_tif</th>\n",
       "      <th>Filepath</th>\n",
       "      <th>Name</th>\n",
       "    </tr>\n",
       "  </thead>\n",
       "  <tbody>\n",
       "    <tr>\n",
       "      <th>0</th>\n",
       "      <td>0</td>\n",
       "      <td>A0001</td>\n",
       "      <td>GAO20210712t153850p0000-A</td>\n",
       "      <td>40.586588</td>\n",
       "      <td>-104.82330</td>\n",
       "      <td>2021-07-12 00:00:00</td>\n",
       "      <td>landfill</td>\n",
       "      <td>6A Solid Waste Disposal On Land</td>\n",
       "      <td>198.690714</td>\n",
       "      <td>56.089373</td>\n",
       "      <td>NaN</td>\n",
       "      <td>NaN</td>\n",
       "      <td>NaN</td>\n",
       "      <td>C:\\Users\\vasan\\OneDrive\\EmissionsDatathon\\Data...</td>\n",
       "      <td>GAO20210712t153850p0000-A_r174_c3465-plume.png</td>\n",
       "    </tr>\n",
       "    <tr>\n",
       "      <th>1</th>\n",
       "      <td>1</td>\n",
       "      <td>A0002</td>\n",
       "      <td>GAO20210720t152559p0000-A</td>\n",
       "      <td>40.574605</td>\n",
       "      <td>-104.68813</td>\n",
       "      <td>2021-07-20 00:00:00</td>\n",
       "      <td>livestock</td>\n",
       "      <td>3A2 Manure Management</td>\n",
       "      <td>659.384534</td>\n",
       "      <td>215.976289</td>\n",
       "      <td>NaN</td>\n",
       "      <td>NaN</td>\n",
       "      <td>NaN</td>\n",
       "      <td>C:\\Users\\vasan\\OneDrive\\EmissionsDatathon\\Data...</td>\n",
       "      <td>GAO20210720t152559p0000-A_r380_c5956-plume.png</td>\n",
       "    </tr>\n",
       "    <tr>\n",
       "      <th>2</th>\n",
       "      <td>2</td>\n",
       "      <td>A0002</td>\n",
       "      <td>GAO20210712t153850p0000-B</td>\n",
       "      <td>40.574387</td>\n",
       "      <td>-104.68855</td>\n",
       "      <td>2021-07-12 00:00:00</td>\n",
       "      <td>livestock</td>\n",
       "      <td>3A2 Manure Management</td>\n",
       "      <td>458.494606</td>\n",
       "      <td>167.196121</td>\n",
       "      <td>NaN</td>\n",
       "      <td>NaN</td>\n",
       "      <td>NaN</td>\n",
       "      <td>C:\\Users\\vasan\\OneDrive\\EmissionsDatathon\\Data...</td>\n",
       "      <td>GAO20210712t153850p0000-B_r468_c6000-plume.png</td>\n",
       "    </tr>\n",
       "    <tr>\n",
       "      <th>3</th>\n",
       "      <td>3</td>\n",
       "      <td>A0002</td>\n",
       "      <td>GAO20210718t152410p0000-B</td>\n",
       "      <td>40.573827</td>\n",
       "      <td>-104.68812</td>\n",
       "      <td>2021-07-18 00:00:00</td>\n",
       "      <td>livestock</td>\n",
       "      <td>3A2 Manure Management</td>\n",
       "      <td>242.145473</td>\n",
       "      <td>140.004235</td>\n",
       "      <td>NaN</td>\n",
       "      <td>NaN</td>\n",
       "      <td>NaN</td>\n",
       "      <td>C:\\Users\\vasan\\OneDrive\\EmissionsDatathon\\Data...</td>\n",
       "      <td>GAO20210718t152410p0000-B_r406_c6016-plume.png</td>\n",
       "    </tr>\n",
       "    <tr>\n",
       "      <th>4</th>\n",
       "      <td>4</td>\n",
       "      <td>A0003</td>\n",
       "      <td>GAO20210712t153850p0000-C</td>\n",
       "      <td>40.572121</td>\n",
       "      <td>-104.68871</td>\n",
       "      <td>2021-07-12 00:00:00</td>\n",
       "      <td>livestock</td>\n",
       "      <td>3A2 Manure Management</td>\n",
       "      <td>425.330806</td>\n",
       "      <td>171.220361</td>\n",
       "      <td>NaN</td>\n",
       "      <td>NaN</td>\n",
       "      <td>NaN</td>\n",
       "      <td>C:\\Users\\vasan\\OneDrive\\EmissionsDatathon\\Data...</td>\n",
       "      <td>GAO20210712t153850p0000-C_r524_c5997-plume.png</td>\n",
       "    </tr>\n",
       "  </tbody>\n",
       "</table>\n",
       "</div>"
      ],
      "text/plain": [
       "   Unnamed: 0 source_id               candidate_id  plume_lat  plume_lon  \\\n",
       "0           0     A0001  GAO20210712t153850p0000-A  40.586588 -104.82330   \n",
       "1           1     A0002  GAO20210720t152559p0000-A  40.574605 -104.68813   \n",
       "2           2     A0002  GAO20210712t153850p0000-B  40.574387 -104.68855   \n",
       "3           3     A0002  GAO20210718t152410p0000-B  40.573827 -104.68812   \n",
       "4           4     A0003  GAO20210712t153850p0000-C  40.572121 -104.68871   \n",
       "\n",
       "                  date source_type                             ipcc  \\\n",
       "0  2021-07-12 00:00:00    landfill  6A Solid Waste Disposal On Land   \n",
       "1  2021-07-20 00:00:00   livestock            3A2 Manure Management   \n",
       "2  2021-07-12 00:00:00   livestock            3A2 Manure Management   \n",
       "3  2021-07-18 00:00:00   livestock            3A2 Manure Management   \n",
       "4  2021-07-12 00:00:00   livestock            3A2 Manure Management   \n",
       "\n",
       "       qplume  sigma_qplume time_of_detection plume_tif rgb_tif  \\\n",
       "0  198.690714     56.089373               NaN       NaN     NaN   \n",
       "1  659.384534    215.976289               NaN       NaN     NaN   \n",
       "2  458.494606    167.196121               NaN       NaN     NaN   \n",
       "3  242.145473    140.004235               NaN       NaN     NaN   \n",
       "4  425.330806    171.220361               NaN       NaN     NaN   \n",
       "\n",
       "                                            Filepath  \\\n",
       "0  C:\\Users\\vasan\\OneDrive\\EmissionsDatathon\\Data...   \n",
       "1  C:\\Users\\vasan\\OneDrive\\EmissionsDatathon\\Data...   \n",
       "2  C:\\Users\\vasan\\OneDrive\\EmissionsDatathon\\Data...   \n",
       "3  C:\\Users\\vasan\\OneDrive\\EmissionsDatathon\\Data...   \n",
       "4  C:\\Users\\vasan\\OneDrive\\EmissionsDatathon\\Data...   \n",
       "\n",
       "                                             Name  \n",
       "0  GAO20210712t153850p0000-A_r174_c3465-plume.png  \n",
       "1  GAO20210720t152559p0000-A_r380_c5956-plume.png  \n",
       "2  GAO20210712t153850p0000-B_r468_c6000-plume.png  \n",
       "3  GAO20210718t152410p0000-B_r406_c6016-plume.png  \n",
       "4  GAO20210712t153850p0000-C_r524_c5997-plume.png  "
      ]
     },
     "execution_count": 19,
     "metadata": {},
     "output_type": "execute_result"
    }
   ],
   "source": [
    "df2.head()"
   ]
  },
  {
   "cell_type": "code",
   "execution_count": 20,
   "id": "72ba5695-35e4-4243-908e-3d3474b50fde",
   "metadata": {},
   "outputs": [
    {
     "data": {
      "text/plain": [
       "3058"
      ]
     },
     "execution_count": 20,
     "metadata": {},
     "output_type": "execute_result"
    }
   ],
   "source": [
    "df2['candidate_id'].nunique()"
   ]
  },
  {
   "cell_type": "code",
   "execution_count": 21,
   "id": "26a30881-3b82-4c49-9472-e4866392690c",
   "metadata": {},
   "outputs": [],
   "source": [
    "df2=df2.dropna(subset=[\"qplume\"])"
   ]
  },
  {
   "cell_type": "code",
   "execution_count": 22,
   "id": "244e43cb-86f6-4fa7-89b9-43d7e0f78c63",
   "metadata": {},
   "outputs": [
    {
     "data": {
      "text/plain": [
       "(3056, 15)"
      ]
     },
     "execution_count": 22,
     "metadata": {},
     "output_type": "execute_result"
    }
   ],
   "source": [
    "df2.shape"
   ]
  },
  {
   "cell_type": "code",
   "execution_count": 23,
   "id": "5b0799c7-36e9-490f-8794-742a221e22a4",
   "metadata": {},
   "outputs": [
    {
     "name": "stdout",
     "output_type": "stream",
     "text": [
      "Upper limit 2805.5444311201527\n",
      "Lower limit -1772.573140739497\n"
     ]
    }
   ],
   "source": [
    "print(\"Upper limit\",df2['qplume'].mean() + 3*df2['qplume'].std())\n",
    "print(\"Lower limit\",df2['qplume'].mean() - 3*df2['qplume'].std())"
   ]
  },
  {
   "cell_type": "code",
   "execution_count": 24,
   "id": "c70089ca-552d-4c42-ad6b-08e14955b133",
   "metadata": {},
   "outputs": [
    {
     "data": {
      "text/plain": [
       "(2980, 15)"
      ]
     },
     "execution_count": 24,
     "metadata": {},
     "output_type": "execute_result"
    }
   ],
   "source": [
    "df2 = df2[(df2['qplume'] < 2805.5444311201527)]\n",
    "df2.shape"
   ]
  },
  {
   "cell_type": "code",
   "execution_count": 25,
   "id": "e835a1e2-54c4-4bb2-8629-ea8f98bf9081",
   "metadata": {},
   "outputs": [],
   "source": [
    "df2.to_excel(\"allfinal.xlsx\")  "
   ]
  },
  {
   "cell_type": "markdown",
   "id": "819fafa0-1d38-482d-a900-4b9e6f593299",
   "metadata": {},
   "source": [
    "### Image Processing"
   ]
  },
  {
   "cell_type": "code",
   "execution_count": 26,
   "id": "a7836140-7e87-45f8-ace5-e6c5be0599cd",
   "metadata": {},
   "outputs": [],
   "source": [
    "#def image_processing(fil):\n",
    "#Open image and import it as a numpy array\n",
    "#    image2 = imread(fil)\n",
    "    \n",
    "#    feature_matrix = np.zeros((217,217))\n",
    "    \n",
    "#    for i in range(0,image2.shape[0]):\n",
    "#        for j in range(0,image2.shape[1]):\n",
    "#            feature_matrix[i][j] = ((int(image2[i,j,0]) + int(image2[i,j,1]) + int(image2[i,j,2]))/3)\n",
    "        \n",
    "#    features = np.reshape(feature_matrix, (217*217))\n",
    "    \n",
    "#    return features"
   ]
  },
  {
   "cell_type": "code",
   "execution_count": 27,
   "id": "5b315a7e-f301-488f-bf99-1d3f40fa5b05",
   "metadata": {},
   "outputs": [],
   "source": [
    "def image_processing(fil):\n",
    "#Open image and import it as a numpy array\n",
    "    with open(fil, 'rb') as f:\n",
    "        im1 = f.read()\n",
    "    im1_data = np.frombuffer(im1, dtype='uint8')\n",
    "#Read the numpy arrays as color images in OpenCV\n",
    "    image_bgr2 = cv2.imdecode(im1_data, cv2.IMREAD_COLOR)\n",
    "#Convert to HSV for creating a mask\n",
    "    image_hsv = cv2.cvtColor(image_bgr2, cv2.COLOR_BGR2HSV)\n",
    "#Convert to grayscale that will actually be used for training, instead of color image \n",
    "    image_gray = cv2.cvtColor(image_bgr2, cv2.COLOR_BGR2GRAY)\n",
    "#Create a mask that detects the red rectangular tags present in each image\n",
    "    mask = cv2.inRange(image_hsv, (0,255,255), (0,255,255))\n",
    "#Get the coordinates of the red rectangle in the image, \n",
    "    #But take entire image if mask fails to detect the red rectangle\n",
    "    if len(np.where(mask != 0)[0]) != 0:\n",
    "        y1 = min(np.where(mask != 0)[0])\n",
    "        y2 = max(np.where(mask != 0)[0])\n",
    "    else:\n",
    "        y1 = 0                                     \n",
    "        y2 = len(mask)\n",
    "    if len(np.where(mask != 0)[1]) != 0:\n",
    "        x1 = min(np.where(mask != 0)[1])\n",
    "        x2 = max(np.where(mask != 0)[1])\n",
    "    else:\n",
    "        x1 = 0\n",
    "        x2 = len(mask[0])\n",
    "#Crop the grayscle image along those coordinates\n",
    "    image_cropped = image_gray[y1:y2, x1:x2]\n",
    "    if image_cropped.size ==0:\n",
    "        print(fil)\n",
    "        return image_cropped\n",
    "    else:\n",
    "    #Resize the image to 128x128 pixels size\n",
    "        image_128x128 = cv2.resize(image_cropped, (128, 128))\n",
    "#Save image as in form of array of 10000x1\n",
    "        image_arr = image_128x128.flatten()\n",
    "    return image_arr"
   ]
  },
  {
   "cell_type": "code",
   "execution_count": 28,
   "id": "c7c44448-edc5-4ad2-a8e8-081c6b22ec4c",
   "metadata": {},
   "outputs": [],
   "source": [
    "#Test Function\n",
    "#fil = \"C:/Users/vasan/OneDrive/EmissionsDatathon/Dataset/Data/Train/ang20190922t192642_ang20190922t192642-2_r4578_c217-plume.png\"\n",
    "#image_processing(fil)"
   ]
  },
  {
   "cell_type": "code",
   "execution_count": 29,
   "id": "978ec2d8-d66d-415f-9e0e-9d27401bde3d",
   "metadata": {},
   "outputs": [],
   "source": [
    "image_list = []"
   ]
  },
  {
   "cell_type": "code",
   "execution_count": 30,
   "id": "f0031733-4bc4-4cad-a19d-edbb1134fbcd",
   "metadata": {
    "collapsed": true,
    "jupyter": {
     "outputs_hidden": true
    },
    "tags": []
   },
   "outputs": [
    {
     "name": "stderr",
     "output_type": "stream",
     "text": [
      "  2%|▏         | 65/2980 [00:00<00:09, 323.12it/s]"
     ]
    },
    {
     "name": "stdout",
     "output_type": "stream",
     "text": [
      "C:\\Users\\vasan\\OneDrive\\EmissionsDatathon\\Dataset\\Data\\Train2\\GAO20210717t160446p0000-A_r83_c11006-plume.png\n",
      "C:\\Users\\vasan\\OneDrive\\EmissionsDatathon\\Dataset\\Data\\Train2\\GAO20210716t172622p0000-1_r116_c4995-plume.png\n"
     ]
    },
    {
     "name": "stderr",
     "output_type": "stream",
     "text": [
      "  6%|▌         | 178/2980 [00:00<00:07, 358.71it/s]"
     ]
    },
    {
     "name": "stdout",
     "output_type": "stream",
     "text": [
      "C:\\Users\\vasan\\OneDrive\\EmissionsDatathon\\Dataset\\Data\\Train2\\GAO20210513t145258p0000-1_r1185_c225-plume.png\n"
     ]
    },
    {
     "name": "stderr",
     "output_type": "stream",
     "text": [
      " 12%|█▏        | 347/2980 [00:01<00:08, 308.53it/s]"
     ]
    },
    {
     "name": "stdout",
     "output_type": "stream",
     "text": [
      "C:\\Users\\vasan\\OneDrive\\EmissionsDatathon\\Dataset\\Data\\Train2\\GAO20210507t163418p0000-1_r879_c1189-plume.png\n"
     ]
    },
    {
     "name": "stderr",
     "output_type": "stream",
     "text": [
      " 16%|█▌        | 483/2980 [00:01<00:07, 323.69it/s]"
     ]
    },
    {
     "name": "stdout",
     "output_type": "stream",
     "text": [
      "C:\\Users\\vasan\\OneDrive\\EmissionsDatathon\\Dataset\\Data\\Train2\\GAO20210726t181423p0000-P_r16958_c1929-plume.png\n",
      "C:\\Users\\vasan\\OneDrive\\EmissionsDatathon\\Dataset\\Data\\Train2\\GAO20210804t162811p0000-E_r14612_c1583-plume.png\n"
     ]
    },
    {
     "name": "stderr",
     "output_type": "stream",
     "text": [
      " 18%|█▊        | 549/2980 [00:01<00:07, 318.71it/s]"
     ]
    },
    {
     "name": "stdout",
     "output_type": "stream",
     "text": [
      "C:\\Users\\vasan\\OneDrive\\EmissionsDatathon\\Dataset\\Data\\Train2\\GAO20210726t203329p0000-A_r1107_c458-plume.png\n",
      "C:\\Users\\vasan\\OneDrive\\EmissionsDatathon\\Dataset\\Data\\Train2\\GAO20210809t160357p0000-D_r4537_c6107-plume.png\n",
      "C:\\Users\\vasan\\OneDrive\\EmissionsDatathon\\Dataset\\Data\\Train2\\GAO20210727t163026p0000-B_r3282_c7786-plume.png\n"
     ]
    },
    {
     "name": "stderr",
     "output_type": "stream",
     "text": [
      " 22%|██▏       | 642/2980 [00:02<00:08, 284.20it/s]"
     ]
    },
    {
     "name": "stdout",
     "output_type": "stream",
     "text": [
      "C:\\Users\\vasan\\OneDrive\\EmissionsDatathon\\Dataset\\Data\\Train2\\GAO20210727t170837p0000-C_r3091_c8239-plume.png\n",
      "C:\\Users\\vasan\\OneDrive\\EmissionsDatathon\\Dataset\\Data\\Train2\\GAO20210727t173519p0000-D_r4381_c7164-plume.png\n",
      "C:\\Users\\vasan\\OneDrive\\EmissionsDatathon\\Dataset\\Data\\Train2\\GAO20210727t182830p0000-A_r1001_c11412-plume.png\n"
     ]
    },
    {
     "name": "stderr",
     "output_type": "stream",
     "text": [
      " 24%|██▍       | 714/2980 [00:02<00:07, 315.96it/s]"
     ]
    },
    {
     "name": "stdout",
     "output_type": "stream",
     "text": [
      "C:\\Users\\vasan\\OneDrive\\EmissionsDatathon\\Dataset\\Data\\Train2\\GAO20210727t185504p0000-G_r1552_c10439-plume.png\n"
     ]
    },
    {
     "name": "stderr",
     "output_type": "stream",
     "text": [
      " 28%|██▊       | 848/2980 [00:02<00:06, 322.50it/s]"
     ]
    },
    {
     "name": "stdout",
     "output_type": "stream",
     "text": [
      "C:\\Users\\vasan\\OneDrive\\EmissionsDatathon\\Dataset\\Data\\Train2\\GAO20210806t152440p0000-F_r4111_c7453-plume.png\n",
      "C:\\Users\\vasan\\OneDrive\\EmissionsDatathon\\Dataset\\Data\\Train2\\GAO20210808t185754p0000-A_r5000_c901-plume.png\n",
      "C:\\Users\\vasan\\OneDrive\\EmissionsDatathon\\Dataset\\Data\\Train2\\GAO20210731t175256p0000-C_r11521_c1367-plume.png\n",
      "C:\\Users\\vasan\\OneDrive\\EmissionsDatathon\\Dataset\\Data\\Train2\\GAO20210804t153732p0000-A_r4134_c492-plume.png\n"
     ]
    },
    {
     "name": "stderr",
     "output_type": "stream",
     "text": [
      " 33%|███▎      | 994/2980 [00:03<00:05, 346.46it/s]"
     ]
    },
    {
     "name": "stdout",
     "output_type": "stream",
     "text": [
      "C:\\Users\\vasan\\OneDrive\\EmissionsDatathon\\Dataset\\Data\\Train2\\GAO20210804t184014p0000-B_r3175_c7561-plume.png\n",
      "C:\\Users\\vasan\\OneDrive\\EmissionsDatathon\\Dataset\\Data\\Train2\\GAO20210805t155713p0000-B_r7503_c2401-plume.png\n"
     ]
    },
    {
     "name": "stderr",
     "output_type": "stream",
     "text": [
      " 37%|███▋      | 1099/2980 [00:03<00:05, 343.97it/s]"
     ]
    },
    {
     "name": "stdout",
     "output_type": "stream",
     "text": [
      "C:\\Users\\vasan\\OneDrive\\EmissionsDatathon\\Dataset\\Data\\Train2\\GAO20210806t160316p0000-B_r1124_c10938-plume.png\n",
      "C:\\Users\\vasan\\OneDrive\\EmissionsDatathon\\Dataset\\Data\\Train2\\GAO20210806t160316p0000-F_r5482_c4647-plume.png\n"
     ]
    },
    {
     "name": "stderr",
     "output_type": "stream",
     "text": [
      " 39%|███▉      | 1172/2980 [00:03<00:05, 351.24it/s]"
     ]
    },
    {
     "name": "stdout",
     "output_type": "stream",
     "text": [
      "C:\\Users\\vasan\\OneDrive\\EmissionsDatathon\\Dataset\\Data\\Train2\\GAO20210807t182406p0000-F_r905_c10730-plume.png\n",
      "C:\\Users\\vasan\\OneDrive\\EmissionsDatathon\\Dataset\\Data\\Train2\\GAO20210807t181019p0000-C_r1525_c11102-plume.png\n",
      "C:\\Users\\vasan\\OneDrive\\EmissionsDatathon\\Dataset\\Data\\Train2\\GAO20210808t183912p0000-A_r5586_c1143-plume.png\n",
      "C:\\Users\\vasan\\OneDrive\\EmissionsDatathon\\Dataset\\Data\\Train2\\GAO20210808t185754p0000-D_r1766_c493-plume.png\n",
      "C:\\Users\\vasan\\OneDrive\\EmissionsDatathon\\Dataset\\Data\\Train2\\GAO20210809t182539p0000-B_r2175_c9318-plume.png\n"
     ]
    },
    {
     "name": "stderr",
     "output_type": "stream",
     "text": [
      " 42%|████▏     | 1251/2980 [00:03<00:04, 368.65it/s]"
     ]
    },
    {
     "name": "stdout",
     "output_type": "stream",
     "text": [
      "C:\\Users\\vasan\\OneDrive\\EmissionsDatathon\\Dataset\\Data\\Train2\\GAO20210810t190554p0000-A_r3689_c612-plume.png\n",
      "C:\\Users\\vasan\\OneDrive\\EmissionsDatathon\\Dataset\\Data\\Train2\\GAO20200718t182430p0001-C_r4488_c589-plume.png\n",
      "C:\\Users\\vasan\\OneDrive\\EmissionsDatathon\\Dataset\\Data\\Train2\\GAO20200713t160826p0000-A_r4584_c561-plume.png\n"
     ]
    },
    {
     "name": "stderr",
     "output_type": "stream",
     "text": [
      " 45%|████▍     | 1330/2980 [00:04<00:04, 381.61it/s]"
     ]
    },
    {
     "name": "stdout",
     "output_type": "stream",
     "text": [
      "C:\\Users\\vasan\\OneDrive\\EmissionsDatathon\\Dataset\\Data\\Train2\\GAO20200714t162941p0000-C_r4801_c6784-plume.png\n"
     ]
    },
    {
     "name": "stderr",
     "output_type": "stream",
     "text": [
      " 51%|█████▏    | 1533/2980 [00:04<00:03, 392.32it/s]"
     ]
    },
    {
     "name": "stdout",
     "output_type": "stream",
     "text": [
      "C:\\Users\\vasan\\OneDrive\\EmissionsDatathon\\Dataset\\Data\\Train2\\GAO20200715t180121p0000-B_r11865_c1261-plume.png\n",
      "C:\\Users\\vasan\\OneDrive\\EmissionsDatathon\\Dataset\\Data\\Train2\\GAO20200715t191219p0000-B_r3163_c703-plume.png\n"
     ]
    },
    {
     "name": "stderr",
     "output_type": "stream",
     "text": [
      " 55%|█████▌    | 1653/2980 [00:04<00:03, 382.12it/s]"
     ]
    },
    {
     "name": "stdout",
     "output_type": "stream",
     "text": [
      "C:\\Users\\vasan\\OneDrive\\EmissionsDatathon\\Dataset\\Data\\Train2\\GAO20200718t182430p0000-C_r5045_c652-plume.png\n",
      "C:\\Users\\vasan\\OneDrive\\EmissionsDatathon\\Dataset\\Data\\Train2\\GAO20200719t154650p0000-E_r510_c11874-plume.png\n",
      "C:\\Users\\vasan\\OneDrive\\EmissionsDatathon\\Dataset\\Data\\Train2\\GAO20200723t180941p0000-B_r1201_c9354-plume.png\n",
      "C:\\Users\\vasan\\OneDrive\\EmissionsDatathon\\Dataset\\Data\\Train2\\GAO20200723t182125p0000-C_r3408_c5284-plume.png\n",
      "C:\\Users\\vasan\\OneDrive\\EmissionsDatathon\\Dataset\\Data\\Train2\\GAO20200719t185315p0000-D_r4912_c5136-plume.png\n"
     ]
    },
    {
     "name": "stderr",
     "output_type": "stream",
     "text": [
      " 60%|█████▉    | 1779/2980 [00:05<00:02, 406.81it/s]"
     ]
    },
    {
     "name": "stdout",
     "output_type": "stream",
     "text": [
      "C:\\Users\\vasan\\OneDrive\\EmissionsDatathon\\Dataset\\Data\\Train2\\GAO20200721t160234p0000-C_r1738_c10339-plume.png\n",
      "C:\\Users\\vasan\\OneDrive\\EmissionsDatathon\\Dataset\\Data\\Train2\\GAO20200721t161457p0000-E_r1930_c10688-plume.png\n",
      "C:\\Users\\vasan\\OneDrive\\EmissionsDatathon\\Dataset\\Data\\Train2\\GAO20200724t171943p0000-D_r4029_c6972-plume.png\n",
      "C:\\Users\\vasan\\OneDrive\\EmissionsDatathon\\Dataset\\Data\\Train2\\GAO20200723t174534p0000-D_r1392_c9686-plume.png\n"
     ]
    },
    {
     "name": "stderr",
     "output_type": "stream",
     "text": [
      " 63%|██████▎   | 1866/2980 [00:05<00:02, 419.69it/s]"
     ]
    },
    {
     "name": "stdout",
     "output_type": "stream",
     "text": [
      "C:\\Users\\vasan\\OneDrive\\EmissionsDatathon\\Dataset\\Data\\Train2\\GAO20200805t183431p0000-B_r230_c8830-plume.png\n",
      "C:\\Users\\vasan\\OneDrive\\EmissionsDatathon\\Dataset\\Data\\Train2\\GAO20200806t164042p0000-A_r46_c6304-plume.png\n",
      "C:\\Users\\vasan\\OneDrive\\EmissionsDatathon\\Dataset\\Data\\Train2\\GAO20200807t163414p0000-A_r496_c411-plume.png\n"
     ]
    },
    {
     "name": "stderr",
     "output_type": "stream",
     "text": [
      " 66%|██████▌   | 1953/2980 [00:05<00:02, 406.77it/s]"
     ]
    },
    {
     "name": "stdout",
     "output_type": "stream",
     "text": [
      "C:\\Users\\vasan\\OneDrive\\EmissionsDatathon\\Dataset\\Data\\Train2\\GAO20200804t182106p0000-A_r1423_c319-plume.png\n",
      "C:\\Users\\vasan\\OneDrive\\EmissionsDatathon\\Dataset\\Data\\Train2\\GAO20200807t185425p0000-A_r382_c7789-plume.png\n",
      "C:\\Users\\vasan\\OneDrive\\EmissionsDatathon\\Dataset\\Data\\Train2\\GAO20200807t182439p0000-C_r94_c5348-plume.png\n",
      "C:\\Users\\vasan\\OneDrive\\EmissionsDatathon\\Dataset\\Data\\Train2\\GAO20200805t190335p0000-A_r381_c4588-plume.png\n",
      "C:\\Users\\vasan\\OneDrive\\EmissionsDatathon\\Dataset\\Data\\Train2\\GAO20200805t192315p0000-A_r477_c7054-plume.png\n",
      "C:\\Users\\vasan\\OneDrive\\EmissionsDatathon\\Dataset\\Data\\Train2\\GAO20200806t165004p0000-C_r231_c1453-plume.png\n",
      "C:\\Users\\vasan\\OneDrive\\EmissionsDatathon\\Dataset\\Data\\Train2\\GAO20200806t173006p0000-B_r629_c3887-plume.png\n",
      "C:\\Users\\vasan\\OneDrive\\EmissionsDatathon\\Dataset\\Data\\Train2\\GAO20200806t195450p0000-A_r328_c6738-plume.png\n",
      "C:\\Users\\vasan\\OneDrive\\EmissionsDatathon\\Dataset\\Data\\Train2\\GAO20200807t171423p0000-B_r199_c2674-plume.png\n",
      "C:\\Users\\vasan\\OneDrive\\EmissionsDatathon\\Dataset\\Data\\Train2\\GAO20201123t200335p0000-A_r557_c303-plume.png\n"
     ]
    },
    {
     "name": "stderr",
     "output_type": "stream",
     "text": [
      " 68%|██████▊   | 2034/2980 [00:05<00:02, 386.91it/s]"
     ]
    },
    {
     "name": "stdout",
     "output_type": "stream",
     "text": [
      "C:\\Users\\vasan\\OneDrive\\EmissionsDatathon\\Dataset\\Data\\Train2\\GAO20201110t182804p0000-A_r53_c219-plume.png\n",
      "C:\\Users\\vasan\\OneDrive\\EmissionsDatathon\\Dataset\\Data\\Train2\\GAO20201116t183823p0000-B_r1025_c953-plume.png\n",
      "C:\\Users\\vasan\\OneDrive\\EmissionsDatathon\\Dataset\\Data\\Train2\\GAO20201113t190013p0000-A_r3781_c4015-plume.png\n",
      "C:\\Users\\vasan\\OneDrive\\EmissionsDatathon\\Dataset\\Data\\Train2\\GAO20201123t195037p0000-B_r618_c829-plume.png\n"
     ]
    },
    {
     "name": "stderr",
     "output_type": "stream",
     "text": [
      " 72%|███████▏  | 2148/2980 [00:06<00:02, 363.20it/s]"
     ]
    },
    {
     "name": "stdout",
     "output_type": "stream",
     "text": [
      "C:\\Users\\vasan\\OneDrive\\EmissionsDatathon\\Dataset\\Data\\Train2\\GAO20201116t202002p0000-A_r6866_c6642-plume.png\n",
      "C:\\Users\\vasan\\OneDrive\\EmissionsDatathon\\Dataset\\Data\\Train2\\GAO20201122t184200p0000-A_r2284_c2497-plume.png\n",
      "C:\\Users\\vasan\\OneDrive\\EmissionsDatathon\\Dataset\\Data\\Train2\\ang20200901t204428-C_r9512_c170-plume.png\n"
     ]
    },
    {
     "name": "stderr",
     "output_type": "stream",
     "text": [
      " 75%|███████▍  | 2227/2980 [00:06<00:02, 375.60it/s]"
     ]
    },
    {
     "name": "stdout",
     "output_type": "stream",
     "text": [
      "C:\\Users\\vasan\\OneDrive\\EmissionsDatathon\\Dataset\\Data\\Train2\\ang20200727t202045-C_r6332_c174-plume.png\n",
      "C:\\Users\\vasan\\OneDrive\\EmissionsDatathon\\Dataset\\Data\\Train2\\ang20200727t211731-A_r6490_c95-plume.png\n",
      "C:\\Users\\vasan\\OneDrive\\EmissionsDatathon\\Dataset\\Data\\Train2\\ang20200828t192559-A_r5528_c424-plume.png\n",
      "C:\\Users\\vasan\\OneDrive\\EmissionsDatathon\\Dataset\\Data\\Train2\\ang20200722t194928-B_r5546_c421-plume.png\n",
      "C:\\Users\\vasan\\OneDrive\\EmissionsDatathon\\Dataset\\Data\\Train2\\ang20200708t202321-D_r2269_c116-plume.png\n"
     ]
    },
    {
     "name": "stderr",
     "output_type": "stream",
     "text": [
      " 77%|███████▋  | 2309/2980 [00:06<00:01, 390.86it/s]"
     ]
    },
    {
     "name": "stdout",
     "output_type": "stream",
     "text": [
      "C:\\Users\\vasan\\OneDrive\\EmissionsDatathon\\Dataset\\Data\\Train2\\ang20200708t203038-D_r4790_c390-plume.png\n",
      "C:\\Users\\vasan\\OneDrive\\EmissionsDatathon\\Dataset\\Data\\Train2\\ang20200723t190808-A_r8350_c144-plume.png\n",
      "C:\\Users\\vasan\\OneDrive\\EmissionsDatathon\\Dataset\\Data\\Train2\\ang20200828t190555-A_r8349_c114-plume.png\n",
      "C:\\Users\\vasan\\OneDrive\\EmissionsDatathon\\Dataset\\Data\\Train2\\ang20200722t193838-B_r4955_c396-plume.png\n",
      "C:\\Users\\vasan\\OneDrive\\EmissionsDatathon\\Dataset\\Data\\Train2\\ang20200901t194828-D_r4441_c374-plume.png\n",
      "C:\\Users\\vasan\\OneDrive\\EmissionsDatathon\\Dataset\\Data\\Train2\\ang20200723t213727-C_r2534_c376-plume.png\n",
      "C:\\Users\\vasan\\OneDrive\\EmissionsDatathon\\Dataset\\Data\\Train2\\ang20200901t213415-A_r2498_c565-plume.png\n",
      "C:\\Users\\vasan\\OneDrive\\EmissionsDatathon\\Dataset\\Data\\Train2\\ang20200714t201525-A_r1537_c175-plume.png\n"
     ]
    },
    {
     "name": "stderr",
     "output_type": "stream",
     "text": [
      " 80%|████████  | 2388/2980 [00:06<00:01, 377.57it/s]"
     ]
    },
    {
     "name": "stdout",
     "output_type": "stream",
     "text": [
      "C:\\Users\\vasan\\OneDrive\\EmissionsDatathon\\Dataset\\Data\\Train2\\ang20200727t212812-A_r1985_c-64-plume.png\n",
      "C:\\Users\\vasan\\OneDrive\\EmissionsDatathon\\Dataset\\Data\\Train2\\ang20200723t204848-C_r8594_c112-plume.png\n",
      "C:\\Users\\vasan\\OneDrive\\EmissionsDatathon\\Dataset\\Data\\Train2\\ang20200828t214929-A_r1861_c452-plume.png\n",
      "C:\\Users\\vasan\\OneDrive\\EmissionsDatathon\\Dataset\\Data\\Train2\\ang20200714t204231-A_r308_c586-plume.png\n",
      "C:\\Users\\vasan\\OneDrive\\EmissionsDatathon\\Dataset\\Data\\Train2\\ang20200901t212157-A_r1484_c294-plume.png\n"
     ]
    },
    {
     "name": "stderr",
     "output_type": "stream",
     "text": [
      " 87%|████████▋ | 2580/2980 [00:07<00:01, 355.58it/s]"
     ]
    },
    {
     "name": "stdout",
     "output_type": "stream",
     "text": [
      "C:\\Users\\vasan\\OneDrive\\EmissionsDatathon\\Dataset\\Data\\Train2\\ang20220501t173311-A_r14980_c567-plume.png\n",
      "C:\\Users\\vasan\\OneDrive\\EmissionsDatathon\\Dataset\\Data\\Train2\\ang20220323t210157-D_r14740_c564-plume.png\n",
      "C:\\Users\\vasan\\OneDrive\\EmissionsDatathon\\Dataset\\Data\\Train2\\ang20220324t170857-B_r6906_c448-plume.png\n",
      "C:\\Users\\vasan\\OneDrive\\EmissionsDatathon\\Dataset\\Data\\Train2\\ang20220415t182136-H_r19279_c119-plume.png\n",
      "C:\\Users\\vasan\\OneDrive\\EmissionsDatathon\\Dataset\\Data\\Train2\\ang20220324t174703-A_r3728_c-34-plume.png\n",
      "C:\\Users\\vasan\\OneDrive\\EmissionsDatathon\\Dataset\\Data\\Train2\\ang20220415t184411-E_r26765_c212-plume.png\n"
     ]
    },
    {
     "name": "stderr",
     "output_type": "stream",
     "text": [
      " 91%|█████████ | 2699/2980 [00:07<00:00, 373.55it/s]"
     ]
    },
    {
     "name": "stdout",
     "output_type": "stream",
     "text": [
      "C:\\Users\\vasan\\OneDrive\\EmissionsDatathon\\Dataset\\Data\\Train2\\ang20220324t195537-C_r16009_c454-plume.png\n",
      "C:\\Users\\vasan\\OneDrive\\EmissionsDatathon\\Dataset\\Data\\Train2\\ang20220430t172719-C_r11205_c169-plume.png\n",
      "C:\\Users\\vasan\\OneDrive\\EmissionsDatathon\\Dataset\\Data\\Train2\\ang20220501t164820-A_r7931_c238-plume.png\n",
      "C:\\Users\\vasan\\OneDrive\\EmissionsDatathon\\Dataset\\Data\\Train2\\ang20220325t185825-C_r14410_c258-plume.png\n"
     ]
    },
    {
     "name": "stderr",
     "output_type": "stream",
     "text": [
      " 93%|█████████▎| 2777/2980 [00:07<00:00, 377.18it/s]"
     ]
    },
    {
     "name": "stdout",
     "output_type": "stream",
     "text": [
      "C:\\Users\\vasan\\OneDrive\\EmissionsDatathon\\Dataset\\Data\\Train2\\ang20220415t165631-G_r17833_c288-plume.png\n"
     ]
    },
    {
     "name": "stderr",
     "output_type": "stream",
     "text": [
      " 97%|█████████▋| 2893/2980 [00:08<00:00, 372.04it/s]"
     ]
    },
    {
     "name": "stdout",
     "output_type": "stream",
     "text": [
      "C:\\Users\\vasan\\OneDrive\\EmissionsDatathon\\Dataset\\Data\\Train2\\ang20220430t192857-C_r17067_c211-plume.png\n"
     ]
    },
    {
     "name": "stderr",
     "output_type": "stream",
     "text": [
      "100%|██████████| 2980/2980 [00:08<00:00, 357.18it/s]"
     ]
    },
    {
     "name": "stdout",
     "output_type": "stream",
     "text": [
      "C:\\Users\\vasan\\OneDrive\\EmissionsDatathon\\Dataset\\Data\\Train2\\ang20220520t195513-B_r3076_c534-plume.png\n",
      "C:\\Users\\vasan\\OneDrive\\EmissionsDatathon\\Dataset\\Data\\Train2\\ang20220520t201527-A_r2148_c346-plume.png\n",
      "C:\\Users\\vasan\\OneDrive\\EmissionsDatathon\\Dataset\\Data\\Train2\\ang20220520t193549-D_r564_c562-plume.png\n",
      "C:\\Users\\vasan\\OneDrive\\EmissionsDatathon\\Dataset\\Data\\Train2\\ang20220523t201543-A_r156_c151-plume.png\n",
      "C:\\Users\\vasan\\OneDrive\\EmissionsDatathon\\Dataset\\Data\\Train2\\ang20220520t201527-B_r8706_c220-plume.png\n",
      "C:\\Users\\vasan\\OneDrive\\EmissionsDatathon\\Dataset\\Data\\Train2\\ang20220520t204322-A_r1946_c350-plume.png\n",
      "C:\\Users\\vasan\\OneDrive\\EmissionsDatathon\\Dataset\\Data\\Train2\\ang20220523t193759-A_r6121_c398-plume.png\n",
      "C:\\Users\\vasan\\OneDrive\\EmissionsDatathon\\Dataset\\Data\\Train2\\ang20220523t191435-F_r1105_c175-plume.png\n",
      "C:\\Users\\vasan\\OneDrive\\EmissionsDatathon\\Dataset\\Data\\Train2\\ang20220530t185353-A_r5149_c359-plume.png\n"
     ]
    },
    {
     "name": "stderr",
     "output_type": "stream",
     "text": [
      "\n"
     ]
    }
   ],
   "source": [
    "for file in tqdm(df2['Filepath'].tolist()[:]):\n",
    "    image_list.append(image_processing(file))"
   ]
  },
  {
   "cell_type": "code",
   "execution_count": 31,
   "id": "a4c9bea0-1c0e-4a1e-b75f-4b6b5e09d4f8",
   "metadata": {},
   "outputs": [
    {
     "name": "stderr",
     "output_type": "stream",
     "text": [
      "C:\\Users\\vasan\\AppData\\Local\\Temp/ipykernel_18896/3901937091.py:1: VisibleDeprecationWarning: Creating an ndarray from ragged nested sequences (which is a list-or-tuple of lists-or-tuples-or ndarrays with different lengths or shapes) is deprecated. If you meant to do this, you must specify 'dtype=object' when creating the ndarray.\n",
      "  X = np.array(image_list)\n"
     ]
    }
   ],
   "source": [
    "X = np.array(image_list)"
   ]
  },
  {
   "cell_type": "code",
   "execution_count": 32,
   "id": "018333b0-5d15-4241-83ff-1f1691aef3a1",
   "metadata": {
    "tags": []
   },
   "outputs": [
    {
     "data": {
      "text/plain": [
       "array([array([  0,   7,  60, ..., 106, 106, 106], dtype=uint8),\n",
       "       array([50, 51, 51, ..., 45, 45, 44], dtype=uint8),\n",
       "       array([67, 68, 68, ..., 73, 73, 75], dtype=uint8), ...,\n",
       "       array([214, 214, 214, ..., 142, 142, 142], dtype=uint8),\n",
       "       array([213, 213, 220, ...,  51,  58,  58], dtype=uint8),\n",
       "       array([186, 180, 176, ..., 164, 167, 164], dtype=uint8)],\n",
       "      dtype=object)"
      ]
     },
     "execution_count": 32,
     "metadata": {},
     "output_type": "execute_result"
    }
   ],
   "source": [
    "X"
   ]
  },
  {
   "cell_type": "code",
   "execution_count": 33,
   "id": "9d356831-98fe-4707-9424-837a1531ffe3",
   "metadata": {},
   "outputs": [],
   "source": [
    "np.save('processed_128x128_image.npy',X,allow_pickle=True)"
   ]
  },
  {
   "cell_type": "code",
   "execution_count": 34,
   "id": "997d6192-20e8-4422-b04e-4a33d6117a50",
   "metadata": {},
   "outputs": [],
   "source": [
    "pic_array = np.load('processed_128x128_image.npy',allow_pickle=True)"
   ]
  },
  {
   "cell_type": "code",
   "execution_count": 35,
   "id": "a32796aa-243a-4bee-bfdc-b400f90465fc",
   "metadata": {},
   "outputs": [],
   "source": [
    "#remove non 16384 dimension out of the numpy array\n",
    "X =[]\n",
    "exclude =[]\n",
    "for i in range(len(pic_array)):\n",
    "    if pic_array[i].shape == (16384,):\n",
    "        X.append(pic_array[i])\n",
    "    else:\n",
    "        exclude.append(i)\n",
    "X =np.array(X)\n",
    "#also remove from the dataframe\n",
    "df2.drop(df2.index[exclude],inplace=True)"
   ]
  },
  {
   "cell_type": "code",
   "execution_count": 36,
   "id": "2db8fdb9-a664-4982-a477-28a8cc0d182a",
   "metadata": {},
   "outputs": [
    {
     "data": {
      "image/png": "[encoded data removed]",
      "text/plain": [
       "<Figure size 432x288 with 1 Axes>"
      ]
     },
     "metadata": {
      "needs_background": "light"
     },
     "output_type": "display_data"
    },
    {
     "data": {
      "image/png": "[encoded data removed]",
      "text/plain": [
       "<Figure size 432x288 with 1 Axes>"
      ]
     },
     "metadata": {
      "needs_background": "light"
     },
     "output_type": "display_data"
    }
   ],
   "source": [
    "np.random.seed(18)\n",
    "for i in np.random.randint(0, len(pic_array), 2):\n",
    "    plt.figure()\n",
    "    plt.imshow(pic_array[i].reshape(128, 128), cmap='gray'), plt.axis('off')"
   ]
  },
  {
   "cell_type": "markdown",
   "id": "ead6d601-b13e-4faf-b1f9-c030450f6f9c",
   "metadata": {},
   "source": [
    "### Preparing dataset for Model"
   ]
  },
  {
   "cell_type": "code",
   "execution_count": 37,
   "id": "97550ca1-0eb3-4db8-bbf8-475e4ac3eeba",
   "metadata": {},
   "outputs": [],
   "source": [
    "Y = np.array(df2.qplume.tolist())"
   ]
  },
  {
   "cell_type": "code",
   "execution_count": 38,
   "id": "d88bfa5d-5803-4d39-90cd-ab0f04eda5e6",
   "metadata": {},
   "outputs": [
    {
     "data": {
      "text/plain": [
       "array([198.690714  , 659.384534  , 458.494606  , ...,  58.74497328,\n",
       "       262.239608  ,  78.31375757])"
      ]
     },
     "execution_count": 38,
     "metadata": {},
     "output_type": "execute_result"
    }
   ],
   "source": [
    "Y"
   ]
  },
  {
   "cell_type": "code",
   "execution_count": 39,
   "id": "0c2e62c5-5bfe-47bd-ab8f-7d9562e309db",
   "metadata": {},
   "outputs": [
    {
     "name": "stdout",
     "output_type": "stream",
     "text": [
      "(2880, 16384)\n",
      "(2880,)\n"
     ]
    }
   ],
   "source": [
    "print(X.shape)\n",
    "print(Y.shape)"
   ]
  },
  {
   "cell_type": "code",
   "execution_count": 40,
   "id": "2bb634ce-2ef1-429a-bd90-ae58beec2a5e",
   "metadata": {},
   "outputs": [],
   "source": [
    "# Split the data into train and test sets\n",
    "X_train, X_test, Y_train, Y_test = train_test_split(X, Y, test_size=0.2, random_state=42)\n",
    "\n",
    "# Split the train set into train and validation sets\n",
    "X_train, X_val, Y_train, Y_val = train_test_split(X_train, Y_train, test_size=0.25, random_state=42)"
   ]
  },
  {
   "cell_type": "code",
   "execution_count": 41,
   "id": "11346b38-f7c9-43cd-b35b-95ae440b2ecd",
   "metadata": {},
   "outputs": [
    {
     "data": {
      "text/plain": [
       "(576, 128, 128, 1)"
      ]
     },
     "execution_count": 41,
     "metadata": {},
     "output_type": "execute_result"
    }
   ],
   "source": [
    "img_rows, img_cols = 128, 128\n",
    "input_shape = (img_rows, img_cols, 1)\n",
    "\n",
    "X_train = X_train.reshape(X_train.shape[0], img_rows, img_cols, 1)\n",
    "X_test = X_test.reshape(X_test.shape[0], img_rows, img_cols, 1)\n",
    "X_val = X_val.reshape(X_val.shape[0], img_rows, img_cols, 1)\n",
    "\n",
    "X_val.shape"
   ]
  },
  {
   "cell_type": "code",
   "execution_count": 42,
   "id": "c4b9d4a8-79c2-4d94-9e9f-38561e3e910d",
   "metadata": {},
   "outputs": [],
   "source": [
    "X_train = X_train.reshape(X_train.shape[0], img_rows, img_cols, 1)\n",
    "X_test = X_test.reshape(X_test.shape[0], img_rows, img_cols, 1)\n",
    "X_val = X_val.reshape(X_val.shape[0], img_rows, img_cols, 1)"
   ]
  },
  {
   "cell_type": "code",
   "execution_count": 43,
   "id": "b273c9b0-0e93-456a-9348-a104c1e9e7e3",
   "metadata": {},
   "outputs": [
    {
     "name": "stdout",
     "output_type": "stream",
     "text": [
      "(1728, 128, 128, 1)\n",
      "(1728,)\n",
      "(576, 128, 128, 1)\n",
      "(576,)\n",
      "(576, 128, 128, 1)\n",
      "(576,)\n"
     ]
    }
   ],
   "source": [
    "print(X_train.shape)\n",
    "print(Y_train.shape)\n",
    "print(X_val.shape)\n",
    "print(Y_val.shape)\n",
    "print(X_test.shape)\n",
    "print(Y_test.shape)"
   ]
  },
  {
   "cell_type": "markdown",
   "id": "ef39c091-d8c5-4e9f-89be-807d93afac67",
   "metadata": {},
   "source": [
    "### Model"
   ]
  },
  {
   "cell_type": "code",
   "execution_count": 44,
   "id": "0bea7161-9ccb-420c-8ca4-a0575e3ded3c",
   "metadata": {},
   "outputs": [
    {
     "name": "stdout",
     "output_type": "stream",
     "text": [
      "Model: \"sequential\"\n",
      "_________________________________________________________________\n",
      " Layer (type)                Output Shape              Param #   \n",
      "=================================================================\n",
      " conv2d (Conv2D)             (None, 126, 126, 16)      160       \n",
      "                                                                 \n",
      " batch_normalization (BatchN  (None, 126, 126, 16)     64        \n",
      " ormalization)                                                   \n",
      "                                                                 \n",
      " conv2d_1 (Conv2D)           (None, 124, 124, 16)      2320      \n",
      "                                                                 \n",
      " batch_normalization_1 (Batc  (None, 124, 124, 16)     64        \n",
      " hNormalization)                                                 \n",
      "                                                                 \n",
      " max_pooling2d (MaxPooling2D  (None, 62, 62, 16)       0         \n",
      " )                                                               \n",
      "                                                                 \n",
      " dropout (Dropout)           (None, 62, 62, 16)        0         \n",
      "                                                                 \n",
      " conv2d_2 (Conv2D)           (None, 60, 60, 32)        4640      \n",
      "                                                                 \n",
      " batch_normalization_2 (Batc  (None, 60, 60, 32)       128       \n",
      " hNormalization)                                                 \n",
      "                                                                 \n",
      " conv2d_3 (Conv2D)           (None, 58, 58, 32)        9248      \n",
      "                                                                 \n",
      " batch_normalization_3 (Batc  (None, 58, 58, 32)       128       \n",
      " hNormalization)                                                 \n",
      "                                                                 \n",
      " max_pooling2d_1 (MaxPooling  (None, 29, 29, 32)       0         \n",
      " 2D)                                                             \n",
      "                                                                 \n",
      " dropout_1 (Dropout)         (None, 29, 29, 32)        0         \n",
      "                                                                 \n",
      " flatten (Flatten)           (None, 26912)             0         \n",
      "                                                                 \n",
      " dense (Dense)               (None, 512)               13779456  \n",
      "                                                                 \n",
      " dropout_2 (Dropout)         (None, 512)               0         \n",
      "                                                                 \n",
      " dense_1 (Dense)             (None, 1024)              525312    \n",
      "                                                                 \n",
      " dropout_3 (Dropout)         (None, 1024)              0         \n",
      "                                                                 \n",
      " dense_2 (Dense)             (None, 1)                 1025      \n",
      "                                                                 \n",
      "=================================================================\n",
      "Total params: 14,322,545\n",
      "Trainable params: 14,322,353\n",
      "Non-trainable params: 192\n",
      "_________________________________________________________________\n"
     ]
    }
   ],
   "source": [
    "#Define a Convolutional Neural Network Model\n",
    "\n",
    "model = Sequential()\n",
    "\n",
    "model.add(Conv2D(filters = 16, kernel_size = (3, 3), activation='relu',\n",
    "                 input_shape = input_shape))\n",
    "model.add(BatchNormalization())\n",
    "model.add(Conv2D(filters = 16, kernel_size = (3, 3), activation='relu'))\n",
    "model.add(BatchNormalization())\n",
    "model.add(MaxPool2D(strides=(2,2)))\n",
    "model.add(Dropout(0.25))\n",
    "model.add(Conv2D(filters = 32, kernel_size = (3, 3), activation='relu'))\n",
    "model.add(BatchNormalization())\n",
    "model.add(Conv2D(filters = 32, kernel_size = (3, 3), activation='relu'))\n",
    "model.add(BatchNormalization())\n",
    "model.add(MaxPool2D(strides=(2,2)))\n",
    "model.add(Dropout(0.25))\n",
    "\n",
    "model.add(Flatten())\n",
    "model.add(Dense(512, activation='relu'))\n",
    "model.add(Dropout(0.25))\n",
    "\n",
    "model.add(Dense(1024, activation='relu'))\n",
    "model.add(Dropout(0.4))\n",
    "#model.add(Dense(n_classes, activation='softmax'))\n",
    "model.add(Dense(1, activation='relu'))\n",
    "learning_rate = 0.001\n",
    "\n",
    "model.compile(loss = 'mse',\n",
    "              optimizer = Adam(learning_rate))\n",
    "\n",
    "model.summary()"
   ]
  },
  {
   "cell_type": "code",
   "execution_count": 45,
   "id": "d1d463c5-eea8-4e67-8a28-ab197f37dc5c",
   "metadata": {},
   "outputs": [],
   "source": [
    "save_at = \"model_regression2.hdf5\"\n",
    "save_best2 = ModelCheckpoint (save_at, monitor='val_accuracy', verbose=0, save_best_only=True, save_weights_only=False, mode='max')"
   ]
  },
  {
   "cell_type": "code",
   "execution_count": 46,
   "id": "f6a2707d-c0f4-4651-b29c-f97256a8dbab",
   "metadata": {},
   "outputs": [
    {
     "data": {
      "text/plain": [
       "False"
      ]
     },
     "execution_count": 46,
     "metadata": {},
     "output_type": "execute_result"
    }
   ],
   "source": [
    "np.isnan(X).any()"
   ]
  },
  {
   "cell_type": "code",
   "execution_count": 47,
   "id": "16a08015-86e4-4d4a-a4c6-99f5e42840b4",
   "metadata": {},
   "outputs": [
    {
     "data": {
      "text/plain": [
       "False"
      ]
     },
     "execution_count": 47,
     "metadata": {},
     "output_type": "execute_result"
    }
   ],
   "source": [
    "np.isnan(Y).any()"
   ]
  },
  {
   "cell_type": "code",
   "execution_count": 48,
   "id": "fa5f8a27-b7d9-4a06-baf2-2c540a0743e3",
   "metadata": {},
   "outputs": [
    {
     "name": "stdout",
     "output_type": "stream",
     "text": [
      "Epoch 1/15\n",
      "18/18 [==============================] - ETA: 0s - loss: 203482.3750WARNING:tensorflow:Can save best model only with val_accuracy available, skipping.\n",
      "18/18 [==============================] - 39s 2s/step - loss: 203482.3750 - val_loss: 306732.1250\n",
      "Epoch 2/15\n",
      "18/18 [==============================] - ETA: 0s - loss: 142457.3125WARNING:tensorflow:Can save best model only with val_accuracy available, skipping.\n",
      "18/18 [==============================] - 41s 2s/step - loss: 142457.3125 - val_loss: 352700.0938\n",
      "Epoch 3/15\n",
      "18/18 [==============================] - ETA: 0s - loss: 137561.5938WARNING:tensorflow:Can save best model only with val_accuracy available, skipping.\n",
      "18/18 [==============================] - 42s 2s/step - loss: 137561.5938 - val_loss: 340537.9062\n",
      "Epoch 4/15\n",
      "18/18 [==============================] - ETA: 0s - loss: 121477.7891WARNING:tensorflow:Can save best model only with val_accuracy available, skipping.\n",
      "18/18 [==============================] - 40s 2s/step - loss: 121477.7891 - val_loss: 279024.3125\n",
      "Epoch 5/15\n",
      "18/18 [==============================] - ETA: 0s - loss: 99609.2969 WARNING:tensorflow:Can save best model only with val_accuracy available, skipping.\n",
      "18/18 [==============================] - 36s 2s/step - loss: 99609.2969 - val_loss: 297658.4375\n",
      "Epoch 6/15\n",
      "18/18 [==============================] - ETA: 0s - loss: 87403.3047WARNING:tensorflow:Can save best model only with val_accuracy available, skipping.\n",
      "18/18 [==============================] - 39s 2s/step - loss: 87403.3047 - val_loss: 220199.8906\n",
      "Epoch 7/15\n",
      "18/18 [==============================] - ETA: 0s - loss: 77429.4141WARNING:tensorflow:Can save best model only with val_accuracy available, skipping.\n",
      "18/18 [==============================] - 35s 2s/step - loss: 77429.4141 - val_loss: 256155.7812\n",
      "Epoch 8/15\n",
      "18/18 [==============================] - ETA: 0s - loss: 54211.9570WARNING:tensorflow:Can save best model only with val_accuracy available, skipping.\n",
      "18/18 [==============================] - 35s 2s/step - loss: 54211.9570 - val_loss: 198766.8906\n",
      "Epoch 9/15\n",
      "18/18 [==============================] - ETA: 0s - loss: 38880.6953WARNING:tensorflow:Can save best model only with val_accuracy available, skipping.\n",
      "18/18 [==============================] - 32s 2s/step - loss: 38880.6953 - val_loss: 209734.3750\n",
      "Epoch 10/15\n",
      "18/18 [==============================] - ETA: 0s - loss: 40767.4844WARNING:tensorflow:Can save best model only with val_accuracy available, skipping.\n",
      "18/18 [==============================] - 34s 2s/step - loss: 40767.4844 - val_loss: 209626.5469\n",
      "Epoch 11/15\n",
      "18/18 [==============================] - ETA: 0s - loss: 33185.0039WARNING:tensorflow:Can save best model only with val_accuracy available, skipping.\n",
      "18/18 [==============================] - 37s 2s/step - loss: 33185.0039 - val_loss: 173020.4844\n",
      "Epoch 12/15\n",
      "18/18 [==============================] - ETA: 0s - loss: 28385.1836WARNING:tensorflow:Can save best model only with val_accuracy available, skipping.\n",
      "18/18 [==============================] - 32s 2s/step - loss: 28385.1836 - val_loss: 184195.7812\n",
      "Epoch 13/15\n",
      "18/18 [==============================] - ETA: 0s - loss: 29810.3848WARNING:tensorflow:Can save best model only with val_accuracy available, skipping.\n",
      "18/18 [==============================] - 32s 2s/step - loss: 29810.3848 - val_loss: 167084.6094\n",
      "Epoch 14/15\n",
      "18/18 [==============================] - ETA: 0s - loss: 25758.0391WARNING:tensorflow:Can save best model only with val_accuracy available, skipping.\n",
      "18/18 [==============================] - 33s 2s/step - loss: 25758.0391 - val_loss: 182546.1875\n",
      "Epoch 15/15\n",
      "18/18 [==============================] - ETA: 0s - loss: 23098.3887WARNING:tensorflow:Can save best model only with val_accuracy available, skipping.\n",
      "18/18 [==============================] - 33s 2s/step - loss: 23098.3887 - val_loss: 170057.9688\n"
     ]
    }
   ],
   "source": [
    "#Train the CNN\n",
    "\n",
    "history = model.fit( X_train, Y_train, \n",
    "                    epochs = 15, batch_size = 100, \n",
    "                    callbacks=[save_best2], verbose=1, \n",
    "                   validation_data = (X_val, Y_val))"
   ]
  },
  {
   "cell_type": "code",
   "execution_count": 49,
   "id": "6a53bc4c-bdf4-49bb-8752-9e921263f1ce",
   "metadata": {},
   "outputs": [
    {
     "data": {
      "image/png": "[encoded data removed]",
      "text/plain": [
       "<Figure size 432x360 with 1 Axes>"
      ]
     },
     "metadata": {
      "needs_background": "light"
     },
     "output_type": "display_data"
    }
   ],
   "source": [
    "plt.figure(figsize=(6, 5))\n",
    "plt.plot(history.history['loss'], color='r')\n",
    "plt.plot(history.history['val_loss'], color='g')\n",
    "plt.show()"
   ]
  },
  {
   "cell_type": "markdown",
   "id": "b168dca8-80a5-4852-b6e1-a34f959b41c7",
   "metadata": {},
   "source": [
    "### Predication"
   ]
  },
  {
   "cell_type": "code",
   "execution_count": 50,
   "id": "a1d2da71-67e1-4141-ab02-b82fdf60eb4d",
   "metadata": {},
   "outputs": [
    {
     "name": "stdout",
     "output_type": "stream",
     "text": [
      "18/18 [==============================] - 2s 80ms/step\n"
     ]
    }
   ],
   "source": [
    "Y_pred = np.round(model.predict(X_test))"
   ]
  },
  {
   "cell_type": "code",
   "execution_count": 51,
   "id": "fbf4da13-7084-4aaf-b615-7f582e32151a",
   "metadata": {},
   "outputs": [
    {
     "name": "stdout",
     "output_type": "stream",
     "text": [
      "Root Mean Squared Error: 414.57528166082085\n",
      "Test R^2 Score: 0.29993\n"
     ]
    }
   ],
   "source": [
    "# Calculate the mean squared error\n",
    "mse = mean_squared_error(Y_test, Y_pred)\n",
    "\n",
    "# Calculate the root mean squared error\n",
    "rmse = np.sqrt(mse)\n",
    "\n",
    "print(\"Root Mean Squared Error:\", rmse)\n",
    "\n",
    "r2 = r2_score(Y_test, Y_pred)\n",
    "print(\"Test R^2 Score: {:.5f}\".format(r2))"
   ]
  },
  {
   "cell_type": "markdown",
   "id": "2fcbbe34-a69d-4957-8756-581987a92917",
   "metadata": {},
   "source": [
    "### Submission"
   ]
  },
  {
   "cell_type": "code",
   "execution_count": 52,
   "id": "97df63ff-0800-46fe-b2c5-f0c0a57b9d51",
   "metadata": {},
   "outputs": [],
   "source": [
    "image_sub = []"
   ]
  },
  {
   "cell_type": "code",
   "execution_count": 53,
   "id": "ebe548b8-d2e9-4218-b540-90326b7e1e8f",
   "metadata": {},
   "outputs": [],
   "source": [
    "image_test = Path('C:/Users/vasan/OneDrive/EmissionsDatathon/Dataset/Data/Test')"
   ]
  },
  {
   "cell_type": "code",
   "execution_count": 54,
   "id": "eb7c2210-c6e6-4c1b-961c-983e1e7185ae",
   "metadata": {},
   "outputs": [],
   "source": [
    "testpaths = pd.Series(list(image_test.glob(r'**/*.png')), name='Testpath').astype(str)"
   ]
  },
  {
   "cell_type": "code",
   "execution_count": 55,
   "id": "8b0c9b15-6c45-4215-9be8-7cecc762542e",
   "metadata": {},
   "outputs": [],
   "source": [
    "df_testpaths = testpaths.to_frame()"
   ]
  },
  {
   "cell_type": "code",
   "execution_count": 56,
   "id": "f6cf675f-1e96-413e-8f7a-f99b64701297",
   "metadata": {},
   "outputs": [],
   "source": [
    "res = os.listdir(image_test)\n",
    "df_testpaths['Name'] = pd.DataFrame (res, columns = ['TestName'])"
   ]
  },
  {
   "cell_type": "code",
   "execution_count": 57,
   "id": "ca2ec549-52c6-484b-b748-b2c3f4e22d25",
   "metadata": {},
   "outputs": [
    {
     "data": {
      "text/html": [
       "<div>\n",
       "<style scoped>\n",
       "    .dataframe tbody tr th:only-of-type {\n",
       "        vertical-align: middle;\n",
       "    }\n",
       "\n",
       "    .dataframe tbody tr th {\n",
       "        vertical-align: top;\n",
       "    }\n",
       "\n",
       "    .dataframe thead th {\n",
       "        text-align: right;\n",
       "    }\n",
       "</style>\n",
       "<table border=\"1\" class=\"dataframe\">\n",
       "  <thead>\n",
       "    <tr style=\"text-align: right;\">\n",
       "      <th></th>\n",
       "      <th>Testpath</th>\n",
       "      <th>Name</th>\n",
       "    </tr>\n",
       "  </thead>\n",
       "  <tbody>\n",
       "    <tr>\n",
       "      <th>0</th>\n",
       "      <td>C:\\Users\\vasan\\OneDrive\\EmissionsDatathon\\Data...</td>\n",
       "      <td>01A.png</td>\n",
       "    </tr>\n",
       "    <tr>\n",
       "      <th>1</th>\n",
       "      <td>C:\\Users\\vasan\\OneDrive\\EmissionsDatathon\\Data...</td>\n",
       "      <td>02A.png</td>\n",
       "    </tr>\n",
       "    <tr>\n",
       "      <th>2</th>\n",
       "      <td>C:\\Users\\vasan\\OneDrive\\EmissionsDatathon\\Data...</td>\n",
       "      <td>03A.png</td>\n",
       "    </tr>\n",
       "    <tr>\n",
       "      <th>3</th>\n",
       "      <td>C:\\Users\\vasan\\OneDrive\\EmissionsDatathon\\Data...</td>\n",
       "      <td>04A.png</td>\n",
       "    </tr>\n",
       "    <tr>\n",
       "      <th>4</th>\n",
       "      <td>C:\\Users\\vasan\\OneDrive\\EmissionsDatathon\\Data...</td>\n",
       "      <td>05A.png</td>\n",
       "    </tr>\n",
       "    <tr>\n",
       "      <th>5</th>\n",
       "      <td>C:\\Users\\vasan\\OneDrive\\EmissionsDatathon\\Data...</td>\n",
       "      <td>06A.png</td>\n",
       "    </tr>\n",
       "    <tr>\n",
       "      <th>6</th>\n",
       "      <td>C:\\Users\\vasan\\OneDrive\\EmissionsDatathon\\Data...</td>\n",
       "      <td>07A.png</td>\n",
       "    </tr>\n",
       "    <tr>\n",
       "      <th>7</th>\n",
       "      <td>C:\\Users\\vasan\\OneDrive\\EmissionsDatathon\\Data...</td>\n",
       "      <td>08A.png</td>\n",
       "    </tr>\n",
       "    <tr>\n",
       "      <th>8</th>\n",
       "      <td>C:\\Users\\vasan\\OneDrive\\EmissionsDatathon\\Data...</td>\n",
       "      <td>09A.png</td>\n",
       "    </tr>\n",
       "    <tr>\n",
       "      <th>9</th>\n",
       "      <td>C:\\Users\\vasan\\OneDrive\\EmissionsDatathon\\Data...</td>\n",
       "      <td>10A.png</td>\n",
       "    </tr>\n",
       "    <tr>\n",
       "      <th>10</th>\n",
       "      <td>C:\\Users\\vasan\\OneDrive\\EmissionsDatathon\\Data...</td>\n",
       "      <td>11A.png</td>\n",
       "    </tr>\n",
       "    <tr>\n",
       "      <th>11</th>\n",
       "      <td>C:\\Users\\vasan\\OneDrive\\EmissionsDatathon\\Data...</td>\n",
       "      <td>12A.png</td>\n",
       "    </tr>\n",
       "    <tr>\n",
       "      <th>12</th>\n",
       "      <td>C:\\Users\\vasan\\OneDrive\\EmissionsDatathon\\Data...</td>\n",
       "      <td>13A.png</td>\n",
       "    </tr>\n",
       "    <tr>\n",
       "      <th>13</th>\n",
       "      <td>C:\\Users\\vasan\\OneDrive\\EmissionsDatathon\\Data...</td>\n",
       "      <td>14A.png</td>\n",
       "    </tr>\n",
       "    <tr>\n",
       "      <th>14</th>\n",
       "      <td>C:\\Users\\vasan\\OneDrive\\EmissionsDatathon\\Data...</td>\n",
       "      <td>15A.png</td>\n",
       "    </tr>\n",
       "    <tr>\n",
       "      <th>15</th>\n",
       "      <td>C:\\Users\\vasan\\OneDrive\\EmissionsDatathon\\Data...</td>\n",
       "      <td>16A.png</td>\n",
       "    </tr>\n",
       "    <tr>\n",
       "      <th>16</th>\n",
       "      <td>C:\\Users\\vasan\\OneDrive\\EmissionsDatathon\\Data...</td>\n",
       "      <td>17A.png</td>\n",
       "    </tr>\n",
       "    <tr>\n",
       "      <th>17</th>\n",
       "      <td>C:\\Users\\vasan\\OneDrive\\EmissionsDatathon\\Data...</td>\n",
       "      <td>18A.png</td>\n",
       "    </tr>\n",
       "    <tr>\n",
       "      <th>18</th>\n",
       "      <td>C:\\Users\\vasan\\OneDrive\\EmissionsDatathon\\Data...</td>\n",
       "      <td>19A.png</td>\n",
       "    </tr>\n",
       "    <tr>\n",
       "      <th>19</th>\n",
       "      <td>C:\\Users\\vasan\\OneDrive\\EmissionsDatathon\\Data...</td>\n",
       "      <td>20A.png</td>\n",
       "    </tr>\n",
       "  </tbody>\n",
       "</table>\n",
       "</div>"
      ],
      "text/plain": [
       "                                             Testpath     Name\n",
       "0   C:\\Users\\vasan\\OneDrive\\EmissionsDatathon\\Data...  01A.png\n",
       "1   C:\\Users\\vasan\\OneDrive\\EmissionsDatathon\\Data...  02A.png\n",
       "2   C:\\Users\\vasan\\OneDrive\\EmissionsDatathon\\Data...  03A.png\n",
       "3   C:\\Users\\vasan\\OneDrive\\EmissionsDatathon\\Data...  04A.png\n",
       "4   C:\\Users\\vasan\\OneDrive\\EmissionsDatathon\\Data...  05A.png\n",
       "5   C:\\Users\\vasan\\OneDrive\\EmissionsDatathon\\Data...  06A.png\n",
       "6   C:\\Users\\vasan\\OneDrive\\EmissionsDatathon\\Data...  07A.png\n",
       "7   C:\\Users\\vasan\\OneDrive\\EmissionsDatathon\\Data...  08A.png\n",
       "8   C:\\Users\\vasan\\OneDrive\\EmissionsDatathon\\Data...  09A.png\n",
       "9   C:\\Users\\vasan\\OneDrive\\EmissionsDatathon\\Data...  10A.png\n",
       "10  C:\\Users\\vasan\\OneDrive\\EmissionsDatathon\\Data...  11A.png\n",
       "11  C:\\Users\\vasan\\OneDrive\\EmissionsDatathon\\Data...  12A.png\n",
       "12  C:\\Users\\vasan\\OneDrive\\EmissionsDatathon\\Data...  13A.png\n",
       "13  C:\\Users\\vasan\\OneDrive\\EmissionsDatathon\\Data...  14A.png\n",
       "14  C:\\Users\\vasan\\OneDrive\\EmissionsDatathon\\Data...  15A.png\n",
       "15  C:\\Users\\vasan\\OneDrive\\EmissionsDatathon\\Data...  16A.png\n",
       "16  C:\\Users\\vasan\\OneDrive\\EmissionsDatathon\\Data...  17A.png\n",
       "17  C:\\Users\\vasan\\OneDrive\\EmissionsDatathon\\Data...  18A.png\n",
       "18  C:\\Users\\vasan\\OneDrive\\EmissionsDatathon\\Data...  19A.png\n",
       "19  C:\\Users\\vasan\\OneDrive\\EmissionsDatathon\\Data...  20A.png"
      ]
     },
     "execution_count": 57,
     "metadata": {},
     "output_type": "execute_result"
    }
   ],
   "source": [
    "df_testpaths"
   ]
  },
  {
   "cell_type": "code",
   "execution_count": 58,
   "id": "b2904589-c12b-49b8-a5af-87795e4662e8",
   "metadata": {},
   "outputs": [
    {
     "name": "stderr",
     "output_type": "stream",
     "text": [
      "100%|██████████| 20/20 [00:00<00:00, 402.97it/s]\n"
     ]
    }
   ],
   "source": [
    "for file in tqdm(df_testpaths['Testpath'].tolist()[:]):\n",
    "    image_sub.append(image_processing(file))"
   ]
  },
  {
   "cell_type": "code",
   "execution_count": 59,
   "id": "0ee4ba08-7612-46e6-8d7a-e6486c92315a",
   "metadata": {},
   "outputs": [],
   "source": [
    "X_sub = np.array(image_sub)"
   ]
  },
  {
   "cell_type": "code",
   "execution_count": 60,
   "id": "36a10537-49ed-4de0-b552-bd17254e9be2",
   "metadata": {},
   "outputs": [],
   "source": [
    "np.save('sub_image.npy',X_sub,allow_pickle=True)"
   ]
  },
  {
   "cell_type": "code",
   "execution_count": 61,
   "id": "ac81676b-5e4c-4420-99f8-9ea814a3baf2",
   "metadata": {
    "collapsed": true,
    "jupyter": {
     "outputs_hidden": true
    },
    "tags": []
   },
   "outputs": [
    {
     "data": {
      "text/plain": [
       "array([[[[ 73],\n",
       "         [ 73],\n",
       "         [ 73],\n",
       "         ...,\n",
       "         [142],\n",
       "         [142],\n",
       "         [142]],\n",
       "\n",
       "        [[ 73],\n",
       "         [ 73],\n",
       "         [ 73],\n",
       "         ...,\n",
       "         [142],\n",
       "         [142],\n",
       "         [142]],\n",
       "\n",
       "        [[ 73],\n",
       "         [ 73],\n",
       "         [ 73],\n",
       "         ...,\n",
       "         [145],\n",
       "         [145],\n",
       "         [145]],\n",
       "\n",
       "        ...,\n",
       "\n",
       "        [[183],\n",
       "         [183],\n",
       "         [183],\n",
       "         ...,\n",
       "         [ 76],\n",
       "         [ 76],\n",
       "         [ 76]],\n",
       "\n",
       "        [[187],\n",
       "         [187],\n",
       "         [187],\n",
       "         ...,\n",
       "         [ 76],\n",
       "         [ 76],\n",
       "         [ 76]],\n",
       "\n",
       "        [[187],\n",
       "         [187],\n",
       "         [187],\n",
       "         ...,\n",
       "         [ 76],\n",
       "         [ 76],\n",
       "         [ 76]]],\n",
       "\n",
       "\n",
       "       [[[153],\n",
       "         [153],\n",
       "         [154],\n",
       "         ...,\n",
       "         [133],\n",
       "         [133],\n",
       "         [134]],\n",
       "\n",
       "        [[154],\n",
       "         [156],\n",
       "         [156],\n",
       "         ...,\n",
       "         [134],\n",
       "         [135],\n",
       "         [135]],\n",
       "\n",
       "        [[155],\n",
       "         [155],\n",
       "         [156],\n",
       "         ...,\n",
       "         [136],\n",
       "         [138],\n",
       "         [136]],\n",
       "\n",
       "        ...,\n",
       "\n",
       "        [[150],\n",
       "         [151],\n",
       "         [162],\n",
       "         ...,\n",
       "         [129],\n",
       "         [129],\n",
       "         [129]],\n",
       "\n",
       "        [[175],\n",
       "         [186],\n",
       "         [178],\n",
       "         ...,\n",
       "         [126],\n",
       "         [126],\n",
       "         [128]],\n",
       "\n",
       "        [[172],\n",
       "         [174],\n",
       "         [170],\n",
       "         ...,\n",
       "         [127],\n",
       "         [127],\n",
       "         [129]]],\n",
       "\n",
       "\n",
       "       [[[ 61],\n",
       "         [ 60],\n",
       "         [ 62],\n",
       "         ...,\n",
       "         [154],\n",
       "         [153],\n",
       "         [151]],\n",
       "\n",
       "        [[ 60],\n",
       "         [ 60],\n",
       "         [ 61],\n",
       "         ...,\n",
       "         [152],\n",
       "         [152],\n",
       "         [152]],\n",
       "\n",
       "        [[ 59],\n",
       "         [ 59],\n",
       "         [ 59],\n",
       "         ...,\n",
       "         [147],\n",
       "         [150],\n",
       "         [152]],\n",
       "\n",
       "        ...,\n",
       "\n",
       "        [[ 46],\n",
       "         [ 46],\n",
       "         [ 46],\n",
       "         ...,\n",
       "         [ 71],\n",
       "         [ 71],\n",
       "         [ 73]],\n",
       "\n",
       "        [[ 46],\n",
       "         [ 46],\n",
       "         [ 46],\n",
       "         ...,\n",
       "         [ 72],\n",
       "         [ 75],\n",
       "         [ 76]],\n",
       "\n",
       "        [[ 46],\n",
       "         [ 46],\n",
       "         [ 46],\n",
       "         ...,\n",
       "         [ 73],\n",
       "         [ 76],\n",
       "         [ 77]]],\n",
       "\n",
       "\n",
       "       ...,\n",
       "\n",
       "\n",
       "       [[[175],\n",
       "         [175],\n",
       "         [175],\n",
       "         ...,\n",
       "         [ 76],\n",
       "         [ 76],\n",
       "         [ 76]],\n",
       "\n",
       "        [[175],\n",
       "         [175],\n",
       "         [175],\n",
       "         ...,\n",
       "         [ 76],\n",
       "         [ 76],\n",
       "         [ 76]],\n",
       "\n",
       "        [[175],\n",
       "         [175],\n",
       "         [175],\n",
       "         ...,\n",
       "         [ 76],\n",
       "         [ 76],\n",
       "         [ 76]],\n",
       "\n",
       "        ...,\n",
       "\n",
       "        [[ 73],\n",
       "         [ 73],\n",
       "         [ 73],\n",
       "         ...,\n",
       "         [172],\n",
       "         [172],\n",
       "         [172]],\n",
       "\n",
       "        [[ 73],\n",
       "         [ 73],\n",
       "         [ 73],\n",
       "         ...,\n",
       "         [172],\n",
       "         [172],\n",
       "         [172]],\n",
       "\n",
       "        [[ 73],\n",
       "         [ 73],\n",
       "         [ 73],\n",
       "         ...,\n",
       "         [172],\n",
       "         [172],\n",
       "         [172]]],\n",
       "\n",
       "\n",
       "       [[[ 53],\n",
       "         [ 50],\n",
       "         [ 45],\n",
       "         ...,\n",
       "         [ 43],\n",
       "         [ 47],\n",
       "         [ 52]],\n",
       "\n",
       "        [[ 53],\n",
       "         [ 52],\n",
       "         [ 44],\n",
       "         ...,\n",
       "         [ 41],\n",
       "         [ 45],\n",
       "         [ 51]],\n",
       "\n",
       "        [[ 51],\n",
       "         [ 51],\n",
       "         [ 42],\n",
       "         ...,\n",
       "         [ 40],\n",
       "         [ 43],\n",
       "         [ 48]],\n",
       "\n",
       "        ...,\n",
       "\n",
       "        [[ 43],\n",
       "         [ 40],\n",
       "         [ 39],\n",
       "         ...,\n",
       "         [ 63],\n",
       "         [ 64],\n",
       "         [ 58]],\n",
       "\n",
       "        [[ 43],\n",
       "         [ 39],\n",
       "         [ 38],\n",
       "         ...,\n",
       "         [ 68],\n",
       "         [ 89],\n",
       "         [ 88]],\n",
       "\n",
       "        [[ 44],\n",
       "         [ 40],\n",
       "         [ 42],\n",
       "         ...,\n",
       "         [ 60],\n",
       "         [ 96],\n",
       "         [ 88]]],\n",
       "\n",
       "\n",
       "       [[[ 80],\n",
       "         [ 79],\n",
       "         [ 78],\n",
       "         ...,\n",
       "         [ 72],\n",
       "         [ 75],\n",
       "         [ 76]],\n",
       "\n",
       "        [[105],\n",
       "         [103],\n",
       "         [ 98],\n",
       "         ...,\n",
       "         [ 73],\n",
       "         [ 76],\n",
       "         [ 78]],\n",
       "\n",
       "        [[116],\n",
       "         [115],\n",
       "         [112],\n",
       "         ...,\n",
       "         [ 60],\n",
       "         [ 73],\n",
       "         [ 79]],\n",
       "\n",
       "        ...,\n",
       "\n",
       "        [[129],\n",
       "         [126],\n",
       "         [119],\n",
       "         ...,\n",
       "         [102],\n",
       "         [110],\n",
       "         [113]],\n",
       "\n",
       "        [[131],\n",
       "         [128],\n",
       "         [121],\n",
       "         ...,\n",
       "         [107],\n",
       "         [116],\n",
       "         [119]],\n",
       "\n",
       "        [[152],\n",
       "         [145],\n",
       "         [127],\n",
       "         ...,\n",
       "         [102],\n",
       "         [110],\n",
       "         [114]]]], dtype=uint8)"
      ]
     },
     "execution_count": 61,
     "metadata": {},
     "output_type": "execute_result"
    }
   ],
   "source": [
    "X_test"
   ]
  },
  {
   "cell_type": "code",
   "execution_count": 62,
   "id": "0965e161-23d8-4474-83bc-641ad8e6b00b",
   "metadata": {
    "collapsed": true,
    "jupyter": {
     "outputs_hidden": true
    },
    "tags": []
   },
   "outputs": [
    {
     "data": {
      "text/plain": [
       "array([[[[ 51],\n",
       "         [ 51],\n",
       "         [ 51],\n",
       "         ...,\n",
       "         [106],\n",
       "         [108],\n",
       "         [109]],\n",
       "\n",
       "        [[ 52],\n",
       "         [ 50],\n",
       "         [ 52],\n",
       "         ...,\n",
       "         [101],\n",
       "         [ 95],\n",
       "         [ 86]],\n",
       "\n",
       "        [[ 56],\n",
       "         [ 53],\n",
       "         [ 55],\n",
       "         ...,\n",
       "         [ 93],\n",
       "         [ 81],\n",
       "         [ 63]],\n",
       "\n",
       "        ...,\n",
       "\n",
       "        [[ 67],\n",
       "         [ 65],\n",
       "         [ 72],\n",
       "         ...,\n",
       "         [ 66],\n",
       "         [ 62],\n",
       "         [ 61]],\n",
       "\n",
       "        [[ 84],\n",
       "         [ 65],\n",
       "         [ 63],\n",
       "         ...,\n",
       "         [ 80],\n",
       "         [ 82],\n",
       "         [ 75]],\n",
       "\n",
       "        [[102],\n",
       "         [ 68],\n",
       "         [ 73],\n",
       "         ...,\n",
       "         [ 72],\n",
       "         [ 73],\n",
       "         [ 76]]],\n",
       "\n",
       "\n",
       "       [[[  0],\n",
       "         [  0],\n",
       "         [  0],\n",
       "         ...,\n",
       "         [  6],\n",
       "         [  8],\n",
       "         [  1]],\n",
       "\n",
       "        [[  0],\n",
       "         [  0],\n",
       "         [  0],\n",
       "         ...,\n",
       "         [ 81],\n",
       "         [ 93],\n",
       "         [ 11]],\n",
       "\n",
       "        [[  0],\n",
       "         [  0],\n",
       "         [ 48],\n",
       "         ...,\n",
       "         [121],\n",
       "         [114],\n",
       "         [ 62]],\n",
       "\n",
       "        ...,\n",
       "\n",
       "        [[138],\n",
       "         [131],\n",
       "         [128],\n",
       "         ...,\n",
       "         [189],\n",
       "         [191],\n",
       "         [191]],\n",
       "\n",
       "        [[ 52],\n",
       "         [136],\n",
       "         [128],\n",
       "         ...,\n",
       "         [177],\n",
       "         [184],\n",
       "         [189]],\n",
       "\n",
       "        [[ 14],\n",
       "         [104],\n",
       "         [ 70],\n",
       "         ...,\n",
       "         [171],\n",
       "         [174],\n",
       "         [ 34]]],\n",
       "\n",
       "\n",
       "       [[[  3],\n",
       "         [ 94],\n",
       "         [137],\n",
       "         ...,\n",
       "         [ 23],\n",
       "         [ 22],\n",
       "         [  2]],\n",
       "\n",
       "        [[ 18],\n",
       "         [198],\n",
       "         [252],\n",
       "         ...,\n",
       "         [225],\n",
       "         [209],\n",
       "         [ 77]],\n",
       "\n",
       "        [[  0],\n",
       "         [ 77],\n",
       "         [252],\n",
       "         ...,\n",
       "         [214],\n",
       "         [194],\n",
       "         [193]],\n",
       "\n",
       "        ...,\n",
       "\n",
       "        [[ 70],\n",
       "         [128],\n",
       "         [129],\n",
       "         ...,\n",
       "         [ 96],\n",
       "         [ 61],\n",
       "         [  5]],\n",
       "\n",
       "        [[  4],\n",
       "         [ 65],\n",
       "         [127],\n",
       "         ...,\n",
       "         [100],\n",
       "         [ 50],\n",
       "         [  3]],\n",
       "\n",
       "        [[  0],\n",
       "         [  4],\n",
       "         [ 13],\n",
       "         ...,\n",
       "         [ 10],\n",
       "         [  3],\n",
       "         [  0]]],\n",
       "\n",
       "\n",
       "       ...,\n",
       "\n",
       "\n",
       "       [[[  0],\n",
       "         [  0],\n",
       "         [  0],\n",
       "         ...,\n",
       "         [  0],\n",
       "         [  0],\n",
       "         [  0]],\n",
       "\n",
       "        [[ 27],\n",
       "         [ 26],\n",
       "         [ 26],\n",
       "         ...,\n",
       "         [  0],\n",
       "         [  0],\n",
       "         [  0]],\n",
       "\n",
       "        [[ 91],\n",
       "         [ 87],\n",
       "         [ 89],\n",
       "         ...,\n",
       "         [  0],\n",
       "         [  0],\n",
       "         [  0]],\n",
       "\n",
       "        ...,\n",
       "\n",
       "        [[  0],\n",
       "         [ 21],\n",
       "         [ 76],\n",
       "         ...,\n",
       "         [  0],\n",
       "         [  0],\n",
       "         [  0]],\n",
       "\n",
       "        [[  0],\n",
       "         [ 22],\n",
       "         [ 74],\n",
       "         ...,\n",
       "         [  0],\n",
       "         [  0],\n",
       "         [  0]],\n",
       "\n",
       "        [[  0],\n",
       "         [ 20],\n",
       "         [ 72],\n",
       "         ...,\n",
       "         [  0],\n",
       "         [  0],\n",
       "         [  0]]],\n",
       "\n",
       "\n",
       "       [[[  0],\n",
       "         [  0],\n",
       "         [  0],\n",
       "         ...,\n",
       "         [ 74],\n",
       "         [ 73],\n",
       "         [  7]],\n",
       "\n",
       "        [[ 24],\n",
       "         [ 24],\n",
       "         [ 23],\n",
       "         ...,\n",
       "         [ 74],\n",
       "         [ 74],\n",
       "         [  7]],\n",
       "\n",
       "        [[ 82],\n",
       "         [ 83],\n",
       "         [ 82],\n",
       "         ...,\n",
       "         [ 75],\n",
       "         [ 75],\n",
       "         [  7]],\n",
       "\n",
       "        ...,\n",
       "\n",
       "        [[  0],\n",
       "         [ 25],\n",
       "         [ 90],\n",
       "         ...,\n",
       "         [ 80],\n",
       "         [ 82],\n",
       "         [ 82]],\n",
       "\n",
       "        [[  0],\n",
       "         [ 25],\n",
       "         [ 90],\n",
       "         ...,\n",
       "         [ 24],\n",
       "         [ 24],\n",
       "         [ 24]],\n",
       "\n",
       "        [[  0],\n",
       "         [ 26],\n",
       "         [ 92],\n",
       "         ...,\n",
       "         [  0],\n",
       "         [  0],\n",
       "         [  0]]],\n",
       "\n",
       "\n",
       "       [[[  0],\n",
       "         [  0],\n",
       "         [ 40],\n",
       "         ...,\n",
       "         [  0],\n",
       "         [  0],\n",
       "         [  0]],\n",
       "\n",
       "        [[  0],\n",
       "         [  0],\n",
       "         [ 41],\n",
       "         ...,\n",
       "         [  0],\n",
       "         [  0],\n",
       "         [  0]],\n",
       "\n",
       "        [[  0],\n",
       "         [  0],\n",
       "         [ 38],\n",
       "         ...,\n",
       "         [ 53],\n",
       "         [ 53],\n",
       "         [ 53]],\n",
       "\n",
       "        ...,\n",
       "\n",
       "        [[ 39],\n",
       "         [ 36],\n",
       "         [ 35],\n",
       "         ...,\n",
       "         [ 45],\n",
       "         [  0],\n",
       "         [  0]],\n",
       "\n",
       "        [[  0],\n",
       "         [  0],\n",
       "         [  0],\n",
       "         ...,\n",
       "         [ 39],\n",
       "         [  0],\n",
       "         [  0]],\n",
       "\n",
       "        [[  0],\n",
       "         [  0],\n",
       "         [  0],\n",
       "         ...,\n",
       "         [ 38],\n",
       "         [  0],\n",
       "         [  0]]]], dtype=uint8)"
      ]
     },
     "execution_count": 62,
     "metadata": {},
     "output_type": "execute_result"
    }
   ],
   "source": [
    "X_sub = X_sub.reshape(X_sub.shape[0], img_rows, img_cols, 1)\n",
    "X_sub = X_sub.reshape(X_sub.shape[0], img_rows, img_cols, 1)\n",
    "X_sub"
   ]
  },
  {
   "cell_type": "code",
   "execution_count": 63,
   "id": "395e4ab3-dd09-4060-9d53-d88c8371b438",
   "metadata": {},
   "outputs": [
    {
     "name": "stdout",
     "output_type": "stream",
     "text": [
      "1/1 [==============================] - 0s 163ms/step\n"
     ]
    }
   ],
   "source": [
    "Y_sub = np.round(model.predict(X_sub))"
   ]
  },
  {
   "cell_type": "code",
   "execution_count": 64,
   "id": "07be9653-0dea-4276-b780-dc245fd8f77e",
   "metadata": {},
   "outputs": [
    {
     "data": {
      "text/plain": [
       "array([[561.],\n",
       "       [ 96.],\n",
       "       [ 87.],\n",
       "       [261.],\n",
       "       [137.],\n",
       "       [141.],\n",
       "       [403.],\n",
       "       [ 78.],\n",
       "       [269.],\n",
       "       [127.],\n",
       "       [173.],\n",
       "       [ 51.],\n",
       "       [ 16.],\n",
       "       [169.],\n",
       "       [806.],\n",
       "       [261.],\n",
       "       [101.],\n",
       "       [180.],\n",
       "       [183.],\n",
       "       [298.]], dtype=float32)"
      ]
     },
     "execution_count": 64,
     "metadata": {},
     "output_type": "execute_result"
    }
   ],
   "source": [
    "Y_sub"
   ]
  },
  {
   "cell_type": "code",
   "execution_count": 65,
   "id": "141d75c9-6330-45b7-bb5b-1ac23e910383",
   "metadata": {},
   "outputs": [],
   "source": [
    "np.savetxt('06_Localise_CNN_Outliers2.csv', Y_sub, delimiter=',')"
   ]
  },
  {
   "cell_type": "code",
   "execution_count": 66,
   "id": "14fff70c-554f-4461-88c9-993a77912fea",
   "metadata": {},
   "outputs": [
    {
     "data": {
      "text/plain": [
       "(20, 128, 128, 1)"
      ]
     },
     "execution_count": 66,
     "metadata": {},
     "output_type": "execute_result"
    }
   ],
   "source": [
    "X_sub.shape"
   ]
  },
  {
   "cell_type": "code",
   "execution_count": null,
   "id": "7f057286-96ef-4e66-8462-0a9bf4a02aa0",
   "metadata": {},
   "outputs": [],
   "source": []
  }
 ],
 "metadata": {
  "kernelspec": {
   "display_name": "Python 3 (ipykernel)",
   "language": "python",
   "name": "python3"
  },
  "language_info": {
   "codemirror_mode": {
    "name": "ipython",
    "version": 3
   },
   "file_extension": ".py",
   "mimetype": "text/x-python",
   "name": "python",
   "nbconvert_exporter": "python",
   "pygments_lexer": "ipython3",
   "version": "3.9.7"
  }
 },
 "nbformat": 4,
 "nbformat_minor": 5
}
