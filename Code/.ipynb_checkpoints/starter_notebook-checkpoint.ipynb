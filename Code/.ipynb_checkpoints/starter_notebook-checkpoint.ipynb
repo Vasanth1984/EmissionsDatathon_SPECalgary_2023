{
 "cells": [
  {
   "attachments": {},
   "cell_type": "markdown",
   "metadata": {},
   "source": [
    "<center><h1 style=\"color: orange\"><b>Datathon - Zeroing Methane Emissions</b></h1></center>\n",
    "\n",
    "This is the *starter notebook* for the [Zeroing Methane Emissions](https://www.speuntapped.com/) Datathon by SPE and Untapped Energy.\n",
    "\n",
    "Here, we will unzip the images, load them to the notebook, and do initial visualizations.\n",
    "\n",
    "First, importing some libraies:"
   ]
  },
  {
   "cell_type": "code",
   "execution_count": null,
   "metadata": {},
   "outputs": [],
   "source": [
    "# Data manipulation\n",
    "import numpy as np\n",
    "import pandas as pd\n",
    "\n",
    "# Data visualization\n",
    "import matplotlib.pyplot as plt\n",
    "import seaborn as sns\n",
    "\n",
    "# Utilities\n",
    "from zipfile import ZipFile                         # To unzip files\n",
    "import os\n",
    "import glob\n",
    "from random import *\n",
    "\n",
    "# Computer vision\n",
    "import cv2                                          # conda install opencv\n",
    "\n",
    "# Display images using OpenCV (if using Google Colab)\n",
    "# from google.colab.patches import cv2_imshow                                                      # Importing cv2_imshow from google.patches to display images\n"
   ]
  },
  {
   "attachments": {},
   "cell_type": "markdown",
   "metadata": {},
   "source": [
    "First, unzip all the files to the disk:"
   ]
  },
  {
   "cell_type": "code",
   "execution_count": null,
   "metadata": {},
   "outputs": [],
   "source": [
    "# specifying the zip files names\n",
    "file_names = [\"ch4_plume_permian_2019_png Jeremy Zhao.zip\", \n",
    "              \"ch4_plume_july_2020_to_may_2022_png Jeremy Zhao.zip\",\n",
    "              \"dummy_data Jeremy Zhao.zip\",\n",
    "              \"dummy_data_permian Jeremy Zhao.zip\"]\n",
    "\n",
    "# Looping throught all zip files:\n",
    "for file_name in file_names:\n",
    "\n",
    "    print(f\"Extracting files from {file_name}...\\n\")\n",
    "    \n",
    "    # opening the zip file in READ mode\n",
    "    with ZipFile(file_name, 'r') as zip:\n",
    "        \n",
    "        # printing all the contents of the zip file\n",
    "        # zip.printdir()\n",
    "  \n",
    "        # extracting all the files\n",
    "        print('Extracting all the files now...')\n",
    "        zip.extractall()\n",
    "        print('Done!')"
   ]
  },
  {
   "attachments": {},
   "cell_type": "markdown",
   "metadata": {},
   "source": [
    "Each zipfile was unziped to a different folder. We can import the images using **OpenCV**."
   ]
  },
  {
   "cell_type": "code",
   "execution_count": null,
   "metadata": {},
   "outputs": [],
   "source": [
    "# CH 4 Plume Permian 2019\n",
    "# Only getting files with extension .png\n",
    "plume_permian_2019_list = glob.glob(\"./permian_2019_png/*.png\")\n",
    "print(f\"There are {len(plume_permian_2019_list)} png files.\\n\")\n",
    "\n",
    "# CH 4 RGB Geotiffs July 2020 to may 2022 png\n",
    "# Only getting files with extension .png\n",
    "plume_2020_2022_list = glob.glob(\"./ch4_rgb_geotiffs_july_2020_to_may_2022_png/*.png\")\n",
    "print(f\"There are {len(plume_2020_2022_list)} png files.\\n\")\n",
    "\n",
    "# Dummy Data Permian\n",
    "# Only getting files with extension .png\n",
    "dummy_permian_list = glob.glob(\"./dummy_data_permian/*.png\")\n",
    "print(f\"There are {len(dummy_permian_list)} png files.\\n\")\n",
    "\n",
    "# Dummy Data\n",
    "# Only getting files with extension .png\n",
    "dummy_list = glob.glob(\"./dummy_data/*.png\")\n",
    "print(f\"There are {len(dummy_list)} png files.\\n\")"
   ]
  },
  {
   "attachments": {},
   "cell_type": "markdown",
   "metadata": {},
   "source": [
    "Loading the images to the notebook:"
   ]
  },
  {
   "cell_type": "code",
   "execution_count": null,
   "metadata": {},
   "outputs": [],
   "source": [
    "# Plume Permian\n",
    "plume_permian_images = np.array([np.array(cv2.imread(p), dtype=np.uint8) for p in plume_permian_2019_list])\n",
    "print(\"Plume Permian shape:\", plume_permian_images.shape)\n",
    "\n",
    "# Plume\n",
    "plume_images = np.array([np.array(cv2.imread(p), dtype=np.uint8) for p in plume_2020_2022_list])\n",
    "print(\"Plume shape:\", plume_images.shape)\n",
    "\n",
    "# Dummy Permian\n",
    "dummy_permian_images = np.array([np.array(cv2.imread(p), dtype=np.uint8) for p in dummy_permian_list])\n",
    "print(\"Dummy Permian shape:\", dummy_permian_images.shape)\n",
    "\n",
    "# Dummy\n",
    "dummy_images = np.array([np.array(cv2.imread(p), dtype=np.uint8) for p in dummy_list])\n",
    "print(\"Dummy shape:\", dummy_images.shape)\n"
   ]
  },
  {
   "attachments": {},
   "cell_type": "markdown",
   "metadata": {},
   "source": [
    "All the images have a shape of 217x217 pixels and 3 color channels (RGB). Let's visualize some of them:"
   ]
  },
  {
   "cell_type": "code",
   "execution_count": null,
   "metadata": {},
   "outputs": [],
   "source": [
    "# Using OpenCV (it will open in another window)\n",
    "# If you are using the cv2_imshow in Google Colab,\n",
    "# the image will be shown inline\n",
    "cv2.imshow(\"image\", plume_permian_images[0])\n",
    "cv2.waitKey(0)              # Press any key to close the window. DO NOT CLOSE THE WINDOW!\n",
    "cv2.destroyAllWindows();"
   ]
  },
  {
   "cell_type": "code",
   "execution_count": null,
   "metadata": {},
   "outputs": [],
   "source": [
    "# Using matplotlib\n",
    "plt.imshow(plume_permian_images[0]);"
   ]
  },
  {
   "attachments": {},
   "cell_type": "markdown",
   "metadata": {},
   "source": [
    "With OpenCV, the plume is red, while with matplotlib it is blue. It happens because the images were not read as RGB, but as BGR, so we need to convert them:"
   ]
  },
  {
   "cell_type": "code",
   "execution_count": null,
   "metadata": {},
   "outputs": [],
   "source": [
    "# Converting the images from BGR to RGB using cvtColor function of OpenCV\n",
    "for i in range(len(plume_permian_images)):\n",
    "  plume_permian_images[i] = cv2.cvtColor(plume_permian_images[i], cv2.COLOR_BGR2RGB)\n",
    "\n",
    "plt.imshow(plume_permian_images[0]);"
   ]
  },
  {
   "attachments": {},
   "cell_type": "markdown",
   "metadata": {},
   "source": [
    "Now it is fixed. Let's do this for all the other images:"
   ]
  },
  {
   "cell_type": "code",
   "execution_count": null,
   "metadata": {},
   "outputs": [],
   "source": [
    "# Converting the images from BGR to RGB using cvtColor function of OpenCV\n",
    "for i in range(len(plume_images)):\n",
    "  plume_images[i] = cv2.cvtColor(plume_images[i], cv2.COLOR_BGR2RGB)\n",
    "\n",
    "for i in range(len(dummy_permian_images)):\n",
    "  dummy_permian_images[i] = cv2.cvtColor(dummy_permian_images[i], cv2.COLOR_BGR2RGB)\n",
    "\n",
    "for i in range(len(dummy_images)):\n",
    "  dummy_images[i] = cv2.cvtColor(dummy_images[i], cv2.COLOR_BGR2RGB)"
   ]
  },
  {
   "attachments": {},
   "cell_type": "markdown",
   "metadata": {},
   "source": [
    "Resizing the image, if desired:"
   ]
  },
  {
   "cell_type": "code",
   "execution_count": null,
   "metadata": {},
   "outputs": [],
   "source": [
    "def resizeImage(img, size = 128):\n",
    "    \"\"\"\n",
    "    `resizeImage` resize an image to a squared one\n",
    "    with size x size shape\n",
    "\n",
    "    Parameters:\n",
    "\n",
    "        img -> images array\n",
    "\n",
    "        size -> output size. Default = 128\n",
    "\n",
    "    Returns:\n",
    "\n",
    "        imgR -> resized images\n",
    "    \"\"\"\n",
    "\n",
    "    # Creating an empty array of images\n",
    "    imgR = np.zeros((img.shape[0],size,size, 3))\n",
    "\n",
    "    # Looping through all the images\n",
    "    for i in range(img.shape[0]):\n",
    "\n",
    "        # Resizing images \n",
    "        imgR[i] = cv2.resize(img[i], (size,size), interpolation=cv2.INTER_LINEAR)\n",
    "    \n",
    "    # Making sure the number are integers (for the plt.imshow)\n",
    "    imgR = imgR.astype(int)\n",
    "    \n",
    "    return(imgR)"
   ]
  },
  {
   "cell_type": "code",
   "execution_count": null,
   "metadata": {},
   "outputs": [],
   "source": [
    "plume_permian_images = resizeImage(plume_permian_images)\n",
    "print(plume_permian_images.shape)\n",
    "\n",
    "plume_images = resizeImage(plume_images)\n",
    "print(plume_images.shape)\n",
    "\n",
    "dummy_permian_images = resizeImage(dummy_permian_images)\n",
    "print(dummy_permian_images.shape)\n",
    "\n",
    "dummy_images = resizeImage(dummy_images)\n",
    "print(dummy_images.shape)"
   ]
  },
  {
   "cell_type": "code",
   "execution_count": null,
   "metadata": {},
   "outputs": [],
   "source": [
    "plume_images.max()"
   ]
  },
  {
   "attachments": {},
   "cell_type": "markdown",
   "metadata": {},
   "source": [
    "Creating a function to randomly plot several images at once:"
   ]
  },
  {
   "cell_type": "code",
   "execution_count": null,
   "metadata": {},
   "outputs": [],
   "source": [
    "def plotImages(data, k = 8, figsize = (13, 13)):\n",
    "    \"\"\"\n",
    "    `plotImages` plot kxk images from the\n",
    "    provided data.\n",
    "\n",
    "    Parameters:\n",
    "    \n",
    "        data -> numpy array containing the images.\n",
    "\n",
    "        k -> number of rows and columns to subplot.\n",
    "             Default = 8\n",
    "        \n",
    "        figsize -> size of the figure.\n",
    "                   Default = (15, 15)\n",
    "    \n",
    "    Returns:\n",
    "\n",
    "        fig -> Image with the subplots.\n",
    "    \"\"\"\n",
    "\n",
    "    # Creating subplots\n",
    "    fig, ax = plt.subplots(nrows = k, ncols = k, figsize = figsize)\n",
    "    for i in range(k):\n",
    "        for j in range(k):\n",
    "\n",
    "            # Randomly selecting one image\n",
    "            ind = randint(0,data.shape[0]-1)\n",
    "\n",
    "            # Ploting the image to a subplot\n",
    "            ax[i,j].imshow(data[ind])\n",
    "\n",
    "            # Turning axis off\n",
    "            ax[i,j].set_axis_off()\n",
    "            \n",
    "    fig.tight_layout()\n",
    "    plt.show();\n"
   ]
  },
  {
   "cell_type": "code",
   "execution_count": null,
   "metadata": {},
   "outputs": [],
   "source": [
    "plotImages(plume_permian_images)"
   ]
  },
  {
   "cell_type": "code",
   "execution_count": null,
   "metadata": {},
   "outputs": [],
   "source": [
    "plotImages(plume_images)"
   ]
  },
  {
   "cell_type": "code",
   "execution_count": null,
   "metadata": {},
   "outputs": [],
   "source": [
    "plotImages(dummy_permian_images)"
   ]
  },
  {
   "cell_type": "code",
   "execution_count": null,
   "metadata": {},
   "outputs": [],
   "source": [
    "plotImages(dummy_images)"
   ]
  },
  {
   "cell_type": "code",
   "execution_count": null,
   "metadata": {},
   "outputs": [],
   "source": []
  }
 ],
 "metadata": {
  "kernelspec": {
   "display_name": "mlp",
   "language": "python",
   "name": "python3"
  },
  "language_info": {
   "codemirror_mode": {
    "name": "ipython",
    "version": 3
   },
   "file_extension": ".py",
   "mimetype": "text/x-python",
   "name": "python",
   "nbconvert_exporter": "python",
   "pygments_lexer": "ipython3",
   "version": "3.9.15"
  },
  "orig_nbformat": 4,
  "vscode": {
   "interpreter": {
    "hash": "efb061bfb9d3912b5c36411db6072c0b99f9bac678ff30a08f7630a5f8fd6630"
   }
  }
 },
 "nbformat": 4,
 "nbformat_minor": 2
}
