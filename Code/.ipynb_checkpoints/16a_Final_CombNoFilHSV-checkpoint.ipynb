{
 "cells": [
  {
   "cell_type": "code",
   "execution_count": 1,
   "id": "c27177c2-5411-4608-af07-a39b2cd5c38c",
   "metadata": {},
   "outputs": [],
   "source": [
    "#! pip install Geopandas\n",
    "#!pip install --use-deprecated=legacy-resolver pycaret[full]\n",
    "#!pip install pycaret[full]"
   ]
  },
  {
   "cell_type": "code",
   "execution_count": 2,
   "id": "2325268a-8b83-48e4-b7e0-3f45de438042",
   "metadata": {},
   "outputs": [],
   "source": [
    "import numpy as np\n",
    "import pandas as pd\n",
    "import geopandas as gpd\n",
    "from pathlib import Path\n",
    "import os.path\n",
    "\n",
    "\n",
    "import seaborn as sns\n",
    "from scipy import stats\n",
    "\n",
    "\n",
    "# Data visualization\n",
    "import matplotlib as mpl\n",
    "import matplotlib.pyplot as plt\n",
    "\n",
    "from matplotlib.pyplot import *\n",
    "import imageio\n",
    "from skimage.io import imread\n",
    "\n",
    "from tqdm import tqdm\n",
    "\n",
    "import cv2   #For image processing\n",
    "\n",
    "import tensorflow as tf\n",
    "#All tensorflow utilities for creating, training and working with a CNN\n",
    "from tensorflow.keras.utils import to_categorical\n",
    "from tensorflow.keras.models import Sequential\n",
    "from tensorflow.keras.layers import Conv2D, MaxPool2D, BatchNormalization\n",
    "from tensorflow.keras.layers import Activation, Dropout, Flatten, Dense\n",
    "from tensorflow.keras.losses import categorical_crossentropy\n",
    "from tensorflow.keras.optimizers import Adam\n",
    "from tensorflow.keras.callbacks import ModelCheckpoint\n",
    "from tensorflow.keras.models import load_model\n",
    "\n",
    "\n",
    "import sklearn\n",
    "from sklearn.preprocessing import LabelEncoder    #For encoding categorical variables\n",
    "from sklearn.model_selection import train_test_split #For splitting of data\n",
    "from sklearn.metrics import r2_score\n",
    "from sklearn.metrics import mean_squared_error\n",
    "\n",
    "from sklearn.compose import ColumnTransformer\n",
    "from sklearn.preprocessing import OneHotEncoder\n",
    "from sklearn.linear_model import LinearRegression\n",
    "from sklearn.pipeline import Pipeline\n",
    "\n",
    "from skimage.io import imread, imshow\n",
    "from skimage.color import rgb2gray, rgb2hsv, rgba2rgb\n",
    "from skimage.morphology import area_opening\n",
    "from skimage.exposure import histogram\n",
    "from skimage.filters import threshold_otsu\n",
    "from skimage import io, color\n",
    "\n",
    "from pycaret.datasets import get_data\n",
    "from pycaret.regression import *"
   ]
  },
  {
   "cell_type": "code",
   "execution_count": 3,
   "id": "e3a1317e-bb38-4b37-975e-ded800d90dbd",
   "metadata": {},
   "outputs": [],
   "source": [
    "#set director for images\n",
    "image_train = Path('C:/Users/vasan/OneDrive/EmissionsDatathon/Dataset/Data/Train2')\n",
    "image_train1= Path('C:/Users/vasan/OneDrive/EmissionsDatathon/Dataset/Data/Train')"
   ]
  },
  {
   "cell_type": "code",
   "execution_count": 4,
   "id": "52510ab3-dcaf-431c-b0f9-72e40d1baa64",
   "metadata": {},
   "outputs": [],
   "source": [
    "#set directory for csv files\n",
    "dir_name = r'C:\\Users\\vasan\\OneDrive\\EmissionsDatathon\\Zeroing Methane Emissions - Dataset'\n",
    "filename_suffix = 'csv'"
   ]
  },
  {
   "cell_type": "code",
   "execution_count": 5,
   "id": "8fd165a8-d60f-4023-b3cc-44140b8bfb47",
   "metadata": {},
   "outputs": [
    {
     "data": {
      "text/html": [
       "<div>\n",
       "<style scoped>\n",
       "    .dataframe tbody tr th:only-of-type {\n",
       "        vertical-align: middle;\n",
       "    }\n",
       "\n",
       "    .dataframe tbody tr th {\n",
       "        vertical-align: top;\n",
       "    }\n",
       "\n",
       "    .dataframe thead th {\n",
       "        text-align: right;\n",
       "    }\n",
       "</style>\n",
       "<table border=\"1\" class=\"dataframe\">\n",
       "  <thead>\n",
       "    <tr style=\"text-align: right;\">\n",
       "      <th></th>\n",
       "      <th>Unnamed: 0</th>\n",
       "      <th>source_id</th>\n",
       "      <th>candidate_id</th>\n",
       "      <th>plume_lat</th>\n",
       "      <th>plume_lon</th>\n",
       "      <th>date</th>\n",
       "      <th>source_type</th>\n",
       "      <th>ipcc</th>\n",
       "      <th>qplume</th>\n",
       "      <th>sigma_qplume</th>\n",
       "      <th>time_of_detection</th>\n",
       "      <th>plume_tif</th>\n",
       "      <th>rgb_tif</th>\n",
       "    </tr>\n",
       "  </thead>\n",
       "  <tbody>\n",
       "    <tr>\n",
       "      <th>0</th>\n",
       "      <td>0</td>\n",
       "      <td>A0001</td>\n",
       "      <td>GAO20210712t153850p0000-A</td>\n",
       "      <td>40.586588</td>\n",
       "      <td>-104.82330</td>\n",
       "      <td>2021-07-12 00:00:00</td>\n",
       "      <td>landfill</td>\n",
       "      <td>6A Solid Waste Disposal On Land</td>\n",
       "      <td>198.690714</td>\n",
       "      <td>56.089373</td>\n",
       "      <td>NaN</td>\n",
       "      <td>NaN</td>\n",
       "      <td>NaN</td>\n",
       "    </tr>\n",
       "    <tr>\n",
       "      <th>1</th>\n",
       "      <td>1</td>\n",
       "      <td>A0002</td>\n",
       "      <td>GAO20210720t152559p0000-A</td>\n",
       "      <td>40.574605</td>\n",
       "      <td>-104.68813</td>\n",
       "      <td>2021-07-20 00:00:00</td>\n",
       "      <td>livestock</td>\n",
       "      <td>3A2 Manure Management</td>\n",
       "      <td>659.384534</td>\n",
       "      <td>215.976289</td>\n",
       "      <td>NaN</td>\n",
       "      <td>NaN</td>\n",
       "      <td>NaN</td>\n",
       "    </tr>\n",
       "    <tr>\n",
       "      <th>2</th>\n",
       "      <td>2</td>\n",
       "      <td>A0002</td>\n",
       "      <td>GAO20210712t153850p0000-B</td>\n",
       "      <td>40.574387</td>\n",
       "      <td>-104.68855</td>\n",
       "      <td>2021-07-12 00:00:00</td>\n",
       "      <td>livestock</td>\n",
       "      <td>3A2 Manure Management</td>\n",
       "      <td>458.494606</td>\n",
       "      <td>167.196121</td>\n",
       "      <td>NaN</td>\n",
       "      <td>NaN</td>\n",
       "      <td>NaN</td>\n",
       "    </tr>\n",
       "    <tr>\n",
       "      <th>3</th>\n",
       "      <td>3</td>\n",
       "      <td>A0002</td>\n",
       "      <td>GAO20210718t152410p0000-B</td>\n",
       "      <td>40.573827</td>\n",
       "      <td>-104.68812</td>\n",
       "      <td>2021-07-18 00:00:00</td>\n",
       "      <td>livestock</td>\n",
       "      <td>3A2 Manure Management</td>\n",
       "      <td>242.145473</td>\n",
       "      <td>140.004235</td>\n",
       "      <td>NaN</td>\n",
       "      <td>NaN</td>\n",
       "      <td>NaN</td>\n",
       "    </tr>\n",
       "    <tr>\n",
       "      <th>4</th>\n",
       "      <td>4</td>\n",
       "      <td>A0003</td>\n",
       "      <td>GAO20210712t153850p0000-C</td>\n",
       "      <td>40.572121</td>\n",
       "      <td>-104.68871</td>\n",
       "      <td>2021-07-12 00:00:00</td>\n",
       "      <td>livestock</td>\n",
       "      <td>3A2 Manure Management</td>\n",
       "      <td>425.330806</td>\n",
       "      <td>171.220361</td>\n",
       "      <td>NaN</td>\n",
       "      <td>NaN</td>\n",
       "      <td>NaN</td>\n",
       "    </tr>\n",
       "  </tbody>\n",
       "</table>\n",
       "</div>"
      ],
      "text/plain": [
       "   Unnamed: 0 source_id               candidate_id  plume_lat  plume_lon  \\\n",
       "0           0     A0001  GAO20210712t153850p0000-A  40.586588 -104.82330   \n",
       "1           1     A0002  GAO20210720t152559p0000-A  40.574605 -104.68813   \n",
       "2           2     A0002  GAO20210712t153850p0000-B  40.574387 -104.68855   \n",
       "3           3     A0002  GAO20210718t152410p0000-B  40.573827 -104.68812   \n",
       "4           4     A0003  GAO20210712t153850p0000-C  40.572121 -104.68871   \n",
       "\n",
       "                  date source_type                             ipcc  \\\n",
       "0  2021-07-12 00:00:00    landfill  6A Solid Waste Disposal On Land   \n",
       "1  2021-07-20 00:00:00   livestock            3A2 Manure Management   \n",
       "2  2021-07-12 00:00:00   livestock            3A2 Manure Management   \n",
       "3  2021-07-18 00:00:00   livestock            3A2 Manure Management   \n",
       "4  2021-07-12 00:00:00   livestock            3A2 Manure Management   \n",
       "\n",
       "       qplume  sigma_qplume time_of_detection plume_tif rgb_tif  \n",
       "0  198.690714     56.089373               NaN       NaN     NaN  \n",
       "1  659.384534    215.976289               NaN       NaN     NaN  \n",
       "2  458.494606    167.196121               NaN       NaN     NaN  \n",
       "3  242.145473    140.004235               NaN       NaN     NaN  \n",
       "4  425.330806    171.220361               NaN       NaN     NaN  "
      ]
     },
     "execution_count": 5,
     "metadata": {},
     "output_type": "execute_result"
    }
   ],
   "source": [
    "skiprows = 0\n",
    "#Means read in the ',' as thousand seperator. Also drops all columns which are unnamed.\n",
    "dfplume = pd.read_csv(\"plume_attribution_2019-2022 Jeremy Zhao.csv\", thousands=',', skiprows = skiprows)\n",
    "dfplume.head()"
   ]
  },
  {
   "cell_type": "code",
   "execution_count": 6,
   "id": "f1df9641-d2cf-4cdb-adde-3947db53df03",
   "metadata": {},
   "outputs": [
    {
     "data": {
      "text/plain": [
       "(8752, 13)"
      ]
     },
     "execution_count": 6,
     "metadata": {},
     "output_type": "execute_result"
    }
   ],
   "source": [
    "dfplume.shape"
   ]
  },
  {
   "cell_type": "code",
   "execution_count": 7,
   "id": "c5524f86-f1d6-4b35-a61c-c653c84199c0",
   "metadata": {},
   "outputs": [],
   "source": [
    "# Filter plume data for data after June 2020\n",
    "dfplumef = dfplume[dfplume['date'] >= '2020-06-01']"
   ]
  },
  {
   "cell_type": "code",
   "execution_count": 8,
   "id": "0c1c5118-6291-48d9-839f-71f7098bcb19",
   "metadata": {},
   "outputs": [
    {
     "data": {
      "text/plain": [
       "(5685, 13)"
      ]
     },
     "execution_count": 8,
     "metadata": {},
     "output_type": "execute_result"
    }
   ],
   "source": [
    "dfplumef.shape"
   ]
  },
  {
   "cell_type": "code",
   "execution_count": 9,
   "id": "595eb9d9-8214-4d4b-9b9a-089cdb2e2cff",
   "metadata": {},
   "outputs": [
    {
     "data": {
      "text/plain": [
       "Unnamed: 0           5685\n",
       "source_id            2463\n",
       "candidate_id         4225\n",
       "plume_lat            4177\n",
       "plume_lon            4037\n",
       "date                  407\n",
       "source_type            16\n",
       "ipcc                    9\n",
       "qplume               4221\n",
       "sigma_qplume         4221\n",
       "time_of_detection     221\n",
       "plume_tif             534\n",
       "rgb_tif               534\n",
       "dtype: int64"
      ]
     },
     "execution_count": 9,
     "metadata": {},
     "output_type": "execute_result"
    }
   ],
   "source": [
    "dfplumef.nunique()"
   ]
  },
  {
   "cell_type": "code",
   "execution_count": 10,
   "id": "6e62ed1d-64fd-4184-b59e-4644ffdc5e80",
   "metadata": {},
   "outputs": [
    {
     "data": {
      "text/html": [
       "<div>\n",
       "<style scoped>\n",
       "    .dataframe tbody tr th:only-of-type {\n",
       "        vertical-align: middle;\n",
       "    }\n",
       "\n",
       "    .dataframe tbody tr th {\n",
       "        vertical-align: top;\n",
       "    }\n",
       "\n",
       "    .dataframe thead th {\n",
       "        text-align: right;\n",
       "    }\n",
       "</style>\n",
       "<table border=\"1\" class=\"dataframe\">\n",
       "  <thead>\n",
       "    <tr style=\"text-align: right;\">\n",
       "      <th></th>\n",
       "      <th>Unnamed: 0</th>\n",
       "      <th>source_id</th>\n",
       "      <th>source_lat</th>\n",
       "      <th>source_lon</th>\n",
       "      <th>number_overflights</th>\n",
       "      <th>source_persistence</th>\n",
       "      <th>qsource</th>\n",
       "      <th>sigma_qsource</th>\n",
       "      <th>source_type</th>\n",
       "      <th>confidence_in_persistence</th>\n",
       "    </tr>\n",
       "  </thead>\n",
       "  <tbody>\n",
       "    <tr>\n",
       "      <th>0</th>\n",
       "      <td>0</td>\n",
       "      <td>G0001</td>\n",
       "      <td>35.249160</td>\n",
       "      <td>-119.57875</td>\n",
       "      <td>7</td>\n",
       "      <td>0.142857</td>\n",
       "      <td>96.853478</td>\n",
       "      <td>33.082042</td>\n",
       "      <td>tank</td>\n",
       "      <td>high</td>\n",
       "    </tr>\n",
       "    <tr>\n",
       "      <th>1</th>\n",
       "      <td>1</td>\n",
       "      <td>G0002</td>\n",
       "      <td>35.082251</td>\n",
       "      <td>-119.30443</td>\n",
       "      <td>7</td>\n",
       "      <td>0.142857</td>\n",
       "      <td>5.364176</td>\n",
       "      <td>1.441589</td>\n",
       "      <td>compressor</td>\n",
       "      <td>low</td>\n",
       "    </tr>\n",
       "    <tr>\n",
       "      <th>2</th>\n",
       "      <td>2</td>\n",
       "      <td>G0003</td>\n",
       "      <td>35.367999</td>\n",
       "      <td>-119.68495</td>\n",
       "      <td>7</td>\n",
       "      <td>0.857143</td>\n",
       "      <td>187.200884</td>\n",
       "      <td>79.748988</td>\n",
       "      <td>pipeline</td>\n",
       "      <td>high</td>\n",
       "    </tr>\n",
       "    <tr>\n",
       "      <th>3</th>\n",
       "      <td>3</td>\n",
       "      <td>G0004</td>\n",
       "      <td>35.343365</td>\n",
       "      <td>-119.64244</td>\n",
       "      <td>7</td>\n",
       "      <td>0.285714</td>\n",
       "      <td>44.889285</td>\n",
       "      <td>24.739863</td>\n",
       "      <td>pipeline</td>\n",
       "      <td>high</td>\n",
       "    </tr>\n",
       "    <tr>\n",
       "      <th>4</th>\n",
       "      <td>4</td>\n",
       "      <td>G0005</td>\n",
       "      <td>35.359342</td>\n",
       "      <td>-119.66100</td>\n",
       "      <td>7</td>\n",
       "      <td>1.000000</td>\n",
       "      <td>880.375832</td>\n",
       "      <td>244.909184</td>\n",
       "      <td>pipeline</td>\n",
       "      <td>high</td>\n",
       "    </tr>\n",
       "  </tbody>\n",
       "</table>\n",
       "</div>"
      ],
      "text/plain": [
       "   Unnamed: 0 source_id  source_lat  source_lon  number_overflights  \\\n",
       "0           0     G0001   35.249160  -119.57875                   7   \n",
       "1           1     G0002   35.082251  -119.30443                   7   \n",
       "2           2     G0003   35.367999  -119.68495                   7   \n",
       "3           3     G0004   35.343365  -119.64244                   7   \n",
       "4           4     G0005   35.359342  -119.66100                   7   \n",
       "\n",
       "   source_persistence     qsource  sigma_qsource source_type  \\\n",
       "0            0.142857   96.853478      33.082042        tank   \n",
       "1            0.142857    5.364176       1.441589  compressor   \n",
       "2            0.857143  187.200884      79.748988    pipeline   \n",
       "3            0.285714   44.889285      24.739863    pipeline   \n",
       "4            1.000000  880.375832     244.909184    pipeline   \n",
       "\n",
       "  confidence_in_persistence  \n",
       "0                      high  \n",
       "1                       low  \n",
       "2                      high  \n",
       "3                      high  \n",
       "4                      high  "
      ]
     },
     "execution_count": 10,
     "metadata": {},
     "output_type": "execute_result"
    }
   ],
   "source": [
    "dfsource = pd.read_csv(\"source_list_2019-2022 Jeremy Zhao.csv\", thousands=',', skiprows = skiprows)\n",
    "dfsource.head()"
   ]
  },
  {
   "cell_type": "code",
   "execution_count": 11,
   "id": "8211beb9-1348-40fd-8bd9-4bdc2a693182",
   "metadata": {},
   "outputs": [
    {
     "data": {
      "text/plain": [
       "(4199, 10)"
      ]
     },
     "execution_count": 11,
     "metadata": {},
     "output_type": "execute_result"
    }
   ],
   "source": [
    "dfsource.shape"
   ]
  },
  {
   "cell_type": "code",
   "execution_count": 12,
   "id": "6cbe4b9e-5b47-41a0-845a-504f807bf55d",
   "metadata": {},
   "outputs": [],
   "source": [
    "filepaths = pd.Series(list(image_train.glob(r'**/*.png')), name='Filepath').astype(str)"
   ]
  },
  {
   "cell_type": "code",
   "execution_count": 13,
   "id": "fac410f5-63b4-4c90-966b-0e24cee4077f",
   "metadata": {},
   "outputs": [],
   "source": [
    "df_filepaths = filepaths.to_frame()"
   ]
  },
  {
   "cell_type": "code",
   "execution_count": 14,
   "id": "4054ef1e-83e6-4422-bf3b-f83f564733c0",
   "metadata": {},
   "outputs": [],
   "source": [
    "res = os.listdir(image_train)\n",
    "df_filepaths['Name'] = pd.DataFrame (res, columns = ['FileName'])"
   ]
  },
  {
   "cell_type": "code",
   "execution_count": 15,
   "id": "ff53bd9b-f6e3-4df0-8c96-5a8e7178d6ec",
   "metadata": {},
   "outputs": [],
   "source": [
    "df_filepaths['candidate_id'] = [x.split('_')[-0] for x in df_filepaths['Name']]"
   ]
  },
  {
   "cell_type": "code",
   "execution_count": 16,
   "id": "ab1c7648-e0a6-4269-9026-a353ca0c39a5",
   "metadata": {},
   "outputs": [
    {
     "data": {
      "text/html": [
       "<div>\n",
       "<style scoped>\n",
       "    .dataframe tbody tr th:only-of-type {\n",
       "        vertical-align: middle;\n",
       "    }\n",
       "\n",
       "    .dataframe tbody tr th {\n",
       "        vertical-align: top;\n",
       "    }\n",
       "\n",
       "    .dataframe thead th {\n",
       "        text-align: right;\n",
       "    }\n",
       "</style>\n",
       "<table border=\"1\" class=\"dataframe\">\n",
       "  <thead>\n",
       "    <tr style=\"text-align: right;\">\n",
       "      <th></th>\n",
       "      <th>Filepath</th>\n",
       "      <th>Name</th>\n",
       "      <th>candidate_id</th>\n",
       "    </tr>\n",
       "  </thead>\n",
       "  <tbody>\n",
       "    <tr>\n",
       "      <th>0</th>\n",
       "      <td>C:\\Users\\vasan\\OneDrive\\EmissionsDatathon\\Data...</td>\n",
       "      <td>ang20200708t192518-3_r1823_c108-plume.png</td>\n",
       "      <td>ang20200708t192518-3</td>\n",
       "    </tr>\n",
       "    <tr>\n",
       "      <th>1</th>\n",
       "      <td>C:\\Users\\vasan\\OneDrive\\EmissionsDatathon\\Data...</td>\n",
       "      <td>ang20200708t200101-1_r4784_c237-plume.png</td>\n",
       "      <td>ang20200708t200101-1</td>\n",
       "    </tr>\n",
       "    <tr>\n",
       "      <th>2</th>\n",
       "      <td>C:\\Users\\vasan\\OneDrive\\EmissionsDatathon\\Data...</td>\n",
       "      <td>ang20200708t200101-A_r502_c-24-plume.png</td>\n",
       "      <td>ang20200708t200101-A</td>\n",
       "    </tr>\n",
       "    <tr>\n",
       "      <th>3</th>\n",
       "      <td>C:\\Users\\vasan\\OneDrive\\EmissionsDatathon\\Data...</td>\n",
       "      <td>ang20200708t200101-B_r3756_c132-plume.png</td>\n",
       "      <td>ang20200708t200101-B</td>\n",
       "    </tr>\n",
       "    <tr>\n",
       "      <th>4</th>\n",
       "      <td>C:\\Users\\vasan\\OneDrive\\EmissionsDatathon\\Data...</td>\n",
       "      <td>ang20200708t200905-1_r1236_c363-plume.png</td>\n",
       "      <td>ang20200708t200905-1</td>\n",
       "    </tr>\n",
       "  </tbody>\n",
       "</table>\n",
       "</div>"
      ],
      "text/plain": [
       "                                            Filepath  \\\n",
       "0  C:\\Users\\vasan\\OneDrive\\EmissionsDatathon\\Data...   \n",
       "1  C:\\Users\\vasan\\OneDrive\\EmissionsDatathon\\Data...   \n",
       "2  C:\\Users\\vasan\\OneDrive\\EmissionsDatathon\\Data...   \n",
       "3  C:\\Users\\vasan\\OneDrive\\EmissionsDatathon\\Data...   \n",
       "4  C:\\Users\\vasan\\OneDrive\\EmissionsDatathon\\Data...   \n",
       "\n",
       "                                        Name          candidate_id  \n",
       "0  ang20200708t192518-3_r1823_c108-plume.png  ang20200708t192518-3  \n",
       "1  ang20200708t200101-1_r4784_c237-plume.png  ang20200708t200101-1  \n",
       "2   ang20200708t200101-A_r502_c-24-plume.png  ang20200708t200101-A  \n",
       "3  ang20200708t200101-B_r3756_c132-plume.png  ang20200708t200101-B  \n",
       "4  ang20200708t200905-1_r1236_c363-plume.png  ang20200708t200905-1  "
      ]
     },
     "execution_count": 16,
     "metadata": {},
     "output_type": "execute_result"
    }
   ],
   "source": [
    "df_filepaths.head()"
   ]
  },
  {
   "cell_type": "code",
   "execution_count": 17,
   "id": "28d5b398-07b6-4d7f-b27a-cb08272574ef",
   "metadata": {},
   "outputs": [
    {
     "data": {
      "text/plain": [
       "Filepath        3059\n",
       "Name            3059\n",
       "candidate_id    3059\n",
       "dtype: int64"
      ]
     },
     "execution_count": 17,
     "metadata": {},
     "output_type": "execute_result"
    }
   ],
   "source": [
    "df_filepaths.nunique()"
   ]
  },
  {
   "cell_type": "code",
   "execution_count": 18,
   "id": "ec86cd3b-ae11-4f9d-92aa-7c7b07770577",
   "metadata": {},
   "outputs": [],
   "source": [
    "dfplumef['candidate_id2'] = [x.split('-')[-0] for x in dfplumef['candidate_id']]"
   ]
  },
  {
   "cell_type": "code",
   "execution_count": 19,
   "id": "52de55ce-1291-4596-8bcf-f872bd90a5a0",
   "metadata": {},
   "outputs": [
    {
     "data": {
      "text/plain": [
       "Unnamed: 0           5685\n",
       "source_id            2463\n",
       "candidate_id         4225\n",
       "plume_lat            4177\n",
       "plume_lon            4037\n",
       "date                  407\n",
       "source_type            16\n",
       "ipcc                    9\n",
       "qplume               4221\n",
       "sigma_qplume         4221\n",
       "time_of_detection     221\n",
       "plume_tif             534\n",
       "rgb_tif               534\n",
       "candidate_id2        1625\n",
       "dtype: int64"
      ]
     },
     "execution_count": 19,
     "metadata": {},
     "output_type": "execute_result"
    }
   ],
   "source": [
    "dfplumef.nunique()"
   ]
  },
  {
   "cell_type": "code",
   "execution_count": 20,
   "id": "e8109484-cd35-42a7-86ea-58db549e2eff",
   "metadata": {},
   "outputs": [],
   "source": [
    "df_filepaths.to_excel(\"filepaths.xlsx\")  "
   ]
  },
  {
   "cell_type": "code",
   "execution_count": 21,
   "id": "a1253863-204f-426d-9b67-ab7118d953ad",
   "metadata": {},
   "outputs": [],
   "source": [
    "dfplumef.to_excel(\"dfplumef.xlsx\")  "
   ]
  },
  {
   "cell_type": "code",
   "execution_count": 22,
   "id": "9ef7b654-3472-4cbc-a94d-b17c2aaf168b",
   "metadata": {},
   "outputs": [],
   "source": [
    "dup = dfplumef[dfplumef['candidate_id'].duplicated() == True]"
   ]
  },
  {
   "cell_type": "code",
   "execution_count": 23,
   "id": "881d5068-2f48-43c6-a19f-c23efada3339",
   "metadata": {},
   "outputs": [],
   "source": [
    "dup.to_excel(\"dup.xlsx\")  "
   ]
  },
  {
   "cell_type": "code",
   "execution_count": 24,
   "id": "e68c14ff-ddac-4ba2-bd29-d8f89aa3ccef",
   "metadata": {},
   "outputs": [
    {
     "data": {
      "text/plain": [
       "(1460, 14)"
      ]
     },
     "execution_count": 24,
     "metadata": {},
     "output_type": "execute_result"
    }
   ],
   "source": [
    "dup.shape"
   ]
  },
  {
   "cell_type": "code",
   "execution_count": 25,
   "id": "28a39327-36f9-41ab-9ef3-70ba0229e9bd",
   "metadata": {},
   "outputs": [
    {
     "data": {
      "text/plain": [
       "1460"
      ]
     },
     "execution_count": 25,
     "metadata": {},
     "output_type": "execute_result"
    }
   ],
   "source": [
    "5685-4225"
   ]
  },
  {
   "cell_type": "code",
   "execution_count": 26,
   "id": "37a6d562-500d-4112-9815-4b7ed1dcafde",
   "metadata": {},
   "outputs": [],
   "source": [
    "#drop duplicates\n",
    "dfplumef = dfplumef.drop_duplicates(subset='candidate_id', keep=\"first\")"
   ]
  },
  {
   "cell_type": "code",
   "execution_count": 27,
   "id": "b1447681-2335-4497-8db9-4822b1cef739",
   "metadata": {},
   "outputs": [
    {
     "data": {
      "text/plain": [
       "Unnamed: 0           4225\n",
       "source_id            2463\n",
       "candidate_id         4225\n",
       "plume_lat            4177\n",
       "plume_lon            4037\n",
       "date                  184\n",
       "source_type            16\n",
       "ipcc                    9\n",
       "qplume               4221\n",
       "sigma_qplume         4221\n",
       "time_of_detection     221\n",
       "plume_tif              61\n",
       "rgb_tif                61\n",
       "candidate_id2        1625\n",
       "dtype: int64"
      ]
     },
     "execution_count": 27,
     "metadata": {},
     "output_type": "execute_result"
    }
   ],
   "source": [
    "dfplumef.nunique()"
   ]
  },
  {
   "cell_type": "code",
   "execution_count": 28,
   "id": "548c2cdb-3595-4c38-803b-d19cd59ad952",
   "metadata": {},
   "outputs": [],
   "source": [
    "dfdata = pd.merge(df_filepaths,dfplumef, on='candidate_id')"
   ]
  },
  {
   "cell_type": "code",
   "execution_count": 29,
   "id": "beb98d27-53ce-4a34-8b33-6c1d4cf0e47c",
   "metadata": {},
   "outputs": [
    {
     "data": {
      "text/plain": [
       "(3058, 16)"
      ]
     },
     "execution_count": 29,
     "metadata": {},
     "output_type": "execute_result"
    }
   ],
   "source": [
    "dfdata.shape"
   ]
  },
  {
   "cell_type": "code",
   "execution_count": 30,
   "id": "53dbabc8-fc6e-4827-b617-ef9977f20da6",
   "metadata": {},
   "outputs": [],
   "source": [
    "dfdata.to_excel(\"dfdata.xlsx\")  "
   ]
  },
  {
   "cell_type": "code",
   "execution_count": 31,
   "id": "e53ff736-eb61-479c-b888-6655055c435e",
   "metadata": {},
   "outputs": [],
   "source": [
    "dfdata=dfdata.dropna(subset=[\"qplume\"])"
   ]
  },
  {
   "cell_type": "code",
   "execution_count": 32,
   "id": "b0704dad-dccd-419f-ae94-4372a0054b94",
   "metadata": {},
   "outputs": [
    {
     "data": {
      "text/plain": [
       "Unnamed: 0                   4199\n",
       "source_id                    4199\n",
       "source_lat                   4196\n",
       "source_lon                   4167\n",
       "number_overflights             14\n",
       "source_persistence             53\n",
       "qsource                      4198\n",
       "sigma_qsource                4198\n",
       "source_type                    17\n",
       "confidence_in_persistence      10\n",
       "dtype: int64"
      ]
     },
     "execution_count": 32,
     "metadata": {},
     "output_type": "execute_result"
    }
   ],
   "source": [
    "dfsource.nunique()"
   ]
  },
  {
   "cell_type": "code",
   "execution_count": 33,
   "id": "f11c40c2-6171-441a-a224-3fcafad2e6a5",
   "metadata": {},
   "outputs": [],
   "source": [
    "dfdata2 = pd.merge(dfsource,dfdata, on='source_id')"
   ]
  },
  {
   "cell_type": "code",
   "execution_count": 34,
   "id": "c4c84786-ba53-4372-9c22-1a0cd38cc770",
   "metadata": {},
   "outputs": [
    {
     "data": {
      "text/plain": [
       "(2995, 25)"
      ]
     },
     "execution_count": 34,
     "metadata": {},
     "output_type": "execute_result"
    }
   ],
   "source": [
    "dfdata2.shape"
   ]
  },
  {
   "cell_type": "code",
   "execution_count": 35,
   "id": "fadda44d-fc19-440e-a1a9-26d01b685520",
   "metadata": {},
   "outputs": [
    {
     "data": {
      "text/plain": [
       "Unnamed: 0_x                 1770\n",
       "source_id                    1770\n",
       "source_lat                   1769\n",
       "source_lon                   1765\n",
       "number_overflights             12\n",
       "source_persistence             36\n",
       "qsource                      1770\n",
       "sigma_qsource                1770\n",
       "source_type_x                  16\n",
       "confidence_in_persistence      10\n",
       "Filepath                     2995\n",
       "Name                         2995\n",
       "candidate_id                 2995\n",
       "Unnamed: 0_y                 2995\n",
       "plume_lat                    2968\n",
       "plume_lon                    2886\n",
       "date                          111\n",
       "source_type_y                  16\n",
       "ipcc                            7\n",
       "qplume                       2994\n",
       "sigma_qplume                 2994\n",
       "time_of_detection             219\n",
       "plume_tif                       0\n",
       "rgb_tif                         0\n",
       "candidate_id2                1134\n",
       "dtype: int64"
      ]
     },
     "execution_count": 35,
     "metadata": {},
     "output_type": "execute_result"
    }
   ],
   "source": [
    "dfdata2.nunique()"
   ]
  },
  {
   "cell_type": "code",
   "execution_count": 36,
   "id": "239706df-e547-43b7-9d1a-2f35b7b8bd8b",
   "metadata": {},
   "outputs": [],
   "source": [
    "dfdata2 = dfdata2.drop(columns=['plume_tif', 'rgb_tif'])"
   ]
  },
  {
   "cell_type": "code",
   "execution_count": 37,
   "id": "2fdaee86-fc3d-48a1-a6dd-7e8fe00eee86",
   "metadata": {},
   "outputs": [],
   "source": [
    "dfdata2['Uncern'] = (dfdata2.sigma_qplume/dfdata2.qplume)*100"
   ]
  },
  {
   "cell_type": "code",
   "execution_count": 38,
   "id": "89d7d895-c0e3-4754-8ee2-d91a291ead3e",
   "metadata": {},
   "outputs": [
    {
     "data": {
      "text/html": [
       "<div>\n",
       "<style scoped>\n",
       "    .dataframe tbody tr th:only-of-type {\n",
       "        vertical-align: middle;\n",
       "    }\n",
       "\n",
       "    .dataframe tbody tr th {\n",
       "        vertical-align: top;\n",
       "    }\n",
       "\n",
       "    .dataframe thead th {\n",
       "        text-align: right;\n",
       "    }\n",
       "</style>\n",
       "<table border=\"1\" class=\"dataframe\">\n",
       "  <thead>\n",
       "    <tr style=\"text-align: right;\">\n",
       "      <th></th>\n",
       "      <th>Unnamed: 0</th>\n",
       "      <th>source_id</th>\n",
       "      <th>plume_lat</th>\n",
       "      <th>plume_lon</th>\n",
       "      <th>candidate_id</th>\n",
       "      <th>date</th>\n",
       "      <th>time</th>\n",
       "      <th>qplume</th>\n",
       "      <th>sigma_qplume</th>\n",
       "      <th>active_flair_detected</th>\n",
       "      <th>inactive_flair_detected</th>\n",
       "    </tr>\n",
       "  </thead>\n",
       "  <tbody>\n",
       "    <tr>\n",
       "      <th>0</th>\n",
       "      <td>0</td>\n",
       "      <td>P00001</td>\n",
       "      <td>32.212063</td>\n",
       "      <td>-103.697076</td>\n",
       "      <td>ang20190922t192642-2</td>\n",
       "      <td>2019-09-22</td>\n",
       "      <td>19:26:42</td>\n",
       "      <td>2579.528100</td>\n",
       "      <td>902.732655</td>\n",
       "      <td>False</td>\n",
       "      <td>False</td>\n",
       "    </tr>\n",
       "    <tr>\n",
       "      <th>1</th>\n",
       "      <td>1</td>\n",
       "      <td>P00002</td>\n",
       "      <td>32.200072</td>\n",
       "      <td>-103.673301</td>\n",
       "      <td>ang20190922t192642-4</td>\n",
       "      <td>2019-09-22</td>\n",
       "      <td>19:26:42</td>\n",
       "      <td>420.725207</td>\n",
       "      <td>147.155782</td>\n",
       "      <td>False</td>\n",
       "      <td>False</td>\n",
       "    </tr>\n",
       "    <tr>\n",
       "      <th>2</th>\n",
       "      <td>2</td>\n",
       "      <td>P00003</td>\n",
       "      <td>32.116008</td>\n",
       "      <td>-103.626345</td>\n",
       "      <td>ang20190922t192642-5</td>\n",
       "      <td>2019-09-22</td>\n",
       "      <td>19:26:42</td>\n",
       "      <td>1051.909600</td>\n",
       "      <td>339.267587</td>\n",
       "      <td>False</td>\n",
       "      <td>False</td>\n",
       "    </tr>\n",
       "    <tr>\n",
       "      <th>3</th>\n",
       "      <td>3</td>\n",
       "      <td>P00004</td>\n",
       "      <td>32.322594</td>\n",
       "      <td>-103.816072</td>\n",
       "      <td>ang20190922t194340-1</td>\n",
       "      <td>2019-09-22</td>\n",
       "      <td>19:43:40</td>\n",
       "      <td>1736.644250</td>\n",
       "      <td>1035.427670</td>\n",
       "      <td>False</td>\n",
       "      <td>False</td>\n",
       "    </tr>\n",
       "    <tr>\n",
       "      <th>4</th>\n",
       "      <td>4</td>\n",
       "      <td>P00005</td>\n",
       "      <td>32.284083</td>\n",
       "      <td>-103.793989</td>\n",
       "      <td>ang20190922t194340-2</td>\n",
       "      <td>2019-09-22</td>\n",
       "      <td>19:43:40</td>\n",
       "      <td>870.605019</td>\n",
       "      <td>435.968147</td>\n",
       "      <td>False</td>\n",
       "      <td>False</td>\n",
       "    </tr>\n",
       "  </tbody>\n",
       "</table>\n",
       "</div>"
      ],
      "text/plain": [
       "   Unnamed: 0 source_id  plume_lat   plume_lon          candidate_id  \\\n",
       "0           0    P00001  32.212063 -103.697076  ang20190922t192642-2   \n",
       "1           1    P00002  32.200072 -103.673301  ang20190922t192642-4   \n",
       "2           2    P00003  32.116008 -103.626345  ang20190922t192642-5   \n",
       "3           3    P00004  32.322594 -103.816072  ang20190922t194340-1   \n",
       "4           4    P00005  32.284083 -103.793989  ang20190922t194340-2   \n",
       "\n",
       "         date      time       qplume  sigma_qplume  active_flair_detected  \\\n",
       "0  2019-09-22  19:26:42  2579.528100    902.732655                  False   \n",
       "1  2019-09-22  19:26:42   420.725207    147.155782                  False   \n",
       "2  2019-09-22  19:26:42  1051.909600    339.267587                  False   \n",
       "3  2019-09-22  19:43:40  1736.644250   1035.427670                  False   \n",
       "4  2019-09-22  19:43:40   870.605019    435.968147                  False   \n",
       "\n",
       "   inactive_flair_detected  \n",
       "0                    False  \n",
       "1                    False  \n",
       "2                    False  \n",
       "3                    False  \n",
       "4                    False  "
      ]
     },
     "execution_count": 38,
     "metadata": {},
     "output_type": "execute_result"
    }
   ],
   "source": [
    "skiprows = 0\n",
    "#Means read in the ',' as thousand seperator. Also drops all columns which are unnamed.\n",
    "dfplumeper = pd.read_csv(\"permian_plume_list_2019 Jeremy Zhao.csv\", thousands=',', skiprows = skiprows)\n",
    "dfplumeper.head()"
   ]
  },
  {
   "cell_type": "code",
   "execution_count": 39,
   "id": "26c639cb-ee72-4eec-ba3a-37a929b61382",
   "metadata": {},
   "outputs": [
    {
     "data": {
      "text/plain": [
       "(3067, 11)"
      ]
     },
     "execution_count": 39,
     "metadata": {},
     "output_type": "execute_result"
    }
   ],
   "source": [
    "dfplumeper.shape"
   ]
  },
  {
   "cell_type": "code",
   "execution_count": 40,
   "id": "d656b0b0-3830-41eb-a0f6-37baf33f245d",
   "metadata": {},
   "outputs": [
    {
     "data": {
      "text/plain": [
       "Unnamed: 0                 3067\n",
       "source_id                  1756\n",
       "plume_lat                  3061\n",
       "plume_lon                  3058\n",
       "candidate_id               3067\n",
       "date                         31\n",
       "time                        552\n",
       "qplume                     3066\n",
       "sigma_qplume               3066\n",
       "active_flair_detected         2\n",
       "inactive_flair_detected       2\n",
       "dtype: int64"
      ]
     },
     "execution_count": 40,
     "metadata": {},
     "output_type": "execute_result"
    }
   ],
   "source": [
    "dfplumeper.nunique()"
   ]
  },
  {
   "cell_type": "code",
   "execution_count": 41,
   "id": "6c48f6dc-2319-4def-95fa-35b4cfb0719e",
   "metadata": {},
   "outputs": [
    {
     "data": {
      "text/html": [
       "<div>\n",
       "<style scoped>\n",
       "    .dataframe tbody tr th:only-of-type {\n",
       "        vertical-align: middle;\n",
       "    }\n",
       "\n",
       "    .dataframe tbody tr th {\n",
       "        vertical-align: top;\n",
       "    }\n",
       "\n",
       "    .dataframe thead th {\n",
       "        text-align: right;\n",
       "    }\n",
       "</style>\n",
       "<table border=\"1\" class=\"dataframe\">\n",
       "  <thead>\n",
       "    <tr style=\"text-align: right;\">\n",
       "      <th></th>\n",
       "      <th>Unnamed: 0</th>\n",
       "      <th>source_id</th>\n",
       "      <th>source_lat</th>\n",
       "      <th>source_lon</th>\n",
       "      <th>type</th>\n",
       "      <th>ipcc_sector</th>\n",
       "      <th>number_overflights</th>\n",
       "      <th>source_persistence</th>\n",
       "      <th>confidence_in_persistence</th>\n",
       "      <th>qsource</th>\n",
       "      <th>sigma_qsource</th>\n",
       "    </tr>\n",
       "  </thead>\n",
       "  <tbody>\n",
       "    <tr>\n",
       "      <th>0</th>\n",
       "      <td>0</td>\n",
       "      <td>P00001</td>\n",
       "      <td>32.212086</td>\n",
       "      <td>-103.697212</td>\n",
       "      <td>tank</td>\n",
       "      <td>1B2 Oil &amp; Natural Gas</td>\n",
       "      <td>12</td>\n",
       "      <td>0.833333</td>\n",
       "      <td>0.968324</td>\n",
       "      <td>865.484230</td>\n",
       "      <td>307.380288</td>\n",
       "    </tr>\n",
       "    <tr>\n",
       "      <th>1</th>\n",
       "      <td>1</td>\n",
       "      <td>P00002</td>\n",
       "      <td>32.199937</td>\n",
       "      <td>-103.673324</td>\n",
       "      <td>tank</td>\n",
       "      <td>1B2 Oil &amp; Natural Gas</td>\n",
       "      <td>12</td>\n",
       "      <td>0.333333</td>\n",
       "      <td>0.968324</td>\n",
       "      <td>207.089504</td>\n",
       "      <td>47.441634</td>\n",
       "    </tr>\n",
       "    <tr>\n",
       "      <th>2</th>\n",
       "      <td>2</td>\n",
       "      <td>P00003</td>\n",
       "      <td>32.116135</td>\n",
       "      <td>-103.626582</td>\n",
       "      <td>tank</td>\n",
       "      <td>1B2 Oil &amp; Natural Gas</td>\n",
       "      <td>12</td>\n",
       "      <td>0.583333</td>\n",
       "      <td>0.968324</td>\n",
       "      <td>305.700650</td>\n",
       "      <td>97.254972</td>\n",
       "    </tr>\n",
       "    <tr>\n",
       "      <th>3</th>\n",
       "      <td>3</td>\n",
       "      <td>P00004</td>\n",
       "      <td>32.322594</td>\n",
       "      <td>-103.816072</td>\n",
       "      <td>pipeline</td>\n",
       "      <td>1B2 Oil &amp; Natural Gas</td>\n",
       "      <td>11</td>\n",
       "      <td>0.090909</td>\n",
       "      <td>0.957765</td>\n",
       "      <td>157.876750</td>\n",
       "      <td>94.129788</td>\n",
       "    </tr>\n",
       "    <tr>\n",
       "      <th>4</th>\n",
       "      <td>4</td>\n",
       "      <td>P00005</td>\n",
       "      <td>32.284279</td>\n",
       "      <td>-103.793918</td>\n",
       "      <td>tank</td>\n",
       "      <td>1B2 Oil &amp; Natural Gas</td>\n",
       "      <td>10</td>\n",
       "      <td>0.200000</td>\n",
       "      <td>0.943686</td>\n",
       "      <td>161.404695</td>\n",
       "      <td>51.069466</td>\n",
       "    </tr>\n",
       "  </tbody>\n",
       "</table>\n",
       "</div>"
      ],
      "text/plain": [
       "   Unnamed: 0 source_id  source_lat  source_lon      type  \\\n",
       "0           0    P00001   32.212086 -103.697212      tank   \n",
       "1           1    P00002   32.199937 -103.673324      tank   \n",
       "2           2    P00003   32.116135 -103.626582      tank   \n",
       "3           3    P00004   32.322594 -103.816072  pipeline   \n",
       "4           4    P00005   32.284279 -103.793918      tank   \n",
       "\n",
       "             ipcc_sector  number_overflights  source_persistence  \\\n",
       "0  1B2 Oil & Natural Gas                  12            0.833333   \n",
       "1  1B2 Oil & Natural Gas                  12            0.333333   \n",
       "2  1B2 Oil & Natural Gas                  12            0.583333   \n",
       "3  1B2 Oil & Natural Gas                  11            0.090909   \n",
       "4  1B2 Oil & Natural Gas                  10            0.200000   \n",
       "\n",
       "   confidence_in_persistence     qsource  sigma_qsource  \n",
       "0                   0.968324  865.484230     307.380288  \n",
       "1                   0.968324  207.089504      47.441634  \n",
       "2                   0.968324  305.700650      97.254972  \n",
       "3                   0.957765  157.876750      94.129788  \n",
       "4                   0.943686  161.404695      51.069466  "
      ]
     },
     "execution_count": 41,
     "metadata": {},
     "output_type": "execute_result"
    }
   ],
   "source": [
    "dfsourceper = pd.read_csv(\"permian_source_list_2019 Jeremy Zhao.csv\", thousands=',', skiprows = skiprows)\n",
    "dfsourceper.head()"
   ]
  },
  {
   "cell_type": "code",
   "execution_count": 42,
   "id": "5b7c142d-d9bf-4c18-90ff-95f320e72b25",
   "metadata": {},
   "outputs": [
    {
     "data": {
      "text/plain": [
       "(1756, 11)"
      ]
     },
     "execution_count": 42,
     "metadata": {},
     "output_type": "execute_result"
    }
   ],
   "source": [
    "dfsourceper.shape"
   ]
  },
  {
   "cell_type": "code",
   "execution_count": 43,
   "id": "864fbd8e-fdb4-40d7-a0d3-c4dac1a05352",
   "metadata": {},
   "outputs": [
    {
     "data": {
      "text/plain": [
       "Unnamed: 0                   1756\n",
       "source_id                    1756\n",
       "source_lat                   1756\n",
       "source_lon                   1756\n",
       "type                            5\n",
       "ipcc_sector                     1\n",
       "number_overflights             14\n",
       "source_persistence             46\n",
       "confidence_in_persistence      14\n",
       "qsource                      1756\n",
       "sigma_qsource                1756\n",
       "dtype: int64"
      ]
     },
     "execution_count": 43,
     "metadata": {},
     "output_type": "execute_result"
    }
   ],
   "source": [
    "dfsourceper.nunique()"
   ]
  },
  {
   "cell_type": "code",
   "execution_count": 44,
   "id": "bbfc3a0c-5ff2-46f9-b898-70aac627c393",
   "metadata": {},
   "outputs": [],
   "source": [
    "filepaths1 = pd.Series(list(image_train1.glob(r'**/*.png')), name='Filepath').astype(str)"
   ]
  },
  {
   "cell_type": "code",
   "execution_count": 45,
   "id": "4b9b82e6-8f80-4e42-a8c7-39c8bdaa6cc1",
   "metadata": {},
   "outputs": [],
   "source": [
    "df_filepaths1 = filepaths1.to_frame()"
   ]
  },
  {
   "cell_type": "code",
   "execution_count": 46,
   "id": "7ace8510-9b95-4cc1-9dbf-d69a240a3af2",
   "metadata": {},
   "outputs": [],
   "source": [
    "res = os.listdir(image_train1)\n",
    "df_filepaths1['Name'] = pd.DataFrame (res, columns = ['FileName'])"
   ]
  },
  {
   "cell_type": "code",
   "execution_count": 47,
   "id": "924c33e8-18dc-4eb3-a1c7-c8e61b7d10f6",
   "metadata": {},
   "outputs": [],
   "source": [
    "df_filepaths1['candidate_id'] = [x.split('_')[-0] for x in df_filepaths1['Name']]"
   ]
  },
  {
   "cell_type": "code",
   "execution_count": 48,
   "id": "ee30bdd1-e522-45eb-bdbc-9f19792f7456",
   "metadata": {},
   "outputs": [
    {
     "data": {
      "text/html": [
       "<div>\n",
       "<style scoped>\n",
       "    .dataframe tbody tr th:only-of-type {\n",
       "        vertical-align: middle;\n",
       "    }\n",
       "\n",
       "    .dataframe tbody tr th {\n",
       "        vertical-align: top;\n",
       "    }\n",
       "\n",
       "    .dataframe thead th {\n",
       "        text-align: right;\n",
       "    }\n",
       "</style>\n",
       "<table border=\"1\" class=\"dataframe\">\n",
       "  <thead>\n",
       "    <tr style=\"text-align: right;\">\n",
       "      <th></th>\n",
       "      <th>Filepath</th>\n",
       "      <th>Name</th>\n",
       "      <th>candidate_id</th>\n",
       "    </tr>\n",
       "  </thead>\n",
       "  <tbody>\n",
       "    <tr>\n",
       "      <th>0</th>\n",
       "      <td>C:\\Users\\vasan\\OneDrive\\EmissionsDatathon\\Data...</td>\n",
       "      <td>ang20190922t192642-2_r4578_c217-plume.png</td>\n",
       "      <td>ang20190922t192642-2</td>\n",
       "    </tr>\n",
       "    <tr>\n",
       "      <th>1</th>\n",
       "      <td>C:\\Users\\vasan\\OneDrive\\EmissionsDatathon\\Data...</td>\n",
       "      <td>ang20190922t192642-4_r4928_c373-plume.png</td>\n",
       "      <td>ang20190922t192642-4</td>\n",
       "    </tr>\n",
       "    <tr>\n",
       "      <th>2</th>\n",
       "      <td>C:\\Users\\vasan\\OneDrive\\EmissionsDatathon\\Data...</td>\n",
       "      <td>ang20190922t192642-5_r6423_c113-plume.png</td>\n",
       "      <td>ang20190922t192642-5</td>\n",
       "    </tr>\n",
       "    <tr>\n",
       "      <th>3</th>\n",
       "      <td>C:\\Users\\vasan\\OneDrive\\EmissionsDatathon\\Data...</td>\n",
       "      <td>ang20190922t192642-A_r3270_c384-plume.png</td>\n",
       "      <td>ang20190922t192642-A</td>\n",
       "    </tr>\n",
       "    <tr>\n",
       "      <th>4</th>\n",
       "      <td>C:\\Users\\vasan\\OneDrive\\EmissionsDatathon\\Data...</td>\n",
       "      <td>ang20190922t192642-B_r4034_c360-plume.png</td>\n",
       "      <td>ang20190922t192642-B</td>\n",
       "    </tr>\n",
       "  </tbody>\n",
       "</table>\n",
       "</div>"
      ],
      "text/plain": [
       "                                            Filepath  \\\n",
       "0  C:\\Users\\vasan\\OneDrive\\EmissionsDatathon\\Data...   \n",
       "1  C:\\Users\\vasan\\OneDrive\\EmissionsDatathon\\Data...   \n",
       "2  C:\\Users\\vasan\\OneDrive\\EmissionsDatathon\\Data...   \n",
       "3  C:\\Users\\vasan\\OneDrive\\EmissionsDatathon\\Data...   \n",
       "4  C:\\Users\\vasan\\OneDrive\\EmissionsDatathon\\Data...   \n",
       "\n",
       "                                        Name          candidate_id  \n",
       "0  ang20190922t192642-2_r4578_c217-plume.png  ang20190922t192642-2  \n",
       "1  ang20190922t192642-4_r4928_c373-plume.png  ang20190922t192642-4  \n",
       "2  ang20190922t192642-5_r6423_c113-plume.png  ang20190922t192642-5  \n",
       "3  ang20190922t192642-A_r3270_c384-plume.png  ang20190922t192642-A  \n",
       "4  ang20190922t192642-B_r4034_c360-plume.png  ang20190922t192642-B  "
      ]
     },
     "execution_count": 48,
     "metadata": {},
     "output_type": "execute_result"
    }
   ],
   "source": [
    "df_filepaths1.head()"
   ]
  },
  {
   "cell_type": "code",
   "execution_count": 49,
   "id": "71ac3ef1-78aa-4851-a1e9-362700c8fc2c",
   "metadata": {},
   "outputs": [
    {
     "data": {
      "text/plain": [
       "Filepath        3763\n",
       "Name            3763\n",
       "candidate_id    3311\n",
       "dtype: int64"
      ]
     },
     "execution_count": 49,
     "metadata": {},
     "output_type": "execute_result"
    }
   ],
   "source": [
    "df_filepaths1.nunique()"
   ]
  },
  {
   "cell_type": "code",
   "execution_count": 50,
   "id": "b9095858-5f03-4f47-8bc5-20613754a58c",
   "metadata": {},
   "outputs": [],
   "source": [
    "dup1 = dfplumeper[dfplumeper['candidate_id'].duplicated() == True]"
   ]
  },
  {
   "cell_type": "code",
   "execution_count": 51,
   "id": "f8e092c6-fb65-4243-8d6e-c256bb866808",
   "metadata": {},
   "outputs": [
    {
     "data": {
      "text/plain": [
       "(0, 11)"
      ]
     },
     "execution_count": 51,
     "metadata": {},
     "output_type": "execute_result"
    }
   ],
   "source": [
    "dup1.shape"
   ]
  },
  {
   "cell_type": "code",
   "execution_count": 52,
   "id": "ee50235a-c90b-43e6-b80e-c66049c0ff82",
   "metadata": {},
   "outputs": [],
   "source": [
    "dfdataper = pd.merge(df_filepaths1,dfplumeper, on='candidate_id')"
   ]
  },
  {
   "cell_type": "code",
   "execution_count": 53,
   "id": "aa4d4768-5138-4c34-836e-40f15a95675d",
   "metadata": {},
   "outputs": [
    {
     "data": {
      "text/plain": [
       "(3067, 13)"
      ]
     },
     "execution_count": 53,
     "metadata": {},
     "output_type": "execute_result"
    }
   ],
   "source": [
    "dfdataper.shape"
   ]
  },
  {
   "cell_type": "code",
   "execution_count": 54,
   "id": "182ce468-65b8-48ab-a90f-ce87be78c066",
   "metadata": {},
   "outputs": [
    {
     "data": {
      "text/plain": [
       "Filepath                   3067\n",
       "Name                       3067\n",
       "candidate_id               3067\n",
       "Unnamed: 0                 3067\n",
       "source_id                  1756\n",
       "plume_lat                  3061\n",
       "plume_lon                  3058\n",
       "date                         31\n",
       "time                        552\n",
       "qplume                     3066\n",
       "sigma_qplume               3066\n",
       "active_flair_detected         2\n",
       "inactive_flair_detected       2\n",
       "dtype: int64"
      ]
     },
     "execution_count": 54,
     "metadata": {},
     "output_type": "execute_result"
    }
   ],
   "source": [
    "dfdataper.nunique()"
   ]
  },
  {
   "cell_type": "code",
   "execution_count": 55,
   "id": "a19c9e28-4922-4267-acd9-2c3684036eab",
   "metadata": {},
   "outputs": [],
   "source": [
    "dfdataper2 = pd.merge(dfsourceper,dfdataper, on='source_id')"
   ]
  },
  {
   "cell_type": "code",
   "execution_count": 56,
   "id": "7fc9b665-8826-407d-b122-8bad5ad2232d",
   "metadata": {},
   "outputs": [
    {
     "data": {
      "text/plain": [
       "(3067, 23)"
      ]
     },
     "execution_count": 56,
     "metadata": {},
     "output_type": "execute_result"
    }
   ],
   "source": [
    "dfdataper2.shape"
   ]
  },
  {
   "cell_type": "code",
   "execution_count": 57,
   "id": "35bfbc82-505c-4e35-b401-523ada6adc93",
   "metadata": {},
   "outputs": [
    {
     "data": {
      "text/plain": [
       "Unnamed: 0_x                 1756\n",
       "source_id                    1756\n",
       "source_lat                   1756\n",
       "source_lon                   1756\n",
       "type                            5\n",
       "ipcc_sector                     1\n",
       "number_overflights             14\n",
       "source_persistence             46\n",
       "confidence_in_persistence      14\n",
       "qsource                      1756\n",
       "sigma_qsource                1756\n",
       "Filepath                     3067\n",
       "Name                         3067\n",
       "candidate_id                 3067\n",
       "Unnamed: 0_y                 3067\n",
       "plume_lat                    3061\n",
       "plume_lon                    3058\n",
       "date                           31\n",
       "time                          552\n",
       "qplume                       3066\n",
       "sigma_qplume                 3066\n",
       "active_flair_detected           2\n",
       "inactive_flair_detected         2\n",
       "dtype: int64"
      ]
     },
     "execution_count": 57,
     "metadata": {},
     "output_type": "execute_result"
    }
   ],
   "source": [
    "dfdataper2.nunique()"
   ]
  },
  {
   "cell_type": "code",
   "execution_count": 58,
   "id": "e8bcbde6-49d3-4202-b056-c9023956ac95",
   "metadata": {},
   "outputs": [],
   "source": [
    "dfdataper2['Uncern'] = (dfdataper2.sigma_qplume/dfdata2.qplume)*100"
   ]
  },
  {
   "cell_type": "code",
   "execution_count": 59,
   "id": "2b41b785-97a8-435f-885e-91601e12a861",
   "metadata": {},
   "outputs": [
    {
     "data": {
      "text/plain": [
       "(2995, 24)"
      ]
     },
     "execution_count": 59,
     "metadata": {},
     "output_type": "execute_result"
    }
   ],
   "source": [
    "dfdata2.shape"
   ]
  },
  {
   "cell_type": "code",
   "execution_count": 60,
   "id": "d358b402-9577-43af-a0a3-deeaccd539d4",
   "metadata": {},
   "outputs": [
    {
     "data": {
      "text/plain": [
       "(3067, 24)"
      ]
     },
     "execution_count": 60,
     "metadata": {},
     "output_type": "execute_result"
    }
   ],
   "source": [
    "dfdataper2.shape"
   ]
  },
  {
   "cell_type": "code",
   "execution_count": 61,
   "id": "56f9d3cd-8f35-440e-8454-1aa738a2978b",
   "metadata": {},
   "outputs": [
    {
     "data": {
      "text/plain": [
       "Unnamed: 0_x                 1770\n",
       "source_id                    1770\n",
       "source_lat                   1769\n",
       "source_lon                   1765\n",
       "number_overflights             12\n",
       "source_persistence             36\n",
       "qsource                      1770\n",
       "sigma_qsource                1770\n",
       "source_type_x                  16\n",
       "confidence_in_persistence      10\n",
       "Filepath                     2995\n",
       "Name                         2995\n",
       "candidate_id                 2995\n",
       "Unnamed: 0_y                 2995\n",
       "plume_lat                    2968\n",
       "plume_lon                    2886\n",
       "date                          111\n",
       "source_type_y                  16\n",
       "ipcc                            7\n",
       "qplume                       2994\n",
       "sigma_qplume                 2994\n",
       "time_of_detection             219\n",
       "candidate_id2                1134\n",
       "Uncern                       2994\n",
       "dtype: int64"
      ]
     },
     "execution_count": 61,
     "metadata": {},
     "output_type": "execute_result"
    }
   ],
   "source": [
    "dfdata2.nunique()"
   ]
  },
  {
   "cell_type": "code",
   "execution_count": 62,
   "id": "0199c280-33da-42e6-b50f-4329c9c244e7",
   "metadata": {},
   "outputs": [],
   "source": [
    "dfdata2 = dfdata2.drop(columns=['Unnamed: 0_x', 'Unnamed: 0_y','time_of_detection','candidate_id2'])"
   ]
  },
  {
   "cell_type": "code",
   "execution_count": 63,
   "id": "f33122e1-ee71-42be-b348-429078b501f5",
   "metadata": {},
   "outputs": [],
   "source": [
    "dfdata2 = dfdata2.drop(columns=['source_type_x'])"
   ]
  },
  {
   "cell_type": "code",
   "execution_count": 64,
   "id": "ddbdf6f6-0768-4d16-bf21-44d22fc38506",
   "metadata": {},
   "outputs": [
    {
     "data": {
      "text/plain": [
       "Unnamed: 0_x                 1756\n",
       "source_id                    1756\n",
       "source_lat                   1756\n",
       "source_lon                   1756\n",
       "type                            5\n",
       "ipcc_sector                     1\n",
       "number_overflights             14\n",
       "source_persistence             46\n",
       "confidence_in_persistence      14\n",
       "qsource                      1756\n",
       "sigma_qsource                1756\n",
       "Filepath                     3067\n",
       "Name                         3067\n",
       "candidate_id                 3067\n",
       "Unnamed: 0_y                 3067\n",
       "plume_lat                    3061\n",
       "plume_lon                    3058\n",
       "date                           31\n",
       "time                          552\n",
       "qplume                       3066\n",
       "sigma_qplume                 3066\n",
       "active_flair_detected           2\n",
       "inactive_flair_detected         2\n",
       "Uncern                       2995\n",
       "dtype: int64"
      ]
     },
     "execution_count": 64,
     "metadata": {},
     "output_type": "execute_result"
    }
   ],
   "source": [
    "dfdataper2.nunique()"
   ]
  },
  {
   "cell_type": "code",
   "execution_count": 65,
   "id": "8c2c8bb4-2bc4-4fe7-b51d-374b5feeac6e",
   "metadata": {},
   "outputs": [],
   "source": [
    "dfdataper2 = dfdataper2.drop(columns=['Unnamed: 0_x', 'Unnamed: 0_y','active_flair_detected','time'])"
   ]
  },
  {
   "cell_type": "code",
   "execution_count": 66,
   "id": "e733ad60-974d-415c-8787-9fe6ce85508d",
   "metadata": {},
   "outputs": [],
   "source": [
    "dfdataper2 = dfdataper2.drop(columns=['inactive_flair_detected'])"
   ]
  },
  {
   "cell_type": "code",
   "execution_count": 67,
   "id": "b553dfbc-8292-4b17-81a9-372a824b8878",
   "metadata": {},
   "outputs": [],
   "source": [
    "dfdataper2 = dfdataper2.rename(columns={'type': 'source_type_y', 'ipcc_sector': 'ipcc'})"
   ]
  },
  {
   "cell_type": "code",
   "execution_count": 68,
   "id": "765cd533-cce1-40cd-be8f-a25540621f7c",
   "metadata": {},
   "outputs": [],
   "source": [
    "data = pd.concat([dfdataper2, dfdata2])"
   ]
  },
  {
   "cell_type": "code",
   "execution_count": 69,
   "id": "f5c46724-ff31-40c4-91b5-d08be8ce17e3",
   "metadata": {},
   "outputs": [
    {
     "data": {
      "text/plain": [
       "(6062, 19)"
      ]
     },
     "execution_count": 69,
     "metadata": {},
     "output_type": "execute_result"
    }
   ],
   "source": [
    "data.shape"
   ]
  },
  {
   "cell_type": "code",
   "execution_count": 75,
   "id": "bf5a1dda-5c70-4c68-96a8-3895f2e8816f",
   "metadata": {},
   "outputs": [],
   "source": [
    "data['Uncern']=(data['sigma_qplume']/data['qplume'])*100"
   ]
  },
  {
   "cell_type": "code",
   "execution_count": 76,
   "id": "076787e4-806b-40bb-ae2d-cde86ac44427",
   "metadata": {},
   "outputs": [
    {
     "data": {
      "text/plain": [
       "0"
      ]
     },
     "execution_count": 76,
     "metadata": {},
     "output_type": "execute_result"
    }
   ],
   "source": [
    "data['Uncern'].isna().sum()"
   ]
  },
  {
   "cell_type": "code",
   "execution_count": 74,
   "id": "85b00480-a961-449e-a64f-cfbad776a40a",
   "metadata": {},
   "outputs": [
    {
     "data": {
      "text/plain": [
       "0"
      ]
     },
     "execution_count": 74,
     "metadata": {},
     "output_type": "execute_result"
    }
   ],
   "source": [
    "data['sigma_qplume'].isna().sum()"
   ]
  },
  {
   "cell_type": "code",
   "execution_count": 77,
   "id": "ba437344-de4c-48e7-a408-335c847b1e50",
   "metadata": {},
   "outputs": [
    {
     "data": {
      "text/plain": [
       "0"
      ]
     },
     "execution_count": 77,
     "metadata": {},
     "output_type": "execute_result"
    }
   ],
   "source": [
    "data['qplume'].isna().sum()"
   ]
  },
  {
   "cell_type": "code",
   "execution_count": 78,
   "id": "0b91ae6d-6c22-48ec-b790-a82fba5259b1",
   "metadata": {},
   "outputs": [
    {
     "data": {
      "text/plain": [
       "source_id                    3526\n",
       "source_lat                   3524\n",
       "source_lon                   3517\n",
       "source_type_y                  16\n",
       "ipcc                            7\n",
       "number_overflights             14\n",
       "source_persistence             68\n",
       "confidence_in_persistence      24\n",
       "qsource                      3526\n",
       "sigma_qsource                3526\n",
       "Filepath                     6062\n",
       "Name                         6062\n",
       "candidate_id                 6062\n",
       "plume_lat                    6027\n",
       "plume_lon                    5929\n",
       "date                          142\n",
       "qplume                       6060\n",
       "sigma_qplume                 6060\n",
       "Uncern                       6060\n",
       "dtype: int64"
      ]
     },
     "execution_count": 78,
     "metadata": {},
     "output_type": "execute_result"
    }
   ],
   "source": [
    "data.nunique()"
   ]
  },
  {
   "cell_type": "code",
   "execution_count": 79,
   "id": "f29fc96f-0e3f-4a3f-a98c-0cbb8b3d2f1c",
   "metadata": {},
   "outputs": [],
   "source": [
    "datamodel = data"
   ]
  },
  {
   "cell_type": "code",
   "execution_count": null,
   "id": "5a74a870-c6b4-462f-861c-c3889d2d0e6f",
   "metadata": {},
   "outputs": [],
   "source": []
  },
  {
   "cell_type": "code",
   "execution_count": null,
   "id": "74adba67-b326-4c63-979a-cd09c3bfa7a5",
   "metadata": {},
   "outputs": [],
   "source": []
  },
  {
   "cell_type": "code",
   "execution_count": null,
   "id": "eeac7c2c-a800-4bd7-bb88-0f01034f509d",
   "metadata": {},
   "outputs": [],
   "source": []
  },
  {
   "cell_type": "code",
   "execution_count": null,
   "id": "f28ed38b-7515-48c4-9e7d-1e98ac9b12d2",
   "metadata": {},
   "outputs": [],
   "source": [
    "datamodel.shape"
   ]
  },
  {
   "cell_type": "code",
   "execution_count": null,
   "id": "8cf157cd-61b7-4052-8d39-7eef2dd6d0d3",
   "metadata": {},
   "outputs": [],
   "source": [
    "def image_processing(fil):\n",
    "    # Open image and import it as a numpy array\n",
    "    im2 = imread(fil)\n",
    "    im2_rgb = color.rgba2rgb(im2)\n",
    "    im2_hsv = rgb2hsv(im2_rgb)\n",
    "        \n",
    "    mask = im2_hsv[:,:,1] > 0.4\n",
    "    \n",
    "    red = im2[:,:,0]*mask\n",
    "    green = im2[:,:,1]*mask\n",
    "    blue = im2[:,:,2]*mask\n",
    "    \n",
    "    mask2 = np.dstack((red,green,blue))\n",
    "    \n",
    "    arr = np.array(mask2)\n",
    "    \n",
    "    mask = np.where(arr != 0)\n",
    "    \n",
    "    avg = np.mean(arr[mask])\n",
    "    \n",
    "#    flat_red = red.flatten()\n",
    "#    flat_green = green.flatten()\n",
    "#    flat_blue = blue.flatten()\n",
    "    \n",
    "#    nonzero_red = flat_red[flat_red != 0]\n",
    "#    nonzero_green = flat_green[flat_green != 0]\n",
    "#    nonzero_blue = flat_blue[flat_blue != 0]\n",
    "    \n",
    "#    meanr = np.mean(nonzero_red)\n",
    "#    meang = np.mean(nonzero_green)\n",
    "#    meanb = np.mean(nonzero_blue)\n",
    "    \n",
    "#    filename = fil.split(\"/\")[-1]\n",
    "    \n",
    "    return avg"
   ]
  },
  {
   "cell_type": "code",
   "execution_count": null,
   "id": "3ef0af95-cf5a-4946-9291-fb857483a189",
   "metadata": {},
   "outputs": [],
   "source": [
    "pic_list = []\n",
    "name_list = []\n",
    "#qplume = []"
   ]
  },
  {
   "cell_type": "code",
   "execution_count": null,
   "id": "aa0d816b-65c2-47e6-930e-4578d70fe304",
   "metadata": {},
   "outputs": [],
   "source": [
    "for file in tqdm(datamodel['Filepath'].tolist()[:]):\n",
    "    avg = image_processing(file)\n",
    "    pic_list.append(avg)\n",
    "    name_list.append(os.path.basename(file))  # add filename to list"
   ]
  },
  {
   "cell_type": "code",
   "execution_count": null,
   "id": "8aadbb87-fee0-45a9-b70e-d332aa738fc8",
   "metadata": {},
   "outputs": [],
   "source": [
    "dfeat = pd.DataFrame({'pic_val': pic_list, 'Name': name_list})"
   ]
  },
  {
   "cell_type": "code",
   "execution_count": null,
   "id": "23b3b08f-672c-4d64-8d35-f5b8b995f126",
   "metadata": {},
   "outputs": [],
   "source": [
    "dfeat.head()"
   ]
  },
  {
   "cell_type": "code",
   "execution_count": null,
   "id": "6a46b3ba-c805-4a4f-a232-e339ff8472d6",
   "metadata": {},
   "outputs": [],
   "source": [
    "dfeat3 = pd.merge(dfeat, datamodel, on='Name')"
   ]
  },
  {
   "cell_type": "code",
   "execution_count": null,
   "id": "a3407b8b-1803-42c9-b2b6-3ae30b3d29b8",
   "metadata": {},
   "outputs": [],
   "source": [
    "dfeat3.head()"
   ]
  },
  {
   "cell_type": "code",
   "execution_count": null,
   "id": "2ee9a01b-f3e9-4c1a-a466-12c30b5d27c0",
   "metadata": {},
   "outputs": [],
   "source": [
    "# Generate values for missing permeability values as a function of porosity\n",
    "a = dfeat3['pic_val']\n",
    "b = dfeat3['qplume']\n",
    "\n",
    "plt.figure(figsize=(14, 8))\n",
    "plt.scatter(a, b, color='blue')\n",
    "#plt.scatter(a, b1, color='orange')\n",
    "plt.xlabel(\"pic_val\", size=14)\n",
    "plt.ylabel(\"qplume\", size=14)\n",
    "plt.yscale('log', nonposy='clip')\n",
    "#plt.xlim([0.01, 100000])\n",
    "#plt.xscale('log', nonposx='clip')\n",
    "plt.ylim([0.01, 100000])\n",
    "#plt.gca().invert_yaxis()\n",
    "\n",
    "\n",
    "\n",
    "#plt.tight_layout()\n",
    "plt.show()"
   ]
  },
  {
   "cell_type": "code",
   "execution_count": null,
   "id": "ca5e6166-eee9-48bf-9c8d-e24648dd338b",
   "metadata": {},
   "outputs": [],
   "source": [
    "dfeat3.isna().sum()"
   ]
  },
  {
   "cell_type": "code",
   "execution_count": null,
   "id": "3d3cc621-1aa5-4b01-a88b-9a60f572b553",
   "metadata": {},
   "outputs": [],
   "source": [
    "(dfeat3.eq(0)).sum()"
   ]
  },
  {
   "cell_type": "code",
   "execution_count": null,
   "id": "93c2c32a-54ea-4369-ab94-93c9db914997",
   "metadata": {},
   "outputs": [],
   "source": [
    "dfeat3.drop(dfeat3[dfeat3['pic_val'] == 0].index, inplace=True)"
   ]
  },
  {
   "cell_type": "code",
   "execution_count": null,
   "id": "64bf7bf2-af1c-4d40-bcb1-119344993ae5",
   "metadata": {},
   "outputs": [],
   "source": [
    "#dfeat3 = dfeat3.pic_val.dropna()"
   ]
  },
  {
   "cell_type": "code",
   "execution_count": null,
   "id": "092914b3-9907-468f-8495-075b796dc746",
   "metadata": {},
   "outputs": [],
   "source": [
    "dfeat3.shape"
   ]
  },
  {
   "cell_type": "code",
   "execution_count": null,
   "id": "691f6eee-4c1d-4089-a7ed-ae346a5479f2",
   "metadata": {},
   "outputs": [],
   "source": [
    "dfeat3.to_excel(\"dfeat3all.xlsx\")"
   ]
  },
  {
   "cell_type": "code",
   "execution_count": null,
   "id": "33bf7987-8c8d-4e86-af85-d1c9dd05e396",
   "metadata": {},
   "outputs": [],
   "source": [
    "plt.figure(figsize=(15, 15))\n",
    "ax = sns.heatmap(dfeat3.corr(), annot=True, fmt=\".2f\")"
   ]
  },
  {
   "cell_type": "code",
   "execution_count": null,
   "id": "2eb321ed-0212-495f-8d15-1f6368cb04ab",
   "metadata": {},
   "outputs": [],
   "source": [
    "dfeat3.shape"
   ]
  },
  {
   "cell_type": "code",
   "execution_count": null,
   "id": "3d3e7d66-3e38-43b6-bfde-5ceeba8737a4",
   "metadata": {},
   "outputs": [],
   "source": [
    "image_sub = []"
   ]
  },
  {
   "cell_type": "code",
   "execution_count": null,
   "id": "661d5526-76bd-45f4-8276-756c1508aba5",
   "metadata": {},
   "outputs": [],
   "source": [
    "image_test = Path('C:/Users/vasan/OneDrive/EmissionsDatathon/Dataset/Data/Test')"
   ]
  },
  {
   "cell_type": "code",
   "execution_count": null,
   "id": "7ba861fa-0db5-41f4-bf1d-5679c95f835b",
   "metadata": {},
   "outputs": [],
   "source": [
    "testpaths = pd.Series(list(image_test.glob(r'**/*.png')), name='Testpath').astype(str)"
   ]
  },
  {
   "cell_type": "code",
   "execution_count": null,
   "id": "228b78a3-893c-448e-bea1-bfc690c79f29",
   "metadata": {},
   "outputs": [],
   "source": [
    "df_testpaths = testpaths.to_frame()"
   ]
  },
  {
   "cell_type": "code",
   "execution_count": null,
   "id": "c6232678-a1bd-4571-a914-14dbb9299525",
   "metadata": {},
   "outputs": [],
   "source": [
    "pic_list1 = []\n",
    "name_list1 = []\n",
    "#qplume = []"
   ]
  },
  {
   "cell_type": "code",
   "execution_count": null,
   "id": "ac73cb3b-ebee-451e-8d24-5913a0bfe783",
   "metadata": {},
   "outputs": [],
   "source": [
    "for file in tqdm(df_testpaths['Testpath'].tolist()[:]):\n",
    "    avg = image_processing(file)\n",
    "    pic_list1.append(avg)\n",
    "    name_list1.append(os.path.basename(file))  # add filename to list"
   ]
  },
  {
   "cell_type": "code",
   "execution_count": null,
   "id": "ab726686-b9d9-434f-affc-4972a2249ff0",
   "metadata": {},
   "outputs": [],
   "source": [
    "dsub = pd.DataFrame({'pic_val': pic_list1, 'Name': name_list1})\n",
    "#dsub = pd.DataFrame({'Red': meanr_list1, 'Green': meang_list1, 'Blue': meanb_list1, 'Name': name_list1})"
   ]
  },
  {
   "cell_type": "code",
   "execution_count": null,
   "id": "8707c82c-753e-488d-9301-be063e086109",
   "metadata": {},
   "outputs": [],
   "source": [
    "dsub"
   ]
  },
  {
   "cell_type": "code",
   "execution_count": null,
   "id": "30e6f373-01df-49bc-be30-2b20c8ff8c12",
   "metadata": {},
   "outputs": [],
   "source": [
    "dsub['log_pic_val'] = np.log(dsub['pic_val'])"
   ]
  },
  {
   "cell_type": "code",
   "execution_count": null,
   "id": "dedc438b-eb8f-45ae-bb5f-db5e13a23115",
   "metadata": {},
   "outputs": [],
   "source": [
    "dsub = dsub.drop('Name', axis=1)"
   ]
  },
  {
   "cell_type": "code",
   "execution_count": null,
   "id": "f349b54e-01ae-471b-a7b8-d486b1a943c4",
   "metadata": {},
   "outputs": [],
   "source": [
    "dsub = dsub.drop('pic_val', axis=1)"
   ]
  },
  {
   "cell_type": "code",
   "execution_count": null,
   "id": "e6f84ba3-e8c1-4b82-ac69-f0ceb9819e64",
   "metadata": {},
   "outputs": [],
   "source": [
    "dsub.to_excel(\"dsub.xlsx\")  "
   ]
  },
  {
   "cell_type": "code",
   "execution_count": null,
   "id": "53b86170-1999-4bd8-b1a3-7326549ba02d",
   "metadata": {},
   "outputs": [],
   "source": [
    "dsub.shape"
   ]
  },
  {
   "cell_type": "code",
   "execution_count": null,
   "id": "f620a48c-681e-4143-9dc4-468647daddb3",
   "metadata": {},
   "outputs": [],
   "source": []
  }
 ],
 "metadata": {
  "kernelspec": {
   "display_name": "Python 3 (ipykernel)",
   "language": "python",
   "name": "python3"
  },
  "language_info": {
   "codemirror_mode": {
    "name": "ipython",
    "version": 3
   },
   "file_extension": ".py",
   "mimetype": "text/x-python",
   "name": "python",
   "nbconvert_exporter": "python",
   "pygments_lexer": "ipython3",
   "version": "3.9.7"
  }
 },
 "nbformat": 4,
 "nbformat_minor": 5
}
