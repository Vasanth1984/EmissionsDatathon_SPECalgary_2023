{
 "cells": [
  {
   "cell_type": "markdown",
   "id": "9139b738-8829-43a7-90bc-d6c3fd138023",
   "metadata": {},
   "source": [
    "# #1 Emissions Datathon - Permian, Mean Pixel values and CNN"
   ]
  },
  {
   "cell_type": "markdown",
   "id": "5fb61d2f-b73a-4b79-9630-c8a906fa7827",
   "metadata": {},
   "source": [
    "### Prepare Dataframe"
   ]
  },
  {
   "cell_type": "code",
   "execution_count": 123,
   "id": "f23682aa-213d-41bc-9bf2-c3dff7591141",
   "metadata": {},
   "outputs": [],
   "source": [
    "import numpy as np\n",
    "import pandas as pd\n",
    "from pathlib import Path\n",
    "import os.path\n",
    "\n",
    "# Data visualization\n",
    "import matplotlib as mpl\n",
    "import matplotlib.pyplot as plt\n",
    "mpl.rcParams.update({'figure.max_open_warning': 0})\n",
    "from matplotlib.pyplot import *\n",
    "import imageio\n",
    "from skimage.io import imread\n",
    "\n",
    "from tqdm import tqdm\n",
    "\n",
    "import cv2   #For image processing\n",
    "\n",
    "import tensorflow as tf\n",
    "#All tensorflow utilities for creating, training and working with a CNN\n",
    "from tensorflow.keras.utils import to_categorical\n",
    "from tensorflow.keras.models import Sequential\n",
    "from tensorflow.keras.layers import Conv2D, MaxPool2D, BatchNormalization\n",
    "from tensorflow.keras.layers import Activation, Dropout, Flatten, Dense\n",
    "from tensorflow.keras.losses import categorical_crossentropy\n",
    "from tensorflow.keras.optimizers import Adam\n",
    "from tensorflow.keras.callbacks import ModelCheckpoint\n",
    "from tensorflow.keras.models import load_model\n",
    "\n",
    "\n",
    "\n",
    "from sklearn.preprocessing import LabelEncoder    #For encoding categorical variables\n",
    "from sklearn.model_selection import train_test_split #For splitting of data\n",
    "from sklearn.metrics import r2_score\n",
    "from sklearn.metrics import mean_squared_error\n",
    "\n",
    "from skimage.io import imread, imshow\n",
    "from skimage.color import rgb2gray, rgb2hsv, rgba2rgb\n",
    "from skimage.morphology import area_opening\n",
    "from skimage.exposure import histogram\n",
    "from skimage.filters import threshold_otsu\n",
    "from skimage import io, color"
   ]
  },
  {
   "cell_type": "code",
   "execution_count": 94,
   "id": "f2281651-61bb-4629-91da-12e8129a472f",
   "metadata": {},
   "outputs": [],
   "source": [
    "image_train = Path('C:/Users/vasan/OneDrive/EmissionsDatathon/Dataset/Data/Train2')\n",
    "\n",
    "dir_name = r'C:\\Users\\vasan\\OneDrive\\EmissionsDatathon\\Zeroing Methane Emissions - Dataset'\n",
    "filename_suffix = 'csv'"
   ]
  },
  {
   "cell_type": "code",
   "execution_count": 95,
   "id": "915e4ce3-1c79-476a-a969-045f672fb8ac",
   "metadata": {},
   "outputs": [],
   "source": [
    "filepaths = pd.Series(list(image_train.glob(r'**/*.png')), name='Filepath').astype(str)"
   ]
  },
  {
   "cell_type": "code",
   "execution_count": 96,
   "id": "43bf3159-7da9-43a0-b910-6e92e0f91db0",
   "metadata": {},
   "outputs": [
    {
     "data": {
      "text/plain": [
       "0    C:\\Users\\vasan\\OneDrive\\EmissionsDatathon\\Data...\n",
       "1    C:\\Users\\vasan\\OneDrive\\EmissionsDatathon\\Data...\n",
       "2    C:\\Users\\vasan\\OneDrive\\EmissionsDatathon\\Data...\n",
       "3    C:\\Users\\vasan\\OneDrive\\EmissionsDatathon\\Data...\n",
       "4    C:\\Users\\vasan\\OneDrive\\EmissionsDatathon\\Data...\n",
       "Name: Filepath, dtype: object"
      ]
     },
     "execution_count": 96,
     "metadata": {},
     "output_type": "execute_result"
    }
   ],
   "source": [
    "filepaths.head()"
   ]
  },
  {
   "cell_type": "code",
   "execution_count": 97,
   "id": "03cf1cdd-4e39-4f87-90f9-69679fe6d6e9",
   "metadata": {},
   "outputs": [],
   "source": [
    "df_filepaths = filepaths.to_frame()"
   ]
  },
  {
   "cell_type": "code",
   "execution_count": 98,
   "id": "ac8e4d86-feaa-4ac6-b57c-8f5248459bec",
   "metadata": {},
   "outputs": [],
   "source": [
    "res = os.listdir(image_train)\n",
    "df_filepaths['Name'] = pd.DataFrame (res, columns = ['FileName'])"
   ]
  },
  {
   "cell_type": "code",
   "execution_count": 99,
   "id": "31eaa0e8-0cbe-4ea5-ab30-31a695a703ce",
   "metadata": {},
   "outputs": [],
   "source": [
    "df_filepaths['candidate_id'] = [x.split('_')[-0] for x in df_filepaths['Name']]"
   ]
  },
  {
   "cell_type": "code",
   "execution_count": 100,
   "id": "6419df20-bbdf-461f-b490-fc9bcc5d10db",
   "metadata": {},
   "outputs": [],
   "source": [
    "df_filepaths.to_excel(\"all.xlsx\")  "
   ]
  },
  {
   "cell_type": "code",
   "execution_count": 101,
   "id": "efd95ce2-9bf3-4e27-b4a3-bc8115a8ed30",
   "metadata": {},
   "outputs": [
    {
     "data": {
      "text/html": [
       "<div>\n",
       "<style scoped>\n",
       "    .dataframe tbody tr th:only-of-type {\n",
       "        vertical-align: middle;\n",
       "    }\n",
       "\n",
       "    .dataframe tbody tr th {\n",
       "        vertical-align: top;\n",
       "    }\n",
       "\n",
       "    .dataframe thead th {\n",
       "        text-align: right;\n",
       "    }\n",
       "</style>\n",
       "<table border=\"1\" class=\"dataframe\">\n",
       "  <thead>\n",
       "    <tr style=\"text-align: right;\">\n",
       "      <th></th>\n",
       "      <th>Unnamed: 0</th>\n",
       "      <th>source_id</th>\n",
       "      <th>candidate_id</th>\n",
       "      <th>plume_lat</th>\n",
       "      <th>plume_lon</th>\n",
       "      <th>date</th>\n",
       "      <th>source_type</th>\n",
       "      <th>ipcc</th>\n",
       "      <th>qplume</th>\n",
       "      <th>sigma_qplume</th>\n",
       "      <th>time_of_detection</th>\n",
       "      <th>plume_tif</th>\n",
       "      <th>rgb_tif</th>\n",
       "    </tr>\n",
       "  </thead>\n",
       "  <tbody>\n",
       "    <tr>\n",
       "      <th>0</th>\n",
       "      <td>0</td>\n",
       "      <td>A0001</td>\n",
       "      <td>GAO20210712t153850p0000-A</td>\n",
       "      <td>40.586588</td>\n",
       "      <td>-104.82330</td>\n",
       "      <td>2021-07-12 00:00:00</td>\n",
       "      <td>landfill</td>\n",
       "      <td>6A Solid Waste Disposal On Land</td>\n",
       "      <td>198.690714</td>\n",
       "      <td>56.089373</td>\n",
       "      <td>NaN</td>\n",
       "      <td>NaN</td>\n",
       "      <td>NaN</td>\n",
       "    </tr>\n",
       "    <tr>\n",
       "      <th>1</th>\n",
       "      <td>1</td>\n",
       "      <td>A0002</td>\n",
       "      <td>GAO20210720t152559p0000-A</td>\n",
       "      <td>40.574605</td>\n",
       "      <td>-104.68813</td>\n",
       "      <td>2021-07-20 00:00:00</td>\n",
       "      <td>livestock</td>\n",
       "      <td>3A2 Manure Management</td>\n",
       "      <td>659.384534</td>\n",
       "      <td>215.976289</td>\n",
       "      <td>NaN</td>\n",
       "      <td>NaN</td>\n",
       "      <td>NaN</td>\n",
       "    </tr>\n",
       "    <tr>\n",
       "      <th>2</th>\n",
       "      <td>2</td>\n",
       "      <td>A0002</td>\n",
       "      <td>GAO20210712t153850p0000-B</td>\n",
       "      <td>40.574387</td>\n",
       "      <td>-104.68855</td>\n",
       "      <td>2021-07-12 00:00:00</td>\n",
       "      <td>livestock</td>\n",
       "      <td>3A2 Manure Management</td>\n",
       "      <td>458.494606</td>\n",
       "      <td>167.196121</td>\n",
       "      <td>NaN</td>\n",
       "      <td>NaN</td>\n",
       "      <td>NaN</td>\n",
       "    </tr>\n",
       "    <tr>\n",
       "      <th>3</th>\n",
       "      <td>3</td>\n",
       "      <td>A0002</td>\n",
       "      <td>GAO20210718t152410p0000-B</td>\n",
       "      <td>40.573827</td>\n",
       "      <td>-104.68812</td>\n",
       "      <td>2021-07-18 00:00:00</td>\n",
       "      <td>livestock</td>\n",
       "      <td>3A2 Manure Management</td>\n",
       "      <td>242.145473</td>\n",
       "      <td>140.004235</td>\n",
       "      <td>NaN</td>\n",
       "      <td>NaN</td>\n",
       "      <td>NaN</td>\n",
       "    </tr>\n",
       "    <tr>\n",
       "      <th>4</th>\n",
       "      <td>4</td>\n",
       "      <td>A0003</td>\n",
       "      <td>GAO20210712t153850p0000-C</td>\n",
       "      <td>40.572121</td>\n",
       "      <td>-104.68871</td>\n",
       "      <td>2021-07-12 00:00:00</td>\n",
       "      <td>livestock</td>\n",
       "      <td>3A2 Manure Management</td>\n",
       "      <td>425.330806</td>\n",
       "      <td>171.220361</td>\n",
       "      <td>NaN</td>\n",
       "      <td>NaN</td>\n",
       "      <td>NaN</td>\n",
       "    </tr>\n",
       "  </tbody>\n",
       "</table>\n",
       "</div>"
      ],
      "text/plain": [
       "   Unnamed: 0 source_id               candidate_id  plume_lat  plume_lon  \\\n",
       "0           0     A0001  GAO20210712t153850p0000-A  40.586588 -104.82330   \n",
       "1           1     A0002  GAO20210720t152559p0000-A  40.574605 -104.68813   \n",
       "2           2     A0002  GAO20210712t153850p0000-B  40.574387 -104.68855   \n",
       "3           3     A0002  GAO20210718t152410p0000-B  40.573827 -104.68812   \n",
       "4           4     A0003  GAO20210712t153850p0000-C  40.572121 -104.68871   \n",
       "\n",
       "                  date source_type                             ipcc  \\\n",
       "0  2021-07-12 00:00:00    landfill  6A Solid Waste Disposal On Land   \n",
       "1  2021-07-20 00:00:00   livestock            3A2 Manure Management   \n",
       "2  2021-07-12 00:00:00   livestock            3A2 Manure Management   \n",
       "3  2021-07-18 00:00:00   livestock            3A2 Manure Management   \n",
       "4  2021-07-12 00:00:00   livestock            3A2 Manure Management   \n",
       "\n",
       "       qplume  sigma_qplume time_of_detection plume_tif rgb_tif  \n",
       "0  198.690714     56.089373               NaN       NaN     NaN  \n",
       "1  659.384534    215.976289               NaN       NaN     NaN  \n",
       "2  458.494606    167.196121               NaN       NaN     NaN  \n",
       "3  242.145473    140.004235               NaN       NaN     NaN  \n",
       "4  425.330806    171.220361               NaN       NaN     NaN  "
      ]
     },
     "execution_count": 101,
     "metadata": {},
     "output_type": "execute_result"
    }
   ],
   "source": [
    "skiprows = 0\n",
    "#Means read in the ',' as thousand seperator. Also drops all columns which are unnamed.\n",
    "df = pd.read_csv(\"plume_attribution_2019-2022 Jeremy Zhao.csv\", thousands=',', skiprows = skiprows)\n",
    "#df = df.loc[:, ~df.columns.str.contains('^Unnamed')] \n",
    "df.head()"
   ]
  },
  {
   "cell_type": "code",
   "execution_count": 102,
   "id": "1c4fbf33-3c81-47c0-aaa7-b2a2122609f1",
   "metadata": {},
   "outputs": [
    {
     "data": {
      "text/plain": [
       "7292"
      ]
     },
     "execution_count": 102,
     "metadata": {},
     "output_type": "execute_result"
    }
   ],
   "source": [
    "df['candidate_id'].nunique()"
   ]
  },
  {
   "cell_type": "code",
   "execution_count": 103,
   "id": "ef7864b7-0ffb-4f39-98f9-ca3ae87f3dc1",
   "metadata": {},
   "outputs": [
    {
     "data": {
      "text/plain": [
       "(8752, 13)"
      ]
     },
     "execution_count": 103,
     "metadata": {},
     "output_type": "execute_result"
    }
   ],
   "source": [
    "df.shape"
   ]
  },
  {
   "cell_type": "code",
   "execution_count": 104,
   "id": "4a86fb98-5fed-46e1-8af9-2633b97daa28",
   "metadata": {},
   "outputs": [],
   "source": [
    "dup = df[df['candidate_id'].duplicated() == True]"
   ]
  },
  {
   "cell_type": "code",
   "execution_count": 105,
   "id": "33842b9f-d65b-4ce7-b9cd-29affe5b8f81",
   "metadata": {},
   "outputs": [],
   "source": [
    "#dup.to_excel(\"dup.xlsx\")  "
   ]
  },
  {
   "cell_type": "code",
   "execution_count": 106,
   "id": "ede84f66-a3ee-44f2-adf8-1e0a207c55dd",
   "metadata": {},
   "outputs": [],
   "source": [
    "#df.to_excel(\"df.xlsx\")  "
   ]
  },
  {
   "cell_type": "code",
   "execution_count": 107,
   "id": "cb11099e-641f-40c8-b8f4-3f9402e8b6c1",
   "metadata": {},
   "outputs": [],
   "source": [
    "df = df.drop_duplicates(subset='candidate_id', keep=\"first\")"
   ]
  },
  {
   "cell_type": "code",
   "execution_count": 108,
   "id": "223c03a9-f156-44fe-86e7-47afc2064764",
   "metadata": {},
   "outputs": [
    {
     "name": "stdout",
     "output_type": "stream",
     "text": [
      "(7292, 13)\n",
      "(3059, 3)\n"
     ]
    }
   ],
   "source": [
    "print(df.shape)\n",
    "print(df_filepaths.shape)"
   ]
  },
  {
   "cell_type": "code",
   "execution_count": 109,
   "id": "09dca47b-5869-4f5e-a15c-bdb09d50101b",
   "metadata": {},
   "outputs": [],
   "source": [
    "df2 = pd.merge(df, df_filepaths, on='candidate_id')"
   ]
  },
  {
   "cell_type": "code",
   "execution_count": 110,
   "id": "6315b5cb-72ec-4f1a-8728-2f698c1fe5f9",
   "metadata": {},
   "outputs": [
    {
     "name": "stdout",
     "output_type": "stream",
     "text": [
      "(3058, 15)\n"
     ]
    }
   ],
   "source": [
    "print(df2.shape)"
   ]
  },
  {
   "cell_type": "code",
   "execution_count": 111,
   "id": "7e8193ed-1738-4d02-80ee-5fe5c7a74a8c",
   "metadata": {},
   "outputs": [
    {
     "data": {
      "text/html": [
       "<div>\n",
       "<style scoped>\n",
       "    .dataframe tbody tr th:only-of-type {\n",
       "        vertical-align: middle;\n",
       "    }\n",
       "\n",
       "    .dataframe tbody tr th {\n",
       "        vertical-align: top;\n",
       "    }\n",
       "\n",
       "    .dataframe thead th {\n",
       "        text-align: right;\n",
       "    }\n",
       "</style>\n",
       "<table border=\"1\" class=\"dataframe\">\n",
       "  <thead>\n",
       "    <tr style=\"text-align: right;\">\n",
       "      <th></th>\n",
       "      <th>Unnamed: 0</th>\n",
       "      <th>source_id</th>\n",
       "      <th>candidate_id</th>\n",
       "      <th>plume_lat</th>\n",
       "      <th>plume_lon</th>\n",
       "      <th>date</th>\n",
       "      <th>source_type</th>\n",
       "      <th>ipcc</th>\n",
       "      <th>qplume</th>\n",
       "      <th>sigma_qplume</th>\n",
       "      <th>time_of_detection</th>\n",
       "      <th>plume_tif</th>\n",
       "      <th>rgb_tif</th>\n",
       "      <th>Filepath</th>\n",
       "      <th>Name</th>\n",
       "    </tr>\n",
       "  </thead>\n",
       "  <tbody>\n",
       "    <tr>\n",
       "      <th>0</th>\n",
       "      <td>0</td>\n",
       "      <td>A0001</td>\n",
       "      <td>GAO20210712t153850p0000-A</td>\n",
       "      <td>40.586588</td>\n",
       "      <td>-104.82330</td>\n",
       "      <td>2021-07-12 00:00:00</td>\n",
       "      <td>landfill</td>\n",
       "      <td>6A Solid Waste Disposal On Land</td>\n",
       "      <td>198.690714</td>\n",
       "      <td>56.089373</td>\n",
       "      <td>NaN</td>\n",
       "      <td>NaN</td>\n",
       "      <td>NaN</td>\n",
       "      <td>C:\\Users\\vasan\\OneDrive\\EmissionsDatathon\\Data...</td>\n",
       "      <td>GAO20210712t153850p0000-A_r174_c3465-plume.png</td>\n",
       "    </tr>\n",
       "    <tr>\n",
       "      <th>1</th>\n",
       "      <td>1</td>\n",
       "      <td>A0002</td>\n",
       "      <td>GAO20210720t152559p0000-A</td>\n",
       "      <td>40.574605</td>\n",
       "      <td>-104.68813</td>\n",
       "      <td>2021-07-20 00:00:00</td>\n",
       "      <td>livestock</td>\n",
       "      <td>3A2 Manure Management</td>\n",
       "      <td>659.384534</td>\n",
       "      <td>215.976289</td>\n",
       "      <td>NaN</td>\n",
       "      <td>NaN</td>\n",
       "      <td>NaN</td>\n",
       "      <td>C:\\Users\\vasan\\OneDrive\\EmissionsDatathon\\Data...</td>\n",
       "      <td>GAO20210720t152559p0000-A_r380_c5956-plume.png</td>\n",
       "    </tr>\n",
       "    <tr>\n",
       "      <th>2</th>\n",
       "      <td>2</td>\n",
       "      <td>A0002</td>\n",
       "      <td>GAO20210712t153850p0000-B</td>\n",
       "      <td>40.574387</td>\n",
       "      <td>-104.68855</td>\n",
       "      <td>2021-07-12 00:00:00</td>\n",
       "      <td>livestock</td>\n",
       "      <td>3A2 Manure Management</td>\n",
       "      <td>458.494606</td>\n",
       "      <td>167.196121</td>\n",
       "      <td>NaN</td>\n",
       "      <td>NaN</td>\n",
       "      <td>NaN</td>\n",
       "      <td>C:\\Users\\vasan\\OneDrive\\EmissionsDatathon\\Data...</td>\n",
       "      <td>GAO20210712t153850p0000-B_r468_c6000-plume.png</td>\n",
       "    </tr>\n",
       "    <tr>\n",
       "      <th>3</th>\n",
       "      <td>3</td>\n",
       "      <td>A0002</td>\n",
       "      <td>GAO20210718t152410p0000-B</td>\n",
       "      <td>40.573827</td>\n",
       "      <td>-104.68812</td>\n",
       "      <td>2021-07-18 00:00:00</td>\n",
       "      <td>livestock</td>\n",
       "      <td>3A2 Manure Management</td>\n",
       "      <td>242.145473</td>\n",
       "      <td>140.004235</td>\n",
       "      <td>NaN</td>\n",
       "      <td>NaN</td>\n",
       "      <td>NaN</td>\n",
       "      <td>C:\\Users\\vasan\\OneDrive\\EmissionsDatathon\\Data...</td>\n",
       "      <td>GAO20210718t152410p0000-B_r406_c6016-plume.png</td>\n",
       "    </tr>\n",
       "    <tr>\n",
       "      <th>4</th>\n",
       "      <td>4</td>\n",
       "      <td>A0003</td>\n",
       "      <td>GAO20210712t153850p0000-C</td>\n",
       "      <td>40.572121</td>\n",
       "      <td>-104.68871</td>\n",
       "      <td>2021-07-12 00:00:00</td>\n",
       "      <td>livestock</td>\n",
       "      <td>3A2 Manure Management</td>\n",
       "      <td>425.330806</td>\n",
       "      <td>171.220361</td>\n",
       "      <td>NaN</td>\n",
       "      <td>NaN</td>\n",
       "      <td>NaN</td>\n",
       "      <td>C:\\Users\\vasan\\OneDrive\\EmissionsDatathon\\Data...</td>\n",
       "      <td>GAO20210712t153850p0000-C_r524_c5997-plume.png</td>\n",
       "    </tr>\n",
       "  </tbody>\n",
       "</table>\n",
       "</div>"
      ],
      "text/plain": [
       "   Unnamed: 0 source_id               candidate_id  plume_lat  plume_lon  \\\n",
       "0           0     A0001  GAO20210712t153850p0000-A  40.586588 -104.82330   \n",
       "1           1     A0002  GAO20210720t152559p0000-A  40.574605 -104.68813   \n",
       "2           2     A0002  GAO20210712t153850p0000-B  40.574387 -104.68855   \n",
       "3           3     A0002  GAO20210718t152410p0000-B  40.573827 -104.68812   \n",
       "4           4     A0003  GAO20210712t153850p0000-C  40.572121 -104.68871   \n",
       "\n",
       "                  date source_type                             ipcc  \\\n",
       "0  2021-07-12 00:00:00    landfill  6A Solid Waste Disposal On Land   \n",
       "1  2021-07-20 00:00:00   livestock            3A2 Manure Management   \n",
       "2  2021-07-12 00:00:00   livestock            3A2 Manure Management   \n",
       "3  2021-07-18 00:00:00   livestock            3A2 Manure Management   \n",
       "4  2021-07-12 00:00:00   livestock            3A2 Manure Management   \n",
       "\n",
       "       qplume  sigma_qplume time_of_detection plume_tif rgb_tif  \\\n",
       "0  198.690714     56.089373               NaN       NaN     NaN   \n",
       "1  659.384534    215.976289               NaN       NaN     NaN   \n",
       "2  458.494606    167.196121               NaN       NaN     NaN   \n",
       "3  242.145473    140.004235               NaN       NaN     NaN   \n",
       "4  425.330806    171.220361               NaN       NaN     NaN   \n",
       "\n",
       "                                            Filepath  \\\n",
       "0  C:\\Users\\vasan\\OneDrive\\EmissionsDatathon\\Data...   \n",
       "1  C:\\Users\\vasan\\OneDrive\\EmissionsDatathon\\Data...   \n",
       "2  C:\\Users\\vasan\\OneDrive\\EmissionsDatathon\\Data...   \n",
       "3  C:\\Users\\vasan\\OneDrive\\EmissionsDatathon\\Data...   \n",
       "4  C:\\Users\\vasan\\OneDrive\\EmissionsDatathon\\Data...   \n",
       "\n",
       "                                             Name  \n",
       "0  GAO20210712t153850p0000-A_r174_c3465-plume.png  \n",
       "1  GAO20210720t152559p0000-A_r380_c5956-plume.png  \n",
       "2  GAO20210712t153850p0000-B_r468_c6000-plume.png  \n",
       "3  GAO20210718t152410p0000-B_r406_c6016-plume.png  \n",
       "4  GAO20210712t153850p0000-C_r524_c5997-plume.png  "
      ]
     },
     "execution_count": 111,
     "metadata": {},
     "output_type": "execute_result"
    }
   ],
   "source": [
    "df2.head()"
   ]
  },
  {
   "cell_type": "code",
   "execution_count": 112,
   "id": "72ba5695-35e4-4243-908e-3d3474b50fde",
   "metadata": {},
   "outputs": [
    {
     "data": {
      "text/plain": [
       "3058"
      ]
     },
     "execution_count": 112,
     "metadata": {},
     "output_type": "execute_result"
    }
   ],
   "source": [
    "df2['candidate_id'].nunique()"
   ]
  },
  {
   "cell_type": "code",
   "execution_count": 113,
   "id": "26a30881-3b82-4c49-9472-e4866392690c",
   "metadata": {},
   "outputs": [],
   "source": [
    "df2=df2.dropna(subset=[\"qplume\"])"
   ]
  },
  {
   "cell_type": "code",
   "execution_count": 114,
   "id": "244e43cb-86f6-4fa7-89b9-43d7e0f78c63",
   "metadata": {},
   "outputs": [
    {
     "data": {
      "text/plain": [
       "(3056, 15)"
      ]
     },
     "execution_count": 114,
     "metadata": {},
     "output_type": "execute_result"
    }
   ],
   "source": [
    "df2.shape"
   ]
  },
  {
   "cell_type": "code",
   "execution_count": 115,
   "id": "5b0799c7-36e9-490f-8794-742a221e22a4",
   "metadata": {},
   "outputs": [
    {
     "name": "stdout",
     "output_type": "stream",
     "text": [
      "Upper limit 2805.5444311201527\n",
      "Lower limit -1772.573140739497\n"
     ]
    }
   ],
   "source": [
    "print(\"Upper limit\",df2['qplume'].mean() + 3*df2['qplume'].std())\n",
    "print(\"Lower limit\",df2['qplume'].mean() - 3*df2['qplume'].std())"
   ]
  },
  {
   "cell_type": "code",
   "execution_count": 116,
   "id": "c70089ca-552d-4c42-ad6b-08e14955b133",
   "metadata": {},
   "outputs": [
    {
     "data": {
      "text/plain": [
       "(2980, 15)"
      ]
     },
     "execution_count": 116,
     "metadata": {},
     "output_type": "execute_result"
    }
   ],
   "source": [
    "df2 = df2[(df2['qplume'] < 2805.5444311201527)]\n",
    "df2.shape"
   ]
  },
  {
   "cell_type": "code",
   "execution_count": 117,
   "id": "e835a1e2-54c4-4bb2-8629-ea8f98bf9081",
   "metadata": {},
   "outputs": [],
   "source": [
    "df2.to_excel(\"allfinal.xlsx\")  "
   ]
  },
  {
   "cell_type": "markdown",
   "id": "819fafa0-1d38-482d-a900-4b9e6f593299",
   "metadata": {},
   "source": [
    "### Image Processing"
   ]
  },
  {
   "cell_type": "code",
   "execution_count": 118,
   "id": "a7836140-7e87-45f8-ace5-e6c5be0599cd",
   "metadata": {},
   "outputs": [],
   "source": [
    "#def image_processing(fil):\n",
    "#Open image and import it as a numpy array\n",
    "#    image2 = imread(fil)\n",
    "    \n",
    "#    feature_matrix = np.zeros((217,217))\n",
    "    \n",
    "#    for i in range(0,image2.shape[0]):\n",
    "#        for j in range(0,image2.shape[1]):\n",
    "#            feature_matrix[i][j] = ((int(image2[i,j,0]) + int(image2[i,j,1]) + int(image2[i,j,2]))/3)\n",
    "        \n",
    "#    features = np.reshape(feature_matrix, (217*217))\n",
    "    \n",
    "#    return features"
   ]
  },
  {
   "cell_type": "code",
   "execution_count": 130,
   "id": "5b315a7e-f301-488f-bf99-1d3f40fa5b05",
   "metadata": {},
   "outputs": [],
   "source": [
    "def image_processing(fil):\n",
    "#Open image and import it as a numpy array\n",
    "    im2 = imread(fil)\n",
    "    im2_rgb = color.rgba2rgb(im2)\n",
    "    im2_hsv = rgb2hsv(im2_rgb)\n",
    "    \n",
    "    mask = im2_hsv[:,:,1] > 0.4\n",
    "    \n",
    "    red = im2[:,:,0]*mask\n",
    "    green = im2[:,:,1]*mask\n",
    "    blue = im2[:,:,2]*mask\n",
    "    mask2 = np.dstack((red,green,blue))\n",
    "    \n",
    "    feature_matrix = np.zeros((217,217))\n",
    "    \n",
    "    for i in range(0,mask2.shape[0]):\n",
    "        for j in range(0,mask2.shape[1]):\n",
    "            feature_matrix[i][j] = ((int(mask2[i,j,0]) + int(mask2[i,j,1]) + int(mask2[i,j,2]))/3)\n",
    "        \n",
    "    features = np.reshape(feature_matrix, (217*217))\n",
    "    \n",
    "    return features"
   ]
  },
  {
   "cell_type": "code",
   "execution_count": 120,
   "id": "c7c44448-edc5-4ad2-a8e8-081c6b22ec4c",
   "metadata": {},
   "outputs": [],
   "source": [
    "#Test Function\n",
    "#fil = \"C:/Users/vasan/OneDrive/EmissionsDatathon/Dataset/Data/Train/ang20190922t192642_ang20190922t192642-2_r4578_c217-plume.png\"\n",
    "#image_processing(fil)"
   ]
  },
  {
   "cell_type": "code",
   "execution_count": 131,
   "id": "978ec2d8-d66d-415f-9e0e-9d27401bde3d",
   "metadata": {},
   "outputs": [],
   "source": [
    "image_list = []"
   ]
  },
  {
   "cell_type": "code",
   "execution_count": 132,
   "id": "f0031733-4bc4-4cad-a19d-edbb1134fbcd",
   "metadata": {
    "tags": []
   },
   "outputs": [
    {
     "name": "stderr",
     "output_type": "stream",
     "text": [
      "100%|██████████| 2980/2980 [02:38<00:00, 18.86it/s]\n"
     ]
    }
   ],
   "source": [
    "for file in tqdm(df2['Filepath'].tolist()[:]):\n",
    "    image_list.append(image_processing(file))"
   ]
  },
  {
   "cell_type": "code",
   "execution_count": 133,
   "id": "a4c9bea0-1c0e-4a1e-b75f-4b6b5e09d4f8",
   "metadata": {},
   "outputs": [],
   "source": [
    "X = np.array(image_list)"
   ]
  },
  {
   "cell_type": "code",
   "execution_count": 134,
   "id": "018333b0-5d15-4241-83ff-1f1691aef3a1",
   "metadata": {
    "tags": []
   },
   "outputs": [
    {
     "data": {
      "text/plain": [
       "array([[0., 0., 0., ..., 0., 0., 0.],\n",
       "       [0., 0., 0., ..., 0., 0., 0.],\n",
       "       [0., 0., 0., ..., 0., 0., 0.],\n",
       "       ...,\n",
       "       [0., 0., 0., ..., 0., 0., 0.],\n",
       "       [0., 0., 0., ..., 0., 0., 0.],\n",
       "       [0., 0., 0., ..., 0., 0., 0.]])"
      ]
     },
     "execution_count": 134,
     "metadata": {},
     "output_type": "execute_result"
    }
   ],
   "source": [
    "X"
   ]
  },
  {
   "cell_type": "code",
   "execution_count": 136,
   "id": "9d356831-98fe-4707-9424-837a1531ffe3",
   "metadata": {},
   "outputs": [],
   "source": [
    "np.save('processed_217x217_image.npy',X/255,allow_pickle=True)"
   ]
  },
  {
   "cell_type": "markdown",
   "id": "ead6d601-b13e-4faf-b1f9-c030450f6f9c",
   "metadata": {},
   "source": [
    "### Preparing dataset for Model"
   ]
  },
  {
   "cell_type": "code",
   "execution_count": 137,
   "id": "97550ca1-0eb3-4db8-bbf8-475e4ac3eeba",
   "metadata": {},
   "outputs": [],
   "source": [
    "Y = np.array(df2.qplume.tolist())"
   ]
  },
  {
   "cell_type": "code",
   "execution_count": 138,
   "id": "d88bfa5d-5803-4d39-90cd-ab0f04eda5e6",
   "metadata": {},
   "outputs": [
    {
     "data": {
      "text/plain": [
       "array([198.690714  , 659.384534  , 458.494606  , ...,  58.74497328,\n",
       "       262.239608  ,  78.31375757])"
      ]
     },
     "execution_count": 138,
     "metadata": {},
     "output_type": "execute_result"
    }
   ],
   "source": [
    "Y"
   ]
  },
  {
   "cell_type": "code",
   "execution_count": 139,
   "id": "0c2e62c5-5bfe-47bd-ab8f-7d9562e309db",
   "metadata": {},
   "outputs": [
    {
     "name": "stdout",
     "output_type": "stream",
     "text": [
      "(2980, 47089)\n",
      "(2980,)\n"
     ]
    }
   ],
   "source": [
    "print(X.shape)\n",
    "print(Y.shape)"
   ]
  },
  {
   "cell_type": "code",
   "execution_count": 140,
   "id": "2bb634ce-2ef1-429a-bd90-ae58beec2a5e",
   "metadata": {},
   "outputs": [],
   "source": [
    "# Split the data into train and test sets\n",
    "X_train, X_test, Y_train, Y_test = train_test_split(X, Y, test_size=0.2, random_state=42)\n",
    "\n",
    "# Split the train set into train and validation sets\n",
    "X_train, X_val, Y_train, Y_val = train_test_split(X_train, Y_train, test_size=0.25, random_state=42)"
   ]
  },
  {
   "cell_type": "code",
   "execution_count": 142,
   "id": "11346b38-f7c9-43cd-b35b-95ae440b2ecd",
   "metadata": {},
   "outputs": [
    {
     "data": {
      "text/plain": [
       "(596, 217, 217, 1)"
      ]
     },
     "execution_count": 142,
     "metadata": {},
     "output_type": "execute_result"
    }
   ],
   "source": [
    "img_rows, img_cols = 217, 217\n",
    "input_shape = (img_rows, img_cols, 1)\n",
    "\n",
    "X_train = X_train.reshape(X_train.shape[0], img_rows, img_cols, 1)\n",
    "X_test = X_test.reshape(X_test.shape[0], img_rows, img_cols, 1)\n",
    "X_val = X_val.reshape(X_val.shape[0], img_rows, img_cols, 1)\n",
    "\n",
    "X_val.shape"
   ]
  },
  {
   "cell_type": "code",
   "execution_count": 143,
   "id": "c4b9d4a8-79c2-4d94-9e9f-38561e3e910d",
   "metadata": {},
   "outputs": [],
   "source": [
    "X_train = X_train.reshape(X_train.shape[0], img_rows, img_cols, 1)\n",
    "X_test = X_test.reshape(X_test.shape[0], img_rows, img_cols, 1)\n",
    "X_val = X_val.reshape(X_val.shape[0], img_rows, img_cols, 1)"
   ]
  },
  {
   "cell_type": "code",
   "execution_count": 144,
   "id": "b273c9b0-0e93-456a-9348-a104c1e9e7e3",
   "metadata": {},
   "outputs": [
    {
     "name": "stdout",
     "output_type": "stream",
     "text": [
      "(1788, 217, 217, 1)\n",
      "(1788,)\n",
      "(596, 217, 217, 1)\n",
      "(596,)\n",
      "(596, 217, 217, 1)\n",
      "(596,)\n"
     ]
    }
   ],
   "source": [
    "print(X_train.shape)\n",
    "print(Y_train.shape)\n",
    "print(X_val.shape)\n",
    "print(Y_val.shape)\n",
    "print(X_test.shape)\n",
    "print(Y_test.shape)"
   ]
  },
  {
   "cell_type": "markdown",
   "id": "ef39c091-d8c5-4e9f-89be-807d93afac67",
   "metadata": {},
   "source": [
    "### Model"
   ]
  },
  {
   "cell_type": "code",
   "execution_count": 145,
   "id": "0bea7161-9ccb-420c-8ca4-a0575e3ded3c",
   "metadata": {},
   "outputs": [
    {
     "name": "stdout",
     "output_type": "stream",
     "text": [
      "Model: \"sequential_1\"\n",
      "_________________________________________________________________\n",
      " Layer (type)                Output Shape              Param #   \n",
      "=================================================================\n",
      " conv2d_4 (Conv2D)           (None, 215, 215, 16)      160       \n",
      "                                                                 \n",
      " batch_normalization_4 (Batc  (None, 215, 215, 16)     64        \n",
      " hNormalization)                                                 \n",
      "                                                                 \n",
      " conv2d_5 (Conv2D)           (None, 213, 213, 16)      2320      \n",
      "                                                                 \n",
      " batch_normalization_5 (Batc  (None, 213, 213, 16)     64        \n",
      " hNormalization)                                                 \n",
      "                                                                 \n",
      " max_pooling2d_2 (MaxPooling  (None, 106, 106, 16)     0         \n",
      " 2D)                                                             \n",
      "                                                                 \n",
      " dropout_4 (Dropout)         (None, 106, 106, 16)      0         \n",
      "                                                                 \n",
      " conv2d_6 (Conv2D)           (None, 104, 104, 32)      4640      \n",
      "                                                                 \n",
      " batch_normalization_6 (Batc  (None, 104, 104, 32)     128       \n",
      " hNormalization)                                                 \n",
      "                                                                 \n",
      " conv2d_7 (Conv2D)           (None, 102, 102, 32)      9248      \n",
      "                                                                 \n",
      " batch_normalization_7 (Batc  (None, 102, 102, 32)     128       \n",
      " hNormalization)                                                 \n",
      "                                                                 \n",
      " max_pooling2d_3 (MaxPooling  (None, 51, 51, 32)       0         \n",
      " 2D)                                                             \n",
      "                                                                 \n",
      " dropout_5 (Dropout)         (None, 51, 51, 32)        0         \n",
      "                                                                 \n",
      " flatten_1 (Flatten)         (None, 83232)             0         \n",
      "                                                                 \n",
      " dense_3 (Dense)             (None, 512)               42615296  \n",
      "                                                                 \n",
      " dropout_6 (Dropout)         (None, 512)               0         \n",
      "                                                                 \n",
      " dense_4 (Dense)             (None, 1024)              525312    \n",
      "                                                                 \n",
      " dropout_7 (Dropout)         (None, 1024)              0         \n",
      "                                                                 \n",
      " dense_5 (Dense)             (None, 1)                 1025      \n",
      "                                                                 \n",
      "=================================================================\n",
      "Total params: 43,158,385\n",
      "Trainable params: 43,158,193\n",
      "Non-trainable params: 192\n",
      "_________________________________________________________________\n"
     ]
    }
   ],
   "source": [
    "#Define a Convolutional Neural Network Model\n",
    "\n",
    "model = Sequential()\n",
    "\n",
    "model.add(Conv2D(filters = 16, kernel_size = (3, 3), activation='relu',\n",
    "                 input_shape = input_shape))\n",
    "model.add(BatchNormalization())\n",
    "model.add(Conv2D(filters = 16, kernel_size = (3, 3), activation='relu'))\n",
    "model.add(BatchNormalization())\n",
    "model.add(MaxPool2D(strides=(2,2)))\n",
    "model.add(Dropout(0.25))\n",
    "model.add(Conv2D(filters = 32, kernel_size = (3, 3), activation='relu'))\n",
    "model.add(BatchNormalization())\n",
    "model.add(Conv2D(filters = 32, kernel_size = (3, 3), activation='relu'))\n",
    "model.add(BatchNormalization())\n",
    "model.add(MaxPool2D(strides=(2,2)))\n",
    "model.add(Dropout(0.25))\n",
    "\n",
    "model.add(Flatten())\n",
    "model.add(Dense(512, activation='relu'))\n",
    "model.add(Dropout(0.25))\n",
    "\n",
    "model.add(Dense(1024, activation='relu'))\n",
    "model.add(Dropout(0.4))\n",
    "#model.add(Dense(n_classes, activation='softmax'))\n",
    "model.add(Dense(1, activation='relu'))\n",
    "learning_rate = 0.001\n",
    "\n",
    "model.compile(loss = 'mse',\n",
    "              optimizer = Adam(learning_rate))\n",
    "\n",
    "model.summary()"
   ]
  },
  {
   "cell_type": "code",
   "execution_count": 146,
   "id": "d1d463c5-eea8-4e67-8a28-ab197f37dc5c",
   "metadata": {},
   "outputs": [],
   "source": [
    "save_at = \"model_regression2.hdf5\"\n",
    "save_best2 = ModelCheckpoint (save_at, monitor='val_accuracy', verbose=0, save_best_only=True, save_weights_only=False, mode='max')"
   ]
  },
  {
   "cell_type": "code",
   "execution_count": 147,
   "id": "f6a2707d-c0f4-4651-b29c-f97256a8dbab",
   "metadata": {},
   "outputs": [
    {
     "data": {
      "text/plain": [
       "False"
      ]
     },
     "execution_count": 147,
     "metadata": {},
     "output_type": "execute_result"
    }
   ],
   "source": [
    "np.isnan(X).any()"
   ]
  },
  {
   "cell_type": "code",
   "execution_count": 148,
   "id": "16a08015-86e4-4d4a-a4c6-99f5e42840b4",
   "metadata": {},
   "outputs": [
    {
     "data": {
      "text/plain": [
       "False"
      ]
     },
     "execution_count": 148,
     "metadata": {},
     "output_type": "execute_result"
    }
   ],
   "source": [
    "np.isnan(Y).any()"
   ]
  },
  {
   "cell_type": "code",
   "execution_count": 149,
   "id": "fa5f8a27-b7d9-4a06-baf2-2c540a0743e3",
   "metadata": {},
   "outputs": [
    {
     "name": "stdout",
     "output_type": "stream",
     "text": [
      "Epoch 1/15\n",
      "18/18 [==============================] - ETA: 0s - loss: 197757.7812WARNING:tensorflow:Can save best model only with val_accuracy available, skipping.\n",
      "18/18 [==============================] - 112s 6s/step - loss: 197757.7812 - val_loss: 244781.7969\n",
      "Epoch 2/15\n",
      "18/18 [==============================] - ETA: 0s - loss: 125832.4219WARNING:tensorflow:Can save best model only with val_accuracy available, skipping.\n",
      "18/18 [==============================] - 106s 6s/step - loss: 125832.4219 - val_loss: 194734.5312\n",
      "Epoch 3/15\n",
      "18/18 [==============================] - ETA: 0s - loss: 103537.8359WARNING:tensorflow:Can save best model only with val_accuracy available, skipping.\n",
      "18/18 [==============================] - 107s 6s/step - loss: 103537.8359 - val_loss: 211891.5938\n",
      "Epoch 4/15\n",
      "18/18 [==============================] - ETA: 0s - loss: 83850.6719WARNING:tensorflow:Can save best model only with val_accuracy available, skipping.\n",
      "18/18 [==============================] - 105s 6s/step - loss: 83850.6719 - val_loss: 215641.4219\n",
      "Epoch 5/15\n",
      "18/18 [==============================] - ETA: 0s - loss: 63814.0898WARNING:tensorflow:Can save best model only with val_accuracy available, skipping.\n",
      "18/18 [==============================] - 102s 6s/step - loss: 63814.0898 - val_loss: 195131.4688\n",
      "Epoch 6/15\n",
      "18/18 [==============================] - ETA: 0s - loss: 47310.1406WARNING:tensorflow:Can save best model only with val_accuracy available, skipping.\n",
      "18/18 [==============================] - 107s 6s/step - loss: 47310.1406 - val_loss: 143681.9688\n",
      "Epoch 7/15\n",
      "18/18 [==============================] - ETA: 0s - loss: 34315.5664WARNING:tensorflow:Can save best model only with val_accuracy available, skipping.\n",
      "18/18 [==============================] - 101s 6s/step - loss: 34315.5664 - val_loss: 184066.0469\n",
      "Epoch 8/15\n",
      "18/18 [==============================] - ETA: 0s - loss: 36143.1328WARNING:tensorflow:Can save best model only with val_accuracy available, skipping.\n",
      "18/18 [==============================] - 99s 6s/step - loss: 36143.1328 - val_loss: 145730.7656\n",
      "Epoch 9/15\n",
      "18/18 [==============================] - ETA: 0s - loss: 47150.9258WARNING:tensorflow:Can save best model only with val_accuracy available, skipping.\n",
      "18/18 [==============================] - 102s 6s/step - loss: 47150.9258 - val_loss: 131538.9062\n",
      "Epoch 10/15\n",
      "18/18 [==============================] - ETA: 0s - loss: 31162.0371WARNING:tensorflow:Can save best model only with val_accuracy available, skipping.\n",
      "18/18 [==============================] - 98s 5s/step - loss: 31162.0371 - val_loss: 127492.1484\n",
      "Epoch 11/15\n",
      "18/18 [==============================] - ETA: 0s - loss: 27638.9062WARNING:tensorflow:Can save best model only with val_accuracy available, skipping.\n",
      "18/18 [==============================] - 103s 6s/step - loss: 27638.9062 - val_loss: 139292.6250\n",
      "Epoch 12/15\n",
      "18/18 [==============================] - ETA: 0s - loss: 23635.8613WARNING:tensorflow:Can save best model only with val_accuracy available, skipping.\n",
      "18/18 [==============================] - 116s 6s/step - loss: 23635.8613 - val_loss: 142206.9375\n",
      "Epoch 13/15\n",
      "18/18 [==============================] - ETA: 0s - loss: 20948.2168WARNING:tensorflow:Can save best model only with val_accuracy available, skipping.\n",
      "18/18 [==============================] - 110s 6s/step - loss: 20948.2168 - val_loss: 136073.6406\n",
      "Epoch 14/15\n",
      "18/18 [==============================] - ETA: 0s - loss: 16861.8770WARNING:tensorflow:Can save best model only with val_accuracy available, skipping.\n",
      "18/18 [==============================] - 108s 6s/step - loss: 16861.8770 - val_loss: 138552.1875\n",
      "Epoch 15/15\n",
      "18/18 [==============================] - ETA: 0s - loss: 22655.7559WARNING:tensorflow:Can save best model only with val_accuracy available, skipping.\n",
      "18/18 [==============================] - 102s 6s/step - loss: 22655.7559 - val_loss: 135714.8281\n"
     ]
    }
   ],
   "source": [
    "#Train the CNN\n",
    "\n",
    "history = model.fit( X_train, Y_train, \n",
    "                    epochs = 15, batch_size = 100, \n",
    "                    callbacks=[save_best2], verbose=1, \n",
    "                   validation_data = (X_val, Y_val))"
   ]
  },
  {
   "cell_type": "code",
   "execution_count": 150,
   "id": "6a53bc4c-bdf4-49bb-8752-9e921263f1ce",
   "metadata": {},
   "outputs": [
    {
     "data": {
      "image/png": "[encoded data removed]",
      "text/plain": [
       "<Figure size 432x360 with 1 Axes>"
      ]
     },
     "metadata": {
      "needs_background": "light"
     },
     "output_type": "display_data"
    }
   ],
   "source": [
    "plt.figure(figsize=(6, 5))\n",
    "plt.plot(history.history['loss'], color='r')\n",
    "plt.plot(history.history['val_loss'], color='g')\n",
    "plt.show()"
   ]
  },
  {
   "cell_type": "markdown",
   "id": "b168dca8-80a5-4852-b6e1-a34f959b41c7",
   "metadata": {},
   "source": [
    "### Predication"
   ]
  },
  {
   "cell_type": "code",
   "execution_count": 151,
   "id": "a1d2da71-67e1-4141-ab02-b82fdf60eb4d",
   "metadata": {},
   "outputs": [
    {
     "name": "stdout",
     "output_type": "stream",
     "text": [
      "19/19 [==============================] - 4s 220ms/step\n"
     ]
    }
   ],
   "source": [
    "Y_pred = np.round(model.predict(X_test))"
   ]
  },
  {
   "cell_type": "code",
   "execution_count": 152,
   "id": "fbf4da13-7084-4aaf-b615-7f582e32151a",
   "metadata": {},
   "outputs": [
    {
     "name": "stdout",
     "output_type": "stream",
     "text": [
      "Root Mean Squared Error: 358.7514639414268\n",
      "Test R^2 Score: 0.53136\n"
     ]
    }
   ],
   "source": [
    "# Calculate the mean squared error\n",
    "mse = mean_squared_error(Y_test, Y_pred)\n",
    "\n",
    "# Calculate the root mean squared error\n",
    "rmse = np.sqrt(mse)\n",
    "\n",
    "print(\"Root Mean Squared Error:\", rmse)\n",
    "\n",
    "r2 = r2_score(Y_test, Y_pred)\n",
    "print(\"Test R^2 Score: {:.5f}\".format(r2))"
   ]
  },
  {
   "cell_type": "markdown",
   "id": "2fcbbe34-a69d-4957-8756-581987a92917",
   "metadata": {},
   "source": [
    "### Submission"
   ]
  },
  {
   "cell_type": "code",
   "execution_count": 153,
   "id": "97df63ff-0800-46fe-b2c5-f0c0a57b9d51",
   "metadata": {},
   "outputs": [],
   "source": [
    "image_sub = []"
   ]
  },
  {
   "cell_type": "code",
   "execution_count": 154,
   "id": "ebe548b8-d2e9-4218-b540-90326b7e1e8f",
   "metadata": {},
   "outputs": [],
   "source": [
    "image_test = Path('C:/Users/vasan/OneDrive/EmissionsDatathon/Dataset/Data/Test')"
   ]
  },
  {
   "cell_type": "code",
   "execution_count": 155,
   "id": "eb7c2210-c6e6-4c1b-961c-983e1e7185ae",
   "metadata": {},
   "outputs": [],
   "source": [
    "testpaths = pd.Series(list(image_test.glob(r'**/*.png')), name='Testpath').astype(str)"
   ]
  },
  {
   "cell_type": "code",
   "execution_count": 156,
   "id": "8b0c9b15-6c45-4215-9be8-7cecc762542e",
   "metadata": {},
   "outputs": [],
   "source": [
    "df_testpaths = testpaths.to_frame()"
   ]
  },
  {
   "cell_type": "code",
   "execution_count": 157,
   "id": "f6cf675f-1e96-413e-8f7a-f99b64701297",
   "metadata": {},
   "outputs": [],
   "source": [
    "res = os.listdir(image_test)\n",
    "df_testpaths['Name'] = pd.DataFrame (res, columns = ['TestName'])"
   ]
  },
  {
   "cell_type": "code",
   "execution_count": 158,
   "id": "ca2ec549-52c6-484b-b748-b2c3f4e22d25",
   "metadata": {},
   "outputs": [
    {
     "data": {
      "text/html": [
       "<div>\n",
       "<style scoped>\n",
       "    .dataframe tbody tr th:only-of-type {\n",
       "        vertical-align: middle;\n",
       "    }\n",
       "\n",
       "    .dataframe tbody tr th {\n",
       "        vertical-align: top;\n",
       "    }\n",
       "\n",
       "    .dataframe thead th {\n",
       "        text-align: right;\n",
       "    }\n",
       "</style>\n",
       "<table border=\"1\" class=\"dataframe\">\n",
       "  <thead>\n",
       "    <tr style=\"text-align: right;\">\n",
       "      <th></th>\n",
       "      <th>Testpath</th>\n",
       "      <th>Name</th>\n",
       "    </tr>\n",
       "  </thead>\n",
       "  <tbody>\n",
       "    <tr>\n",
       "      <th>0</th>\n",
       "      <td>C:\\Users\\vasan\\OneDrive\\EmissionsDatathon\\Data...</td>\n",
       "      <td>01A.png</td>\n",
       "    </tr>\n",
       "    <tr>\n",
       "      <th>1</th>\n",
       "      <td>C:\\Users\\vasan\\OneDrive\\EmissionsDatathon\\Data...</td>\n",
       "      <td>02A.png</td>\n",
       "    </tr>\n",
       "    <tr>\n",
       "      <th>2</th>\n",
       "      <td>C:\\Users\\vasan\\OneDrive\\EmissionsDatathon\\Data...</td>\n",
       "      <td>03A.png</td>\n",
       "    </tr>\n",
       "    <tr>\n",
       "      <th>3</th>\n",
       "      <td>C:\\Users\\vasan\\OneDrive\\EmissionsDatathon\\Data...</td>\n",
       "      <td>04A.png</td>\n",
       "    </tr>\n",
       "    <tr>\n",
       "      <th>4</th>\n",
       "      <td>C:\\Users\\vasan\\OneDrive\\EmissionsDatathon\\Data...</td>\n",
       "      <td>05A.png</td>\n",
       "    </tr>\n",
       "    <tr>\n",
       "      <th>5</th>\n",
       "      <td>C:\\Users\\vasan\\OneDrive\\EmissionsDatathon\\Data...</td>\n",
       "      <td>06A.png</td>\n",
       "    </tr>\n",
       "    <tr>\n",
       "      <th>6</th>\n",
       "      <td>C:\\Users\\vasan\\OneDrive\\EmissionsDatathon\\Data...</td>\n",
       "      <td>07A.png</td>\n",
       "    </tr>\n",
       "    <tr>\n",
       "      <th>7</th>\n",
       "      <td>C:\\Users\\vasan\\OneDrive\\EmissionsDatathon\\Data...</td>\n",
       "      <td>08A.png</td>\n",
       "    </tr>\n",
       "    <tr>\n",
       "      <th>8</th>\n",
       "      <td>C:\\Users\\vasan\\OneDrive\\EmissionsDatathon\\Data...</td>\n",
       "      <td>09A.png</td>\n",
       "    </tr>\n",
       "    <tr>\n",
       "      <th>9</th>\n",
       "      <td>C:\\Users\\vasan\\OneDrive\\EmissionsDatathon\\Data...</td>\n",
       "      <td>10A.png</td>\n",
       "    </tr>\n",
       "    <tr>\n",
       "      <th>10</th>\n",
       "      <td>C:\\Users\\vasan\\OneDrive\\EmissionsDatathon\\Data...</td>\n",
       "      <td>11A.png</td>\n",
       "    </tr>\n",
       "    <tr>\n",
       "      <th>11</th>\n",
       "      <td>C:\\Users\\vasan\\OneDrive\\EmissionsDatathon\\Data...</td>\n",
       "      <td>12A.png</td>\n",
       "    </tr>\n",
       "    <tr>\n",
       "      <th>12</th>\n",
       "      <td>C:\\Users\\vasan\\OneDrive\\EmissionsDatathon\\Data...</td>\n",
       "      <td>13A.png</td>\n",
       "    </tr>\n",
       "    <tr>\n",
       "      <th>13</th>\n",
       "      <td>C:\\Users\\vasan\\OneDrive\\EmissionsDatathon\\Data...</td>\n",
       "      <td>14A.png</td>\n",
       "    </tr>\n",
       "    <tr>\n",
       "      <th>14</th>\n",
       "      <td>C:\\Users\\vasan\\OneDrive\\EmissionsDatathon\\Data...</td>\n",
       "      <td>15A.png</td>\n",
       "    </tr>\n",
       "    <tr>\n",
       "      <th>15</th>\n",
       "      <td>C:\\Users\\vasan\\OneDrive\\EmissionsDatathon\\Data...</td>\n",
       "      <td>16A.png</td>\n",
       "    </tr>\n",
       "    <tr>\n",
       "      <th>16</th>\n",
       "      <td>C:\\Users\\vasan\\OneDrive\\EmissionsDatathon\\Data...</td>\n",
       "      <td>17A.png</td>\n",
       "    </tr>\n",
       "    <tr>\n",
       "      <th>17</th>\n",
       "      <td>C:\\Users\\vasan\\OneDrive\\EmissionsDatathon\\Data...</td>\n",
       "      <td>18A.png</td>\n",
       "    </tr>\n",
       "    <tr>\n",
       "      <th>18</th>\n",
       "      <td>C:\\Users\\vasan\\OneDrive\\EmissionsDatathon\\Data...</td>\n",
       "      <td>19A.png</td>\n",
       "    </tr>\n",
       "    <tr>\n",
       "      <th>19</th>\n",
       "      <td>C:\\Users\\vasan\\OneDrive\\EmissionsDatathon\\Data...</td>\n",
       "      <td>20A.png</td>\n",
       "    </tr>\n",
       "  </tbody>\n",
       "</table>\n",
       "</div>"
      ],
      "text/plain": [
       "                                             Testpath     Name\n",
       "0   C:\\Users\\vasan\\OneDrive\\EmissionsDatathon\\Data...  01A.png\n",
       "1   C:\\Users\\vasan\\OneDrive\\EmissionsDatathon\\Data...  02A.png\n",
       "2   C:\\Users\\vasan\\OneDrive\\EmissionsDatathon\\Data...  03A.png\n",
       "3   C:\\Users\\vasan\\OneDrive\\EmissionsDatathon\\Data...  04A.png\n",
       "4   C:\\Users\\vasan\\OneDrive\\EmissionsDatathon\\Data...  05A.png\n",
       "5   C:\\Users\\vasan\\OneDrive\\EmissionsDatathon\\Data...  06A.png\n",
       "6   C:\\Users\\vasan\\OneDrive\\EmissionsDatathon\\Data...  07A.png\n",
       "7   C:\\Users\\vasan\\OneDrive\\EmissionsDatathon\\Data...  08A.png\n",
       "8   C:\\Users\\vasan\\OneDrive\\EmissionsDatathon\\Data...  09A.png\n",
       "9   C:\\Users\\vasan\\OneDrive\\EmissionsDatathon\\Data...  10A.png\n",
       "10  C:\\Users\\vasan\\OneDrive\\EmissionsDatathon\\Data...  11A.png\n",
       "11  C:\\Users\\vasan\\OneDrive\\EmissionsDatathon\\Data...  12A.png\n",
       "12  C:\\Users\\vasan\\OneDrive\\EmissionsDatathon\\Data...  13A.png\n",
       "13  C:\\Users\\vasan\\OneDrive\\EmissionsDatathon\\Data...  14A.png\n",
       "14  C:\\Users\\vasan\\OneDrive\\EmissionsDatathon\\Data...  15A.png\n",
       "15  C:\\Users\\vasan\\OneDrive\\EmissionsDatathon\\Data...  16A.png\n",
       "16  C:\\Users\\vasan\\OneDrive\\EmissionsDatathon\\Data...  17A.png\n",
       "17  C:\\Users\\vasan\\OneDrive\\EmissionsDatathon\\Data...  18A.png\n",
       "18  C:\\Users\\vasan\\OneDrive\\EmissionsDatathon\\Data...  19A.png\n",
       "19  C:\\Users\\vasan\\OneDrive\\EmissionsDatathon\\Data...  20A.png"
      ]
     },
     "execution_count": 158,
     "metadata": {},
     "output_type": "execute_result"
    }
   ],
   "source": [
    "df_testpaths"
   ]
  },
  {
   "cell_type": "code",
   "execution_count": 159,
   "id": "b2904589-c12b-49b8-a5af-87795e4662e8",
   "metadata": {},
   "outputs": [
    {
     "name": "stderr",
     "output_type": "stream",
     "text": [
      "100%|██████████| 20/20 [00:00<00:00, 38.97it/s]\n"
     ]
    }
   ],
   "source": [
    "for file in tqdm(df_testpaths['Testpath'].tolist()[:]):\n",
    "    image_sub.append(image_processing(file))"
   ]
  },
  {
   "cell_type": "code",
   "execution_count": 160,
   "id": "0ee4ba08-7612-46e6-8d7a-e6486c92315a",
   "metadata": {},
   "outputs": [],
   "source": [
    "X_sub = np.array(image_sub)"
   ]
  },
  {
   "cell_type": "code",
   "execution_count": 161,
   "id": "36a10537-49ed-4de0-b552-bd17254e9be2",
   "metadata": {},
   "outputs": [],
   "source": [
    "np.save('sub_image.npy',X_sub/255,allow_pickle=True)"
   ]
  },
  {
   "cell_type": "code",
   "execution_count": 162,
   "id": "ac81676b-5e4c-4420-99f8-9ea814a3baf2",
   "metadata": {
    "collapsed": true,
    "jupyter": {
     "outputs_hidden": true
    },
    "tags": []
   },
   "outputs": [
    {
     "data": {
      "text/plain": [
       "array([[[[0.],\n",
       "         [0.],\n",
       "         [0.],\n",
       "         ...,\n",
       "         [0.],\n",
       "         [0.],\n",
       "         [0.]],\n",
       "\n",
       "        [[0.],\n",
       "         [0.],\n",
       "         [0.],\n",
       "         ...,\n",
       "         [0.],\n",
       "         [0.],\n",
       "         [0.]],\n",
       "\n",
       "        [[0.],\n",
       "         [0.],\n",
       "         [0.],\n",
       "         ...,\n",
       "         [0.],\n",
       "         [0.],\n",
       "         [0.]],\n",
       "\n",
       "        ...,\n",
       "\n",
       "        [[0.],\n",
       "         [0.],\n",
       "         [0.],\n",
       "         ...,\n",
       "         [0.],\n",
       "         [0.],\n",
       "         [0.]],\n",
       "\n",
       "        [[0.],\n",
       "         [0.],\n",
       "         [0.],\n",
       "         ...,\n",
       "         [0.],\n",
       "         [0.],\n",
       "         [0.]],\n",
       "\n",
       "        [[0.],\n",
       "         [0.],\n",
       "         [0.],\n",
       "         ...,\n",
       "         [0.],\n",
       "         [0.],\n",
       "         [0.]]],\n",
       "\n",
       "\n",
       "       [[[0.],\n",
       "         [0.],\n",
       "         [0.],\n",
       "         ...,\n",
       "         [0.],\n",
       "         [0.],\n",
       "         [0.]],\n",
       "\n",
       "        [[0.],\n",
       "         [0.],\n",
       "         [0.],\n",
       "         ...,\n",
       "         [0.],\n",
       "         [0.],\n",
       "         [0.]],\n",
       "\n",
       "        [[0.],\n",
       "         [0.],\n",
       "         [0.],\n",
       "         ...,\n",
       "         [0.],\n",
       "         [0.],\n",
       "         [0.]],\n",
       "\n",
       "        ...,\n",
       "\n",
       "        [[0.],\n",
       "         [0.],\n",
       "         [0.],\n",
       "         ...,\n",
       "         [0.],\n",
       "         [0.],\n",
       "         [0.]],\n",
       "\n",
       "        [[0.],\n",
       "         [0.],\n",
       "         [0.],\n",
       "         ...,\n",
       "         [0.],\n",
       "         [0.],\n",
       "         [0.]],\n",
       "\n",
       "        [[0.],\n",
       "         [0.],\n",
       "         [0.],\n",
       "         ...,\n",
       "         [0.],\n",
       "         [0.],\n",
       "         [0.]]],\n",
       "\n",
       "\n",
       "       [[[0.],\n",
       "         [0.],\n",
       "         [0.],\n",
       "         ...,\n",
       "         [0.],\n",
       "         [0.],\n",
       "         [0.]],\n",
       "\n",
       "        [[0.],\n",
       "         [0.],\n",
       "         [0.],\n",
       "         ...,\n",
       "         [0.],\n",
       "         [0.],\n",
       "         [0.]],\n",
       "\n",
       "        [[0.],\n",
       "         [0.],\n",
       "         [0.],\n",
       "         ...,\n",
       "         [0.],\n",
       "         [0.],\n",
       "         [0.]],\n",
       "\n",
       "        ...,\n",
       "\n",
       "        [[0.],\n",
       "         [0.],\n",
       "         [0.],\n",
       "         ...,\n",
       "         [0.],\n",
       "         [0.],\n",
       "         [0.]],\n",
       "\n",
       "        [[0.],\n",
       "         [0.],\n",
       "         [0.],\n",
       "         ...,\n",
       "         [0.],\n",
       "         [0.],\n",
       "         [0.]],\n",
       "\n",
       "        [[0.],\n",
       "         [0.],\n",
       "         [0.],\n",
       "         ...,\n",
       "         [0.],\n",
       "         [0.],\n",
       "         [0.]]],\n",
       "\n",
       "\n",
       "       ...,\n",
       "\n",
       "\n",
       "       [[[0.],\n",
       "         [0.],\n",
       "         [0.],\n",
       "         ...,\n",
       "         [0.],\n",
       "         [0.],\n",
       "         [0.]],\n",
       "\n",
       "        [[0.],\n",
       "         [0.],\n",
       "         [0.],\n",
       "         ...,\n",
       "         [0.],\n",
       "         [0.],\n",
       "         [0.]],\n",
       "\n",
       "        [[0.],\n",
       "         [0.],\n",
       "         [0.],\n",
       "         ...,\n",
       "         [0.],\n",
       "         [0.],\n",
       "         [0.]],\n",
       "\n",
       "        ...,\n",
       "\n",
       "        [[0.],\n",
       "         [0.],\n",
       "         [0.],\n",
       "         ...,\n",
       "         [0.],\n",
       "         [0.],\n",
       "         [0.]],\n",
       "\n",
       "        [[0.],\n",
       "         [0.],\n",
       "         [0.],\n",
       "         ...,\n",
       "         [0.],\n",
       "         [0.],\n",
       "         [0.]],\n",
       "\n",
       "        [[0.],\n",
       "         [0.],\n",
       "         [0.],\n",
       "         ...,\n",
       "         [0.],\n",
       "         [0.],\n",
       "         [0.]]],\n",
       "\n",
       "\n",
       "       [[[0.],\n",
       "         [0.],\n",
       "         [0.],\n",
       "         ...,\n",
       "         [0.],\n",
       "         [0.],\n",
       "         [0.]],\n",
       "\n",
       "        [[0.],\n",
       "         [0.],\n",
       "         [0.],\n",
       "         ...,\n",
       "         [0.],\n",
       "         [0.],\n",
       "         [0.]],\n",
       "\n",
       "        [[0.],\n",
       "         [0.],\n",
       "         [0.],\n",
       "         ...,\n",
       "         [0.],\n",
       "         [0.],\n",
       "         [0.]],\n",
       "\n",
       "        ...,\n",
       "\n",
       "        [[0.],\n",
       "         [0.],\n",
       "         [0.],\n",
       "         ...,\n",
       "         [0.],\n",
       "         [0.],\n",
       "         [0.]],\n",
       "\n",
       "        [[0.],\n",
       "         [0.],\n",
       "         [0.],\n",
       "         ...,\n",
       "         [0.],\n",
       "         [0.],\n",
       "         [0.]],\n",
       "\n",
       "        [[0.],\n",
       "         [0.],\n",
       "         [0.],\n",
       "         ...,\n",
       "         [0.],\n",
       "         [0.],\n",
       "         [0.]]],\n",
       "\n",
       "\n",
       "       [[[0.],\n",
       "         [0.],\n",
       "         [0.],\n",
       "         ...,\n",
       "         [0.],\n",
       "         [0.],\n",
       "         [0.]],\n",
       "\n",
       "        [[0.],\n",
       "         [0.],\n",
       "         [0.],\n",
       "         ...,\n",
       "         [0.],\n",
       "         [0.],\n",
       "         [0.]],\n",
       "\n",
       "        [[0.],\n",
       "         [0.],\n",
       "         [0.],\n",
       "         ...,\n",
       "         [0.],\n",
       "         [0.],\n",
       "         [0.]],\n",
       "\n",
       "        ...,\n",
       "\n",
       "        [[0.],\n",
       "         [0.],\n",
       "         [0.],\n",
       "         ...,\n",
       "         [0.],\n",
       "         [0.],\n",
       "         [0.]],\n",
       "\n",
       "        [[0.],\n",
       "         [0.],\n",
       "         [0.],\n",
       "         ...,\n",
       "         [0.],\n",
       "         [0.],\n",
       "         [0.]],\n",
       "\n",
       "        [[0.],\n",
       "         [0.],\n",
       "         [0.],\n",
       "         ...,\n",
       "         [0.],\n",
       "         [0.],\n",
       "         [0.]]]])"
      ]
     },
     "execution_count": 162,
     "metadata": {},
     "output_type": "execute_result"
    }
   ],
   "source": [
    "X_test"
   ]
  },
  {
   "cell_type": "code",
   "execution_count": 163,
   "id": "0965e161-23d8-4474-83bc-641ad8e6b00b",
   "metadata": {
    "collapsed": true,
    "jupyter": {
     "outputs_hidden": true
    },
    "tags": []
   },
   "outputs": [
    {
     "data": {
      "text/plain": [
       "array([[[[0.],\n",
       "         [0.],\n",
       "         [0.],\n",
       "         ...,\n",
       "         [0.],\n",
       "         [0.],\n",
       "         [0.]],\n",
       "\n",
       "        [[0.],\n",
       "         [0.],\n",
       "         [0.],\n",
       "         ...,\n",
       "         [0.],\n",
       "         [0.],\n",
       "         [0.]],\n",
       "\n",
       "        [[0.],\n",
       "         [0.],\n",
       "         [0.],\n",
       "         ...,\n",
       "         [0.],\n",
       "         [0.],\n",
       "         [0.]],\n",
       "\n",
       "        ...,\n",
       "\n",
       "        [[0.],\n",
       "         [0.],\n",
       "         [0.],\n",
       "         ...,\n",
       "         [0.],\n",
       "         [0.],\n",
       "         [0.]],\n",
       "\n",
       "        [[0.],\n",
       "         [0.],\n",
       "         [0.],\n",
       "         ...,\n",
       "         [0.],\n",
       "         [0.],\n",
       "         [0.]],\n",
       "\n",
       "        [[0.],\n",
       "         [0.],\n",
       "         [0.],\n",
       "         ...,\n",
       "         [0.],\n",
       "         [0.],\n",
       "         [0.]]],\n",
       "\n",
       "\n",
       "       [[[0.],\n",
       "         [0.],\n",
       "         [0.],\n",
       "         ...,\n",
       "         [0.],\n",
       "         [0.],\n",
       "         [0.]],\n",
       "\n",
       "        [[0.],\n",
       "         [0.],\n",
       "         [0.],\n",
       "         ...,\n",
       "         [0.],\n",
       "         [0.],\n",
       "         [0.]],\n",
       "\n",
       "        [[0.],\n",
       "         [0.],\n",
       "         [0.],\n",
       "         ...,\n",
       "         [0.],\n",
       "         [0.],\n",
       "         [0.]],\n",
       "\n",
       "        ...,\n",
       "\n",
       "        [[0.],\n",
       "         [0.],\n",
       "         [0.],\n",
       "         ...,\n",
       "         [0.],\n",
       "         [0.],\n",
       "         [0.]],\n",
       "\n",
       "        [[0.],\n",
       "         [0.],\n",
       "         [0.],\n",
       "         ...,\n",
       "         [0.],\n",
       "         [0.],\n",
       "         [0.]],\n",
       "\n",
       "        [[0.],\n",
       "         [0.],\n",
       "         [0.],\n",
       "         ...,\n",
       "         [0.],\n",
       "         [0.],\n",
       "         [0.]]],\n",
       "\n",
       "\n",
       "       [[[0.],\n",
       "         [0.],\n",
       "         [0.],\n",
       "         ...,\n",
       "         [0.],\n",
       "         [0.],\n",
       "         [0.]],\n",
       "\n",
       "        [[0.],\n",
       "         [0.],\n",
       "         [0.],\n",
       "         ...,\n",
       "         [0.],\n",
       "         [0.],\n",
       "         [0.]],\n",
       "\n",
       "        [[0.],\n",
       "         [0.],\n",
       "         [0.],\n",
       "         ...,\n",
       "         [0.],\n",
       "         [0.],\n",
       "         [0.]],\n",
       "\n",
       "        ...,\n",
       "\n",
       "        [[0.],\n",
       "         [0.],\n",
       "         [0.],\n",
       "         ...,\n",
       "         [0.],\n",
       "         [0.],\n",
       "         [0.]],\n",
       "\n",
       "        [[0.],\n",
       "         [0.],\n",
       "         [0.],\n",
       "         ...,\n",
       "         [0.],\n",
       "         [0.],\n",
       "         [0.]],\n",
       "\n",
       "        [[0.],\n",
       "         [0.],\n",
       "         [0.],\n",
       "         ...,\n",
       "         [0.],\n",
       "         [0.],\n",
       "         [0.]]],\n",
       "\n",
       "\n",
       "       ...,\n",
       "\n",
       "\n",
       "       [[[0.],\n",
       "         [0.],\n",
       "         [0.],\n",
       "         ...,\n",
       "         [0.],\n",
       "         [0.],\n",
       "         [0.]],\n",
       "\n",
       "        [[0.],\n",
       "         [0.],\n",
       "         [0.],\n",
       "         ...,\n",
       "         [0.],\n",
       "         [0.],\n",
       "         [0.]],\n",
       "\n",
       "        [[0.],\n",
       "         [0.],\n",
       "         [0.],\n",
       "         ...,\n",
       "         [0.],\n",
       "         [0.],\n",
       "         [0.]],\n",
       "\n",
       "        ...,\n",
       "\n",
       "        [[0.],\n",
       "         [0.],\n",
       "         [0.],\n",
       "         ...,\n",
       "         [0.],\n",
       "         [0.],\n",
       "         [0.]],\n",
       "\n",
       "        [[0.],\n",
       "         [0.],\n",
       "         [0.],\n",
       "         ...,\n",
       "         [0.],\n",
       "         [0.],\n",
       "         [0.]],\n",
       "\n",
       "        [[0.],\n",
       "         [0.],\n",
       "         [0.],\n",
       "         ...,\n",
       "         [0.],\n",
       "         [0.],\n",
       "         [0.]]],\n",
       "\n",
       "\n",
       "       [[[0.],\n",
       "         [0.],\n",
       "         [0.],\n",
       "         ...,\n",
       "         [0.],\n",
       "         [0.],\n",
       "         [0.]],\n",
       "\n",
       "        [[0.],\n",
       "         [0.],\n",
       "         [0.],\n",
       "         ...,\n",
       "         [0.],\n",
       "         [0.],\n",
       "         [0.]],\n",
       "\n",
       "        [[0.],\n",
       "         [0.],\n",
       "         [0.],\n",
       "         ...,\n",
       "         [0.],\n",
       "         [0.],\n",
       "         [0.]],\n",
       "\n",
       "        ...,\n",
       "\n",
       "        [[0.],\n",
       "         [0.],\n",
       "         [0.],\n",
       "         ...,\n",
       "         [0.],\n",
       "         [0.],\n",
       "         [0.]],\n",
       "\n",
       "        [[0.],\n",
       "         [0.],\n",
       "         [0.],\n",
       "         ...,\n",
       "         [0.],\n",
       "         [0.],\n",
       "         [0.]],\n",
       "\n",
       "        [[0.],\n",
       "         [0.],\n",
       "         [0.],\n",
       "         ...,\n",
       "         [0.],\n",
       "         [0.],\n",
       "         [0.]]],\n",
       "\n",
       "\n",
       "       [[[0.],\n",
       "         [0.],\n",
       "         [0.],\n",
       "         ...,\n",
       "         [0.],\n",
       "         [0.],\n",
       "         [0.]],\n",
       "\n",
       "        [[0.],\n",
       "         [0.],\n",
       "         [0.],\n",
       "         ...,\n",
       "         [0.],\n",
       "         [0.],\n",
       "         [0.]],\n",
       "\n",
       "        [[0.],\n",
       "         [0.],\n",
       "         [0.],\n",
       "         ...,\n",
       "         [0.],\n",
       "         [0.],\n",
       "         [0.]],\n",
       "\n",
       "        ...,\n",
       "\n",
       "        [[0.],\n",
       "         [0.],\n",
       "         [0.],\n",
       "         ...,\n",
       "         [0.],\n",
       "         [0.],\n",
       "         [0.]],\n",
       "\n",
       "        [[0.],\n",
       "         [0.],\n",
       "         [0.],\n",
       "         ...,\n",
       "         [0.],\n",
       "         [0.],\n",
       "         [0.]],\n",
       "\n",
       "        [[0.],\n",
       "         [0.],\n",
       "         [0.],\n",
       "         ...,\n",
       "         [0.],\n",
       "         [0.],\n",
       "         [0.]]]])"
      ]
     },
     "execution_count": 163,
     "metadata": {},
     "output_type": "execute_result"
    }
   ],
   "source": [
    "X_sub = X_sub.reshape(X_sub.shape[0], img_rows, img_cols, 1)\n",
    "X_sub = X_sub.reshape(X_sub.shape[0], img_rows, img_cols, 1)\n",
    "X_sub"
   ]
  },
  {
   "cell_type": "code",
   "execution_count": 164,
   "id": "395e4ab3-dd09-4060-9d53-d88c8371b438",
   "metadata": {},
   "outputs": [
    {
     "name": "stdout",
     "output_type": "stream",
     "text": [
      "1/1 [==============================] - 0s 192ms/step\n"
     ]
    }
   ],
   "source": [
    "Y_sub = np.round(model.predict(X_sub))"
   ]
  },
  {
   "cell_type": "code",
   "execution_count": 165,
   "id": "07be9653-0dea-4276-b780-dc245fd8f77e",
   "metadata": {},
   "outputs": [
    {
     "data": {
      "text/plain": [
       "array([[276.],\n",
       "       [718.],\n",
       "       [124.],\n",
       "       [174.],\n",
       "       [707.],\n",
       "       [641.],\n",
       "       [362.],\n",
       "       [288.],\n",
       "       [311.],\n",
       "       [ 79.],\n",
       "       [585.],\n",
       "       [374.],\n",
       "       [200.],\n",
       "       [279.],\n",
       "       [490.],\n",
       "       [293.],\n",
       "       [132.],\n",
       "       [391.],\n",
       "       [236.],\n",
       "       [111.]], dtype=float32)"
      ]
     },
     "execution_count": 165,
     "metadata": {},
     "output_type": "execute_result"
    }
   ],
   "source": [
    "Y_sub"
   ]
  },
  {
   "cell_type": "code",
   "execution_count": 166,
   "id": "141d75c9-6330-45b7-bb5b-1ac23e910383",
   "metadata": {},
   "outputs": [],
   "source": [
    "np.savetxt('04_Localise_CNN_Outliers2.csv', Y_sub, delimiter=',')"
   ]
  },
  {
   "cell_type": "code",
   "execution_count": null,
   "id": "14fff70c-554f-4461-88c9-993a77912fea",
   "metadata": {},
   "outputs": [],
   "source": []
  }
 ],
 "metadata": {
  "kernelspec": {
   "display_name": "Python 3 (ipykernel)",
   "language": "python",
   "name": "python3"
  },
  "language_info": {
   "codemirror_mode": {
    "name": "ipython",
    "version": 3
   },
   "file_extension": ".py",
   "mimetype": "text/x-python",
   "name": "python",
   "nbconvert_exporter": "python",
   "pygments_lexer": "ipython3",
   "version": "3.9.7"
  }
 },
 "nbformat": 4,
 "nbformat_minor": 5
}
